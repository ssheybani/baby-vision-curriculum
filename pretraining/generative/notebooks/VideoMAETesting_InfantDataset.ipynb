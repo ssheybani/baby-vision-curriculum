{
 "cells": [
  {
   "cell_type": "code",
   "execution_count": 11,
   "id": "fcd98449",
   "metadata": {},
   "outputs": [],
   "source": [
    "import os\n",
    "import sys"
   ]
  },
  {
   "cell_type": "code",
   "execution_count": 12,
   "id": "ec3043ce",
   "metadata": {},
   "outputs": [],
   "source": [
    "if 'Carbonate' in os.getcwd().split('/'):\n",
    "    sys.path.insert(0,'/N/slate/hhansar/hgenv/lib/python3.10/site-packages')"
   ]
  },
  {
   "cell_type": "code",
   "execution_count": 13,
   "id": "e8c253bb",
   "metadata": {},
   "outputs": [],
   "source": [
    "import transformers"
   ]
  },
  {
   "cell_type": "code",
   "execution_count": 14,
   "id": "ebfb2b3f",
   "metadata": {},
   "outputs": [],
   "source": [
    "from transformers import AutoImageProcessor, VideoMAEForPreTraining"
   ]
  },
  {
   "cell_type": "code",
   "execution_count": 15,
   "id": "ecba8e9b",
   "metadata": {},
   "outputs": [],
   "source": [
    "import numpy as np\n",
    "import torch"
   ]
  },
  {
   "cell_type": "code",
   "execution_count": 16,
   "id": "5c9a0a83",
   "metadata": {},
   "outputs": [],
   "source": [
    "from PIL import Image"
   ]
  },
  {
   "cell_type": "code",
   "execution_count": 17,
   "id": "f9d0f8d5",
   "metadata": {},
   "outputs": [],
   "source": [
    "from pathlib import Path\n",
    "\n",
    "def get_fpathlist(subjdir, ds_rate=1):\n",
    "    # read the image file names into fpathlist\n",
    "    # subjdir = ['008MS'] #@@@\n",
    "    # vid_root = r\"/N/project/infant_image_statistics/03_JPG_AllMasters/\"\n",
    "    \n",
    "    fpathlist = sorted(list(Path(subjdir).iterdir()), \n",
    "                       key=lambda x: x.name)\n",
    "    fpathlist = [str(fpath) for fpath in fpathlist if fpath.suffix=='.jpg']\n",
    "    fpathlist = fpathlist[::ds_rate]\n",
    "    return fpathlist\n",
    "\n",
    "pathlist = get_fpathlist(r\"/N/project/infant_image_statistics/03_JPG_AllMasters/003MT\")\n",
    "paths = pathlist[:16]"
   ]
  },
  {
   "cell_type": "code",
   "execution_count": 18,
   "id": "585e57f1",
   "metadata": {},
   "outputs": [],
   "source": [
    "import os\n",
    "from PIL import Image\n",
    "import numpy as np\n",
    "\n",
    "images = []\n",
    "for path in paths:\n",
    "    with Image.open(path) as img:\n",
    "        # add an axis to the image array to (1, num_channels, height, width)\n",
    "        img_array = np.expand_dims(np.array(img), axis=0).transpose(0, 3, 1, 2)\n",
    "        images.append(img_array)\n",
    "\n",
    "# concatenate the images into a numpy array\n",
    "concatenated_images = np.concatenate(images, axis=0)"
   ]
  },
  {
   "cell_type": "code",
   "execution_count": 19,
   "id": "dcfc3a91",
   "metadata": {},
   "outputs": [],
   "source": [
    "num_frames = 16\n",
    "video = list(concatenated_images)"
   ]
  },
  {
   "cell_type": "code",
   "execution_count": 20,
   "id": "2a9c42fc",
   "metadata": {},
   "outputs": [
    {
     "name": "stderr",
     "output_type": "stream",
     "text": [
      "Could not find image processor class in the image processor config or the model config. Loading based on pattern matching with the model's feature extractor configuration.\n"
     ]
    }
   ],
   "source": [
    "image_processor = AutoImageProcessor.from_pretrained(\"MCG-NJU/videomae-base\")\n",
    "model = VideoMAEForPreTraining.from_pretrained(\"MCG-NJU/videomae-base\")"
   ]
  },
  {
   "cell_type": "code",
   "execution_count": 21,
   "id": "a3e9c143",
   "metadata": {},
   "outputs": [
    {
     "name": "stderr",
     "output_type": "stream",
     "text": [
      "/N/u/hhansar/Carbonate/.local/lib/python3.10/site-packages/transformers/feature_extraction_utils.py:147: UserWarning: Creating a tensor from a list of numpy.ndarrays is extremely slow. Please consider converting the list to a single numpy.ndarray with numpy.array() before converting to a tensor. (Triggered internally at  ../torch/csrc/utils/tensor_new.cpp:210.)\n",
      "  return torch.tensor(value)\n"
     ]
    },
    {
     "data": {
      "text/plain": [
       "torch.Size([1, 16, 3, 224, 224])"
      ]
     },
     "execution_count": 21,
     "metadata": {},
     "output_type": "execute_result"
    }
   ],
   "source": [
    "pixel_values = image_processor(video, return_tensors=\"pt\").pixel_values\n",
    "pixel_values.shape"
   ]
  },
  {
   "cell_type": "code",
   "execution_count": 22,
   "id": "5c143fb7",
   "metadata": {},
   "outputs": [],
   "source": [
    "num_patches_per_frame = (model.config.image_size // model.config.patch_size) ** 2\n",
    "seq_length = (num_frames // model.config.tubelet_size) * num_patches_per_frame\n",
    "bool_masked_pos = torch.randint(0, 2, (1, seq_length)).bool()"
   ]
  },
  {
   "cell_type": "code",
   "execution_count": 23,
   "id": "88134717",
   "metadata": {},
   "outputs": [
    {
     "name": "stdout",
     "output_type": "stream",
     "text": [
      "16\n"
     ]
    }
   ],
   "source": [
    "print(model.config.patch_size)"
   ]
  },
  {
   "cell_type": "code",
   "execution_count": 24,
   "id": "5dcde259",
   "metadata": {},
   "outputs": [
    {
     "name": "stdout",
     "output_type": "stream",
     "text": [
      "2\n"
     ]
    }
   ],
   "source": [
    "print(model.config.tubelet_size)"
   ]
  },
  {
   "cell_type": "code",
   "execution_count": 25,
   "id": "c6860b4e",
   "metadata": {},
   "outputs": [
    {
     "name": "stdout",
     "output_type": "stream",
     "text": [
      "1568\n"
     ]
    }
   ],
   "source": [
    "print(seq_length)"
   ]
  },
  {
   "cell_type": "code",
   "execution_count": 26,
   "id": "bbaa50c3",
   "metadata": {},
   "outputs": [
    {
     "name": "stdout",
     "output_type": "stream",
     "text": [
      "tensor(789)\n"
     ]
    }
   ],
   "source": [
    "print(bool_masked_pos.sum())"
   ]
  },
  {
   "cell_type": "code",
   "execution_count": 27,
   "id": "58c9599f",
   "metadata": {},
   "outputs": [],
   "source": [
    "outputs = model(pixel_values, bool_masked_pos=bool_masked_pos)\n",
    "loss = outputs.loss"
   ]
  },
  {
   "cell_type": "code",
   "execution_count": 28,
   "id": "db0fff83",
   "metadata": {},
   "outputs": [
    {
     "name": "stdout",
     "output_type": "stream",
     "text": [
      "torch.Size([1, 789, 1536])\n"
     ]
    }
   ],
   "source": [
    "print(outputs.logits.shape)"
   ]
  },
  {
   "cell_type": "code",
   "execution_count": 29,
   "id": "dcaa2677",
   "metadata": {
    "scrolled": true
   },
   "outputs": [
    {
     "name": "stdout",
     "output_type": "stream",
     "text": [
      "tensor(0.3439, grad_fn=<MseLossBackward0>)\n"
     ]
    }
   ],
   "source": [
    "print(loss)"
   ]
  }
 ],
 "metadata": {
  "kernelspec": {
   "display_name": "Python 3 (ipykernel)",
   "language": "python",
   "name": "python3"
  },
  "language_info": {
   "codemirror_mode": {
    "name": "ipython",
    "version": 3
   },
   "file_extension": ".py",
   "mimetype": "text/x-python",
   "name": "python",
   "nbconvert_exporter": "python",
   "pygments_lexer": "ipython3",
   "version": "3.10.5"
  }
 },
 "nbformat": 4,
 "nbformat_minor": 5
}
