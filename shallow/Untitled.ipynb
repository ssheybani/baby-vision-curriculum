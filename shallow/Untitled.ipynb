{
 "cells": [
  {
   "cell_type": "code",
   "execution_count": 2,
   "id": "3dda29a2",
   "metadata": {},
   "outputs": [],
   "source": [
    "import os"
   ]
  },
  {
   "cell_type": "code",
   "execution_count": 3,
   "id": "47d38fb0",
   "metadata": {},
   "outputs": [],
   "source": [
    "ch_dir='/N/project/baby_vision_curriculum/trained_models/generative/v2/may14/s3/'"
   ]
  },
  {
   "cell_type": "code",
   "execution_count": 6,
   "id": "856e6626",
   "metadata": {},
   "outputs": [
    {
     "name": "stdout",
     "output_type": "stream",
     "text": [
      "model_g2_seed_213_other_213_sgd_pre.g0g1.pt\n",
      "model_g2_seed_213_other_213_sgd_pre.g2g2.pt\n",
      "model_g0_seed_213_other_213_sgd_pre.g2g1.pt\n",
      "model_g2_seed_213_other_213_sgd_pre.g3g1.pt\n",
      "model_gr_seed_213_other_213_sgd_pre.grgr.pt\n"
     ]
    }
   ],
   "source": [
    "seed='213'\n",
    "for fname in os.listdir(ch_dir):\n",
    "    if fname[-3:]=='.pt':\n",
    "        if fname.split('_')[3]==seed:\n",
    "            print(fname)"
   ]
  },
  {
   "cell_type": "code",
   "execution_count": null,
   "id": "021b86de",
   "metadata": {},
   "outputs": [],
   "source": []
  }
 ],
 "metadata": {
  "kernelspec": {
   "display_name": "Python 3 (ipykernel)",
   "language": "python",
   "name": "python3"
  },
  "language_info": {
   "codemirror_mode": {
    "name": "ipython",
    "version": 3
   },
   "file_extension": ".py",
   "mimetype": "text/x-python",
   "name": "python",
   "nbconvert_exporter": "python",
   "pygments_lexer": "ipython3",
   "version": "3.10.5"
  }
 },
 "nbformat": 4,
 "nbformat_minor": 5
}
