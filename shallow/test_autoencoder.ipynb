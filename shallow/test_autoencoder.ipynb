{
 "cells": [
  {
   "cell_type": "code",
   "execution_count": 1,
   "id": "652d6978",
   "metadata": {},
   "outputs": [
    {
     "name": "stdout",
     "output_type": "stream",
     "text": [
      "Running on BigRed200\n"
     ]
    }
   ],
   "source": [
    "import sys, os\n",
    "\n",
    "if 'BigRed200' in os.getcwd().split('/'):\n",
    "    print('Running on BigRed200')\n",
    "    sys.path.insert(0,'/geode2/home/u080/sheybani/BigRed200/spenv/lib/python3.10/site-packages')\n"
   ]
  },
  {
   "cell_type": "code",
   "execution_count": 2,
   "id": "7e099cd4",
   "metadata": {},
   "outputs": [],
   "source": [
    "import torch, torchvision\n",
    "import numpy as np\n",
    "import pandas as pd\n",
    "from torch.nn import functional as F\n",
    "\n",
    "import matplotlib.pyplot as plt\n",
    "import seaborn as sns\n",
    "from tqdm import tqdm\n",
    "from itertools import chain\n",
    "import pickle\n",
    "from sklearn import decomposition\n",
    "from copy import deepcopy\n",
    "import joblib\n",
    "\n",
    "import torch.nn as nn"
   ]
  },
  {
   "cell_type": "code",
   "execution_count": 3,
   "id": "b0376846",
   "metadata": {},
   "outputs": [],
   "source": [
    "from pathlib import Path\n",
    "def get_fpathlist(vid_root, subjdir, ds_rate=1):\n",
    "    # read the image file names into fpathlist\n",
    "    # subjdir = ['008MS'] #@@@\n",
    "\n",
    "    # vid_root = r\"/N/project/infant_image_statistics/03_JPG_AllMasters/\"\n",
    "    \n",
    "    fpathlist = sorted(list(Path(os.path.join(vid_root, subjdir)).iterdir()), \n",
    "                       key=lambda x: x.name)\n",
    "    fpathlist = [str(fpath) for fpath in fpathlist if fpath.suffix=='.jpg']\n",
    "    fpathlist = fpathlist[::ds_rate]\n",
    "    return fpathlist #TemporalNeighborhoodDataset(fpathlist, transform=get_transform(image_size))"
   ]
  },
  {
   "cell_type": "code",
   "execution_count": 4,
   "id": "fbd0fc0e",
   "metadata": {},
   "outputs": [],
   "source": [
    "jpg_root = '/N/project/infant_image_statistics/video_frames/' #30fps\n",
    "# \"/N/project/infant_image_statistics/preproc_saber/JPG_10fps/\"\n",
    "\n",
    "# subj_dir = '049JC'#'008MS'#\n",
    "# ds_rate = 1\n",
    "\n",
    "\n",
    "# fpathlist = get_fpathlist(jpg_root, subj_dir, ds_rate=ds_rate)\n",
    "# print(len(fpathlist))"
   ]
  },
  {
   "cell_type": "code",
   "execution_count": 5,
   "id": "4e60a4b4",
   "metadata": {},
   "outputs": [
    {
     "name": "stdout",
     "output_type": "stream",
     "text": [
      "5274809\n"
     ]
    }
   ],
   "source": [
    "# g0='008MS+009SS_withrotation+010BF_withrotation+011EA_withrotation+012TT_withrotation+013LS+014SN+015JM+016TF+017EW_withrotation'\n",
    "g0='008MS+009SS+010BF+011EA+012TT+013LS+014SN+015JM+016TF+017EW'\n",
    "# g1='026AR+027SS+028CK+028MR+029TT+030FD+031HW+032SR+033SE+034JC_withlighting'\n",
    "# g2='043MP+044ET+046TE+047MS+048KG+049JC+050AB+050AK_rotation+051DW'\n",
    "g2='043MP+044ET+046TE+047MS+048KG+049JC+050AB+050AK+051DW'\n",
    "subj_dirs = g0.split('+')\n",
    "subj_dirs = sorted([item for item in subj_dirs\n",
    "                    if os.path.isdir(jpg_root+item)])\n",
    "ds_rate = 1\n",
    "fpathlist = []\n",
    "for i_subj, subjdir in enumerate(subj_dirs):\n",
    "    fpathlist += get_fpathlist(jpg_root, subjdir, ds_rate=ds_rate)\n",
    "print(len(fpathlist))"
   ]
  },
  {
   "cell_type": "code",
   "execution_count": 6,
   "id": "90b1cafd",
   "metadata": {},
   "outputs": [],
   "source": [
    "device = torch.device('cuda:0' if torch.cuda.is_available() else 'cpu')"
   ]
  },
  {
   "cell_type": "code",
   "execution_count": 10,
   "id": "cdc8cac5",
   "metadata": {},
   "outputs": [
    {
     "data": {
      "text/plain": [
       "352.13149070739746"
      ]
     },
     "execution_count": 10,
     "metadata": {},
     "output_type": "execute_result"
    }
   ],
   "source": [
    "70*5274809/(1024*1024)"
   ]
  },
  {
   "cell_type": "code",
   "execution_count": 11,
   "id": "1adab340",
   "metadata": {},
   "outputs": [],
   "source": [
    "import skimage\n",
    "def center_crop(img, crop_size):\n",
    "    # crop_size: int divisible by \n",
    "    # img size: divisible by 2\n",
    "    if len(img.shape)==2:\n",
    "        img = np.expand_dim(img,2)\n",
    "    h,w,c = img.shape\n",
    "    csh = crop_size//2\n",
    "    hh, wh = h//2, w//2\n",
    "    \n",
    "    i_st = hh-csh\n",
    "    i_end = hh+csh\n",
    "    j_st = wh-csh\n",
    "    j_end = wh+csh\n",
    "    \n",
    "    return img[i_st:i_end, j_st:j_end,:]\n",
    "def get_transform(image_size):\n",
    "\n",
    "    # transform = tr.Compose([\n",
    "    #     tr.Resize(image_size),\n",
    "    #     tr.CenterCrop(image_size),\n",
    "    #     tr.ConvertImageDtype(torch.float32),\n",
    "    #     tr.Normalize(mean,std)\n",
    "    # ])\n",
    "    def xtransform(img): \n",
    "        \n",
    "        if len(img.shape)==2:\n",
    "            img = np.expand_dim(img,2)\n",
    "        h,w, c = img.shape\n",
    "        \n",
    "        scale_f = image_size/min(h,w)\n",
    "        img_res = skimage.transform.rescale(img, scale_f, anti_aliasing=True, channel_axis=2)\n",
    "        img_res = skimage.util.img_as_ubyte(img_res)\n",
    "        cc = center_crop(img_res, image_size)\n",
    "        cc_gs = skimage.color.rgb2gray(cc)\n",
    "        return cc_gs\n",
    "        \n",
    "    return xtransform\n",
    "\n",
    "def _proc_image(fpath, transform):\n",
    "\n",
    "    # load\n",
    "    img = skimage.io.imread(fpath)\n",
    "    if img is None:\n",
    "        warnings.warn('Image file at '+fpath+' could not be read!')\n",
    "        return\n",
    "    # transform (Reize)\n",
    "    if transform is not None:\n",
    "        img = transform(img)\n",
    "    return img"
   ]
  },
  {
   "cell_type": "code",
   "execution_count": 24,
   "id": "08929e0c",
   "metadata": {},
   "outputs": [
    {
     "name": "stderr",
     "output_type": "stream",
     "text": [
      "  0%|                                                     | 0/4 [00:00<?, ?it/s][Parallel(n_jobs=10)]: Using backend LokyBackend with 10 concurrent workers.\n",
      "100%|█████████████████████████████████████████████| 4/4 [00:00<00:00, 51.59it/s]\n",
      "[Parallel(n_jobs=10)]: Done   4 out of   4 | elapsed:    7.8s finished\n"
     ]
    }
   ],
   "source": [
    "transform = get_transform(32)\n",
    "\n",
    "sample = fpathlist[0:8:2]\n",
    "n_jobs=10\n",
    "inp = joblib.Parallel(n_jobs=n_jobs, verbose=1)(\n",
    "        joblib.delayed(_proc_image)(item, transform) \n",
    "        for item in tqdm(sample))\n",
    "inp = np.asarray(inp)"
   ]
  },
  {
   "cell_type": "code",
   "execution_count": 27,
   "id": "fc2e125d",
   "metadata": {},
   "outputs": [
    {
     "data": {
      "text/plain": [
       "torch.Size([4, 32, 32])"
      ]
     },
     "execution_count": 27,
     "metadata": {},
     "output_type": "execute_result"
    }
   ],
   "source": [
    "inp = np.asarray(inp)\n",
    "inp = torch.as_tensor(inp)\n",
    "inp.shape"
   ]
  },
  {
   "cell_type": "code",
   "execution_count": 21,
   "id": "7ea01d3f",
   "metadata": {},
   "outputs": [
    {
     "data": {
      "text/plain": [
       "<matplotlib.image.AxesImage at 0x7f8382b4d390>"
      ]
     },
     "execution_count": 21,
     "metadata": {},
     "output_type": "execute_result"
    },
    {
     "data": {
      "image/png": "[encoded data removed]",
      "text/plain": [
       "<Figure size 432x288 with 1 Axes>"
      ]
     },
     "metadata": {
      "needs_background": "light"
     },
     "output_type": "display_data"
    }
   ],
   "source": [
    "plt.imshow(inp)"
   ]
  },
  {
   "cell_type": "code",
   "execution_count": 12,
   "id": "f9a7038e",
   "metadata": {},
   "outputs": [],
   "source": [
    "\n",
    "class Autoencoder(nn.Module):\n",
    "    def __init__(self, input_size, hidden_size):\n",
    "        super(Autoencoder, self).__init__()\n",
    "        self.encoder = nn.Linear(input_size, hidden_size)\n",
    "        self.decoder = nn.Linear(hidden_size, input_size)\n",
    "        \n",
    "\n",
    "    def forward(self, x):\n",
    "        x = self.encoder(x)\n",
    "        x = self.decoder(x)\n",
    "        return x\n"
   ]
  },
  {
   "cell_type": "code",
   "execution_count": 11,
   "id": "5e274f4e",
   "metadata": {},
   "outputs": [],
   "source": [
    "import torchvision.transforms as transforms\n",
    "from torch.utils.data import Dataset\n",
    "from PIL import Image\n",
    "\n",
    "class ImageSequenceDataset(Dataset):\n",
    "    def __init__(self, image_paths, transform=None):\n",
    "        self.image_paths = image_paths\n",
    "        self.transform = transform\n",
    "\n",
    "    def __len__(self):\n",
    "        return len(self.image_paths)\n",
    "\n",
    "    def __getitem__(self, idx):\n",
    "        # Load the sequence of images\n",
    "        images = []\n",
    "        for path in self.image_paths[idx]:\n",
    "            image = Image.open(path)\n",
    "            if self.transform:\n",
    "                image = self.transform(image).squeeze()\n",
    "            images.append(image)\n",
    "             # Convert the sequence of images to a tensor\n",
    "        images = torch.stack(images)\n",
    "\n",
    "        return images"
   ]
  },
  {
   "cell_type": "code",
   "execution_count": 124,
   "id": "56a3952c",
   "metadata": {},
   "outputs": [],
   "source": [
    "def get_transform(image_size, crop_size):\n",
    "    transform = transforms.Compose([\n",
    "        transforms.Resize(image_size),   # Rescale the image to 256 pixels on the shorter side\n",
    "        transforms.CenterCrop(crop_size),   # Crop the center 224x224 pixels\n",
    "        transforms.Grayscale(num_output_channels=1),   # Convert the image to grayscale\n",
    "        transforms.ToTensor(),   # Convert the image to a PyTorch tensor\n",
    "        transforms.Normalize(0.5,0.5), #@@@ newly added after recAE\n",
    "        ])\n",
    "    return transform\n",
    "\n",
    "transform = get_transform(32, 8)"
   ]
  },
  {
   "cell_type": "code",
   "execution_count": 13,
   "id": "7791aba9",
   "metadata": {},
   "outputs": [
    {
     "data": {
      "text/plain": [
       "5274809"
      ]
     },
     "execution_count": 13,
     "metadata": {},
     "output_type": "execute_result"
    }
   ],
   "source": [
    "len(fpathlist)"
   ]
  },
  {
   "cell_type": "code",
   "execution_count": 15,
   "id": "2406b685",
   "metadata": {},
   "outputs": [],
   "source": [
    "seq_len = 3\n",
    "ds_rate = 1\n",
    "sample_len = seq_len*ds_rate\n",
    "n_samples = 50000\n",
    "sample_stride = int(len(fpathlist)/n_samples)\n",
    "\n",
    "image_paths = [fpathlist[i:i+sample_len:ds_rate] \n",
    " for i in range(0, n_samples*sample_stride, sample_stride)]\n",
    "# print(len(image_paths[50]))"
   ]
  },
  {
   "cell_type": "code",
   "execution_count": 125,
   "id": "1ba769d1",
   "metadata": {},
   "outputs": [],
   "source": [
    "batch_size = 512\n",
    "\n",
    "dataset = ImageSequenceDataset(image_paths, transform=transform)\n",
    "dataloader = torch.utils.data.DataLoader(dataset, batch_size=batch_size, shuffle=True,\n",
    "                                         num_workers=30, persistent_workers=False, collate_fn=None, \n",
    "                                         pin_memory=False, prefetch_factor=2)\n",
    "# for images in dataloader:\n",
    "#     print(images.shape)\n",
    "#     break"
   ]
  },
  {
   "cell_type": "markdown",
   "id": "fb328889",
   "metadata": {},
   "source": [
    "## linear autoencoder"
   ]
  },
  {
   "cell_type": "code",
   "execution_count": null,
   "id": "da017139",
   "metadata": {},
   "outputs": [],
   "source": [
    "input_size = 8*8*2\n",
    "hidden_size = 128\n",
    "learning_rate = 0.005\n",
    "# batch_size = 64\n",
    "num_epochs = 15"
   ]
  },
  {
   "cell_type": "code",
   "execution_count": 16,
   "id": "8e5166b5",
   "metadata": {},
   "outputs": [],
   "source": [
    "model = Autoencoder(input_size, hidden_size)\n",
    "\n",
    "# optimizer = torch.optim.Adam(model.parameters(), lr=learning_rate, weight_decay=1e-5)"
   ]
  },
  {
   "cell_type": "code",
   "execution_count": 17,
   "id": "d232954a",
   "metadata": {},
   "outputs": [],
   "source": [
    "optimizer = torch.optim.Adam(model.parameters(), lr=learning_rate, weight_decay=1e-3)"
   ]
  },
  {
   "cell_type": "code",
   "execution_count": 17,
   "id": "0fb7cfc1",
   "metadata": {},
   "outputs": [
    {
     "name": "stderr",
     "output_type": "stream",
     "text": [
      "  2%|▉                                           | 1/49 [00:33<27:02, 33.80s/it]"
     ]
    },
    {
     "name": "stdout",
     "output_type": "stream",
     "text": [
      "Epoch [1/15], Loss: 0.2492\n",
      "Epoch [1/15], Loss: 0.1116\n",
      "Epoch [1/15], Loss: 0.0715\n"
     ]
    },
    {
     "name": "stderr",
     "output_type": "stream",
     "text": [
      " 20%|████████▊                                  | 10/49 [00:34<01:18,  2.02s/it]"
     ]
    },
    {
     "name": "stdout",
     "output_type": "stream",
     "text": [
      "Epoch [1/15], Loss: 0.0482\n",
      "Epoch [1/15], Loss: 0.0461\n",
      "Epoch [1/15], Loss: 0.0530\n",
      "Epoch [1/15], Loss: 0.0375\n",
      "Epoch [1/15], Loss: 0.0387\n",
      "Epoch [1/15], Loss: 0.0335\n",
      "Epoch [1/15], Loss: 0.0310\n",
      "Epoch [1/15], Loss: 0.0281\n",
      "Epoch [1/15], Loss: 0.0252\n",
      "Epoch [1/15], Loss: 0.0261\n",
      "Epoch [1/15], Loss: 0.0225\n",
      "Epoch [1/15], Loss: 0.0233\n"
     ]
    },
    {
     "name": "stderr",
     "output_type": "stream",
     "text": [
      " 45%|███████████████████▎                       | 22/49 [00:35<00:16,  1.66it/s]"
     ]
    },
    {
     "name": "stdout",
     "output_type": "stream",
     "text": [
      "Epoch [1/15], Loss: 0.0224\n",
      "Epoch [1/15], Loss: 0.0207\n",
      "Epoch [1/15], Loss: 0.0208\n",
      "Epoch [1/15], Loss: 0.0188\n",
      "Epoch [1/15], Loss: 0.0171\n",
      "Epoch [1/15], Loss: 0.0163\n",
      "Epoch [1/15], Loss: 0.0152\n",
      "Epoch [1/15], Loss: 0.0165\n",
      "Epoch [1/15], Loss: 0.0142\n",
      "Epoch [1/15], Loss: 0.0147\n",
      "Epoch [1/15], Loss: 0.0131\n"
     ]
    },
    {
     "name": "stderr",
     "output_type": "stream",
     "text": [
      "\r",
      " 57%|████████████████████████▌                  | 28/49 [00:35<00:08,  2.60it/s]"
     ]
    },
    {
     "name": "stdout",
     "output_type": "stream",
     "text": [
      "Epoch [1/15], Loss: 0.0131\n",
      "Epoch [1/15], Loss: 0.0132\n",
      "Epoch [1/15], Loss: 0.0134\n",
      "Epoch [1/15], Loss: 0.0118\n"
     ]
    },
    {
     "name": "stderr",
     "output_type": "stream",
     "text": [
      " 63%|███████████████████████████▏               | 31/49 [01:05<00:43,  2.40s/it]"
     ]
    },
    {
     "name": "stdout",
     "output_type": "stream",
     "text": [
      "Epoch [1/15], Loss: 0.0118\n",
      "Epoch [1/15], Loss: 0.0112\n"
     ]
    },
    {
     "name": "stderr",
     "output_type": "stream",
     "text": [
      "\r",
      " 67%|████████████████████████████▉              | 33/49 [01:05<00:33,  2.07s/it]"
     ]
    },
    {
     "name": "stdout",
     "output_type": "stream",
     "text": [
      "Epoch [1/15], Loss: 0.0109\n"
     ]
    },
    {
     "name": "stderr",
     "output_type": "stream",
     "text": [
      " 86%|████████████████████████████████████▊      | 42/49 [01:06<00:06,  1.07it/s]"
     ]
    },
    {
     "name": "stdout",
     "output_type": "stream",
     "text": [
      "Epoch [1/15], Loss: 0.0114\n",
      "Epoch [1/15], Loss: 0.0106\n",
      "Epoch [1/15], Loss: 0.0102\n",
      "Epoch [1/15], Loss: 0.0099\n",
      "Epoch [1/15], Loss: 0.0097\n",
      "Epoch [1/15], Loss: 0.0094\n",
      "Epoch [1/15], Loss: 0.0094\n",
      "Epoch [1/15], Loss: 0.0093\n",
      "Epoch [1/15], Loss: 0.0088\n",
      "Epoch [1/15], Loss: 0.0085\n",
      "Epoch [1/15], Loss: 0.0090\n"
     ]
    },
    {
     "name": "stderr",
     "output_type": "stream",
     "text": [
      "100%|███████████████████████████████████████████| 49/49 [01:06<00:00,  1.37s/it]\n"
     ]
    },
    {
     "name": "stdout",
     "output_type": "stream",
     "text": [
      "Epoch [1/15], Loss: 0.0091\n",
      "Epoch [1/15], Loss: 0.0090\n",
      "Epoch [1/15], Loss: 0.0081\n",
      "Epoch [1/15], Loss: 0.0087\n",
      "Epoch [1/15], Loss: 0.0080\n"
     ]
    },
    {
     "name": "stderr",
     "output_type": "stream",
     "text": [
      "  2%|▉                                           | 1/49 [00:24<19:49, 24.78s/it]"
     ]
    },
    {
     "name": "stdout",
     "output_type": "stream",
     "text": [
      "Epoch [2/15], Loss: 0.0080\n"
     ]
    },
    {
     "name": "stderr",
     "output_type": "stream",
     "text": [
      " 12%|█████▍                                      | 6/49 [00:27<01:57,  2.74s/it]"
     ]
    },
    {
     "name": "stdout",
     "output_type": "stream",
     "text": [
      "Epoch [2/15], Loss: 0.0079\n",
      "Epoch [2/15], Loss: 0.0076\n",
      "Epoch [2/15], Loss: 0.0075\n",
      "Epoch [2/15], Loss: 0.0083\n",
      "Epoch [2/15], Loss: 0.0078\n",
      "Epoch [2/15], Loss: 0.0074\n"
     ]
    },
    {
     "name": "stderr",
     "output_type": "stream",
     "text": [
      " 29%|████████████▎                              | 14/49 [00:27<00:26,  1.34it/s]"
     ]
    },
    {
     "name": "stdout",
     "output_type": "stream",
     "text": [
      "Epoch [2/15], Loss: 0.0072\n",
      "Epoch [2/15], Loss: 0.0075\n",
      "Epoch [2/15], Loss: 0.0081\n",
      "Epoch [2/15], Loss: 0.0075\n",
      "Epoch [2/15], Loss: 0.0073\n",
      "Epoch [2/15], Loss: 0.0077\n",
      "Epoch [2/15], Loss: 0.0077\n",
      "Epoch [2/15], Loss: 0.0075\n"
     ]
    },
    {
     "name": "stderr",
     "output_type": "stream",
     "text": [
      " 45%|███████████████████▎                       | 22/49 [00:29<00:11,  2.42it/s]"
     ]
    },
    {
     "name": "stdout",
     "output_type": "stream",
     "text": [
      "Epoch [2/15], Loss: 0.0074\n",
      "Epoch [2/15], Loss: 0.0072\n",
      "Epoch [2/15], Loss: 0.0073\n",
      "Epoch [2/15], Loss: 0.0079\n",
      "Epoch [2/15], Loss: 0.0070\n",
      "Epoch [2/15], Loss: 0.0074\n",
      "Epoch [2/15], Loss: 0.0075\n",
      "Epoch [2/15], Loss: 0.0072\n",
      "Epoch [2/15], Loss: 0.0079\n",
      "Epoch [2/15], Loss: 0.0079\n"
     ]
    },
    {
     "name": "stderr",
     "output_type": "stream",
     "text": [
      "\r",
      " 55%|███████████████████████▋                   | 27/49 [00:29<00:05,  3.77it/s]"
     ]
    },
    {
     "name": "stdout",
     "output_type": "stream",
     "text": [
      "Epoch [2/15], Loss: 0.0072\n",
      "Epoch [2/15], Loss: 0.0070\n",
      "Epoch [2/15], Loss: 0.0074\n",
      "Epoch [2/15], Loss: 0.0071\n",
      "Epoch [2/15], Loss: 0.0074\n"
     ]
    },
    {
     "name": "stderr",
     "output_type": "stream",
     "text": [
      " 63%|███████████████████████████▏               | 31/49 [00:51<00:32,  1.78s/it]"
     ]
    },
    {
     "name": "stdout",
     "output_type": "stream",
     "text": [
      "Epoch [2/15], Loss: 0.0068\n"
     ]
    },
    {
     "name": "stderr",
     "output_type": "stream",
     "text": [
      " 71%|██████████████████████████████▋            | 35/49 [00:52<00:17,  1.25s/it]"
     ]
    },
    {
     "name": "stdout",
     "output_type": "stream",
     "text": [
      "Epoch [2/15], Loss: 0.0072\n",
      "Epoch [2/15], Loss: 0.0073\n",
      "Epoch [2/15], Loss: 0.0071\n",
      "Epoch [2/15], Loss: 0.0071\n",
      "Epoch [2/15], Loss: 0.0072\n"
     ]
    },
    {
     "name": "stderr",
     "output_type": "stream",
     "text": [
      "\r",
      " 78%|█████████████████████████████████▎         | 38/49 [00:52<00:09,  1.11it/s]"
     ]
    },
    {
     "name": "stdout",
     "output_type": "stream",
     "text": [
      "Epoch [2/15], Loss: 0.0069\n",
      "Epoch [2/15], Loss: 0.0072\n"
     ]
    },
    {
     "name": "stderr",
     "output_type": "stream",
     "text": [
      "\r",
      " 84%|███████████████████████████████████▉       | 41/49 [00:54<00:05,  1.34it/s]"
     ]
    },
    {
     "name": "stdout",
     "output_type": "stream",
     "text": [
      "Epoch [2/15], Loss: 0.0075\n",
      "Epoch [2/15], Loss: 0.0072\n",
      "Epoch [2/15], Loss: 0.0067\n",
      "Epoch [2/15], Loss: 0.0070\n",
      "Epoch [2/15], Loss: 0.0070\n",
      "Epoch [2/15], Loss: 0.0071\n",
      "Epoch [2/15], Loss: 0.0075\n"
     ]
    },
    {
     "name": "stderr",
     "output_type": "stream",
     "text": [
      "100%|███████████████████████████████████████████| 49/49 [00:56<00:00,  1.16s/it]\n"
     ]
    },
    {
     "name": "stdout",
     "output_type": "stream",
     "text": [
      "Epoch [2/15], Loss: 0.0069\n",
      "Epoch [2/15], Loss: 0.0069\n",
      "Epoch [2/15], Loss: 0.0071\n",
      "Epoch [2/15], Loss: 0.0069\n"
     ]
    },
    {
     "name": "stderr",
     "output_type": "stream",
     "text": [
      "  2%|▉                                           | 1/49 [00:23<18:35, 23.23s/it]"
     ]
    },
    {
     "name": "stdout",
     "output_type": "stream",
     "text": [
      "Epoch [3/15], Loss: 0.0068\n",
      "Epoch [3/15], Loss: 0.0065\n"
     ]
    },
    {
     "name": "stderr",
     "output_type": "stream",
     "text": [
      "\r",
      "  6%|██▋                                         | 3/49 [00:24<04:52,  6.36s/it]"
     ]
    },
    {
     "name": "stdout",
     "output_type": "stream",
     "text": [
      "Epoch [3/15], Loss: 0.0065\n"
     ]
    },
    {
     "name": "stderr",
     "output_type": "stream",
     "text": [
      " 14%|██████▎                                     | 7/49 [00:26<01:23,  1.98s/it]"
     ]
    },
    {
     "name": "stdout",
     "output_type": "stream",
     "text": [
      "Epoch [3/15], Loss: 0.0070\n",
      "Epoch [3/15], Loss: 0.0068\n",
      "Epoch [3/15], Loss: 0.0068\n",
      "Epoch [3/15], Loss: 0.0072\n",
      "Epoch [3/15], Loss: 0.0066\n"
     ]
    },
    {
     "name": "stderr",
     "output_type": "stream",
     "text": [
      " 27%|███████████▍                               | 13/49 [00:26<00:24,  1.49it/s]"
     ]
    },
    {
     "name": "stdout",
     "output_type": "stream",
     "text": [
      "Epoch [3/15], Loss: 0.0068\n",
      "Epoch [3/15], Loss: 0.0070\n",
      "Epoch [3/15], Loss: 0.0069\n",
      "Epoch [3/15], Loss: 0.0074\n",
      "Epoch [3/15], Loss: 0.0067\n",
      "Epoch [3/15], Loss: 0.0070\n"
     ]
    },
    {
     "name": "stderr",
     "output_type": "stream",
     "text": [
      " 39%|████████████████▋                          | 19/49 [00:26<00:09,  3.30it/s]"
     ]
    },
    {
     "name": "stdout",
     "output_type": "stream",
     "text": [
      "Epoch [3/15], Loss: 0.0071\n",
      "Epoch [3/15], Loss: 0.0071\n",
      "Epoch [3/15], Loss: 0.0068\n",
      "Epoch [3/15], Loss: 0.0064\n",
      "Epoch [3/15], Loss: 0.0069\n",
      "Epoch [3/15], Loss: 0.0070\n"
     ]
    },
    {
     "name": "stderr",
     "output_type": "stream",
     "text": [
      " 53%|██████████████████████▊                    | 26/49 [00:26<00:03,  6.91it/s]"
     ]
    },
    {
     "name": "stdout",
     "output_type": "stream",
     "text": [
      "Epoch [3/15], Loss: 0.0063\n",
      "Epoch [3/15], Loss: 0.0071\n",
      "Epoch [3/15], Loss: 0.0067\n",
      "Epoch [3/15], Loss: 0.0066\n",
      "Epoch [3/15], Loss: 0.0066\n",
      "Epoch [3/15], Loss: 0.0071\n",
      "Epoch [3/15], Loss: 0.0065\n"
     ]
    },
    {
     "name": "stderr",
     "output_type": "stream",
     "text": [
      "\r",
      " 59%|█████████████████████████▍                 | 29/49 [00:27<00:02,  8.91it/s]"
     ]
    },
    {
     "name": "stdout",
     "output_type": "stream",
     "text": [
      "Epoch [3/15], Loss: 0.0070\n",
      "Epoch [3/15], Loss: 0.0070\n",
      "Epoch [3/15], Loss: 0.0070\n"
     ]
    },
    {
     "name": "stderr",
     "output_type": "stream",
     "text": [
      " 63%|███████████████████████████▏               | 31/49 [00:48<00:44,  2.47s/it]"
     ]
    },
    {
     "name": "stdout",
     "output_type": "stream",
     "text": [
      "Epoch [3/15], Loss: 0.0068\n",
      "Epoch [3/15], Loss: 0.0066\n"
     ]
    },
    {
     "name": "stderr",
     "output_type": "stream",
     "text": [
      " 78%|█████████████████████████████████▎         | 38/49 [00:50<00:12,  1.12s/it]"
     ]
    },
    {
     "name": "stdout",
     "output_type": "stream",
     "text": [
      "Epoch [3/15], Loss: 0.0066\n",
      "Epoch [3/15], Loss: 0.0063\n",
      "Epoch [3/15], Loss: 0.0067\n",
      "Epoch [3/15], Loss: 0.0066\n",
      "Epoch [3/15], Loss: 0.0068\n",
      "Epoch [3/15], Loss: 0.0069\n"
     ]
    },
    {
     "name": "stderr",
     "output_type": "stream",
     "text": [
      " 96%|█████████████████████████████████████████▏ | 47/49 [00:51<00:00,  2.04it/s]"
     ]
    },
    {
     "name": "stdout",
     "output_type": "stream",
     "text": [
      "Epoch [3/15], Loss: 0.0067\n",
      "Epoch [3/15], Loss: 0.0067\n",
      "Epoch [3/15], Loss: 0.0070\n",
      "Epoch [3/15], Loss: 0.0075\n",
      "Epoch [3/15], Loss: 0.0068\n",
      "Epoch [3/15], Loss: 0.0066\n",
      "Epoch [3/15], Loss: 0.0064\n",
      "Epoch [3/15], Loss: 0.0068\n",
      "Epoch [3/15], Loss: 0.0069\n",
      "Epoch [3/15], Loss: 0.0067\n",
      "Epoch [3/15], Loss: 0.0069\n"
     ]
    },
    {
     "name": "stderr",
     "output_type": "stream",
     "text": [
      "100%|███████████████████████████████████████████| 49/49 [00:51<00:00,  1.05s/it]\n",
      "  6%|██▋                                         | 3/49 [00:24<04:52,  6.35s/it]"
     ]
    },
    {
     "name": "stdout",
     "output_type": "stream",
     "text": [
      "Epoch [4/15], Loss: 0.0068\n",
      "Epoch [4/15], Loss: 0.0069\n",
      "Epoch [4/15], Loss: 0.0071\n"
     ]
    },
    {
     "name": "stderr",
     "output_type": "stream",
     "text": [
      "\r",
      " 10%|████▍                                       | 5/49 [00:24<02:17,  3.13s/it]"
     ]
    },
    {
     "name": "stdout",
     "output_type": "stream",
     "text": [
      "Epoch [4/15], Loss: 0.0067\n",
      "Epoch [4/15], Loss: 0.0069\n",
      "Epoch [4/15], Loss: 0.0061\n",
      "Epoch [4/15], Loss: 0.0067\n"
     ]
    },
    {
     "name": "stderr",
     "output_type": "stream",
     "text": [
      " 29%|████████████▎                              | 14/49 [00:24<00:21,  1.61it/s]"
     ]
    },
    {
     "name": "stdout",
     "output_type": "stream",
     "text": [
      "Epoch [4/15], Loss: 0.0066\n",
      "Epoch [4/15], Loss: 0.0066\n",
      "Epoch [4/15], Loss: 0.0072\n",
      "Epoch [4/15], Loss: 0.0067\n",
      "Epoch [4/15], Loss: 0.0067\n",
      "Epoch [4/15], Loss: 0.0066\n",
      "Epoch [4/15], Loss: 0.0072\n",
      "Epoch [4/15], Loss: 0.0064\n",
      "Epoch [4/15], Loss: 0.0065\n",
      "Epoch [4/15], Loss: 0.0064\n",
      "Epoch [4/15], Loss: 0.0071\n",
      "Epoch [4/15], Loss: 0.0067\n"
     ]
    },
    {
     "name": "stderr",
     "output_type": "stream",
     "text": [
      " 53%|██████████████████████▊                    | 26/49 [00:25<00:04,  4.69it/s]"
     ]
    },
    {
     "name": "stdout",
     "output_type": "stream",
     "text": [
      "Epoch [4/15], Loss: 0.0065\n",
      "Epoch [4/15], Loss: 0.0062\n",
      "Epoch [4/15], Loss: 0.0065\n",
      "Epoch [4/15], Loss: 0.0068\n",
      "Epoch [4/15], Loss: 0.0065\n",
      "Epoch [4/15], Loss: 0.0067\n",
      "Epoch [4/15], Loss: 0.0064\n",
      "Epoch [4/15], Loss: 0.0067\n",
      "Epoch [4/15], Loss: 0.0064\n",
      "Epoch [4/15], Loss: 0.0065\n",
      "Epoch [4/15], Loss: 0.0069\n"
     ]
    },
    {
     "name": "stderr",
     "output_type": "stream",
     "text": [
      " 63%|███████████████████████████▏               | 31/49 [00:49<00:30,  1.72s/it]"
     ]
    },
    {
     "name": "stdout",
     "output_type": "stream",
     "text": [
      "Epoch [4/15], Loss: 0.0062\n",
      "Epoch [4/15], Loss: 0.0067\n",
      "Epoch [4/15], Loss: 0.0064\n"
     ]
    },
    {
     "name": "stderr",
     "output_type": "stream",
     "text": [
      " 82%|███████████████████████████████████        | 40/49 [00:50<00:07,  1.17it/s]"
     ]
    },
    {
     "name": "stdout",
     "output_type": "stream",
     "text": [
      "Epoch [4/15], Loss: 0.0067\n",
      "Epoch [4/15], Loss: 0.0069\n",
      "Epoch [4/15], Loss: 0.0057\n",
      "Epoch [4/15], Loss: 0.0063\n",
      "Epoch [4/15], Loss: 0.0066\n",
      "Epoch [4/15], Loss: 0.0069\n",
      "Epoch [4/15], Loss: 0.0070\n",
      "Epoch [4/15], Loss: 0.0071\n",
      "Epoch [4/15], Loss: 0.0067\n",
      "Epoch [4/15], Loss: 0.0065\n",
      "Epoch [4/15], Loss: 0.0069\n",
      "Epoch [4/15], Loss: 0.0070\n"
     ]
    },
    {
     "name": "stderr",
     "output_type": "stream",
     "text": [
      "100%|███████████████████████████████████████████| 49/49 [00:50<00:00,  1.03s/it]\n"
     ]
    },
    {
     "name": "stdout",
     "output_type": "stream",
     "text": [
      "Epoch [4/15], Loss: 0.0068\n",
      "Epoch [4/15], Loss: 0.0069\n",
      "Epoch [4/15], Loss: 0.0067\n",
      "Epoch [4/15], Loss: 0.0068\n"
     ]
    },
    {
     "name": "stderr",
     "output_type": "stream",
     "text": [
      "  2%|▉                                           | 1/49 [00:24<19:46, 24.72s/it]"
     ]
    },
    {
     "name": "stdout",
     "output_type": "stream",
     "text": [
      "Epoch [5/15], Loss: 0.0069\n"
     ]
    },
    {
     "name": "stderr",
     "output_type": "stream",
     "text": [
      " 14%|██████▎                                     | 7/49 [00:25<01:27,  2.08s/it]"
     ]
    },
    {
     "name": "stdout",
     "output_type": "stream",
     "text": [
      "Epoch [5/15], Loss: 0.0071\n",
      "Epoch [5/15], Loss: 0.0063\n",
      "Epoch [5/15], Loss: 0.0066\n",
      "Epoch [5/15], Loss: 0.0067\n",
      "Epoch [5/15], Loss: 0.0066\n",
      "Epoch [5/15], Loss: 0.0066\n",
      "Epoch [5/15], Loss: 0.0065\n",
      "Epoch [5/15], Loss: 0.0066\n",
      "Epoch [5/15], Loss: 0.0071\n"
     ]
    },
    {
     "name": "stderr",
     "output_type": "stream",
     "text": [
      " 27%|███████████▍                               | 13/49 [00:26<00:32,  1.11it/s]"
     ]
    },
    {
     "name": "stdout",
     "output_type": "stream",
     "text": [
      "Epoch [5/15], Loss: 0.0069\n",
      "Epoch [5/15], Loss: 0.0061\n",
      "Epoch [5/15], Loss: 0.0064\n"
     ]
    },
    {
     "name": "stderr",
     "output_type": "stream",
     "text": [
      " 45%|███████████████████▎                       | 22/49 [00:26<00:08,  3.04it/s]"
     ]
    },
    {
     "name": "stdout",
     "output_type": "stream",
     "text": [
      "Epoch [5/15], Loss: 0.0069\n",
      "Epoch [5/15], Loss: 0.0064\n",
      "Epoch [5/15], Loss: 0.0068\n",
      "Epoch [5/15], Loss: 0.0062\n",
      "Epoch [5/15], Loss: 0.0065\n",
      "Epoch [5/15], Loss: 0.0066\n",
      "Epoch [5/15], Loss: 0.0068\n",
      "Epoch [5/15], Loss: 0.0063\n",
      "Epoch [5/15], Loss: 0.0064\n"
     ]
    },
    {
     "name": "stderr",
     "output_type": "stream",
     "text": [
      "\r",
      " 51%|█████████████████████▉                     | 25/49 [00:27<00:05,  4.03it/s]"
     ]
    },
    {
     "name": "stdout",
     "output_type": "stream",
     "text": [
      "Epoch [5/15], Loss: 0.0063\n",
      "Epoch [5/15], Loss: 0.0069\n",
      "Epoch [5/15], Loss: 0.0070\n",
      "Epoch [5/15], Loss: 0.0069\n",
      "Epoch [5/15], Loss: 0.0066\n"
     ]
    },
    {
     "name": "stderr",
     "output_type": "stream",
     "text": [
      "\r",
      " 57%|████████████████████████▌                  | 28/49 [00:27<00:03,  5.27it/s]"
     ]
    },
    {
     "name": "stdout",
     "output_type": "stream",
     "text": [
      "Epoch [5/15], Loss: 0.0069\n",
      "Epoch [5/15], Loss: 0.0063\n",
      "Epoch [5/15], Loss: 0.0066\n"
     ]
    },
    {
     "name": "stderr",
     "output_type": "stream",
     "text": [
      " 63%|███████████████████████████▏               | 31/49 [00:49<00:41,  2.33s/it]"
     ]
    },
    {
     "name": "stdout",
     "output_type": "stream",
     "text": [
      "Epoch [5/15], Loss: 0.0067\n",
      "Epoch [5/15], Loss: 0.0064\n"
     ]
    },
    {
     "name": "stderr",
     "output_type": "stream",
     "text": [
      " 78%|█████████████████████████████████▎         | 38/49 [00:50<00:12,  1.10s/it]"
     ]
    },
    {
     "name": "stdout",
     "output_type": "stream",
     "text": [
      "Epoch [5/15], Loss: 0.0066\n",
      "Epoch [5/15], Loss: 0.0068\n",
      "Epoch [5/15], Loss: 0.0068\n",
      "Epoch [5/15], Loss: 0.0063\n",
      "Epoch [5/15], Loss: 0.0068\n",
      "Epoch [5/15], Loss: 0.0067\n",
      "Epoch [5/15], Loss: 0.0070\n"
     ]
    },
    {
     "name": "stderr",
     "output_type": "stream",
     "text": [
      "\r",
      " 84%|███████████████████████████████████▉       | 41/49 [00:51<00:07,  1.13it/s]"
     ]
    },
    {
     "name": "stdout",
     "output_type": "stream",
     "text": [
      "Epoch [5/15], Loss: 0.0067\n",
      "Epoch [5/15], Loss: 0.0073\n",
      "Epoch [5/15], Loss: 0.0068\n",
      "Epoch [5/15], Loss: 0.0068\n"
     ]
    },
    {
     "name": "stderr",
     "output_type": "stream",
     "text": [
      "100%|███████████████████████████████████████████| 49/49 [00:52<00:00,  1.07s/it]\n"
     ]
    },
    {
     "name": "stdout",
     "output_type": "stream",
     "text": [
      "Epoch [5/15], Loss: 0.0069\n",
      "Epoch [5/15], Loss: 0.0061\n",
      "Epoch [5/15], Loss: 0.0065\n",
      "Epoch [5/15], Loss: 0.0065\n",
      "Epoch [5/15], Loss: 0.0066\n",
      "Epoch [5/15], Loss: 0.0067\n"
     ]
    },
    {
     "name": "stderr",
     "output_type": "stream",
     "text": [
      "  2%|▉                                           | 1/49 [00:24<19:29, 24.37s/it]"
     ]
    },
    {
     "name": "stdout",
     "output_type": "stream",
     "text": [
      "Epoch [6/15], Loss: 0.0064\n"
     ]
    },
    {
     "name": "stderr",
     "output_type": "stream",
     "text": [
      "\r",
      "  4%|█▊                                          | 2/49 [00:24<08:05, 10.32s/it]"
     ]
    },
    {
     "name": "stdout",
     "output_type": "stream",
     "text": [
      "Epoch [6/15], Loss: 0.0071\n"
     ]
    },
    {
     "name": "stderr",
     "output_type": "stream",
     "text": [
      " 16%|███████▏                                    | 8/49 [00:25<00:56,  1.38s/it]"
     ]
    },
    {
     "name": "stdout",
     "output_type": "stream",
     "text": [
      "Epoch [6/15], Loss: 0.0069\n",
      "Epoch [6/15], Loss: 0.0070\n",
      "Epoch [6/15], Loss: 0.0064\n",
      "Epoch [6/15], Loss: 0.0070\n",
      "Epoch [6/15], Loss: 0.0065\n",
      "Epoch [6/15], Loss: 0.0068\n",
      "Epoch [6/15], Loss: 0.0070\n",
      "Epoch [6/15], Loss: 0.0066\n"
     ]
    },
    {
     "name": "stderr",
     "output_type": "stream",
     "text": [
      " 35%|██████████████▉                            | 17/49 [00:26<00:14,  2.25it/s]"
     ]
    },
    {
     "name": "stdout",
     "output_type": "stream",
     "text": [
      "Epoch [6/15], Loss: 0.0066\n",
      "Epoch [6/15], Loss: 0.0071\n",
      "Epoch [6/15], Loss: 0.0070\n",
      "Epoch [6/15], Loss: 0.0066\n",
      "Epoch [6/15], Loss: 0.0065\n",
      "Epoch [6/15], Loss: 0.0066\n",
      "Epoch [6/15], Loss: 0.0064\n",
      "Epoch [6/15], Loss: 0.0069\n",
      "Epoch [6/15], Loss: 0.0065\n",
      "Epoch [6/15], Loss: 0.0070\n"
     ]
    },
    {
     "name": "stderr",
     "output_type": "stream",
     "text": [
      " 49%|█████████████████████                      | 24/49 [00:28<00:09,  2.58it/s]"
     ]
    },
    {
     "name": "stdout",
     "output_type": "stream",
     "text": [
      "Epoch [6/15], Loss: 0.0063\n",
      "Epoch [6/15], Loss: 0.0069\n",
      "Epoch [6/15], Loss: 0.0067\n",
      "Epoch [6/15], Loss: 0.0070\n",
      "Epoch [6/15], Loss: 0.0066\n",
      "Epoch [6/15], Loss: 0.0068\n"
     ]
    },
    {
     "name": "stderr",
     "output_type": "stream",
     "text": [
      " 61%|██████████████████████████▎                | 30/49 [00:29<00:04,  4.55it/s]"
     ]
    },
    {
     "name": "stdout",
     "output_type": "stream",
     "text": [
      "Epoch [6/15], Loss: 0.0066\n",
      "Epoch [6/15], Loss: 0.0065\n",
      "Epoch [6/15], Loss: 0.0065\n",
      "Epoch [6/15], Loss: 0.0069\n"
     ]
    },
    {
     "name": "stderr",
     "output_type": "stream",
     "text": [
      " 63%|███████████████████████████▏               | 31/49 [00:48<00:45,  2.53s/it]"
     ]
    },
    {
     "name": "stdout",
     "output_type": "stream",
     "text": [
      "Epoch [6/15], Loss: 0.0063\n"
     ]
    },
    {
     "name": "stderr",
     "output_type": "stream",
     "text": [
      "\r",
      " 65%|████████████████████████████               | 32/49 [00:49<00:38,  2.25s/it]"
     ]
    },
    {
     "name": "stdout",
     "output_type": "stream",
     "text": [
      "Epoch [6/15], Loss: 0.0068\n",
      "Epoch [6/15], Loss: 0.0060\n"
     ]
    },
    {
     "name": "stderr",
     "output_type": "stream",
     "text": [
      "\r",
      " 69%|█████████████████████████████▊             | 34/49 [00:50<00:26,  1.80s/it]"
     ]
    },
    {
     "name": "stdout",
     "output_type": "stream",
     "text": [
      "Epoch [6/15], Loss: 0.0072\n"
     ]
    },
    {
     "name": "stderr",
     "output_type": "stream",
     "text": [
      "\r",
      " 73%|███████████████████████████████▌           | 36/49 [00:51<00:16,  1.31s/it]"
     ]
    },
    {
     "name": "stdout",
     "output_type": "stream",
     "text": [
      "Epoch [6/15], Loss: 0.0065\n",
      "Epoch [6/15], Loss: 0.0066\n",
      "Epoch [6/15], Loss: 0.0067\n",
      "Epoch [6/15], Loss: 0.0067\n",
      "Epoch [6/15], Loss: 0.0066\n",
      "Epoch [6/15], Loss: 0.0065\n"
     ]
    },
    {
     "name": "stderr",
     "output_type": "stream",
     "text": [
      "\r",
      " 84%|███████████████████████████████████▉       | 41/49 [00:51<00:05,  1.51it/s]"
     ]
    },
    {
     "name": "stdout",
     "output_type": "stream",
     "text": [
      "Epoch [6/15], Loss: 0.0067\n",
      "Epoch [6/15], Loss: 0.0066\n"
     ]
    },
    {
     "name": "stderr",
     "output_type": "stream",
     "text": [
      "\r",
      " 88%|█████████████████████████████████████▋     | 43/49 [00:51<00:03,  1.78it/s]"
     ]
    },
    {
     "name": "stdout",
     "output_type": "stream",
     "text": [
      "Epoch [6/15], Loss: 0.0067\n",
      "Epoch [6/15], Loss: 0.0062\n"
     ]
    },
    {
     "name": "stderr",
     "output_type": "stream",
     "text": [
      "100%|███████████████████████████████████████████| 49/49 [00:52<00:00,  1.08s/it]\n"
     ]
    },
    {
     "name": "stdout",
     "output_type": "stream",
     "text": [
      "Epoch [6/15], Loss: 0.0062\n",
      "Epoch [6/15], Loss: 0.0067\n",
      "Epoch [6/15], Loss: 0.0068\n",
      "Epoch [6/15], Loss: 0.0063\n",
      "Epoch [6/15], Loss: 0.0072\n"
     ]
    },
    {
     "name": "stderr",
     "output_type": "stream",
     "text": [
      "  2%|▉                                           | 1/49 [00:24<19:29, 24.36s/it]"
     ]
    },
    {
     "name": "stdout",
     "output_type": "stream",
     "text": [
      "Epoch [7/15], Loss: 0.0060\n"
     ]
    },
    {
     "name": "stderr",
     "output_type": "stream",
     "text": [
      "\r",
      "  4%|█▊                                          | 2/49 [00:25<08:18, 10.60s/it]"
     ]
    },
    {
     "name": "stdout",
     "output_type": "stream",
     "text": [
      "Epoch [7/15], Loss: 0.0066\n",
      "Epoch [7/15], Loss: 0.0068\n"
     ]
    },
    {
     "name": "stderr",
     "output_type": "stream",
     "text": [
      "\r",
      "  8%|███▌                                        | 4/49 [00:26<03:17,  4.39s/it]"
     ]
    },
    {
     "name": "stdout",
     "output_type": "stream",
     "text": [
      "Epoch [7/15], Loss: 0.0067\n",
      "Epoch [7/15], Loss: 0.0062\n"
     ]
    },
    {
     "name": "stderr",
     "output_type": "stream",
     "text": [
      " 24%|██████████▌                                | 12/49 [00:27<00:29,  1.26it/s]"
     ]
    },
    {
     "name": "stdout",
     "output_type": "stream",
     "text": [
      "Epoch [7/15], Loss: 0.0065\n",
      "Epoch [7/15], Loss: 0.0069\n",
      "Epoch [7/15], Loss: 0.0071\n",
      "Epoch [7/15], Loss: 0.0067\n",
      "Epoch [7/15], Loss: 0.0064\n",
      "Epoch [7/15], Loss: 0.0069\n",
      "Epoch [7/15], Loss: 0.0068\n",
      "Epoch [7/15], Loss: 0.0070\n",
      "Epoch [7/15], Loss: 0.0067\n",
      "Epoch [7/15], Loss: 0.0070\n",
      "Epoch [7/15], Loss: 0.0069\n"
     ]
    },
    {
     "name": "stderr",
     "output_type": "stream",
     "text": [
      " 49%|█████████████████████                      | 24/49 [00:27<00:06,  3.96it/s]"
     ]
    },
    {
     "name": "stdout",
     "output_type": "stream",
     "text": [
      "Epoch [7/15], Loss: 0.0063\n",
      "Epoch [7/15], Loss: 0.0067\n",
      "Epoch [7/15], Loss: 0.0070\n",
      "Epoch [7/15], Loss: 0.0065\n",
      "Epoch [7/15], Loss: 0.0067\n",
      "Epoch [7/15], Loss: 0.0065\n",
      "Epoch [7/15], Loss: 0.0069\n",
      "Epoch [7/15], Loss: 0.0067\n",
      "Epoch [7/15], Loss: 0.0064\n",
      "Epoch [7/15], Loss: 0.0067\n",
      "Epoch [7/15], Loss: 0.0066\n"
     ]
    },
    {
     "name": "stderr",
     "output_type": "stream",
     "text": [
      "\r",
      " 61%|██████████████████████████▎                | 30/49 [00:27<00:03,  6.03it/s]"
     ]
    },
    {
     "name": "stdout",
     "output_type": "stream",
     "text": [
      "Epoch [7/15], Loss: 0.0069\n",
      "Epoch [7/15], Loss: 0.0070\n",
      "Epoch [7/15], Loss: 0.0069\n"
     ]
    },
    {
     "name": "stderr",
     "output_type": "stream",
     "text": [
      " 63%|███████████████████████████▏               | 31/49 [00:51<00:37,  2.07s/it]"
     ]
    },
    {
     "name": "stdout",
     "output_type": "stream",
     "text": [
      "Epoch [7/15], Loss: 0.0071\n",
      "Epoch [7/15], Loss: 0.0063\n",
      "Epoch [7/15], Loss: 0.0065\n"
     ]
    },
    {
     "name": "stderr",
     "output_type": "stream",
     "text": [
      "\r",
      " 69%|█████████████████████████████▊             | 34/49 [00:51<00:24,  1.61s/it]"
     ]
    },
    {
     "name": "stdout",
     "output_type": "stream",
     "text": [
      "Epoch [7/15], Loss: 0.0066\n",
      "Epoch [7/15], Loss: 0.0069\n"
     ]
    },
    {
     "name": "stderr",
     "output_type": "stream",
     "text": [
      " 90%|██████████████████████████████████████▌    | 44/49 [00:53<00:03,  1.43it/s]"
     ]
    },
    {
     "name": "stdout",
     "output_type": "stream",
     "text": [
      "Epoch [7/15], Loss: 0.0064\n",
      "Epoch [7/15], Loss: 0.0073\n",
      "Epoch [7/15], Loss: 0.0068\n",
      "Epoch [7/15], Loss: 0.0069\n",
      "Epoch [7/15], Loss: 0.0065\n",
      "Epoch [7/15], Loss: 0.0069\n",
      "Epoch [7/15], Loss: 0.0067\n",
      "Epoch [7/15], Loss: 0.0065\n",
      "Epoch [7/15], Loss: 0.0069\n",
      "Epoch [7/15], Loss: 0.0065\n",
      "Epoch [7/15], Loss: 0.0067\n",
      "Epoch [7/15], Loss: 0.0070\n"
     ]
    },
    {
     "name": "stderr",
     "output_type": "stream",
     "text": [
      "100%|███████████████████████████████████████████| 49/49 [00:53<00:00,  1.09s/it]\n"
     ]
    },
    {
     "name": "stdout",
     "output_type": "stream",
     "text": [
      "Epoch [7/15], Loss: 0.0064\n",
      "Epoch [7/15], Loss: 0.0068\n"
     ]
    },
    {
     "name": "stderr",
     "output_type": "stream",
     "text": [
      "  2%|▉                                           | 1/49 [00:21<17:19, 21.65s/it]"
     ]
    },
    {
     "name": "stdout",
     "output_type": "stream",
     "text": [
      "Epoch [8/15], Loss: 0.0069\n"
     ]
    },
    {
     "name": "stderr",
     "output_type": "stream",
     "text": [
      "\r",
      "  4%|█▊                                          | 2/49 [00:23<07:45,  9.91s/it]"
     ]
    },
    {
     "name": "stdout",
     "output_type": "stream",
     "text": [
      "Epoch [8/15], Loss: 0.0068\n",
      "Epoch [8/15], Loss: 0.0068\n",
      "Epoch [8/15], Loss: 0.0067\n"
     ]
    },
    {
     "name": "stderr",
     "output_type": "stream",
     "text": [
      " 16%|███████▏                                    | 8/49 [00:24<01:00,  1.48s/it]"
     ]
    },
    {
     "name": "stdout",
     "output_type": "stream",
     "text": [
      "Epoch [8/15], Loss: 0.0066\n",
      "Epoch [8/15], Loss: 0.0065\n",
      "Epoch [8/15], Loss: 0.0065\n",
      "Epoch [8/15], Loss: 0.0063\n"
     ]
    },
    {
     "name": "stderr",
     "output_type": "stream",
     "text": [
      "\r",
      " 29%|████████████▎                              | 14/49 [00:24<00:21,  1.62it/s]"
     ]
    },
    {
     "name": "stdout",
     "output_type": "stream",
     "text": [
      "Epoch [8/15], Loss: 0.0069\n",
      "Epoch [8/15], Loss: 0.0066\n",
      "Epoch [8/15], Loss: 0.0069\n",
      "Epoch [8/15], Loss: 0.0067\n",
      "Epoch [8/15], Loss: 0.0066\n",
      "Epoch [8/15], Loss: 0.0064\n",
      "Epoch [8/15], Loss: 0.0069\n",
      "Epoch [8/15], Loss: 0.0068\n",
      "Epoch [8/15], Loss: 0.0069\n",
      "Epoch [8/15], Loss: 0.0066\n",
      "Epoch [8/15], Loss: 0.0069\n"
     ]
    },
    {
     "name": "stderr",
     "output_type": "stream",
     "text": [
      " 53%|██████████████████████▊                    | 26/49 [00:24<00:04,  4.67it/s]"
     ]
    },
    {
     "name": "stdout",
     "output_type": "stream",
     "text": [
      "Epoch [8/15], Loss: 0.0070\n",
      "Epoch [8/15], Loss: 0.0069\n",
      "Epoch [8/15], Loss: 0.0063\n",
      "Epoch [8/15], Loss: 0.0065\n",
      "Epoch [8/15], Loss: 0.0069\n",
      "Epoch [8/15], Loss: 0.0069\n",
      "Epoch [8/15], Loss: 0.0067\n",
      "Epoch [8/15], Loss: 0.0064\n",
      "Epoch [8/15], Loss: 0.0069\n",
      "Epoch [8/15], Loss: 0.0070\n",
      "Epoch [8/15], Loss: 0.0069\n"
     ]
    },
    {
     "name": "stderr",
     "output_type": "stream",
     "text": [
      " 63%|███████████████████████████▏               | 31/49 [00:45<00:26,  1.49s/it]"
     ]
    },
    {
     "name": "stdout",
     "output_type": "stream",
     "text": [
      "Epoch [8/15], Loss: 0.0066\n"
     ]
    },
    {
     "name": "stderr",
     "output_type": "stream",
     "text": [
      "\r",
      " 65%|████████████████████████████               | 32/49 [00:47<00:26,  1.56s/it]"
     ]
    },
    {
     "name": "stdout",
     "output_type": "stream",
     "text": [
      "Epoch [8/15], Loss: 0.0067\n",
      "Epoch [8/15], Loss: 0.0067\n",
      "Epoch [8/15], Loss: 0.0068\n",
      "Epoch [8/15], Loss: 0.0068\n"
     ]
    },
    {
     "name": "stderr",
     "output_type": "stream",
     "text": [
      " 86%|████████████████████████████████████▊      | 42/49 [00:48<00:04,  1.53it/s]"
     ]
    },
    {
     "name": "stdout",
     "output_type": "stream",
     "text": [
      "Epoch [8/15], Loss: 0.0072\n",
      "Epoch [8/15], Loss: 0.0066\n",
      "Epoch [8/15], Loss: 0.0072\n",
      "Epoch [8/15], Loss: 0.0064\n",
      "Epoch [8/15], Loss: 0.0067\n",
      "Epoch [8/15], Loss: 0.0071\n",
      "Epoch [8/15], Loss: 0.0060\n",
      "Epoch [8/15], Loss: 0.0066\n",
      "Epoch [8/15], Loss: 0.0062\n",
      "Epoch [8/15], Loss: 0.0067\n",
      "Epoch [8/15], Loss: 0.0068\n"
     ]
    },
    {
     "name": "stderr",
     "output_type": "stream",
     "text": [
      "100%|███████████████████████████████████████████| 49/49 [00:48<00:00,  1.01it/s]\n"
     ]
    },
    {
     "name": "stdout",
     "output_type": "stream",
     "text": [
      "Epoch [8/15], Loss: 0.0069\n",
      "Epoch [8/15], Loss: 0.0068\n",
      "Epoch [8/15], Loss: 0.0070\n"
     ]
    },
    {
     "name": "stderr",
     "output_type": "stream",
     "text": [
      "  2%|▉                                           | 1/49 [00:23<18:40, 23.35s/it]"
     ]
    },
    {
     "name": "stdout",
     "output_type": "stream",
     "text": [
      "Epoch [9/15], Loss: 0.0071\n",
      "Epoch [9/15], Loss: 0.0062\n"
     ]
    },
    {
     "name": "stderr",
     "output_type": "stream",
     "text": [
      "\r",
      "  6%|██▋                                         | 3/49 [00:23<04:47,  6.25s/it]"
     ]
    },
    {
     "name": "stdout",
     "output_type": "stream",
     "text": [
      "Epoch [9/15], Loss: 0.0065\n",
      "Epoch [9/15], Loss: 0.0066\n"
     ]
    },
    {
     "name": "stderr",
     "output_type": "stream",
     "text": [
      "\r",
      " 10%|████▍                                       | 5/49 [00:24<02:18,  3.14s/it]"
     ]
    },
    {
     "name": "stdout",
     "output_type": "stream",
     "text": [
      "Epoch [9/15], Loss: 0.0068\n",
      "Epoch [9/15], Loss: 0.0069\n"
     ]
    },
    {
     "name": "stderr",
     "output_type": "stream",
     "text": [
      " 27%|███████████▍                               | 13/49 [00:24<00:24,  1.46it/s]"
     ]
    },
    {
     "name": "stdout",
     "output_type": "stream",
     "text": [
      "Epoch [9/15], Loss: 0.0067\n",
      "Epoch [9/15], Loss: 0.0070\n",
      "Epoch [9/15], Loss: 0.0068\n",
      "Epoch [9/15], Loss: 0.0067\n",
      "Epoch [9/15], Loss: 0.0066\n",
      "Epoch [9/15], Loss: 0.0072\n",
      "Epoch [9/15], Loss: 0.0066\n",
      "Epoch [9/15], Loss: 0.0068\n",
      "Epoch [9/15], Loss: 0.0070\n",
      "Epoch [9/15], Loss: 0.0070\n",
      "Epoch [9/15], Loss: 0.0071\n"
     ]
    },
    {
     "name": "stderr",
     "output_type": "stream",
     "text": [
      " 51%|█████████████████████▉                     | 25/49 [00:25<00:05,  4.46it/s]"
     ]
    },
    {
     "name": "stdout",
     "output_type": "stream",
     "text": [
      "Epoch [9/15], Loss: 0.0066\n",
      "Epoch [9/15], Loss: 0.0073\n",
      "Epoch [9/15], Loss: 0.0069\n",
      "Epoch [9/15], Loss: 0.0064\n",
      "Epoch [9/15], Loss: 0.0067\n",
      "Epoch [9/15], Loss: 0.0060\n",
      "Epoch [9/15], Loss: 0.0061\n",
      "Epoch [9/15], Loss: 0.0074\n",
      "Epoch [9/15], Loss: 0.0069\n",
      "Epoch [9/15], Loss: 0.0070\n",
      "Epoch [9/15], Loss: 0.0062\n",
      "Epoch [9/15], Loss: 0.0065\n",
      "Epoch [9/15], Loss: 0.0064\n"
     ]
    },
    {
     "name": "stderr",
     "output_type": "stream",
     "text": [
      " 69%|█████████████████████████████▊             | 34/49 [00:48<00:18,  1.26s/it]"
     ]
    },
    {
     "name": "stdout",
     "output_type": "stream",
     "text": [
      "Epoch [9/15], Loss: 0.0064\n",
      "Epoch [9/15], Loss: 0.0067\n",
      "Epoch [9/15], Loss: 0.0066\n",
      "Epoch [9/15], Loss: 0.0071\n",
      "Epoch [9/15], Loss: 0.0071\n",
      "Epoch [9/15], Loss: 0.0067\n"
     ]
    },
    {
     "name": "stderr",
     "output_type": "stream",
     "text": [
      " 90%|██████████████████████████████████████▌    | 44/49 [00:50<00:03,  1.55it/s]"
     ]
    },
    {
     "name": "stdout",
     "output_type": "stream",
     "text": [
      "Epoch [9/15], Loss: 0.0068\n",
      "Epoch [9/15], Loss: 0.0065\n",
      "Epoch [9/15], Loss: 0.0068\n",
      "Epoch [9/15], Loss: 0.0068\n",
      "Epoch [9/15], Loss: 0.0067\n",
      "Epoch [9/15], Loss: 0.0072\n",
      "Epoch [9/15], Loss: 0.0071\n",
      "Epoch [9/15], Loss: 0.0062\n",
      "Epoch [9/15], Loss: 0.0067\n",
      "Epoch [9/15], Loss: 0.0067\n",
      "Epoch [9/15], Loss: 0.0072\n",
      "Epoch [9/15], Loss: 0.0067\n"
     ]
    },
    {
     "name": "stderr",
     "output_type": "stream",
     "text": [
      "100%|███████████████████████████████████████████| 49/49 [00:50<00:00,  1.03s/it]\n"
     ]
    },
    {
     "name": "stdout",
     "output_type": "stream",
     "text": [
      "Epoch [9/15], Loss: 0.0063\n"
     ]
    },
    {
     "name": "stderr",
     "output_type": "stream",
     "text": [
      "  2%|▉                                           | 1/49 [00:23<18:40, 23.35s/it]"
     ]
    },
    {
     "name": "stdout",
     "output_type": "stream",
     "text": [
      "Epoch [10/15], Loss: 0.0070\n"
     ]
    },
    {
     "name": "stderr",
     "output_type": "stream",
     "text": [
      "  8%|███▌                                        | 4/49 [00:25<03:00,  4.00s/it]"
     ]
    },
    {
     "name": "stdout",
     "output_type": "stream",
     "text": [
      "Epoch [10/15], Loss: 0.0071\n",
      "Epoch [10/15], Loss: 0.0070\n",
      "Epoch [10/15], Loss: 0.0070\n",
      "Epoch [10/15], Loss: 0.0071\n"
     ]
    },
    {
     "name": "stderr",
     "output_type": "stream",
     "text": [
      "\r",
      " 18%|████████                                    | 9/49 [00:25<00:49,  1.25s/it]"
     ]
    },
    {
     "name": "stdout",
     "output_type": "stream",
     "text": [
      "Epoch [10/15], Loss: 0.0070\n",
      "Epoch [10/15], Loss: 0.0068\n",
      "Epoch [10/15], Loss: 0.0067\n",
      "Epoch [10/15], Loss: 0.0068\n",
      "Epoch [10/15], Loss: 0.0068\n",
      "Epoch [10/15], Loss: 0.0064\n",
      "Epoch [10/15], Loss: 0.0068\n"
     ]
    },
    {
     "name": "stderr",
     "output_type": "stream",
     "text": [
      " 39%|████████████████▋                          | 19/49 [00:26<00:12,  2.39it/s]"
     ]
    },
    {
     "name": "stdout",
     "output_type": "stream",
     "text": [
      "Epoch [10/15], Loss: 0.0067\n",
      "Epoch [10/15], Loss: 0.0067\n",
      "Epoch [10/15], Loss: 0.0064\n",
      "Epoch [10/15], Loss: 0.0068\n",
      "Epoch [10/15], Loss: 0.0069\n",
      "Epoch [10/15], Loss: 0.0064\n",
      "Epoch [10/15], Loss: 0.0069\n",
      "Epoch [10/15], Loss: 0.0065\n",
      "Epoch [10/15], Loss: 0.0068\n",
      "Epoch [10/15], Loss: 0.0068\n",
      "Epoch [10/15], Loss: 0.0072\n"
     ]
    },
    {
     "name": "stderr",
     "output_type": "stream",
     "text": [
      "\r",
      " 51%|█████████████████████▉                     | 25/49 [00:26<00:06,  3.93it/s]"
     ]
    },
    {
     "name": "stdout",
     "output_type": "stream",
     "text": [
      "Epoch [10/15], Loss: 0.0070\n",
      "Epoch [10/15], Loss: 0.0068\n",
      "Epoch [10/15], Loss: 0.0065\n",
      "Epoch [10/15], Loss: 0.0068\n",
      "Epoch [10/15], Loss: 0.0067\n",
      "Epoch [10/15], Loss: 0.0067\n",
      "Epoch [10/15], Loss: 0.0069\n"
     ]
    },
    {
     "name": "stderr",
     "output_type": "stream",
     "text": [
      " 63%|███████████████████████████▏               | 31/49 [00:49<00:28,  1.57s/it]"
     ]
    },
    {
     "name": "stdout",
     "output_type": "stream",
     "text": [
      "Epoch [10/15], Loss: 0.0068\n"
     ]
    },
    {
     "name": "stderr",
     "output_type": "stream",
     "text": [
      "\r",
      " 65%|████████████████████████████               | 32/49 [00:50<00:26,  1.56s/it]"
     ]
    },
    {
     "name": "stdout",
     "output_type": "stream",
     "text": [
      "Epoch [10/15], Loss: 0.0069\n",
      "Epoch [10/15], Loss: 0.0062\n"
     ]
    },
    {
     "name": "stderr",
     "output_type": "stream",
     "text": [
      " 82%|███████████████████████████████████        | 40/49 [00:51<00:07,  1.28it/s]"
     ]
    },
    {
     "name": "stdout",
     "output_type": "stream",
     "text": [
      "Epoch [10/15], Loss: 0.0066\n",
      "Epoch [10/15], Loss: 0.0064\n",
      "Epoch [10/15], Loss: 0.0068\n",
      "Epoch [10/15], Loss: 0.0069\n",
      "Epoch [10/15], Loss: 0.0064\n",
      "Epoch [10/15], Loss: 0.0069\n",
      "Epoch [10/15], Loss: 0.0063\n",
      "Epoch [10/15], Loss: 0.0069\n",
      "Epoch [10/15], Loss: 0.0069\n",
      "Epoch [10/15], Loss: 0.0068\n",
      "Epoch [10/15], Loss: 0.0069\n"
     ]
    },
    {
     "name": "stderr",
     "output_type": "stream",
     "text": [
      "100%|███████████████████████████████████████████| 49/49 [00:52<00:00,  1.06s/it]\n"
     ]
    },
    {
     "name": "stdout",
     "output_type": "stream",
     "text": [
      "Epoch [10/15], Loss: 0.0069\n",
      "Epoch [10/15], Loss: 0.0062\n",
      "Epoch [10/15], Loss: 0.0066\n",
      "Epoch [10/15], Loss: 0.0061\n",
      "Epoch [10/15], Loss: 0.0062\n"
     ]
    },
    {
     "name": "stderr",
     "output_type": "stream",
     "text": [
      " 10%|████▍                                       | 5/49 [00:25<02:45,  3.75s/it]"
     ]
    },
    {
     "name": "stdout",
     "output_type": "stream",
     "text": [
      "Epoch [11/15], Loss: 0.0063\n",
      "Epoch [11/15], Loss: 0.0070\n",
      "Epoch [11/15], Loss: 0.0066\n",
      "Epoch [11/15], Loss: 0.0070\n",
      "Epoch [11/15], Loss: 0.0068\n",
      "Epoch [11/15], Loss: 0.0067\n",
      "Epoch [11/15], Loss: 0.0067\n",
      "Epoch [11/15], Loss: 0.0067\n"
     ]
    },
    {
     "name": "stderr",
     "output_type": "stream",
     "text": [
      " 24%|██████████▌                                | 12/49 [00:26<00:43,  1.17s/it]"
     ]
    },
    {
     "name": "stdout",
     "output_type": "stream",
     "text": [
      "Epoch [11/15], Loss: 0.0066\n",
      "Epoch [11/15], Loss: 0.0068\n",
      "Epoch [11/15], Loss: 0.0065\n",
      "Epoch [11/15], Loss: 0.0067\n",
      "Epoch [11/15], Loss: 0.0066\n",
      "Epoch [11/15], Loss: 0.0070\n"
     ]
    },
    {
     "name": "stderr",
     "output_type": "stream",
     "text": [
      " 39%|████████████████▋                          | 19/49 [00:26<00:14,  2.08it/s]"
     ]
    },
    {
     "name": "stdout",
     "output_type": "stream",
     "text": [
      "Epoch [11/15], Loss: 0.0066\n",
      "Epoch [11/15], Loss: 0.0066\n",
      "Epoch [11/15], Loss: 0.0074\n",
      "Epoch [11/15], Loss: 0.0065\n",
      "Epoch [11/15], Loss: 0.0070\n",
      "Epoch [11/15], Loss: 0.0074\n"
     ]
    },
    {
     "name": "stderr",
     "output_type": "stream",
     "text": [
      " 59%|█████████████████████████▍                 | 29/49 [00:26<00:03,  5.35it/s]"
     ]
    },
    {
     "name": "stdout",
     "output_type": "stream",
     "text": [
      "Epoch [11/15], Loss: 0.0069\n",
      "Epoch [11/15], Loss: 0.0069\n",
      "Epoch [11/15], Loss: 0.0068\n",
      "Epoch [11/15], Loss: 0.0066\n",
      "Epoch [11/15], Loss: 0.0067\n",
      "Epoch [11/15], Loss: 0.0066\n",
      "Epoch [11/15], Loss: 0.0070\n",
      "Epoch [11/15], Loss: 0.0071\n",
      "Epoch [11/15], Loss: 0.0070\n",
      "Epoch [11/15], Loss: 0.0066\n"
     ]
    },
    {
     "name": "stderr",
     "output_type": "stream",
     "text": [
      " 76%|████████████████████████████████▍          | 37/49 [00:51<00:15,  1.30s/it]"
     ]
    },
    {
     "name": "stdout",
     "output_type": "stream",
     "text": [
      "Epoch [11/15], Loss: 0.0067\n",
      "Epoch [11/15], Loss: 0.0067\n",
      "Epoch [11/15], Loss: 0.0068\n",
      "Epoch [11/15], Loss: 0.0069\n",
      "Epoch [11/15], Loss: 0.0067\n",
      "Epoch [11/15], Loss: 0.0070\n",
      "Epoch [11/15], Loss: 0.0067\n",
      "Epoch [11/15], Loss: 0.0066\n"
     ]
    },
    {
     "name": "stderr",
     "output_type": "stream",
     "text": [
      " 98%|██████████████████████████████████████████ | 48/49 [00:52<00:00,  1.65it/s]"
     ]
    },
    {
     "name": "stdout",
     "output_type": "stream",
     "text": [
      "Epoch [11/15], Loss: 0.0067\n",
      "Epoch [11/15], Loss: 0.0065\n",
      "Epoch [11/15], Loss: 0.0070\n",
      "Epoch [11/15], Loss: 0.0065\n",
      "Epoch [11/15], Loss: 0.0063\n",
      "Epoch [11/15], Loss: 0.0070\n",
      "Epoch [11/15], Loss: 0.0068\n",
      "Epoch [11/15], Loss: 0.0067\n",
      "Epoch [11/15], Loss: 0.0064\n",
      "Epoch [11/15], Loss: 0.0066\n",
      "Epoch [11/15], Loss: 0.0065\n"
     ]
    },
    {
     "name": "stderr",
     "output_type": "stream",
     "text": [
      "100%|███████████████████████████████████████████| 49/49 [00:52<00:00,  1.07s/it]\n",
      "  2%|▉                                           | 1/49 [00:25<20:23, 25.50s/it]"
     ]
    },
    {
     "name": "stdout",
     "output_type": "stream",
     "text": [
      "Epoch [12/15], Loss: 0.0070\n",
      "Epoch [12/15], Loss: 0.0072\n"
     ]
    },
    {
     "name": "stderr",
     "output_type": "stream",
     "text": [
      " 18%|████████                                    | 9/49 [00:25<01:04,  1.62s/it]"
     ]
    },
    {
     "name": "stdout",
     "output_type": "stream",
     "text": [
      "Epoch [12/15], Loss: 0.0072\n",
      "Epoch [12/15], Loss: 0.0062\n",
      "Epoch [12/15], Loss: 0.0067\n",
      "Epoch [12/15], Loss: 0.0064\n",
      "Epoch [12/15], Loss: 0.0070\n",
      "Epoch [12/15], Loss: 0.0066\n",
      "Epoch [12/15], Loss: 0.0065\n",
      "Epoch [12/15], Loss: 0.0067\n",
      "Epoch [12/15], Loss: 0.0069\n"
     ]
    },
    {
     "name": "stderr",
     "output_type": "stream",
     "text": [
      " 39%|████████████████▋                          | 19/49 [00:26<00:16,  1.87it/s]"
     ]
    },
    {
     "name": "stdout",
     "output_type": "stream",
     "text": [
      "Epoch [12/15], Loss: 0.0071\n",
      "Epoch [12/15], Loss: 0.0069\n",
      "Epoch [12/15], Loss: 0.0070\n",
      "Epoch [12/15], Loss: 0.0072\n",
      "Epoch [12/15], Loss: 0.0065\n",
      "Epoch [12/15], Loss: 0.0064\n",
      "Epoch [12/15], Loss: 0.0069\n",
      "Epoch [12/15], Loss: 0.0066\n",
      "Epoch [12/15], Loss: 0.0071\n",
      "Epoch [12/15], Loss: 0.0070\n",
      "Epoch [12/15], Loss: 0.0071\n"
     ]
    },
    {
     "name": "stderr",
     "output_type": "stream",
     "text": [
      "\r",
      " 51%|█████████████████████▉                     | 25/49 [00:26<00:07,  3.07it/s]"
     ]
    },
    {
     "name": "stdout",
     "output_type": "stream",
     "text": [
      "Epoch [12/15], Loss: 0.0067\n",
      "Epoch [12/15], Loss: 0.0063\n",
      "Epoch [12/15], Loss: 0.0067\n",
      "Epoch [12/15], Loss: 0.0065\n",
      "Epoch [12/15], Loss: 0.0067\n",
      "Epoch [12/15], Loss: 0.0071\n",
      "Epoch [12/15], Loss: 0.0066\n",
      "Epoch [12/15], Loss: 0.0069\n"
     ]
    },
    {
     "name": "stderr",
     "output_type": "stream",
     "text": [
      " 63%|███████████████████████████▏               | 31/49 [00:50<00:29,  1.64s/it]"
     ]
    },
    {
     "name": "stdout",
     "output_type": "stream",
     "text": [
      "Epoch [12/15], Loss: 0.0067\n",
      "Epoch [12/15], Loss: 0.0070\n"
     ]
    },
    {
     "name": "stderr",
     "output_type": "stream",
     "text": [
      "\r",
      " 67%|████████████████████████████▉              | 33/49 [00:51<00:23,  1.47s/it]"
     ]
    },
    {
     "name": "stdout",
     "output_type": "stream",
     "text": [
      "Epoch [12/15], Loss: 0.0068\n",
      "Epoch [12/15], Loss: 0.0070\n",
      "Epoch [12/15], Loss: 0.0064\n",
      "Epoch [12/15], Loss: 0.0066\n"
     ]
    },
    {
     "name": "stderr",
     "output_type": "stream",
     "text": [
      " 86%|████████████████████████████████████▊      | 42/49 [00:51<00:04,  1.42it/s]"
     ]
    },
    {
     "name": "stdout",
     "output_type": "stream",
     "text": [
      "Epoch [12/15], Loss: 0.0069\n",
      "Epoch [12/15], Loss: 0.0065\n",
      "Epoch [12/15], Loss: 0.0067\n",
      "Epoch [12/15], Loss: 0.0067\n",
      "Epoch [12/15], Loss: 0.0065\n",
      "Epoch [12/15], Loss: 0.0068\n",
      "Epoch [12/15], Loss: 0.0066\n",
      "Epoch [12/15], Loss: 0.0065\n",
      "Epoch [12/15], Loss: 0.0064\n",
      "Epoch [12/15], Loss: 0.0070\n",
      "Epoch [12/15], Loss: 0.0066\n"
     ]
    },
    {
     "name": "stderr",
     "output_type": "stream",
     "text": [
      "100%|███████████████████████████████████████████| 49/49 [00:51<00:00,  1.06s/it]\n"
     ]
    },
    {
     "name": "stdout",
     "output_type": "stream",
     "text": [
      "Epoch [12/15], Loss: 0.0069\n",
      "Epoch [12/15], Loss: 0.0065\n"
     ]
    },
    {
     "name": "stderr",
     "output_type": "stream",
     "text": [
      "  2%|▉                                           | 1/49 [00:22<18:15, 22.83s/it]"
     ]
    },
    {
     "name": "stdout",
     "output_type": "stream",
     "text": [
      "Epoch [13/15], Loss: 0.0065\n"
     ]
    },
    {
     "name": "stderr",
     "output_type": "stream",
     "text": [
      "\r",
      "  4%|█▊                                          | 2/49 [00:23<07:51, 10.03s/it]"
     ]
    },
    {
     "name": "stdout",
     "output_type": "stream",
     "text": [
      "Epoch [13/15], Loss: 0.0069\n"
     ]
    },
    {
     "name": "stderr",
     "output_type": "stream",
     "text": [
      " 18%|████████                                    | 9/49 [00:25<00:49,  1.24s/it]"
     ]
    },
    {
     "name": "stdout",
     "output_type": "stream",
     "text": [
      "Epoch [13/15], Loss: 0.0071\n",
      "Epoch [13/15], Loss: 0.0075\n",
      "Epoch [13/15], Loss: 0.0066\n",
      "Epoch [13/15], Loss: 0.0071\n",
      "Epoch [13/15], Loss: 0.0066\n",
      "Epoch [13/15], Loss: 0.0067\n",
      "Epoch [13/15], Loss: 0.0069\n",
      "Epoch [13/15], Loss: 0.0073\n",
      "Epoch [13/15], Loss: 0.0069\n",
      "Epoch [13/15], Loss: 0.0069\n",
      "Epoch [13/15], Loss: 0.0066\n",
      "Epoch [13/15], Loss: 0.0071\n"
     ]
    },
    {
     "name": "stderr",
     "output_type": "stream",
     "text": [
      " 43%|██████████████████▍                        | 21/49 [00:25<00:09,  2.92it/s]"
     ]
    },
    {
     "name": "stdout",
     "output_type": "stream",
     "text": [
      "Epoch [13/15], Loss: 0.0069\n",
      "Epoch [13/15], Loss: 0.0066\n",
      "Epoch [13/15], Loss: 0.0067\n",
      "Epoch [13/15], Loss: 0.0066\n",
      "Epoch [13/15], Loss: 0.0068\n",
      "Epoch [13/15], Loss: 0.0064\n",
      "Epoch [13/15], Loss: 0.0068\n",
      "Epoch [13/15], Loss: 0.0068\n",
      "Epoch [13/15], Loss: 0.0063\n",
      "Epoch [13/15], Loss: 0.0072\n",
      "Epoch [13/15], Loss: 0.0068\n",
      "Epoch [13/15], Loss: 0.0067\n"
     ]
    },
    {
     "name": "stderr",
     "output_type": "stream",
     "text": [
      "\r",
      " 55%|███████████████████████▋                   | 27/49 [00:25<00:04,  4.58it/s]"
     ]
    },
    {
     "name": "stdout",
     "output_type": "stream",
     "text": [
      "Epoch [13/15], Loss: 0.0072\n",
      "Epoch [13/15], Loss: 0.0068\n",
      "Epoch [13/15], Loss: 0.0069\n",
      "Epoch [13/15], Loss: 0.0067\n"
     ]
    },
    {
     "name": "stderr",
     "output_type": "stream",
     "text": [
      " 63%|███████████████████████████▏               | 31/49 [00:46<00:28,  1.58s/it]"
     ]
    },
    {
     "name": "stdout",
     "output_type": "stream",
     "text": [
      "Epoch [13/15], Loss: 0.0068\n"
     ]
    },
    {
     "name": "stderr",
     "output_type": "stream",
     "text": [
      " 78%|█████████████████████████████████▎         | 38/49 [00:48<00:10,  1.09it/s]"
     ]
    },
    {
     "name": "stdout",
     "output_type": "stream",
     "text": [
      "Epoch [13/15], Loss: 0.0064\n",
      "Epoch [13/15], Loss: 0.0068\n",
      "Epoch [13/15], Loss: 0.0068\n",
      "Epoch [13/15], Loss: 0.0069\n",
      "Epoch [13/15], Loss: 0.0068\n",
      "Epoch [13/15], Loss: 0.0065\n",
      "Epoch [13/15], Loss: 0.0070\n",
      "Epoch [13/15], Loss: 0.0068\n",
      "Epoch [13/15], Loss: 0.0064\n",
      "Epoch [13/15], Loss: 0.0067\n",
      "Epoch [13/15], Loss: 0.0063\n",
      "Epoch [13/15], Loss: 0.0065\n"
     ]
    },
    {
     "name": "stderr",
     "output_type": "stream",
     "text": [
      "100%|███████████████████████████████████████████| 49/49 [00:49<00:00,  1.00s/it]\n"
     ]
    },
    {
     "name": "stdout",
     "output_type": "stream",
     "text": [
      "Epoch [13/15], Loss: 0.0070\n",
      "Epoch [13/15], Loss: 0.0064\n",
      "Epoch [13/15], Loss: 0.0068\n",
      "Epoch [13/15], Loss: 0.0066\n",
      "Epoch [13/15], Loss: 0.0066\n",
      "Epoch [13/15], Loss: 0.0065\n"
     ]
    },
    {
     "name": "stderr",
     "output_type": "stream",
     "text": [
      "  2%|▉                                           | 1/49 [00:22<18:22, 22.97s/it]"
     ]
    },
    {
     "name": "stdout",
     "output_type": "stream",
     "text": [
      "Epoch [14/15], Loss: 0.0064\n",
      "Epoch [14/15], Loss: 0.0067\n",
      "Epoch [14/15], Loss: 0.0067\n"
     ]
    },
    {
     "name": "stderr",
     "output_type": "stream",
     "text": [
      " 16%|███████▏                                    | 8/49 [00:23<01:14,  1.81s/it]"
     ]
    },
    {
     "name": "stdout",
     "output_type": "stream",
     "text": [
      "Epoch [14/15], Loss: 0.0066\n",
      "Epoch [14/15], Loss: 0.0068\n",
      "Epoch [14/15], Loss: 0.0068\n",
      "Epoch [14/15], Loss: 0.0073\n",
      "Epoch [14/15], Loss: 0.0065\n",
      "Epoch [14/15], Loss: 0.0064\n",
      "Epoch [14/15], Loss: 0.0067\n",
      "Epoch [14/15], Loss: 0.0066\n",
      "Epoch [14/15], Loss: 0.0068\n",
      "Epoch [14/15], Loss: 0.0069\n"
     ]
    },
    {
     "name": "stderr",
     "output_type": "stream",
     "text": [
      " 41%|█████████████████▌                         | 20/49 [00:24<00:13,  2.22it/s]"
     ]
    },
    {
     "name": "stdout",
     "output_type": "stream",
     "text": [
      "Epoch [14/15], Loss: 0.0069\n",
      "Epoch [14/15], Loss: 0.0069\n",
      "Epoch [14/15], Loss: 0.0067\n",
      "Epoch [14/15], Loss: 0.0068\n",
      "Epoch [14/15], Loss: 0.0067\n",
      "Epoch [14/15], Loss: 0.0067\n",
      "Epoch [14/15], Loss: 0.0072\n",
      "Epoch [14/15], Loss: 0.0068\n",
      "Epoch [14/15], Loss: 0.0068\n",
      "Epoch [14/15], Loss: 0.0066\n",
      "Epoch [14/15], Loss: 0.0073\n",
      "Epoch [14/15], Loss: 0.0070\n"
     ]
    },
    {
     "name": "stderr",
     "output_type": "stream",
     "text": [
      "\r",
      " 53%|██████████████████████▊                    | 26/49 [00:24<00:07,  3.17it/s]"
     ]
    },
    {
     "name": "stdout",
     "output_type": "stream",
     "text": [
      "Epoch [14/15], Loss: 0.0069\n",
      "Epoch [14/15], Loss: 0.0068\n",
      "Epoch [14/15], Loss: 0.0067\n",
      "Epoch [14/15], Loss: 0.0067\n",
      "Epoch [14/15], Loss: 0.0069\n"
     ]
    },
    {
     "name": "stderr",
     "output_type": "stream",
     "text": [
      " 73%|███████████████████████████████▌           | 36/49 [00:47<00:15,  1.16s/it]"
     ]
    },
    {
     "name": "stdout",
     "output_type": "stream",
     "text": [
      "Epoch [14/15], Loss: 0.0068\n",
      "Epoch [14/15], Loss: 0.0071\n",
      "Epoch [14/15], Loss: 0.0067\n",
      "Epoch [14/15], Loss: 0.0065\n",
      "Epoch [14/15], Loss: 0.0070\n",
      "Epoch [14/15], Loss: 0.0064\n",
      "Epoch [14/15], Loss: 0.0069\n",
      "Epoch [14/15], Loss: 0.0074\n",
      "Epoch [14/15], Loss: 0.0070\n",
      "Epoch [14/15], Loss: 0.0059\n",
      "Epoch [14/15], Loss: 0.0068\n"
     ]
    },
    {
     "name": "stderr",
     "output_type": "stream",
     "text": [
      "100%|███████████████████████████████████████████| 49/49 [00:48<00:00,  1.02it/s]\n"
     ]
    },
    {
     "name": "stdout",
     "output_type": "stream",
     "text": [
      "Epoch [14/15], Loss: 0.0069\n",
      "Epoch [14/15], Loss: 0.0070\n",
      "Epoch [14/15], Loss: 0.0066\n",
      "Epoch [14/15], Loss: 0.0065\n",
      "Epoch [14/15], Loss: 0.0070\n",
      "Epoch [14/15], Loss: 0.0066\n",
      "Epoch [14/15], Loss: 0.0063\n",
      "Epoch [14/15], Loss: 0.0067\n"
     ]
    },
    {
     "name": "stderr",
     "output_type": "stream",
     "text": [
      "  2%|▉                                           | 1/49 [00:23<18:51, 23.58s/it]"
     ]
    },
    {
     "name": "stdout",
     "output_type": "stream",
     "text": [
      "Epoch [15/15], Loss: 0.0067\n",
      "Epoch [15/15], Loss: 0.0065\n"
     ]
    },
    {
     "name": "stderr",
     "output_type": "stream",
     "text": [
      " 18%|████████                                    | 9/49 [00:23<01:00,  1.50s/it]"
     ]
    },
    {
     "name": "stdout",
     "output_type": "stream",
     "text": [
      "Epoch [15/15], Loss: 0.0069\n",
      "Epoch [15/15], Loss: 0.0066\n",
      "Epoch [15/15], Loss: 0.0066\n",
      "Epoch [15/15], Loss: 0.0068\n",
      "Epoch [15/15], Loss: 0.0068\n",
      "Epoch [15/15], Loss: 0.0071\n",
      "Epoch [15/15], Loss: 0.0070\n",
      "Epoch [15/15], Loss: 0.0066\n"
     ]
    },
    {
     "name": "stderr",
     "output_type": "stream",
     "text": [
      " 39%|████████████████▋                          | 19/49 [00:24<00:15,  2.00it/s]"
     ]
    },
    {
     "name": "stdout",
     "output_type": "stream",
     "text": [
      "Epoch [15/15], Loss: 0.0068\n",
      "Epoch [15/15], Loss: 0.0071\n",
      "Epoch [15/15], Loss: 0.0072\n",
      "Epoch [15/15], Loss: 0.0065\n",
      "Epoch [15/15], Loss: 0.0068\n",
      "Epoch [15/15], Loss: 0.0066\n",
      "Epoch [15/15], Loss: 0.0069\n",
      "Epoch [15/15], Loss: 0.0063\n",
      "Epoch [15/15], Loss: 0.0072\n",
      "Epoch [15/15], Loss: 0.0065\n",
      "Epoch [15/15], Loss: 0.0067\n",
      "Epoch [15/15], Loss: 0.0066\n"
     ]
    },
    {
     "name": "stderr",
     "output_type": "stream",
     "text": [
      "\r",
      " 51%|█████████████████████▉                     | 25/49 [00:24<00:07,  3.27it/s]"
     ]
    },
    {
     "name": "stdout",
     "output_type": "stream",
     "text": [
      "Epoch [15/15], Loss: 0.0070\n",
      "Epoch [15/15], Loss: 0.0063\n",
      "Epoch [15/15], Loss: 0.0073\n",
      "Epoch [15/15], Loss: 0.0067\n",
      "Epoch [15/15], Loss: 0.0066\n",
      "Epoch [15/15], Loss: 0.0067\n",
      "Epoch [15/15], Loss: 0.0062\n",
      "Epoch [15/15], Loss: 0.0067\n"
     ]
    },
    {
     "name": "stderr",
     "output_type": "stream",
     "text": [
      " 69%|█████████████████████████████▊             | 34/49 [00:48<00:19,  1.31s/it]"
     ]
    },
    {
     "name": "stdout",
     "output_type": "stream",
     "text": [
      "Epoch [15/15], Loss: 0.0068\n",
      "Epoch [15/15], Loss: 0.0067\n",
      "Epoch [15/15], Loss: 0.0066\n",
      "Epoch [15/15], Loss: 0.0069\n"
     ]
    },
    {
     "name": "stderr",
     "output_type": "stream",
     "text": [
      " 90%|██████████████████████████████████████▌    | 44/49 [00:49<00:03,  1.60it/s]"
     ]
    },
    {
     "name": "stdout",
     "output_type": "stream",
     "text": [
      "Epoch [15/15], Loss: 0.0063\n",
      "Epoch [15/15], Loss: 0.0071\n",
      "Epoch [15/15], Loss: 0.0068\n",
      "Epoch [15/15], Loss: 0.0066\n",
      "Epoch [15/15], Loss: 0.0068\n",
      "Epoch [15/15], Loss: 0.0067\n",
      "Epoch [15/15], Loss: 0.0071\n",
      "Epoch [15/15], Loss: 0.0071\n",
      "Epoch [15/15], Loss: 0.0066\n",
      "Epoch [15/15], Loss: 0.0065\n",
      "Epoch [15/15], Loss: 0.0065\n",
      "Epoch [15/15], Loss: 0.0069\n"
     ]
    },
    {
     "name": "stderr",
     "output_type": "stream",
     "text": [
      "\r",
      "100%|███████████████████████████████████████████| 49/49 [00:49<00:00,  1.01s/it]"
     ]
    },
    {
     "name": "stdout",
     "output_type": "stream",
     "text": [
      "Epoch [15/15], Loss: 0.0069\n",
      "Epoch [15/15], Loss: 0.0073\n",
      "Epoch [15/15], Loss: 0.0070\n"
     ]
    },
    {
     "name": "stderr",
     "output_type": "stream",
     "text": [
      "\n"
     ]
    }
   ],
   "source": [
    "train_loader = dataloader\n",
    "\n",
    "losses = []\n",
    "for epoch in range(num_epochs):\n",
    "    for data in tqdm(train_loader):\n",
    "        images = data\n",
    "        images = images.view(images.size(0), -1)\n",
    "        reconstructions = model(images)\n",
    "        loss = nn.MSELoss()(reconstructions, images)\n",
    "        optimizer.zero_grad()\n",
    "        loss.backward()\n",
    "        losses.append(loss.item())\n",
    "        optimizer.step()\n",
    "        print('Epoch [{}/{}], Loss: {:.4f}'.format(epoch+1, num_epochs, loss.item()))"
   ]
  },
  {
   "cell_type": "markdown",
   "id": "e05d9489",
   "metadata": {},
   "source": [
    "## Recurrent AE"
   ]
  },
  {
   "cell_type": "code",
   "execution_count": 17,
   "id": "fb61d13c",
   "metadata": {},
   "outputs": [],
   "source": [
    "class RecAutoencoder(nn.Module):\n",
    "    def __init__(self, input_size, hidden_size, seq_len):\n",
    "        super(RecAutoencoder, self).__init__()\n",
    "        self.hidden_size = hidden_size\n",
    "        self.encoder = nn.RNN(input_size, hidden_size, batch_first=True)\n",
    "        self.decoder = nn.Linear(hidden_size, input_size)\n",
    "\n",
    "    def forward(self, x):\n",
    "        # Initialize hidden state\n",
    "        h0 = torch.zeros(1, x.size(0), self.hidden_size).to(x.device)\n",
    "\n",
    "        # Feed input through the encoder RNN\n",
    "        out, _ = self.encoder(x, h0)\n",
    "\n",
    "        # Take the last output of the encoder as the hidden state for the decoder\n",
    "#         hidden = out[:, -1, :]\n",
    "\n",
    "        # Feed the hidden state through the decoder linear layer\n",
    "#         out = self.decoder(out)\n",
    "        B,S,H = out.shape\n",
    "        out = out.reshape(B*S,H)\n",
    "        # apply the linear layer on each of the steps of the RNN output.\n",
    "        out = self.decoder(out)\n",
    "\n",
    "        return out.view(B,S,input_size)"
   ]
  },
  {
   "cell_type": "code",
   "execution_count": 18,
   "id": "6a73c424",
   "metadata": {},
   "outputs": [],
   "source": [
    "def perturb_model(model, pr, p_sigma):\n",
    "    # pr: perturb rate. comparable with learning rate and decay rate.\n",
    "#                 w_new = w_old*(1-pr) + pr*N(0,1)\n",
    "    for (name, param) in model.named_parameters():\n",
    "        if 'weight' in name:   # just weights\n",
    "            param.data = (1-pr) * param.data + \\\n",
    "            pr* torch.normal(0., p_sigma, size=param.shape)\n",
    "    return\n",
    "            \n",
    "#         nc = param.shape[0]  # cols\n",
    "#         nr = param.shape[1]  # rows\n",
    "#         for i in range(nr):\n",
    "#             for j in range(nc):\n",
    "\n",
    "#                 param.data[j][i] = \\\n",
    "#                 ((1-pr) * param.data[j][i]) + \\\n",
    "#                 pr* T.normal(0., 1, size=(1,1))\n",
    "#     return"
   ]
  },
  {
   "cell_type": "code",
   "execution_count": 19,
   "id": "1343bb98",
   "metadata": {},
   "outputs": [],
   "source": [
    "# pr = 1e-3\n"
   ]
  },
  {
   "cell_type": "code",
   "execution_count": 21,
   "id": "07f6b51e",
   "metadata": {},
   "outputs": [],
   "source": [
    "input_size = 8*8\n",
    "hidden_size = 16 #64\n",
    "lr = 5e-3\n",
    "dr = 1e-3 #1e-3\n",
    "pr = 1e-4 #1e-3\n",
    "p_sigma = 1./hidden_size\n",
    "# batch_size = 64\n",
    "num_epochs = 10\n",
    "\n",
    "# also change: normalize the input around 0"
   ]
  },
  {
   "cell_type": "code",
   "execution_count": 131,
   "id": "748876ea",
   "metadata": {},
   "outputs": [],
   "source": [
    "model = RecAutoencoder(input_size, hidden_size, seq_len)\n",
    "optimizer = torch.optim.Adam(model.parameters(), lr=lr, weight_decay=dr)"
   ]
  },
  {
   "cell_type": "code",
   "execution_count": 132,
   "id": "890677e6",
   "metadata": {},
   "outputs": [
    {
     "name": "stderr",
     "output_type": "stream",
     "text": [
      "  0%|                                                    | 0/10 [00:00<?, ?it/s]\n",
      "  0%|                                                    | 0/98 [00:00<?, ?it/s]\u001b[A\n",
      "  1%|▍                                           | 1/98 [00:16<26:14, 16.23s/it]\u001b[A"
     ]
    },
    {
     "name": "stdout",
     "output_type": "stream",
     "text": [
      "Epoch [1/10], Loss: 0.2896\n"
     ]
    },
    {
     "name": "stderr",
     "output_type": "stream",
     "text": [
      "\n",
      "  2%|▉                                           | 2/98 [00:17<12:03,  7.54s/it]\u001b[A\n",
      "  5%|██▏                                         | 5/98 [00:17<03:21,  2.17s/it]\u001b[A"
     ]
    },
    {
     "name": "stdout",
     "output_type": "stream",
     "text": [
      "Epoch [1/10], Loss: 0.2468\n",
      "Epoch [1/10], Loss: 0.2355\n",
      "Epoch [1/10], Loss: 0.2114\n",
      "Epoch [1/10], Loss: 0.2088\n",
      "Epoch [1/10], Loss: 0.1772\n",
      "Epoch [1/10], Loss: 0.1892\n"
     ]
    },
    {
     "name": "stderr",
     "output_type": "stream",
     "text": [
      "\n",
      "  8%|███▌                                        | 8/98 [00:17<01:38,  1.09s/it]\u001b[A\n",
      " 11%|████▊                                      | 11/98 [00:18<00:56,  1.54it/s]\u001b[A"
     ]
    },
    {
     "name": "stdout",
     "output_type": "stream",
     "text": [
      "Epoch [1/10], Loss: 0.1702\n",
      "Epoch [1/10], Loss: 0.1577\n",
      "Epoch [1/10], Loss: 0.1386\n",
      "Epoch [1/10], Loss: 0.1269\n",
      "Epoch [1/10], Loss: 0.1116\n",
      "Epoch [1/10], Loss: 0.1117\n"
     ]
    },
    {
     "name": "stderr",
     "output_type": "stream",
     "text": [
      "\n",
      " 14%|██████▏                                    | 14/98 [00:18<00:35,  2.39it/s]\u001b[A\n",
      " 17%|███████▍                                   | 17/98 [00:18<00:23,  3.51it/s]\u001b[A"
     ]
    },
    {
     "name": "stdout",
     "output_type": "stream",
     "text": [
      "Epoch [1/10], Loss: 0.1024\n",
      "Epoch [1/10], Loss: 0.0946\n",
      "Epoch [1/10], Loss: 0.0843\n",
      "Epoch [1/10], Loss: 0.0823\n",
      "Epoch [1/10], Loss: 0.0780\n",
      "Epoch [1/10], Loss: 0.0637\n"
     ]
    },
    {
     "name": "stderr",
     "output_type": "stream",
     "text": [
      "\n",
      " 20%|████████▊                                  | 20/98 [00:18<00:15,  4.94it/s]\u001b[A\n",
      " 23%|██████████                                 | 23/98 [00:18<00:11,  6.68it/s]\u001b[A"
     ]
    },
    {
     "name": "stdout",
     "output_type": "stream",
     "text": [
      "Epoch [1/10], Loss: 0.0638\n",
      "Epoch [1/10], Loss: 0.0664\n",
      "Epoch [1/10], Loss: 0.0567\n",
      "Epoch [1/10], Loss: 0.0583\n",
      "Epoch [1/10], Loss: 0.0533\n",
      "Epoch [1/10], Loss: 0.0520\n"
     ]
    },
    {
     "name": "stderr",
     "output_type": "stream",
     "text": [
      "\n",
      " 28%|███████████▊                               | 27/98 [00:18<00:07,  9.50it/s]\u001b[A\n",
      " 31%|█████████████▏                             | 30/98 [00:18<00:05, 11.75it/s]\u001b[A"
     ]
    },
    {
     "name": "stdout",
     "output_type": "stream",
     "text": [
      "Epoch [1/10], Loss: 0.0488\n",
      "Epoch [1/10], Loss: 0.0532\n",
      "Epoch [1/10], Loss: 0.0497\n",
      "Epoch [1/10], Loss: 0.0499\n",
      "Epoch [1/10], Loss: 0.0430\n",
      "Epoch [1/10], Loss: 0.0436\n"
     ]
    },
    {
     "name": "stderr",
     "output_type": "stream",
     "text": [
      "\n",
      " 31%|█████████████▏                             | 30/98 [00:31<00:05, 11.75it/s]\u001b[A\n",
      " 33%|██████████████                             | 32/98 [00:31<01:32,  1.41s/it]\u001b[A\n",
      " 35%|██████████████▉                            | 34/98 [00:31<01:09,  1.09s/it]\u001b[A"
     ]
    },
    {
     "name": "stdout",
     "output_type": "stream",
     "text": [
      "Epoch [1/10], Loss: 0.0446\n",
      "Epoch [1/10], Loss: 0.0399\n",
      "Epoch [1/10], Loss: 0.0392\n",
      "Epoch [1/10], Loss: 0.0366\n",
      "Epoch [1/10], Loss: 0.0377\n"
     ]
    },
    {
     "name": "stderr",
     "output_type": "stream",
     "text": [
      "\n",
      " 38%|████████████████▏                          | 37/98 [00:31<00:44,  1.36it/s]\u001b[A"
     ]
    },
    {
     "name": "stdout",
     "output_type": "stream",
     "text": [
      "Epoch [1/10], Loss: 0.0402\n",
      "Epoch [1/10], Loss: 0.0374\n",
      "Epoch [1/10], Loss: 0.0343\n"
     ]
    },
    {
     "name": "stderr",
     "output_type": "stream",
     "text": [
      "\n",
      " 41%|█████████████████▌                         | 40/98 [00:32<00:33,  1.71it/s]\u001b[A\n",
      " 44%|██████████████████▊                        | 43/98 [00:32<00:22,  2.44it/s]\u001b[A"
     ]
    },
    {
     "name": "stdout",
     "output_type": "stream",
     "text": [
      "Epoch [1/10], Loss: 0.0341\n",
      "Epoch [1/10], Loss: 0.0337\n",
      "Epoch [1/10], Loss: 0.0337\n",
      "Epoch [1/10], Loss: 0.0296\n",
      "Epoch [1/10], Loss: 0.0310\n",
      "Epoch [1/10], Loss: 0.0320\n"
     ]
    },
    {
     "name": "stderr",
     "output_type": "stream",
     "text": [
      "\n",
      " 47%|████████████████████▏                      | 46/98 [00:32<00:15,  3.40it/s]\u001b[A\n",
      " 50%|█████████████████████▌                     | 49/98 [00:32<00:10,  4.64it/s]\u001b[A"
     ]
    },
    {
     "name": "stdout",
     "output_type": "stream",
     "text": [
      "Epoch [1/10], Loss: 0.0356\n",
      "Epoch [1/10], Loss: 0.0318\n",
      "Epoch [1/10], Loss: 0.0286\n",
      "Epoch [1/10], Loss: 0.0272\n",
      "Epoch [1/10], Loss: 0.0251\n",
      "Epoch [1/10], Loss: 0.0313\n"
     ]
    },
    {
     "name": "stderr",
     "output_type": "stream",
     "text": [
      "\n",
      " 53%|██████████████████████▊                    | 52/98 [00:32<00:07,  6.22it/s]\u001b[A\n",
      " 56%|████████████████████████▏                  | 55/98 [00:32<00:05,  8.16it/s]\u001b[A"
     ]
    },
    {
     "name": "stdout",
     "output_type": "stream",
     "text": [
      "Epoch [1/10], Loss: 0.0263\n",
      "Epoch [1/10], Loss: 0.0247\n",
      "Epoch [1/10], Loss: 0.0283\n",
      "Epoch [1/10], Loss: 0.0273\n",
      "Epoch [1/10], Loss: 0.0245\n",
      "Epoch [1/10], Loss: 0.0247\n"
     ]
    },
    {
     "name": "stderr",
     "output_type": "stream",
     "text": [
      "\n",
      " 59%|█████████████████████████▍                 | 58/98 [00:32<00:03, 10.32it/s]\u001b[A"
     ]
    },
    {
     "name": "stdout",
     "output_type": "stream",
     "text": [
      "Epoch [1/10], Loss: 0.0280\n",
      "Epoch [1/10], Loss: 0.0248\n",
      "Epoch [1/10], Loss: 0.0247\n"
     ]
    },
    {
     "name": "stderr",
     "output_type": "stream",
     "text": [
      "\n",
      " 62%|██████████████████████████▊                | 61/98 [00:42<00:37,  1.01s/it]\u001b[A"
     ]
    },
    {
     "name": "stdout",
     "output_type": "stream",
     "text": [
      "Epoch [1/10], Loss: 0.0245\n"
     ]
    },
    {
     "name": "stderr",
     "output_type": "stream",
     "text": [
      "\n",
      " 64%|███████████████████████████▋               | 63/98 [00:43<00:34,  1.01it/s]\u001b[A\n",
      " 68%|█████████████████████████████▍             | 67/98 [00:44<00:19,  1.62it/s]\u001b[A"
     ]
    },
    {
     "name": "stdout",
     "output_type": "stream",
     "text": [
      "Epoch [1/10], Loss: 0.0251\n",
      "Epoch [1/10], Loss: 0.0248\n",
      "Epoch [1/10], Loss: 0.0239\n",
      "Epoch [1/10], Loss: 0.0240\n",
      "Epoch [1/10], Loss: 0.0234\n",
      "Epoch [1/10], Loss: 0.0212\n",
      "Epoch [1/10], Loss: 0.0209\n"
     ]
    },
    {
     "name": "stderr",
     "output_type": "stream",
     "text": [
      "\n",
      " 71%|██████████████████████████████▋            | 70/98 [00:44<00:12,  2.19it/s]\u001b[A"
     ]
    },
    {
     "name": "stdout",
     "output_type": "stream",
     "text": [
      "Epoch [1/10], Loss: 0.0219\n",
      "Epoch [1/10], Loss: 0.0220\n",
      "Epoch [1/10], Loss: 0.0219\n"
     ]
    },
    {
     "name": "stderr",
     "output_type": "stream",
     "text": [
      "\n",
      " 74%|████████████████████████████████           | 73/98 [00:44<00:08,  3.01it/s]\u001b[A\n",
      " 78%|█████████████████████████████████▎         | 76/98 [00:44<00:05,  4.11it/s]\u001b[A"
     ]
    },
    {
     "name": "stdout",
     "output_type": "stream",
     "text": [
      "Epoch [1/10], Loss: 0.0220\n",
      "Epoch [1/10], Loss: 0.0230\n",
      "Epoch [1/10], Loss: 0.0223\n",
      "Epoch [1/10], Loss: 0.0228\n",
      "Epoch [1/10], Loss: 0.0219\n",
      "Epoch [1/10], Loss: 0.0209\n"
     ]
    },
    {
     "name": "stderr",
     "output_type": "stream",
     "text": [
      "\n",
      " 82%|███████████████████████████████████        | 80/98 [00:44<00:03,  5.97it/s]\u001b[A\n",
      " 86%|████████████████████████████████████▊      | 84/98 [00:44<00:01,  8.25it/s]\u001b[A"
     ]
    },
    {
     "name": "stdout",
     "output_type": "stream",
     "text": [
      "Epoch [1/10], Loss: 0.0220\n",
      "Epoch [1/10], Loss: 0.0218\n",
      "Epoch [1/10], Loss: 0.0221\n",
      "Epoch [1/10], Loss: 0.0214\n",
      "Epoch [1/10], Loss: 0.0193\n",
      "Epoch [1/10], Loss: 0.0220\n",
      "Epoch [1/10], Loss: 0.0198\n"
     ]
    },
    {
     "name": "stderr",
     "output_type": "stream",
     "text": [
      "\n",
      " 90%|██████████████████████████████████████▌    | 88/98 [00:44<00:00, 10.92it/s]\u001b[A"
     ]
    },
    {
     "name": "stdout",
     "output_type": "stream",
     "text": [
      "Epoch [1/10], Loss: 0.0198\n",
      "Epoch [1/10], Loss: 0.0201\n",
      "Epoch [1/10], Loss: 0.0199\n",
      "Epoch [1/10], Loss: 0.0217\n",
      "Epoch [1/10], Loss: 0.0205\n",
      "Epoch [1/10], Loss: 0.0204\n"
     ]
    },
    {
     "name": "stderr",
     "output_type": "stream",
     "text": [
      "\n",
      " 93%|███████████████████████████████████████▉   | 91/98 [00:54<00:06,  1.08it/s]\u001b[A"
     ]
    },
    {
     "name": "stdout",
     "output_type": "stream",
     "text": [
      "Epoch [1/10], Loss: 0.0195\n"
     ]
    },
    {
     "name": "stderr",
     "output_type": "stream",
     "text": [
      "\n",
      " 96%|█████████████████████████████████████████▏ | 94/98 [00:56<00:03,  1.20it/s]\u001b[A\n",
      " 99%|██████████████████████████████████████████▌| 97/98 [00:56<00:00,  1.64it/s]\u001b[A"
     ]
    },
    {
     "name": "stdout",
     "output_type": "stream",
     "text": [
      "Epoch [1/10], Loss: 0.0188\n",
      "Epoch [1/10], Loss: 0.0186\n",
      "Epoch [1/10], Loss: 0.0205\n",
      "Epoch [1/10], Loss: 0.0167\n",
      "Epoch [1/10], Loss: 0.0187\n",
      "Epoch [1/10], Loss: 0.0192\n"
     ]
    },
    {
     "name": "stderr",
     "output_type": "stream",
     "text": [
      "100%|███████████████████████████████████████████| 98/98 [00:56<00:00,  1.72it/s]\n",
      " 10%|████▍                                       | 1/10 [00:56<08:31, 56.87s/it]"
     ]
    },
    {
     "name": "stdout",
     "output_type": "stream",
     "text": [
      "Epoch [1/10], Loss: 0.0178\n"
     ]
    },
    {
     "name": "stderr",
     "output_type": "stream",
     "text": [
      "\n",
      "  0%|                                                    | 0/98 [00:00<?, ?it/s]\u001b[A\n",
      "  1%|▍                                           | 1/98 [00:10<17:19, 10.72s/it]\u001b[A"
     ]
    },
    {
     "name": "stdout",
     "output_type": "stream",
     "text": [
      "Epoch [2/10], Loss: 0.0177\n",
      "Epoch [2/10], Loss: 0.0220\n"
     ]
    },
    {
     "name": "stderr",
     "output_type": "stream",
     "text": [
      "\n",
      "  3%|█▎                                          | 3/98 [00:11<04:37,  2.92s/it]\u001b[A\n",
      "  6%|██▋                                         | 6/98 [00:11<01:46,  1.16s/it]\u001b[A"
     ]
    },
    {
     "name": "stdout",
     "output_type": "stream",
     "text": [
      "Epoch [2/10], Loss: 0.0162\n",
      "Epoch [2/10], Loss: 0.0188\n",
      "Epoch [2/10], Loss: 0.0183\n",
      "Epoch [2/10], Loss: 0.0176\n"
     ]
    },
    {
     "name": "stderr",
     "output_type": "stream",
     "text": [
      "\n",
      "  8%|███▌                                        | 8/98 [00:11<01:08,  1.31it/s]\u001b[A"
     ]
    },
    {
     "name": "stdout",
     "output_type": "stream",
     "text": [
      "Epoch [2/10], Loss: 0.0178\n",
      "Epoch [2/10], Loss: 0.0189\n",
      "Epoch [2/10], Loss: 0.0188\n"
     ]
    },
    {
     "name": "stderr",
     "output_type": "stream",
     "text": [
      "\n",
      " 10%|████▍                                      | 10/98 [00:11<00:46,  1.88it/s]\u001b[A"
     ]
    },
    {
     "name": "stdout",
     "output_type": "stream",
     "text": [
      "Epoch [2/10], Loss: 0.0159\n",
      "Epoch [2/10], Loss: 0.0183\n",
      "Epoch [2/10], Loss: 0.0162\n"
     ]
    },
    {
     "name": "stderr",
     "output_type": "stream",
     "text": [
      "\n",
      " 12%|█████▎                                     | 12/98 [00:11<00:33,  2.57it/s]\u001b[A\n",
      " 14%|██████▏                                    | 14/98 [00:11<00:24,  3.44it/s]\u001b[A"
     ]
    },
    {
     "name": "stdout",
     "output_type": "stream",
     "text": [
      "Epoch [2/10], Loss: 0.0173\n",
      "Epoch [2/10], Loss: 0.0169\n"
     ]
    },
    {
     "name": "stderr",
     "output_type": "stream",
     "text": [
      "\n",
      " 16%|███████                                    | 16/98 [00:12<00:18,  4.44it/s]\u001b[A"
     ]
    },
    {
     "name": "stdout",
     "output_type": "stream",
     "text": [
      "Epoch [2/10], Loss: 0.0173\n",
      "Epoch [2/10], Loss: 0.0159\n",
      "Epoch [2/10], Loss: 0.0162\n"
     ]
    },
    {
     "name": "stderr",
     "output_type": "stream",
     "text": [
      "\n",
      " 18%|███████▉                                   | 18/98 [00:12<00:14,  5.59it/s]\u001b[A\n",
      " 20%|████████▊                                  | 20/98 [00:12<00:11,  6.81it/s]\u001b[A"
     ]
    },
    {
     "name": "stdout",
     "output_type": "stream",
     "text": [
      "Epoch [2/10], Loss: 0.0186\n",
      "Epoch [2/10], Loss: 0.0181\n",
      "Epoch [2/10], Loss: 0.0149\n"
     ]
    },
    {
     "name": "stderr",
     "output_type": "stream",
     "text": [
      "\n",
      " 22%|█████████▋                                 | 22/98 [00:12<00:09,  8.00it/s]\u001b[A\n",
      " 24%|██████████▌                                | 24/98 [00:12<00:07,  9.57it/s]\u001b[A"
     ]
    },
    {
     "name": "stdout",
     "output_type": "stream",
     "text": [
      "Epoch [2/10], Loss: 0.0162\n",
      "Epoch [2/10], Loss: 0.0170\n",
      "Epoch [2/10], Loss: 0.0154\n",
      "Epoch [2/10], Loss: 0.0168\n"
     ]
    },
    {
     "name": "stderr",
     "output_type": "stream",
     "text": [
      "\n",
      " 28%|███████████▊                               | 27/98 [00:12<00:05, 12.74it/s]\u001b[A"
     ]
    },
    {
     "name": "stdout",
     "output_type": "stream",
     "text": [
      "Epoch [2/10], Loss: 0.0176\n",
      "Epoch [2/10], Loss: 0.0154\n",
      "Epoch [2/10], Loss: 0.0151\n",
      "Epoch [2/10], Loss: 0.0164\n",
      "Epoch [2/10], Loss: 0.0164\n",
      "Epoch [2/10], Loss: 0.0167\n"
     ]
    },
    {
     "name": "stderr",
     "output_type": "stream",
     "text": [
      "\n",
      " 32%|█████████████▌                             | 31/98 [00:20<00:55,  1.21it/s]\u001b[A"
     ]
    },
    {
     "name": "stdout",
     "output_type": "stream",
     "text": [
      "Epoch [2/10], Loss: 0.0158\n",
      "Epoch [2/10], Loss: 0.0149\n"
     ]
    },
    {
     "name": "stderr",
     "output_type": "stream",
     "text": [
      "\n",
      " 34%|██████████████▍                            | 33/98 [00:20<00:45,  1.42it/s]\u001b[A\n",
      " 37%|███████████████▊                           | 36/98 [00:20<00:29,  2.08it/s]\u001b[A"
     ]
    },
    {
     "name": "stdout",
     "output_type": "stream",
     "text": [
      "Epoch [2/10], Loss: 0.0164\n",
      "Epoch [2/10], Loss: 0.0164\n",
      "Epoch [2/10], Loss: 0.0161\n",
      "Epoch [2/10], Loss: 0.0152\n",
      "Epoch [2/10], Loss: 0.0152\n",
      "Epoch [2/10], Loss: 0.0164\n"
     ]
    },
    {
     "name": "stderr",
     "output_type": "stream",
     "text": [
      "\n",
      " 40%|█████████████████                          | 39/98 [00:20<00:19,  2.97it/s]\u001b[A\n",
      " 43%|██████████████████▍                        | 42/98 [00:21<00:13,  4.15it/s]\u001b[A"
     ]
    },
    {
     "name": "stdout",
     "output_type": "stream",
     "text": [
      "Epoch [2/10], Loss: 0.0148\n",
      "Epoch [2/10], Loss: 0.0152\n",
      "Epoch [2/10], Loss: 0.0150\n",
      "Epoch [2/10], Loss: 0.0138\n",
      "Epoch [2/10], Loss: 0.0161\n",
      "Epoch [2/10], Loss: 0.0149\n"
     ]
    },
    {
     "name": "stderr",
     "output_type": "stream",
     "text": [
      "\n",
      " 46%|███████████████████▋                       | 45/98 [00:21<00:09,  5.66it/s]\u001b[A\n",
      " 49%|█████████████████████                      | 48/98 [00:21<00:06,  7.50it/s]\u001b[A"
     ]
    },
    {
     "name": "stdout",
     "output_type": "stream",
     "text": [
      "Epoch [2/10], Loss: 0.0147\n",
      "Epoch [2/10], Loss: 0.0147\n",
      "Epoch [2/10], Loss: 0.0153\n",
      "Epoch [2/10], Loss: 0.0134\n",
      "Epoch [2/10], Loss: 0.0157\n",
      "Epoch [2/10], Loss: 0.0144\n"
     ]
    },
    {
     "name": "stderr",
     "output_type": "stream",
     "text": [
      "\n",
      " 52%|██████████████████████▍                    | 51/98 [00:21<00:04,  9.64it/s]\u001b[A\n",
      " 55%|███████████████████████▋                   | 54/98 [00:21<00:03, 12.08it/s]\u001b[A"
     ]
    },
    {
     "name": "stdout",
     "output_type": "stream",
     "text": [
      "Epoch [2/10], Loss: 0.0153\n",
      "Epoch [2/10], Loss: 0.0142\n",
      "Epoch [2/10], Loss: 0.0139\n",
      "Epoch [2/10], Loss: 0.0147\n",
      "Epoch [2/10], Loss: 0.0148\n",
      "Epoch [2/10], Loss: 0.0140\n"
     ]
    },
    {
     "name": "stderr",
     "output_type": "stream",
     "text": [
      "\n",
      " 59%|█████████████████████████▍                 | 58/98 [00:21<00:02, 15.51it/s]\u001b[A"
     ]
    },
    {
     "name": "stdout",
     "output_type": "stream",
     "text": [
      "Epoch [2/10], Loss: 0.0157\n",
      "Epoch [2/10], Loss: 0.0142\n",
      "Epoch [2/10], Loss: 0.0146\n",
      "Epoch [2/10], Loss: 0.0144\n"
     ]
    },
    {
     "name": "stderr",
     "output_type": "stream",
     "text": [
      "\n",
      " 62%|██████████████████████████▊                | 61/98 [00:30<00:30,  1.19it/s]\u001b[A"
     ]
    },
    {
     "name": "stdout",
     "output_type": "stream",
     "text": [
      "Epoch [2/10], Loss: 0.0144\n",
      "Epoch [2/10], Loss: 0.0140\n"
     ]
    },
    {
     "name": "stderr",
     "output_type": "stream",
     "text": [
      "\n",
      " 64%|███████████████████████████▋               | 63/98 [00:30<00:25,  1.36it/s]\u001b[A\n",
      " 67%|████████████████████████████▉              | 66/98 [00:30<00:16,  1.93it/s]\u001b[A"
     ]
    },
    {
     "name": "stdout",
     "output_type": "stream",
     "text": [
      "Epoch [2/10], Loss: 0.0134\n",
      "Epoch [2/10], Loss: 0.0117\n",
      "Epoch [2/10], Loss: 0.0145\n",
      "Epoch [2/10], Loss: 0.0144\n",
      "Epoch [2/10], Loss: 0.0137\n",
      "Epoch [2/10], Loss: 0.0144\n"
     ]
    },
    {
     "name": "stderr",
     "output_type": "stream",
     "text": [
      "\n",
      " 70%|██████████████████████████████▎            | 69/98 [00:30<00:10,  2.71it/s]\u001b[A\n",
      " 74%|████████████████████████████████           | 73/98 [00:31<00:06,  4.09it/s]\u001b[A"
     ]
    },
    {
     "name": "stdout",
     "output_type": "stream",
     "text": [
      "Epoch [2/10], Loss: 0.0163\n",
      "Epoch [2/10], Loss: 0.0141\n",
      "Epoch [2/10], Loss: 0.0145\n",
      "Epoch [2/10], Loss: 0.0120\n",
      "Epoch [2/10], Loss: 0.0132\n",
      "Epoch [2/10], Loss: 0.0149\n",
      "Epoch [2/10], Loss: 0.0148\n"
     ]
    },
    {
     "name": "stderr",
     "output_type": "stream",
     "text": [
      "\n",
      " 79%|█████████████████████████████████▊         | 77/98 [00:31<00:03,  5.86it/s]\u001b[A\n",
      " 83%|███████████████████████████████████▌       | 81/98 [00:31<00:02,  8.05it/s]\u001b[A"
     ]
    },
    {
     "name": "stdout",
     "output_type": "stream",
     "text": [
      "Epoch [2/10], Loss: 0.0132\n",
      "Epoch [2/10], Loss: 0.0130\n",
      "Epoch [2/10], Loss: 0.0144\n",
      "Epoch [2/10], Loss: 0.0136\n",
      "Epoch [2/10], Loss: 0.0136\n",
      "Epoch [2/10], Loss: 0.0149\n",
      "Epoch [2/10], Loss: 0.0133\n"
     ]
    },
    {
     "name": "stderr",
     "output_type": "stream",
     "text": [
      "\n",
      " 87%|█████████████████████████████████████▎     | 85/98 [00:31<00:01, 10.62it/s]\u001b[A\n",
      " 91%|███████████████████████████████████████    | 89/98 [00:31<00:00, 13.42it/s]\u001b[A"
     ]
    },
    {
     "name": "stdout",
     "output_type": "stream",
     "text": [
      "Epoch [2/10], Loss: 0.0162\n",
      "Epoch [2/10], Loss: 0.0147\n",
      "Epoch [2/10], Loss: 0.0149\n",
      "Epoch [2/10], Loss: 0.0142\n",
      "Epoch [2/10], Loss: 0.0134\n",
      "Epoch [2/10], Loss: 0.0124\n",
      "Epoch [2/10], Loss: 0.0131\n",
      "Epoch [2/10], Loss: 0.0139\n",
      "Epoch [2/10], Loss: 0.0133\n",
      "Epoch [2/10], Loss: 0.0135\n"
     ]
    },
    {
     "name": "stderr",
     "output_type": "stream",
     "text": [
      "\n",
      " 95%|████████████████████████████████████████▊  | 93/98 [00:41<00:04,  1.22it/s]\u001b[A\n",
      " 99%|██████████████████████████████████████████▌| 97/98 [00:41<00:00,  1.73it/s]\u001b[A"
     ]
    },
    {
     "name": "stdout",
     "output_type": "stream",
     "text": [
      "Epoch [2/10], Loss: 0.0129\n",
      "Epoch [2/10], Loss: 0.0138\n",
      "Epoch [2/10], Loss: 0.0120\n",
      "Epoch [2/10], Loss: 0.0135\n",
      "Epoch [2/10], Loss: 0.0122\n",
      "Epoch [2/10], Loss: 0.0129\n"
     ]
    },
    {
     "name": "stderr",
     "output_type": "stream",
     "text": [
      "100%|███████████████████████████████████████████| 98/98 [00:41<00:00,  2.34it/s]\n",
      " 20%|████████▊                                   | 2/10 [01:38<06:24, 48.01s/it]\n",
      "  0%|                                                    | 0/98 [00:00<?, ?it/s]\u001b[A\n",
      "  1%|▍                                           | 1/98 [00:11<18:28, 11.43s/it]\u001b[A\n",
      "  3%|█▎                                          | 3/98 [00:11<04:45,  3.00s/it]\u001b[A"
     ]
    },
    {
     "name": "stdout",
     "output_type": "stream",
     "text": [
      "Epoch [3/10], Loss: 0.0142\n",
      "Epoch [3/10], Loss: 0.0123\n",
      "Epoch [3/10], Loss: 0.0128\n",
      "Epoch [3/10], Loss: 0.0114\n"
     ]
    },
    {
     "name": "stderr",
     "output_type": "stream",
     "text": [
      "\n",
      "  5%|██▏                                         | 5/98 [00:11<02:18,  1.49s/it]\u001b[A\n",
      "  7%|███▏                                        | 7/98 [00:11<01:20,  1.13it/s]\u001b[A"
     ]
    },
    {
     "name": "stdout",
     "output_type": "stream",
     "text": [
      "Epoch [3/10], Loss: 0.0149\n",
      "Epoch [3/10], Loss: 0.0118\n",
      "Epoch [3/10], Loss: 0.0149\n",
      "Epoch [3/10], Loss: 0.0128\n"
     ]
    },
    {
     "name": "stderr",
     "output_type": "stream",
     "text": [
      "\n",
      "  9%|████                                        | 9/98 [00:11<00:50,  1.76it/s]\u001b[A\n",
      " 12%|█████▎                                     | 12/98 [00:12<00:28,  2.97it/s]\u001b[A"
     ]
    },
    {
     "name": "stdout",
     "output_type": "stream",
     "text": [
      "Epoch [3/10], Loss: 0.0131\n",
      "Epoch [3/10], Loss: 0.0122\n",
      "Epoch [3/10], Loss: 0.0136\n",
      "Epoch [3/10], Loss: 0.0137\n",
      "Epoch [3/10], Loss: 0.0123\n"
     ]
    },
    {
     "name": "stderr",
     "output_type": "stream",
     "text": [
      "\n",
      " 14%|██████▏                                    | 14/98 [00:12<00:21,  3.98it/s]\u001b[A\n",
      " 17%|███████▍                                   | 17/98 [00:12<00:13,  5.84it/s]\u001b[A"
     ]
    },
    {
     "name": "stdout",
     "output_type": "stream",
     "text": [
      "Epoch [3/10], Loss: 0.0141\n",
      "Epoch [3/10], Loss: 0.0118\n",
      "Epoch [3/10], Loss: 0.0121\n",
      "Epoch [3/10], Loss: 0.0119\n",
      "Epoch [3/10], Loss: 0.0137\n"
     ]
    },
    {
     "name": "stderr",
     "output_type": "stream",
     "text": [
      "\n",
      " 20%|████████▊                                  | 20/98 [00:12<00:09,  7.91it/s]\u001b[A\n",
      " 23%|██████████                                 | 23/98 [00:12<00:07, 10.01it/s]\u001b[A"
     ]
    },
    {
     "name": "stdout",
     "output_type": "stream",
     "text": [
      "Epoch [3/10], Loss: 0.0135\n",
      "Epoch [3/10], Loss: 0.0146\n",
      "Epoch [3/10], Loss: 0.0120\n",
      "Epoch [3/10], Loss: 0.0140\n",
      "Epoch [3/10], Loss: 0.0130\n"
     ]
    },
    {
     "name": "stderr",
     "output_type": "stream",
     "text": [
      "\n",
      " 27%|███████████▍                               | 26/98 [00:12<00:05, 12.20it/s]\u001b[A"
     ]
    },
    {
     "name": "stdout",
     "output_type": "stream",
     "text": [
      "Epoch [3/10], Loss: 0.0140\n",
      "Epoch [3/10], Loss: 0.0136\n",
      "Epoch [3/10], Loss: 0.0147\n",
      "Epoch [3/10], Loss: 0.0136\n",
      "Epoch [3/10], Loss: 0.0141\n"
     ]
    },
    {
     "name": "stderr",
     "output_type": "stream",
     "text": [
      "\n",
      " 30%|████████████▋                              | 29/98 [00:12<00:04, 14.55it/s]\u001b[A"
     ]
    },
    {
     "name": "stdout",
     "output_type": "stream",
     "text": [
      "Epoch [3/10], Loss: 0.0128\n",
      "Epoch [3/10], Loss: 0.0121\n",
      "Epoch [3/10], Loss: 0.0127\n"
     ]
    },
    {
     "name": "stderr",
     "output_type": "stream",
     "text": [
      "\n",
      " 33%|██████████████                             | 32/98 [00:20<00:55,  1.19it/s]\u001b[A"
     ]
    },
    {
     "name": "stdout",
     "output_type": "stream",
     "text": [
      "Epoch [3/10], Loss: 0.0134\n",
      "Epoch [3/10], Loss: 0.0136\n"
     ]
    },
    {
     "name": "stderr",
     "output_type": "stream",
     "text": [
      "\n",
      " 35%|██████████████▉                            | 34/98 [00:20<00:42,  1.49it/s]\u001b[A\n",
      " 39%|████████████████▋                          | 38/98 [00:20<00:25,  2.39it/s]\u001b[A"
     ]
    },
    {
     "name": "stdout",
     "output_type": "stream",
     "text": [
      "Epoch [3/10], Loss: 0.0118\n",
      "Epoch [3/10], Loss: 0.0131\n",
      "Epoch [3/10], Loss: 0.0131\n",
      "Epoch [3/10], Loss: 0.0127\n",
      "Epoch [3/10], Loss: 0.0136\n",
      "Epoch [3/10], Loss: 0.0138\n"
     ]
    },
    {
     "name": "stderr",
     "output_type": "stream",
     "text": [
      "\n",
      " 43%|██████████████████▍                        | 42/98 [00:20<00:15,  3.58it/s]\u001b[A\n",
      " 46%|███████████████████▋                       | 45/98 [00:20<00:11,  4.75it/s]\u001b[A"
     ]
    },
    {
     "name": "stdout",
     "output_type": "stream",
     "text": [
      "Epoch [3/10], Loss: 0.0134\n",
      "Epoch [3/10], Loss: 0.0117\n",
      "Epoch [3/10], Loss: 0.0129\n",
      "Epoch [3/10], Loss: 0.0142\n",
      "Epoch [3/10], Loss: 0.0122\n",
      "Epoch [3/10], Loss: 0.0136\n"
     ]
    },
    {
     "name": "stderr",
     "output_type": "stream",
     "text": [
      "\n",
      " 49%|█████████████████████                      | 48/98 [00:21<00:08,  6.23it/s]\u001b[A\n",
      " 52%|██████████████████████▍                    | 51/98 [00:21<00:05,  8.05it/s]\u001b[A"
     ]
    },
    {
     "name": "stdout",
     "output_type": "stream",
     "text": [
      "Epoch [3/10], Loss: 0.0126\n",
      "Epoch [3/10], Loss: 0.0129\n",
      "Epoch [3/10], Loss: 0.0131\n",
      "Epoch [3/10], Loss: 0.0137\n",
      "Epoch [3/10], Loss: 0.0118\n",
      "Epoch [3/10], Loss: 0.0138\n"
     ]
    },
    {
     "name": "stderr",
     "output_type": "stream",
     "text": [
      "\n",
      " 55%|███████████████████████▋                   | 54/98 [00:21<00:04, 10.21it/s]\u001b[A"
     ]
    },
    {
     "name": "stdout",
     "output_type": "stream",
     "text": [
      "Epoch [3/10], Loss: 0.0136\n",
      "Epoch [3/10], Loss: 0.0127\n",
      "Epoch [3/10], Loss: 0.0130\n",
      "Epoch [3/10], Loss: 0.0114\n",
      "Epoch [3/10], Loss: 0.0132\n"
     ]
    },
    {
     "name": "stderr",
     "output_type": "stream",
     "text": [
      "\n",
      " 58%|█████████████████████████                  | 57/98 [00:21<00:03, 11.39it/s]\u001b[A"
     ]
    },
    {
     "name": "stdout",
     "output_type": "stream",
     "text": [
      "Epoch [3/10], Loss: 0.0125\n",
      "Epoch [3/10], Loss: 0.0135\n",
      "Epoch [3/10], Loss: 0.0131\n"
     ]
    },
    {
     "name": "stderr",
     "output_type": "stream",
     "text": [
      "\n",
      " 61%|██████████████████████████▎                | 60/98 [00:21<00:03, 11.71it/s]\u001b[A"
     ]
    },
    {
     "name": "stdout",
     "output_type": "stream",
     "text": [
      "Epoch [3/10], Loss: 0.0134\n"
     ]
    },
    {
     "name": "stderr",
     "output_type": "stream",
     "text": [
      "\n",
      " 64%|███████████████████████████▋               | 63/98 [00:30<00:32,  1.09it/s]\u001b[A"
     ]
    },
    {
     "name": "stdout",
     "output_type": "stream",
     "text": [
      "Epoch [3/10], Loss: 0.0127\n",
      "Epoch [3/10], Loss: 0.0143\n",
      "Epoch [3/10], Loss: 0.0139\n",
      "Epoch [3/10], Loss: 0.0133\n"
     ]
    },
    {
     "name": "stderr",
     "output_type": "stream",
     "text": [
      "\n",
      " 67%|████████████████████████████▉              | 66/98 [00:30<00:21,  1.52it/s]\u001b[A\n",
      " 70%|██████████████████████████████▎            | 69/98 [00:30<00:13,  2.12it/s]\u001b[A"
     ]
    },
    {
     "name": "stdout",
     "output_type": "stream",
     "text": [
      "Epoch [3/10], Loss: 0.0120\n",
      "Epoch [3/10], Loss: 0.0120\n",
      "Epoch [3/10], Loss: 0.0124\n",
      "Epoch [3/10], Loss: 0.0136\n",
      "Epoch [3/10], Loss: 0.0132\n",
      "Epoch [3/10], Loss: 0.0120\n"
     ]
    },
    {
     "name": "stderr",
     "output_type": "stream",
     "text": [
      "\n",
      " 74%|████████████████████████████████           | 73/98 [00:30<00:07,  3.21it/s]\u001b[A\n",
      " 78%|█████████████████████████████████▎         | 76/98 [00:30<00:05,  4.26it/s]\u001b[A"
     ]
    },
    {
     "name": "stdout",
     "output_type": "stream",
     "text": [
      "Epoch [3/10], Loss: 0.0127\n",
      "Epoch [3/10], Loss: 0.0129\n",
      "Epoch [3/10], Loss: 0.0123\n",
      "Epoch [3/10], Loss: 0.0114\n",
      "Epoch [3/10], Loss: 0.0118\n",
      "Epoch [3/10], Loss: 0.0126\n"
     ]
    },
    {
     "name": "stderr",
     "output_type": "stream",
     "text": [
      "\n",
      " 82%|███████████████████████████████████        | 80/98 [00:30<00:02,  6.09it/s]\u001b[A"
     ]
    },
    {
     "name": "stdout",
     "output_type": "stream",
     "text": [
      "Epoch [3/10], Loss: 0.0119\n",
      "Epoch [3/10], Loss: 0.0117\n",
      "Epoch [3/10], Loss: 0.0128\n",
      "Epoch [3/10], Loss: 0.0122\n",
      "Epoch [3/10], Loss: 0.0118\n",
      "Epoch [3/10], Loss: 0.0132\n",
      "Epoch [3/10], Loss: 0.0129\n"
     ]
    },
    {
     "name": "stderr",
     "output_type": "stream",
     "text": [
      "\n",
      " 86%|████████████████████████████████████▊      | 84/98 [00:31<00:01,  8.36it/s]\u001b[A\n",
      " 90%|██████████████████████████████████████▌    | 88/98 [00:31<00:00, 11.02it/s]\u001b[A"
     ]
    },
    {
     "name": "stdout",
     "output_type": "stream",
     "text": [
      "Epoch [3/10], Loss: 0.0135\n",
      "Epoch [3/10], Loss: 0.0113\n",
      "Epoch [3/10], Loss: 0.0137\n",
      "Epoch [3/10], Loss: 0.0127\n",
      "Epoch [3/10], Loss: 0.0141\n",
      "Epoch [3/10], Loss: 0.0126\n",
      "Epoch [3/10], Loss: 0.0126\n"
     ]
    },
    {
     "name": "stderr",
     "output_type": "stream",
     "text": [
      "\n",
      " 94%|████████████████████████████████████████▎  | 92/98 [00:38<00:03,  1.61it/s]\u001b[A"
     ]
    },
    {
     "name": "stdout",
     "output_type": "stream",
     "text": [
      "Epoch [3/10], Loss: 0.0138\n",
      "Epoch [3/10], Loss: 0.0125\n",
      "Epoch [3/10], Loss: 0.0125\n"
     ]
    },
    {
     "name": "stderr",
     "output_type": "stream",
     "text": [
      "\n",
      " 97%|█████████████████████████████████████████▋ | 95/98 [00:38<00:01,  2.02it/s]\u001b[A"
     ]
    },
    {
     "name": "stdout",
     "output_type": "stream",
     "text": [
      "Epoch [3/10], Loss: 0.0142\n",
      "Epoch [3/10], Loss: 0.0136\n",
      "Epoch [3/10], Loss: 0.0123\n",
      "Epoch [3/10], Loss: 0.0127\n",
      "Epoch [3/10], Loss: 0.0122\n"
     ]
    },
    {
     "name": "stderr",
     "output_type": "stream",
     "text": [
      "100%|███████████████████████████████████████████| 98/98 [00:38<00:00,  2.52it/s]\n",
      " 30%|█████████████▏                              | 3/10 [02:17<05:07, 43.86s/it]\n",
      "  0%|                                                    | 0/98 [00:00<?, ?it/s]\u001b[A\n",
      "  1%|▍                                           | 1/98 [00:11<18:21, 11.36s/it]\u001b[A"
     ]
    },
    {
     "name": "stdout",
     "output_type": "stream",
     "text": [
      "Epoch [4/10], Loss: 0.0126\n"
     ]
    },
    {
     "name": "stderr",
     "output_type": "stream",
     "text": [
      "\n",
      "  2%|▉                                           | 2/98 [00:11<07:41,  4.80s/it]\u001b[A\n",
      "  4%|█▊                                          | 4/98 [00:11<02:53,  1.84s/it]\u001b[A"
     ]
    },
    {
     "name": "stdout",
     "output_type": "stream",
     "text": [
      "Epoch [4/10], Loss: 0.0121\n",
      "Epoch [4/10], Loss: 0.0115\n",
      "Epoch [4/10], Loss: 0.0123\n"
     ]
    },
    {
     "name": "stderr",
     "output_type": "stream",
     "text": [
      "\n",
      "  6%|██▋                                         | 6/98 [00:11<01:32,  1.00s/it]\u001b[A\n",
      "  9%|████                                        | 9/98 [00:11<00:46,  1.93it/s]\u001b[A"
     ]
    },
    {
     "name": "stdout",
     "output_type": "stream",
     "text": [
      "Epoch [4/10], Loss: 0.0125\n",
      "Epoch [4/10], Loss: 0.0130\n",
      "Epoch [4/10], Loss: 0.0129\n",
      "Epoch [4/10], Loss: 0.0137\n",
      "Epoch [4/10], Loss: 0.0127\n"
     ]
    },
    {
     "name": "stderr",
     "output_type": "stream",
     "text": [
      "\n",
      " 12%|█████▎                                     | 12/98 [00:12<00:27,  3.13it/s]\u001b[A"
     ]
    },
    {
     "name": "stdout",
     "output_type": "stream",
     "text": [
      "Epoch [4/10], Loss: 0.0123\n",
      "Epoch [4/10], Loss: 0.0126\n",
      "Epoch [4/10], Loss: 0.0133\n",
      "Epoch [4/10], Loss: 0.0128\n",
      "Epoch [4/10], Loss: 0.0118\n"
     ]
    },
    {
     "name": "stderr",
     "output_type": "stream",
     "text": [
      "\n",
      " 15%|██████▌                                    | 15/98 [00:12<00:17,  4.64it/s]\u001b[A\n",
      " 18%|███████▉                                   | 18/98 [00:12<00:12,  6.46it/s]\u001b[A"
     ]
    },
    {
     "name": "stdout",
     "output_type": "stream",
     "text": [
      "Epoch [4/10], Loss: 0.0117\n",
      "Epoch [4/10], Loss: 0.0122\n",
      "Epoch [4/10], Loss: 0.0127\n",
      "Epoch [4/10], Loss: 0.0120\n",
      "Epoch [4/10], Loss: 0.0124\n"
     ]
    },
    {
     "name": "stderr",
     "output_type": "stream",
     "text": [
      "\n",
      " 21%|█████████▏                                 | 21/98 [00:12<00:08,  8.56it/s]\u001b[A\n",
      " 24%|██████████▌                                | 24/98 [00:12<00:06, 10.90it/s]\u001b[A"
     ]
    },
    {
     "name": "stdout",
     "output_type": "stream",
     "text": [
      "Epoch [4/10], Loss: 0.0113\n",
      "Epoch [4/10], Loss: 0.0128\n",
      "Epoch [4/10], Loss: 0.0125\n",
      "Epoch [4/10], Loss: 0.0127\n",
      "Epoch [4/10], Loss: 0.0143\n",
      "Epoch [4/10], Loss: 0.0127\n"
     ]
    },
    {
     "name": "stderr",
     "output_type": "stream",
     "text": [
      "\n",
      " 28%|███████████▊                               | 27/98 [00:12<00:05, 13.38it/s]\u001b[A\n",
      " 31%|█████████████▏                             | 30/98 [00:12<00:04, 15.74it/s]\u001b[A"
     ]
    },
    {
     "name": "stdout",
     "output_type": "stream",
     "text": [
      "Epoch [4/10], Loss: 0.0121\n",
      "Epoch [4/10], Loss: 0.0115\n",
      "Epoch [4/10], Loss: 0.0121\n",
      "Epoch [4/10], Loss: 0.0122\n",
      "Epoch [4/10], Loss: 0.0118\n"
     ]
    },
    {
     "name": "stderr",
     "output_type": "stream",
     "text": [
      "\n",
      " 34%|██████████████▍                            | 33/98 [00:20<00:52,  1.23it/s]\u001b[A\n",
      " 37%|███████████████▊                           | 36/98 [00:20<00:35,  1.74it/s]\u001b[A"
     ]
    },
    {
     "name": "stdout",
     "output_type": "stream",
     "text": [
      "Epoch [4/10], Loss: 0.0118\n",
      "Epoch [4/10], Loss: 0.0119\n",
      "Epoch [4/10], Loss: 0.0109\n",
      "Epoch [4/10], Loss: 0.0139\n",
      "Epoch [4/10], Loss: 0.0128\n",
      "Epoch [4/10], Loss: 0.0112\n",
      "Epoch [4/10], Loss: 0.0111\n",
      "Epoch [4/10], Loss: 0.0115\n"
     ]
    },
    {
     "name": "stderr",
     "output_type": "stream",
     "text": [
      "\n",
      " 40%|█████████████████                          | 39/98 [00:20<00:26,  2.25it/s]\u001b[A"
     ]
    },
    {
     "name": "stdout",
     "output_type": "stream",
     "text": [
      "Epoch [4/10], Loss: 0.0123\n",
      "Epoch [4/10], Loss: 0.0128\n"
     ]
    },
    {
     "name": "stderr",
     "output_type": "stream",
     "text": [
      "\n",
      " 42%|█████████████████▉                         | 41/98 [00:21<00:21,  2.71it/s]\u001b[A\n",
      " 44%|██████████████████▊                        | 43/98 [00:21<00:16,  3.33it/s]\u001b[A"
     ]
    },
    {
     "name": "stdout",
     "output_type": "stream",
     "text": [
      "Epoch [4/10], Loss: 0.0116\n",
      "Epoch [4/10], Loss: 0.0134\n",
      "Epoch [4/10], Loss: 0.0127\n"
     ]
    },
    {
     "name": "stderr",
     "output_type": "stream",
     "text": [
      "\n",
      " 46%|███████████████████▋                       | 45/98 [00:21<00:13,  4.07it/s]\u001b[A"
     ]
    },
    {
     "name": "stdout",
     "output_type": "stream",
     "text": [
      "Epoch [4/10], Loss: 0.0125\n",
      "Epoch [4/10], Loss: 0.0119\n",
      "Epoch [4/10], Loss: 0.0116\n"
     ]
    },
    {
     "name": "stderr",
     "output_type": "stream",
     "text": [
      "\n",
      " 48%|████████████████████▌                      | 47/98 [00:21<00:10,  4.98it/s]\u001b[A\n",
      " 51%|█████████████████████▉                     | 50/98 [00:21<00:06,  7.05it/s]\u001b[A"
     ]
    },
    {
     "name": "stdout",
     "output_type": "stream",
     "text": [
      "Epoch [4/10], Loss: 0.0134\n",
      "Epoch [4/10], Loss: 0.0106\n",
      "Epoch [4/10], Loss: 0.0112\n",
      "Epoch [4/10], Loss: 0.0115\n",
      "Epoch [4/10], Loss: 0.0122\n",
      "Epoch [4/10], Loss: 0.0117\n"
     ]
    },
    {
     "name": "stderr",
     "output_type": "stream",
     "text": [
      "\n",
      " 54%|███████████████████████▎                   | 53/98 [00:21<00:04,  9.51it/s]\u001b[A\n",
      " 57%|████████████████████████▌                  | 56/98 [00:21<00:03, 12.26it/s]\u001b[A"
     ]
    },
    {
     "name": "stdout",
     "output_type": "stream",
     "text": [
      "Epoch [4/10], Loss: 0.0114\n",
      "Epoch [4/10], Loss: 0.0111\n",
      "Epoch [4/10], Loss: 0.0139\n",
      "Epoch [4/10], Loss: 0.0121\n",
      "Epoch [4/10], Loss: 0.0114\n",
      "Epoch [4/10], Loss: 0.0120\n"
     ]
    },
    {
     "name": "stderr",
     "output_type": "stream",
     "text": [
      "\n",
      " 60%|█████████████████████████▉                 | 59/98 [00:22<00:02, 15.07it/s]\u001b[A"
     ]
    },
    {
     "name": "stdout",
     "output_type": "stream",
     "text": [
      "Epoch [4/10], Loss: 0.0127\n",
      "Epoch [4/10], Loss: 0.0111\n"
     ]
    },
    {
     "name": "stderr",
     "output_type": "stream",
     "text": [
      "\n",
      " 63%|███████████████████████████▏               | 62/98 [00:29<00:29,  1.21it/s]\u001b[A\n",
      " 66%|████████████████████████████▌              | 65/98 [00:29<00:19,  1.72it/s]\u001b[A"
     ]
    },
    {
     "name": "stdout",
     "output_type": "stream",
     "text": [
      "Epoch [4/10], Loss: 0.0131\n",
      "Epoch [4/10], Loss: 0.0127\n",
      "Epoch [4/10], Loss: 0.0125\n",
      "Epoch [4/10], Loss: 0.0119\n",
      "Epoch [4/10], Loss: 0.0108\n",
      "Epoch [4/10], Loss: 0.0126\n"
     ]
    },
    {
     "name": "stderr",
     "output_type": "stream",
     "text": [
      "\n",
      " 69%|█████████████████████████████▊             | 68/98 [00:29<00:12,  2.38it/s]\u001b[A\n",
      " 72%|███████████████████████████████▏           | 71/98 [00:29<00:08,  3.28it/s]\u001b[A"
     ]
    },
    {
     "name": "stdout",
     "output_type": "stream",
     "text": [
      "Epoch [4/10], Loss: 0.0127\n",
      "Epoch [4/10], Loss: 0.0110\n",
      "Epoch [4/10], Loss: 0.0134\n",
      "Epoch [4/10], Loss: 0.0106\n",
      "Epoch [4/10], Loss: 0.0119\n",
      "Epoch [4/10], Loss: 0.0113\n"
     ]
    },
    {
     "name": "stderr",
     "output_type": "stream",
     "text": [
      "\n",
      " 77%|████████████████████████████████▉          | 75/98 [00:30<00:04,  4.89it/s]\u001b[A\n",
      " 81%|██████████████████████████████████▋        | 79/98 [00:30<00:02,  6.92it/s]\u001b[A"
     ]
    },
    {
     "name": "stdout",
     "output_type": "stream",
     "text": [
      "Epoch [4/10], Loss: 0.0121\n",
      "Epoch [4/10], Loss: 0.0114\n",
      "Epoch [4/10], Loss: 0.0139\n",
      "Epoch [4/10], Loss: 0.0119\n",
      "Epoch [4/10], Loss: 0.0107\n",
      "Epoch [4/10], Loss: 0.0111\n",
      "Epoch [4/10], Loss: 0.0127\n"
     ]
    },
    {
     "name": "stderr",
     "output_type": "stream",
     "text": [
      "\n",
      " 85%|████████████████████████████████████▍      | 83/98 [00:30<00:01,  9.31it/s]\u001b[A"
     ]
    },
    {
     "name": "stdout",
     "output_type": "stream",
     "text": [
      "Epoch [4/10], Loss: 0.0104\n",
      "Epoch [4/10], Loss: 0.0131\n",
      "Epoch [4/10], Loss: 0.0136\n",
      "Epoch [4/10], Loss: 0.0127\n",
      "Epoch [4/10], Loss: 0.0110\n",
      "Epoch [4/10], Loss: 0.0116\n",
      "Epoch [4/10], Loss: 0.0117\n"
     ]
    },
    {
     "name": "stderr",
     "output_type": "stream",
     "text": [
      "\n",
      " 89%|██████████████████████████████████████▏    | 87/98 [00:30<00:00, 12.05it/s]\u001b[A"
     ]
    },
    {
     "name": "stdout",
     "output_type": "stream",
     "text": [
      "Epoch [4/10], Loss: 0.0125\n",
      "Epoch [4/10], Loss: 0.0106\n",
      "Epoch [4/10], Loss: 0.0129\n",
      "Epoch [4/10], Loss: 0.0123\n"
     ]
    },
    {
     "name": "stderr",
     "output_type": "stream",
     "text": [
      "\n",
      " 93%|███████████████████████████████████████▉   | 91/98 [00:36<00:03,  1.86it/s]\u001b[A\n",
      " 96%|█████████████████████████████████████████▏ | 94/98 [00:36<00:01,  2.43it/s]\u001b[A"
     ]
    },
    {
     "name": "stdout",
     "output_type": "stream",
     "text": [
      "Epoch [4/10], Loss: 0.0126\n",
      "Epoch [4/10], Loss: 0.0127\n",
      "Epoch [4/10], Loss: 0.0121\n",
      "Epoch [4/10], Loss: 0.0113\n",
      "Epoch [4/10], Loss: 0.0129\n",
      "Epoch [4/10], Loss: 0.0121\n"
     ]
    },
    {
     "name": "stderr",
     "output_type": "stream",
     "text": [
      "\n",
      "100%|███████████████████████████████████████████| 98/98 [00:36<00:00,  2.65it/s]\u001b[A\n",
      " 40%|█████████████████▌                          | 4/10 [02:54<04:06, 41.13s/it]"
     ]
    },
    {
     "name": "stdout",
     "output_type": "stream",
     "text": [
      "Epoch [4/10], Loss: 0.0100\n",
      "Epoch [4/10], Loss: 0.0116\n"
     ]
    },
    {
     "name": "stderr",
     "output_type": "stream",
     "text": [
      "\n",
      "  0%|                                                    | 0/98 [00:00<?, ?it/s]\u001b[A\n",
      "  1%|▍                                           | 1/98 [00:10<17:33, 10.86s/it]\u001b[A"
     ]
    },
    {
     "name": "stdout",
     "output_type": "stream",
     "text": [
      "Epoch [5/10], Loss: 0.0117\n"
     ]
    },
    {
     "name": "stderr",
     "output_type": "stream",
     "text": [
      "\n",
      "  2%|▉                                           | 2/98 [00:11<07:26,  4.65s/it]\u001b[A\n",
      "  5%|██▏                                         | 5/98 [00:11<02:05,  1.35s/it]\u001b[A"
     ]
    },
    {
     "name": "stdout",
     "output_type": "stream",
     "text": [
      "Epoch [5/10], Loss: 0.0135\n",
      "Epoch [5/10], Loss: 0.0109\n",
      "Epoch [5/10], Loss: 0.0123\n",
      "Epoch [5/10], Loss: 0.0120\n",
      "Epoch [5/10], Loss: 0.0109\n",
      "Epoch [5/10], Loss: 0.0107\n"
     ]
    },
    {
     "name": "stderr",
     "output_type": "stream",
     "text": [
      "\n",
      "  8%|███▌                                        | 8/98 [00:11<01:01,  1.46it/s]\u001b[A\n",
      " 11%|████▊                                      | 11/98 [00:11<00:36,  2.41it/s]\u001b[A"
     ]
    },
    {
     "name": "stdout",
     "output_type": "stream",
     "text": [
      "Epoch [5/10], Loss: 0.0128\n",
      "Epoch [5/10], Loss: 0.0125\n",
      "Epoch [5/10], Loss: 0.0115\n",
      "Epoch [5/10], Loss: 0.0116\n",
      "Epoch [5/10], Loss: 0.0120\n",
      "Epoch [5/10], Loss: 0.0103\n"
     ]
    },
    {
     "name": "stderr",
     "output_type": "stream",
     "text": [
      "\n",
      " 14%|██████▏                                    | 14/98 [00:11<00:23,  3.65it/s]\u001b[A\n",
      " 17%|███████▍                                   | 17/98 [00:11<00:15,  5.22it/s]\u001b[A"
     ]
    },
    {
     "name": "stdout",
     "output_type": "stream",
     "text": [
      "Epoch [5/10], Loss: 0.0111\n",
      "Epoch [5/10], Loss: 0.0120\n",
      "Epoch [5/10], Loss: 0.0127\n",
      "Epoch [5/10], Loss: 0.0112\n",
      "Epoch [5/10], Loss: 0.0108\n",
      "Epoch [5/10], Loss: 0.0121\n"
     ]
    },
    {
     "name": "stderr",
     "output_type": "stream",
     "text": [
      "\n",
      " 20%|████████▊                                  | 20/98 [00:11<00:10,  7.10it/s]\u001b[A\n",
      " 23%|██████████                                 | 23/98 [00:11<00:08,  9.33it/s]\u001b[A"
     ]
    },
    {
     "name": "stdout",
     "output_type": "stream",
     "text": [
      "Epoch [5/10], Loss: 0.0106\n",
      "Epoch [5/10], Loss: 0.0120\n",
      "Epoch [5/10], Loss: 0.0109\n",
      "Epoch [5/10], Loss: 0.0122\n",
      "Epoch [5/10], Loss: 0.0121\n",
      "Epoch [5/10], Loss: 0.0118\n"
     ]
    },
    {
     "name": "stderr",
     "output_type": "stream",
     "text": [
      "\n",
      " 27%|███████████▍                               | 26/98 [00:12<00:06, 10.71it/s]\u001b[A"
     ]
    },
    {
     "name": "stdout",
     "output_type": "stream",
     "text": [
      "Epoch [5/10], Loss: 0.0121\n",
      "Epoch [5/10], Loss: 0.0116\n"
     ]
    },
    {
     "name": "stderr",
     "output_type": "stream",
     "text": [
      "\n",
      " 30%|████████████▋                              | 29/98 [00:12<00:06, 10.37it/s]\u001b[A"
     ]
    },
    {
     "name": "stdout",
     "output_type": "stream",
     "text": [
      "Epoch [5/10], Loss: 0.0124\n",
      "Epoch [5/10], Loss: 0.0116\n",
      "Epoch [5/10], Loss: 0.0121\n"
     ]
    },
    {
     "name": "stderr",
     "output_type": "stream",
     "text": [
      "\n",
      " 32%|█████████████▌                             | 31/98 [00:18<00:54,  1.24it/s]\u001b[A"
     ]
    },
    {
     "name": "stdout",
     "output_type": "stream",
     "text": [
      "Epoch [5/10], Loss: 0.0105\n"
     ]
    },
    {
     "name": "stderr",
     "output_type": "stream",
     "text": [
      "\n",
      " 34%|██████████████▍                            | 33/98 [00:19<00:46,  1.40it/s]\u001b[A\n",
      " 35%|██████████████▉                            | 34/98 [00:19<00:39,  1.60it/s]\u001b[A"
     ]
    },
    {
     "name": "stdout",
     "output_type": "stream",
     "text": [
      "Epoch [5/10], Loss: 0.0123\n",
      "Epoch [5/10], Loss: 0.0117\n",
      "Epoch [5/10], Loss: 0.0122\n"
     ]
    },
    {
     "name": "stderr",
     "output_type": "stream",
     "text": [
      "\n",
      " 36%|███████████████▎                           | 35/98 [00:19<00:33,  1.88it/s]\u001b[A\n",
      " 38%|████████████████▏                          | 37/98 [00:20<00:23,  2.63it/s]\u001b[A"
     ]
    },
    {
     "name": "stdout",
     "output_type": "stream",
     "text": [
      "Epoch [5/10], Loss: 0.0123\n",
      "Epoch [5/10], Loss: 0.0123\n",
      "Epoch [5/10], Loss: 0.0120\n"
     ]
    },
    {
     "name": "stderr",
     "output_type": "stream",
     "text": [
      "\n",
      " 40%|█████████████████                          | 39/98 [00:20<00:16,  3.51it/s]\u001b[A"
     ]
    },
    {
     "name": "stdout",
     "output_type": "stream",
     "text": [
      "Epoch [5/10], Loss: 0.0133\n",
      "Epoch [5/10], Loss: 0.0104\n",
      "Epoch [5/10], Loss: 0.0117\n"
     ]
    },
    {
     "name": "stderr",
     "output_type": "stream",
     "text": [
      "\n",
      " 42%|█████████████████▉                         | 41/98 [00:20<00:12,  4.62it/s]\u001b[A\n",
      " 44%|██████████████████▊                        | 43/98 [00:20<00:09,  5.91it/s]\u001b[A"
     ]
    },
    {
     "name": "stdout",
     "output_type": "stream",
     "text": [
      "Epoch [5/10], Loss: 0.0121\n",
      "Epoch [5/10], Loss: 0.0118\n",
      "Epoch [5/10], Loss: 0.0115\n"
     ]
    },
    {
     "name": "stderr",
     "output_type": "stream",
     "text": [
      "\n",
      " 46%|███████████████████▋                       | 45/98 [00:20<00:07,  6.99it/s]\u001b[A"
     ]
    },
    {
     "name": "stdout",
     "output_type": "stream",
     "text": [
      "Epoch [5/10], Loss: 0.0106\n",
      "Epoch [5/10], Loss: 0.0102\n",
      "Epoch [5/10], Loss: 0.0115\n"
     ]
    },
    {
     "name": "stderr",
     "output_type": "stream",
     "text": [
      "\n",
      " 48%|████████████████████▌                      | 47/98 [00:20<00:06,  8.36it/s]\u001b[A\n",
      " 51%|█████████████████████▉                     | 50/98 [00:20<00:04, 11.51it/s]\u001b[A"
     ]
    },
    {
     "name": "stdout",
     "output_type": "stream",
     "text": [
      "Epoch [5/10], Loss: 0.0117\n",
      "Epoch [5/10], Loss: 0.0124\n",
      "Epoch [5/10], Loss: 0.0117\n",
      "Epoch [5/10], Loss: 0.0116\n",
      "Epoch [5/10], Loss: 0.0117\n",
      "Epoch [5/10], Loss: 0.0100\n"
     ]
    },
    {
     "name": "stderr",
     "output_type": "stream",
     "text": [
      "\n",
      " 54%|███████████████████████▎                   | 53/98 [00:21<00:03, 14.73it/s]\u001b[A\n",
      " 57%|████████████████████████▌                  | 56/98 [00:21<00:02, 16.83it/s]\u001b[A"
     ]
    },
    {
     "name": "stdout",
     "output_type": "stream",
     "text": [
      "Epoch [5/10], Loss: 0.0103\n",
      "Epoch [5/10], Loss: 0.0118\n",
      "Epoch [5/10], Loss: 0.0123\n",
      "Epoch [5/10], Loss: 0.0116\n",
      "Epoch [5/10], Loss: 0.0125\n"
     ]
    },
    {
     "name": "stderr",
     "output_type": "stream",
     "text": [
      "\n",
      " 60%|█████████████████████████▉                 | 59/98 [00:21<00:02, 19.33it/s]\u001b[A"
     ]
    },
    {
     "name": "stdout",
     "output_type": "stream",
     "text": [
      "Epoch [5/10], Loss: 0.0113\n",
      "Epoch [5/10], Loss: 0.0116\n",
      "Epoch [5/10], Loss: 0.0129\n",
      "Epoch [5/10], Loss: 0.0118\n"
     ]
    },
    {
     "name": "stderr",
     "output_type": "stream",
     "text": [
      "\n",
      " 63%|███████████████████████████▏               | 62/98 [00:29<00:30,  1.17it/s]\u001b[A\n",
      " 66%|████████████████████████████▌              | 65/98 [00:29<00:19,  1.67it/s]\u001b[A"
     ]
    },
    {
     "name": "stdout",
     "output_type": "stream",
     "text": [
      "Epoch [5/10], Loss: 0.0114\n",
      "Epoch [5/10], Loss: 0.0110\n",
      "Epoch [5/10], Loss: 0.0115\n",
      "Epoch [5/10], Loss: 0.0123\n",
      "Epoch [5/10], Loss: 0.0133\n",
      "Epoch [5/10], Loss: 0.0137\n"
     ]
    },
    {
     "name": "stderr",
     "output_type": "stream",
     "text": [
      "\n",
      " 69%|█████████████████████████████▊             | 68/98 [00:29<00:12,  2.35it/s]\u001b[A\n",
      " 73%|███████████████████████████████▌           | 72/98 [00:29<00:07,  3.58it/s]\u001b[A"
     ]
    },
    {
     "name": "stdout",
     "output_type": "stream",
     "text": [
      "Epoch [5/10], Loss: 0.0121\n",
      "Epoch [5/10], Loss: 0.0122\n",
      "Epoch [5/10], Loss: 0.0114\n",
      "Epoch [5/10], Loss: 0.0109\n",
      "Epoch [5/10], Loss: 0.0120\n",
      "Epoch [5/10], Loss: 0.0113\n",
      "Epoch [5/10], Loss: 0.0124\n"
     ]
    },
    {
     "name": "stderr",
     "output_type": "stream",
     "text": [
      "\n",
      " 77%|████████████████████████████████▉          | 75/98 [00:29<00:04,  4.78it/s]\u001b[A\n",
      " 81%|██████████████████████████████████▋        | 79/98 [00:29<00:02,  6.80it/s]\u001b[A"
     ]
    },
    {
     "name": "stdout",
     "output_type": "stream",
     "text": [
      "Epoch [5/10], Loss: 0.0103\n",
      "Epoch [5/10], Loss: 0.0122\n",
      "Epoch [5/10], Loss: 0.0108\n",
      "Epoch [5/10], Loss: 0.0126\n",
      "Epoch [5/10], Loss: 0.0130\n",
      "Epoch [5/10], Loss: 0.0124\n",
      "Epoch [5/10], Loss: 0.0106\n"
     ]
    },
    {
     "name": "stderr",
     "output_type": "stream",
     "text": [
      "\n",
      " 85%|████████████████████████████████████▍      | 83/98 [00:29<00:01,  9.21it/s]\u001b[A\n",
      " 89%|██████████████████████████████████████▏    | 87/98 [00:29<00:00, 11.97it/s]\u001b[A"
     ]
    },
    {
     "name": "stdout",
     "output_type": "stream",
     "text": [
      "Epoch [5/10], Loss: 0.0118\n",
      "Epoch [5/10], Loss: 0.0121\n",
      "Epoch [5/10], Loss: 0.0117\n",
      "Epoch [5/10], Loss: 0.0114\n",
      "Epoch [5/10], Loss: 0.0117\n",
      "Epoch [5/10], Loss: 0.0115\n",
      "Epoch [5/10], Loss: 0.0116\n",
      "Epoch [5/10], Loss: 0.0120\n",
      "Epoch [5/10], Loss: 0.0115\n"
     ]
    },
    {
     "name": "stderr",
     "output_type": "stream",
     "text": [
      "\n",
      " 93%|███████████████████████████████████████▉   | 91/98 [00:35<00:03,  1.94it/s]\u001b[A"
     ]
    },
    {
     "name": "stdout",
     "output_type": "stream",
     "text": [
      "Epoch [5/10], Loss: 0.0124\n"
     ]
    },
    {
     "name": "stderr",
     "output_type": "stream",
     "text": [
      "\n",
      " 96%|█████████████████████████████████████████▏ | 94/98 [00:36<00:01,  2.15it/s]\u001b[A"
     ]
    },
    {
     "name": "stdout",
     "output_type": "stream",
     "text": [
      "Epoch [5/10], Loss: 0.0129\n",
      "Epoch [5/10], Loss: 0.0108\n",
      "Epoch [5/10], Loss: 0.0115\n"
     ]
    },
    {
     "name": "stderr",
     "output_type": "stream",
     "text": [
      "\n",
      " 99%|██████████████████████████████████████████▌| 97/98 [00:36<00:00,  2.84it/s]\u001b[A"
     ]
    },
    {
     "name": "stdout",
     "output_type": "stream",
     "text": [
      "Epoch [5/10], Loss: 0.0114\n",
      "Epoch [5/10], Loss: 0.0104\n",
      "Epoch [5/10], Loss: 0.0109\n",
      "Epoch [5/10], Loss: 0.0121\n"
     ]
    },
    {
     "name": "stderr",
     "output_type": "stream",
     "text": [
      "100%|███████████████████████████████████████████| 98/98 [00:36<00:00,  2.65it/s]\n",
      " 50%|██████████████████████                      | 5/10 [03:31<03:18, 39.62s/it]\n",
      "  0%|                                                    | 0/98 [00:00<?, ?it/s]\u001b[A\n",
      "  1%|▍                                           | 1/98 [00:12<19:32, 12.09s/it]\u001b[A\n",
      "  3%|█▎                                          | 3/98 [00:12<05:01,  3.18s/it]\u001b[A"
     ]
    },
    {
     "name": "stdout",
     "output_type": "stream",
     "text": [
      "Epoch [6/10], Loss: 0.0120\n",
      "Epoch [6/10], Loss: 0.0126\n",
      "Epoch [6/10], Loss: 0.0108\n",
      "Epoch [6/10], Loss: 0.0111\n"
     ]
    },
    {
     "name": "stderr",
     "output_type": "stream",
     "text": [
      "\n",
      "  6%|██▋                                         | 6/98 [00:12<01:55,  1.25s/it]\u001b[A\n",
      "  9%|████                                        | 9/98 [00:12<01:01,  1.45it/s]\u001b[A"
     ]
    },
    {
     "name": "stdout",
     "output_type": "stream",
     "text": [
      "Epoch [6/10], Loss: 0.0115\n",
      "Epoch [6/10], Loss: 0.0117\n",
      "Epoch [6/10], Loss: 0.0113\n",
      "Epoch [6/10], Loss: 0.0125\n",
      "Epoch [6/10], Loss: 0.0118\n"
     ]
    },
    {
     "name": "stderr",
     "output_type": "stream",
     "text": [
      "\n",
      " 12%|█████▎                                     | 12/98 [00:12<00:36,  2.34it/s]\u001b[A"
     ]
    },
    {
     "name": "stdout",
     "output_type": "stream",
     "text": [
      "Epoch [6/10], Loss: 0.0115\n",
      "Epoch [6/10], Loss: 0.0110\n",
      "Epoch [6/10], Loss: 0.0120\n",
      "Epoch [6/10], Loss: 0.0115\n",
      "Epoch [6/10], Loss: 0.0122\n",
      "Epoch [6/10], Loss: 0.0126\n"
     ]
    },
    {
     "name": "stderr",
     "output_type": "stream",
     "text": [
      "\n",
      " 15%|██████▌                                    | 15/98 [00:12<00:23,  3.48it/s]\u001b[A\n",
      " 18%|███████▉                                   | 18/98 [00:12<00:16,  4.93it/s]\u001b[A"
     ]
    },
    {
     "name": "stdout",
     "output_type": "stream",
     "text": [
      "Epoch [6/10], Loss: 0.0109\n",
      "Epoch [6/10], Loss: 0.0112\n",
      "Epoch [6/10], Loss: 0.0113\n",
      "Epoch [6/10], Loss: 0.0129\n",
      "Epoch [6/10], Loss: 0.0116\n"
     ]
    },
    {
     "name": "stderr",
     "output_type": "stream",
     "text": [
      "\n",
      " 21%|█████████▏                                 | 21/98 [00:12<00:11,  6.74it/s]\u001b[A\n",
      " 26%|██████████▉                                | 25/98 [00:13<00:07,  9.52it/s]\u001b[A"
     ]
    },
    {
     "name": "stdout",
     "output_type": "stream",
     "text": [
      "Epoch [6/10], Loss: 0.0117\n",
      "Epoch [6/10], Loss: 0.0117\n",
      "Epoch [6/10], Loss: 0.0119\n",
      "Epoch [6/10], Loss: 0.0113\n",
      "Epoch [6/10], Loss: 0.0112\n",
      "Epoch [6/10], Loss: 0.0099\n"
     ]
    },
    {
     "name": "stderr",
     "output_type": "stream",
     "text": [
      "\n",
      " 29%|████████████▎                              | 28/98 [00:13<00:05, 11.80it/s]\u001b[A"
     ]
    },
    {
     "name": "stdout",
     "output_type": "stream",
     "text": [
      "Epoch [6/10], Loss: 0.0105\n",
      "Epoch [6/10], Loss: 0.0110\n",
      "Epoch [6/10], Loss: 0.0110\n",
      "Epoch [6/10], Loss: 0.0117\n"
     ]
    },
    {
     "name": "stderr",
     "output_type": "stream",
     "text": [
      "\n",
      " 32%|█████████████▌                             | 31/98 [00:20<00:51,  1.30it/s]\u001b[A"
     ]
    },
    {
     "name": "stdout",
     "output_type": "stream",
     "text": [
      "Epoch [6/10], Loss: 0.0113\n",
      "Epoch [6/10], Loss: 0.0127\n"
     ]
    },
    {
     "name": "stderr",
     "output_type": "stream",
     "text": [
      "\n",
      " 34%|██████████████▍                            | 33/98 [00:21<00:49,  1.32it/s]\u001b[A\n",
      " 37%|███████████████▊                           | 36/98 [00:21<00:32,  1.90it/s]\u001b[A"
     ]
    },
    {
     "name": "stdout",
     "output_type": "stream",
     "text": [
      "Epoch [6/10], Loss: 0.0119\n",
      "Epoch [6/10], Loss: 0.0111\n",
      "Epoch [6/10], Loss: 0.0099\n",
      "Epoch [6/10], Loss: 0.0107\n"
     ]
    },
    {
     "name": "stderr",
     "output_type": "stream",
     "text": [
      "\n",
      " 39%|████████████████▋                          | 38/98 [00:22<00:25,  2.33it/s]\u001b[A\n",
      " 42%|█████████████████▉                         | 41/98 [00:22<00:17,  3.34it/s]\u001b[A"
     ]
    },
    {
     "name": "stdout",
     "output_type": "stream",
     "text": [
      "Epoch [6/10], Loss: 0.0116\n",
      "Epoch [6/10], Loss: 0.0114\n",
      "Epoch [6/10], Loss: 0.0115\n",
      "Epoch [6/10], Loss: 0.0118\n",
      "Epoch [6/10], Loss: 0.0125\n"
     ]
    },
    {
     "name": "stderr",
     "output_type": "stream",
     "text": [
      "\n",
      " 45%|███████████████████▎                       | 44/98 [00:22<00:11,  4.66it/s]\u001b[A\n",
      " 48%|████████████████████▌                      | 47/98 [00:22<00:08,  6.32it/s]\u001b[A"
     ]
    },
    {
     "name": "stdout",
     "output_type": "stream",
     "text": [
      "Epoch [6/10], Loss: 0.0104\n",
      "Epoch [6/10], Loss: 0.0113\n",
      "Epoch [6/10], Loss: 0.0119\n",
      "Epoch [6/10], Loss: 0.0106\n",
      "Epoch [6/10], Loss: 0.0119\n",
      "Epoch [6/10], Loss: 0.0108\n"
     ]
    },
    {
     "name": "stderr",
     "output_type": "stream",
     "text": [
      "\n",
      " 51%|█████████████████████▉                     | 50/98 [00:22<00:05,  8.34it/s]\u001b[A\n",
      " 54%|███████████████████████▎                   | 53/98 [00:22<00:04, 10.64it/s]\u001b[A"
     ]
    },
    {
     "name": "stdout",
     "output_type": "stream",
     "text": [
      "Epoch [6/10], Loss: 0.0113\n",
      "Epoch [6/10], Loss: 0.0106\n",
      "Epoch [6/10], Loss: 0.0102\n",
      "Epoch [6/10], Loss: 0.0112\n",
      "Epoch [6/10], Loss: 0.0113\n",
      "Epoch [6/10], Loss: 0.0111\n"
     ]
    },
    {
     "name": "stderr",
     "output_type": "stream",
     "text": [
      "\n",
      " 57%|████████████████████████▌                  | 56/98 [00:22<00:03, 13.21it/s]\u001b[A\n",
      " 60%|█████████████████████████▉                 | 59/98 [00:22<00:02, 15.74it/s]\u001b[A"
     ]
    },
    {
     "name": "stdout",
     "output_type": "stream",
     "text": [
      "Epoch [6/10], Loss: 0.0116\n",
      "Epoch [6/10], Loss: 0.0117\n",
      "Epoch [6/10], Loss: 0.0102\n",
      "Epoch [6/10], Loss: 0.0111\n",
      "Epoch [6/10], Loss: 0.0102\n",
      "Epoch [6/10], Loss: 0.0110\n",
      "Epoch [6/10], Loss: 0.0115\n",
      "Epoch [6/10], Loss: 0.0118\n"
     ]
    },
    {
     "name": "stderr",
     "output_type": "stream",
     "text": [
      "\n",
      " 63%|███████████████████████████▏               | 62/98 [00:30<00:28,  1.24it/s]\u001b[A"
     ]
    },
    {
     "name": "stdout",
     "output_type": "stream",
     "text": [
      "Epoch [6/10], Loss: 0.0105\n",
      "Epoch [6/10], Loss: 0.0117\n",
      "Epoch [6/10], Loss: 0.0110\n"
     ]
    },
    {
     "name": "stderr",
     "output_type": "stream",
     "text": [
      "\n",
      " 66%|████████████████████████████▌              | 65/98 [00:30<00:19,  1.68it/s]\u001b[A\n",
      " 68%|█████████████████████████████▍             | 67/98 [00:30<00:14,  2.08it/s]\u001b[A"
     ]
    },
    {
     "name": "stdout",
     "output_type": "stream",
     "text": [
      "Epoch [6/10], Loss: 0.0121\n",
      "Epoch [6/10], Loss: 0.0122\n",
      "Epoch [6/10], Loss: 0.0116\n",
      "Epoch [6/10], Loss: 0.0121\n"
     ]
    },
    {
     "name": "stderr",
     "output_type": "stream",
     "text": [
      "\n",
      " 72%|███████████████████████████████▏           | 71/98 [00:31<00:08,  3.27it/s]\u001b[A\n",
      " 77%|████████████████████████████████▉          | 75/98 [00:31<00:04,  4.82it/s]\u001b[A"
     ]
    },
    {
     "name": "stdout",
     "output_type": "stream",
     "text": [
      "Epoch [6/10], Loss: 0.0102\n",
      "Epoch [6/10], Loss: 0.0116\n",
      "Epoch [6/10], Loss: 0.0109\n",
      "Epoch [6/10], Loss: 0.0109\n",
      "Epoch [6/10], Loss: 0.0117\n",
      "Epoch [6/10], Loss: 0.0118\n",
      "Epoch [6/10], Loss: 0.0119\n"
     ]
    },
    {
     "name": "stderr",
     "output_type": "stream",
     "text": [
      "\n",
      " 81%|██████████████████████████████████▋        | 79/98 [00:31<00:02,  6.76it/s]\u001b[A"
     ]
    },
    {
     "name": "stdout",
     "output_type": "stream",
     "text": [
      "Epoch [6/10], Loss: 0.0116\n",
      "Epoch [6/10], Loss: 0.0122\n",
      "Epoch [6/10], Loss: 0.0115\n",
      "Epoch [6/10], Loss: 0.0114\n",
      "Epoch [6/10], Loss: 0.0119\n",
      "Epoch [6/10], Loss: 0.0122\n",
      "Epoch [6/10], Loss: 0.0122\n"
     ]
    },
    {
     "name": "stderr",
     "output_type": "stream",
     "text": [
      "\n",
      " 85%|████████████████████████████████████▍      | 83/98 [00:31<00:01,  9.07it/s]\u001b[A\n",
      " 88%|█████████████████████████████████████▋     | 86/98 [00:31<00:01, 11.01it/s]\u001b[A"
     ]
    },
    {
     "name": "stdout",
     "output_type": "stream",
     "text": [
      "Epoch [6/10], Loss: 0.0119\n",
      "Epoch [6/10], Loss: 0.0127\n",
      "Epoch [6/10], Loss: 0.0120\n",
      "Epoch [6/10], Loss: 0.0133\n",
      "Epoch [6/10], Loss: 0.0123\n",
      "Epoch [6/10], Loss: 0.0102\n",
      "Epoch [6/10], Loss: 0.0118\n"
     ]
    },
    {
     "name": "stderr",
     "output_type": "stream",
     "text": [
      "\n",
      " 92%|███████████████████████████████████████▍   | 90/98 [00:31<00:00, 14.01it/s]\u001b[A"
     ]
    },
    {
     "name": "stdout",
     "output_type": "stream",
     "text": [
      "Epoch [6/10], Loss: 0.0102\n",
      "Epoch [6/10], Loss: 0.0120\n"
     ]
    },
    {
     "name": "stderr",
     "output_type": "stream",
     "text": [
      "\n",
      " 95%|████████████████████████████████████████▊  | 93/98 [00:37<00:02,  1.67it/s]\u001b[A"
     ]
    },
    {
     "name": "stdout",
     "output_type": "stream",
     "text": [
      "Epoch [6/10], Loss: 0.0134\n",
      "Epoch [6/10], Loss: 0.0117\n",
      "Epoch [6/10], Loss: 0.0121\n"
     ]
    },
    {
     "name": "stderr",
     "output_type": "stream",
     "text": [
      "\n",
      " 98%|██████████████████████████████████████████ | 96/98 [00:38<00:00,  2.03it/s]\u001b[A"
     ]
    },
    {
     "name": "stdout",
     "output_type": "stream",
     "text": [
      "Epoch [6/10], Loss: 0.0113\n",
      "Epoch [6/10], Loss: 0.0116\n",
      "Epoch [6/10], Loss: 0.0124\n",
      "Epoch [6/10], Loss: 0.0105\n"
     ]
    },
    {
     "name": "stderr",
     "output_type": "stream",
     "text": [
      "100%|███████████████████████████████████████████| 98/98 [00:38<00:00,  2.52it/s]\n",
      " 60%|██████████████████████████▍                 | 6/10 [04:10<02:37, 39.37s/it]\n",
      "  0%|                                                    | 0/98 [00:00<?, ?it/s]\u001b[A\n",
      "  1%|▍                                           | 1/98 [00:10<17:10, 10.63s/it]\u001b[A\n",
      "  4%|█▊                                          | 4/98 [00:10<03:12,  2.05s/it]\u001b[A"
     ]
    },
    {
     "name": "stdout",
     "output_type": "stream",
     "text": [
      "Epoch [7/10], Loss: 0.0115\n",
      "Epoch [7/10], Loss: 0.0126\n",
      "Epoch [7/10], Loss: 0.0116\n",
      "Epoch [7/10], Loss: 0.0129\n"
     ]
    },
    {
     "name": "stderr",
     "output_type": "stream",
     "text": [
      "\n",
      "  7%|███▏                                        | 7/98 [00:10<01:29,  1.02it/s]\u001b[A"
     ]
    },
    {
     "name": "stdout",
     "output_type": "stream",
     "text": [
      "Epoch [7/10], Loss: 0.0115\n",
      "Epoch [7/10], Loss: 0.0115\n",
      "Epoch [7/10], Loss: 0.0113\n",
      "Epoch [7/10], Loss: 0.0106\n",
      "Epoch [7/10], Loss: 0.0115\n"
     ]
    },
    {
     "name": "stderr",
     "output_type": "stream",
     "text": [
      "\n",
      " 10%|████▍                                      | 10/98 [00:11<00:50,  1.75it/s]\u001b[A\n",
      " 13%|█████▋                                     | 13/98 [00:11<00:31,  2.71it/s]\u001b[A"
     ]
    },
    {
     "name": "stdout",
     "output_type": "stream",
     "text": [
      "Epoch [7/10], Loss: 0.0102\n",
      "Epoch [7/10], Loss: 0.0122\n",
      "Epoch [7/10], Loss: 0.0117\n",
      "Epoch [7/10], Loss: 0.0132\n",
      "Epoch [7/10], Loss: 0.0111\n"
     ]
    },
    {
     "name": "stderr",
     "output_type": "stream",
     "text": [
      "\n",
      " 16%|███████                                    | 16/98 [00:11<00:20,  3.94it/s]\u001b[A"
     ]
    },
    {
     "name": "stdout",
     "output_type": "stream",
     "text": [
      "Epoch [7/10], Loss: 0.0113\n",
      "Epoch [7/10], Loss: 0.0121\n",
      "Epoch [7/10], Loss: 0.0095\n"
     ]
    },
    {
     "name": "stderr",
     "output_type": "stream",
     "text": [
      "\n",
      " 19%|████████▎                                  | 19/98 [00:12<00:19,  4.01it/s]\u001b[A"
     ]
    },
    {
     "name": "stdout",
     "output_type": "stream",
     "text": [
      "Epoch [7/10], Loss: 0.0119\n",
      "Epoch [7/10], Loss: 0.0119\n"
     ]
    },
    {
     "name": "stderr",
     "output_type": "stream",
     "text": [
      "\n",
      " 21%|█████████▏                                 | 21/98 [00:12<00:16,  4.72it/s]\u001b[A"
     ]
    },
    {
     "name": "stdout",
     "output_type": "stream",
     "text": [
      "Epoch [7/10], Loss: 0.0104\n",
      "Epoch [7/10], Loss: 0.0112\n",
      "Epoch [7/10], Loss: 0.0110\n"
     ]
    },
    {
     "name": "stderr",
     "output_type": "stream",
     "text": [
      "\n",
      " 23%|██████████                                 | 23/98 [00:12<00:13,  5.60it/s]\u001b[A\n",
      " 26%|██████████▉                                | 25/98 [00:12<00:11,  6.43it/s]\u001b[A"
     ]
    },
    {
     "name": "stdout",
     "output_type": "stream",
     "text": [
      "Epoch [7/10], Loss: 0.0114\n",
      "Epoch [7/10], Loss: 0.0102\n",
      "Epoch [7/10], Loss: 0.0113\n"
     ]
    },
    {
     "name": "stderr",
     "output_type": "stream",
     "text": [
      "\n",
      " 28%|███████████▊                               | 27/98 [00:12<00:10,  6.95it/s]\u001b[A"
     ]
    },
    {
     "name": "stdout",
     "output_type": "stream",
     "text": [
      "Epoch [7/10], Loss: 0.0106\n",
      "Epoch [7/10], Loss: 0.0116\n",
      "Epoch [7/10], Loss: 0.0114\n"
     ]
    },
    {
     "name": "stderr",
     "output_type": "stream",
     "text": [
      "\n",
      " 30%|████████████▋                              | 29/98 [00:12<00:08,  7.67it/s]\u001b[A"
     ]
    },
    {
     "name": "stdout",
     "output_type": "stream",
     "text": [
      "Epoch [7/10], Loss: 0.0121\n",
      "Epoch [7/10], Loss: 0.0118\n"
     ]
    },
    {
     "name": "stderr",
     "output_type": "stream",
     "text": [
      "\n",
      " 32%|█████████████▌                             | 31/98 [00:18<01:01,  1.09it/s]\u001b[A\n",
      " 34%|██████████████▍                            | 33/98 [00:18<00:43,  1.49it/s]\u001b[A"
     ]
    },
    {
     "name": "stdout",
     "output_type": "stream",
     "text": [
      "Epoch [7/10], Loss: 0.0134\n",
      "Epoch [7/10], Loss: 0.0097\n",
      "Epoch [7/10], Loss: 0.0116\n",
      "Epoch [7/10], Loss: 0.0108\n"
     ]
    },
    {
     "name": "stderr",
     "output_type": "stream",
     "text": [
      "\n",
      " 36%|███████████████▎                           | 35/98 [00:18<00:30,  2.04it/s]\u001b[A\n",
      " 38%|████████████████▏                          | 37/98 [00:19<00:22,  2.71it/s]\u001b[A"
     ]
    },
    {
     "name": "stdout",
     "output_type": "stream",
     "text": [
      "Epoch [7/10], Loss: 0.0106\n",
      "Epoch [7/10], Loss: 0.0112\n",
      "Epoch [7/10], Loss: 0.0103\n"
     ]
    },
    {
     "name": "stderr",
     "output_type": "stream",
     "text": [
      "\n",
      " 41%|█████████████████▌                         | 40/98 [00:19<00:14,  4.10it/s]\u001b[A"
     ]
    },
    {
     "name": "stdout",
     "output_type": "stream",
     "text": [
      "Epoch [7/10], Loss: 0.0117\n",
      "Epoch [7/10], Loss: 0.0100\n",
      "Epoch [7/10], Loss: 0.0106\n",
      "Epoch [7/10], Loss: 0.0110\n",
      "Epoch [7/10], Loss: 0.0112\n"
     ]
    },
    {
     "name": "stderr",
     "output_type": "stream",
     "text": [
      "\n",
      " 44%|██████████████████▊                        | 43/98 [00:19<00:09,  5.81it/s]\u001b[A\n",
      " 46%|███████████████████▋                       | 45/98 [00:19<00:08,  6.54it/s]\u001b[A"
     ]
    },
    {
     "name": "stdout",
     "output_type": "stream",
     "text": [
      "Epoch [7/10], Loss: 0.0118\n",
      "Epoch [7/10], Loss: 0.0110\n",
      "Epoch [7/10], Loss: 0.0106\n"
     ]
    },
    {
     "name": "stderr",
     "output_type": "stream",
     "text": [
      "\n",
      " 48%|████████████████████▌                      | 47/98 [00:19<00:07,  7.27it/s]\u001b[A"
     ]
    },
    {
     "name": "stdout",
     "output_type": "stream",
     "text": [
      "Epoch [7/10], Loss: 0.0122\n",
      "Epoch [7/10], Loss: 0.0120\n"
     ]
    },
    {
     "name": "stderr",
     "output_type": "stream",
     "text": [
      "\n",
      " 50%|█████████████████████▌                     | 49/98 [00:20<00:06,  7.43it/s]\u001b[A"
     ]
    },
    {
     "name": "stdout",
     "output_type": "stream",
     "text": [
      "Epoch [7/10], Loss: 0.0107\n",
      "Epoch [7/10], Loss: 0.0123\n",
      "Epoch [7/10], Loss: 0.0124\n"
     ]
    },
    {
     "name": "stderr",
     "output_type": "stream",
     "text": [
      "\n",
      " 52%|██████████████████████▍                    | 51/98 [00:20<00:05,  8.18it/s]\u001b[A\n",
      " 54%|███████████████████████▎                   | 53/98 [00:20<00:05,  8.84it/s]\u001b[A"
     ]
    },
    {
     "name": "stdout",
     "output_type": "stream",
     "text": [
      "Epoch [7/10], Loss: 0.0113\n",
      "Epoch [7/10], Loss: 0.0118\n",
      "Epoch [7/10], Loss: 0.0112\n"
     ]
    },
    {
     "name": "stderr",
     "output_type": "stream",
     "text": [
      "\n",
      " 56%|████████████████████████▏                  | 55/98 [00:20<00:04,  9.49it/s]\u001b[A"
     ]
    },
    {
     "name": "stdout",
     "output_type": "stream",
     "text": [
      "Epoch [7/10], Loss: 0.0113\n",
      "Epoch [7/10], Loss: 0.0112\n",
      "Epoch [7/10], Loss: 0.0103\n"
     ]
    },
    {
     "name": "stderr",
     "output_type": "stream",
     "text": [
      "\n",
      " 58%|█████████████████████████                  | 57/98 [00:20<00:03, 10.38it/s]\u001b[A\n",
      " 61%|██████████████████████████▎                | 60/98 [00:20<00:02, 13.37it/s]\u001b[A"
     ]
    },
    {
     "name": "stdout",
     "output_type": "stream",
     "text": [
      "Epoch [7/10], Loss: 0.0120\n",
      "Epoch [7/10], Loss: 0.0124\n",
      "Epoch [7/10], Loss: 0.0112\n",
      "Epoch [7/10], Loss: 0.0123\n"
     ]
    },
    {
     "name": "stderr",
     "output_type": "stream",
     "text": [
      "\n",
      " 63%|███████████████████████████▏               | 62/98 [00:28<00:36,  1.02s/it]\u001b[A\n",
      " 66%|████████████████████████████▌              | 65/98 [00:28<00:21,  1.52it/s]\u001b[A"
     ]
    },
    {
     "name": "stdout",
     "output_type": "stream",
     "text": [
      "Epoch [7/10], Loss: 0.0108\n",
      "Epoch [7/10], Loss: 0.0105\n",
      "Epoch [7/10], Loss: 0.0101\n",
      "Epoch [7/10], Loss: 0.0125\n",
      "Epoch [7/10], Loss: 0.0102\n",
      "Epoch [7/10], Loss: 0.0113\n"
     ]
    },
    {
     "name": "stderr",
     "output_type": "stream",
     "text": [
      "\n",
      " 68%|█████████████████████████████▍             | 67/98 [00:28<00:16,  1.86it/s]\u001b[A\n",
      " 71%|██████████████████████████████▋            | 70/98 [00:28<00:10,  2.78it/s]\u001b[A"
     ]
    },
    {
     "name": "stdout",
     "output_type": "stream",
     "text": [
      "Epoch [7/10], Loss: 0.0109\n",
      "Epoch [7/10], Loss: 0.0113\n",
      "Epoch [7/10], Loss: 0.0111\n",
      "Epoch [7/10], Loss: 0.0118\n",
      "Epoch [7/10], Loss: 0.0112\n",
      "Epoch [7/10], Loss: 0.0110\n"
     ]
    },
    {
     "name": "stderr",
     "output_type": "stream",
     "text": [
      "\n",
      " 76%|████████████████████████████████▍          | 74/98 [00:28<00:05,  4.41it/s]\u001b[A"
     ]
    },
    {
     "name": "stdout",
     "output_type": "stream",
     "text": [
      "Epoch [7/10], Loss: 0.0109\n",
      "Epoch [7/10], Loss: 0.0114\n",
      "Epoch [7/10], Loss: 0.0119\n",
      "Epoch [7/10], Loss: 0.0113\n",
      "Epoch [7/10], Loss: 0.0121\n"
     ]
    },
    {
     "name": "stderr",
     "output_type": "stream",
     "text": [
      "\n",
      " 80%|██████████████████████████████████▏        | 78/98 [00:28<00:03,  6.02it/s]\u001b[A\n",
      " 84%|███████████████████████████████████▉       | 82/98 [00:29<00:01,  8.31it/s]\u001b[A"
     ]
    },
    {
     "name": "stdout",
     "output_type": "stream",
     "text": [
      "Epoch [7/10], Loss: 0.0109\n",
      "Epoch [7/10], Loss: 0.0120\n",
      "Epoch [7/10], Loss: 0.0125\n",
      "Epoch [7/10], Loss: 0.0122\n",
      "Epoch [7/10], Loss: 0.0120\n",
      "Epoch [7/10], Loss: 0.0103\n",
      "Epoch [7/10], Loss: 0.0108\n"
     ]
    },
    {
     "name": "stderr",
     "output_type": "stream",
     "text": [
      "\n",
      " 88%|█████████████████████████████████████▋     | 86/98 [00:29<00:01, 10.95it/s]\u001b[A\n",
      " 92%|███████████████████████████████████████▍   | 90/98 [00:29<00:00, 13.89it/s]\u001b[A"
     ]
    },
    {
     "name": "stdout",
     "output_type": "stream",
     "text": [
      "Epoch [7/10], Loss: 0.0119\n",
      "Epoch [7/10], Loss: 0.0115\n",
      "Epoch [7/10], Loss: 0.0120\n",
      "Epoch [7/10], Loss: 0.0114\n",
      "Epoch [7/10], Loss: 0.0111\n",
      "Epoch [7/10], Loss: 0.0133\n"
     ]
    },
    {
     "name": "stderr",
     "output_type": "stream",
     "text": [
      "\n",
      " 95%|████████████████████████████████████████▊  | 93/98 [00:35<00:02,  1.76it/s]\u001b[A"
     ]
    },
    {
     "name": "stdout",
     "output_type": "stream",
     "text": [
      "Epoch [7/10], Loss: 0.0113\n",
      "Epoch [7/10], Loss: 0.0113\n",
      "Epoch [7/10], Loss: 0.0108\n",
      "Epoch [7/10], Loss: 0.0105\n"
     ]
    },
    {
     "name": "stderr",
     "output_type": "stream",
     "text": [
      "\n",
      " 97%|█████████████████████████████████████████▋ | 95/98 [00:35<00:01,  2.14it/s]\u001b[A\n",
      " 99%|██████████████████████████████████████████▌| 97/98 [00:35<00:00,  2.65it/s]\u001b[A"
     ]
    },
    {
     "name": "stdout",
     "output_type": "stream",
     "text": [
      "Epoch [7/10], Loss: 0.0114\n",
      "Epoch [7/10], Loss: 0.0115\n",
      "Epoch [7/10], Loss: 0.0120\n",
      "Epoch [7/10], Loss: 0.0129\n"
     ]
    },
    {
     "name": "stderr",
     "output_type": "stream",
     "text": [
      "100%|███████████████████████████████████████████| 98/98 [00:35<00:00,  2.73it/s]\n",
      " 70%|██████████████████████████████▊             | 7/10 [04:46<01:54, 38.22s/it]\n",
      "  0%|                                                    | 0/98 [00:00<?, ?it/s]\u001b[A\n",
      "  1%|▍                                           | 1/98 [00:11<18:15, 11.30s/it]\u001b[A\n",
      "  4%|█▊                                          | 4/98 [00:11<03:24,  2.17s/it]\u001b[A"
     ]
    },
    {
     "name": "stdout",
     "output_type": "stream",
     "text": [
      "Epoch [8/10], Loss: 0.0118\n",
      "Epoch [8/10], Loss: 0.0112\n",
      "Epoch [8/10], Loss: 0.0105\n",
      "Epoch [8/10], Loss: 0.0117\n",
      "Epoch [8/10], Loss: 0.0119\n"
     ]
    },
    {
     "name": "stderr",
     "output_type": "stream",
     "text": [
      "\n",
      "  7%|███▏                                        | 7/98 [00:11<01:33,  1.03s/it]\u001b[A\n",
      " 10%|████▍                                      | 10/98 [00:11<00:52,  1.66it/s]\u001b[A"
     ]
    },
    {
     "name": "stdout",
     "output_type": "stream",
     "text": [
      "Epoch [8/10], Loss: 0.0118\n",
      "Epoch [8/10], Loss: 0.0109\n",
      "Epoch [8/10], Loss: 0.0112\n",
      "Epoch [8/10], Loss: 0.0100\n",
      "Epoch [8/10], Loss: 0.0115\n"
     ]
    },
    {
     "name": "stderr",
     "output_type": "stream",
     "text": [
      "\n",
      " 13%|█████▋                                     | 13/98 [00:11<00:32,  2.59it/s]\u001b[A\n",
      " 16%|███████                                    | 16/98 [00:11<00:21,  3.79it/s]\u001b[A"
     ]
    },
    {
     "name": "stdout",
     "output_type": "stream",
     "text": [
      "Epoch [8/10], Loss: 0.0108\n",
      "Epoch [8/10], Loss: 0.0111\n",
      "Epoch [8/10], Loss: 0.0118\n",
      "Epoch [8/10], Loss: 0.0113\n",
      "Epoch [8/10], Loss: 0.0120\n",
      "Epoch [8/10], Loss: 0.0113\n"
     ]
    },
    {
     "name": "stderr",
     "output_type": "stream",
     "text": [
      "\n",
      " 19%|████████▎                                  | 19/98 [00:12<00:14,  5.34it/s]\u001b[A\n"
     ]
    },
    {
     "name": "stdout",
     "output_type": "stream",
     "text": [
      "Epoch [8/10], Loss: 0.0122\n",
      "Epoch [8/10], Loss: 0.0106\n",
      "Epoch [8/10], Loss: 0.0107\n",
      "Epoch [8/10], Loss: 0.0126\n",
      "Epoch [8/10], Loss: 0.0110\n",
      "Epoch [8/10], Loss: 0.0115\n",
      "Epoch [8/10], Loss: 0.0121\n"
     ]
    },
    {
     "name": "stderr",
     "output_type": "stream",
     "text": [
      " 23%|██████████                                 | 23/98 [00:12<00:09,  7.87it/s]\u001b[A\n",
      " 27%|███████████▍                               | 26/98 [00:12<00:07, 10.01it/s]\u001b[A\n",
      " 30%|████████████▋                              | 29/98 [00:12<00:05, 12.33it/s]\u001b[A"
     ]
    },
    {
     "name": "stdout",
     "output_type": "stream",
     "text": [
      "Epoch [8/10], Loss: 0.0124\n",
      "Epoch [8/10], Loss: 0.0118\n",
      "Epoch [8/10], Loss: 0.0111\n",
      "Epoch [8/10], Loss: 0.0120\n",
      "Epoch [8/10], Loss: 0.0126\n",
      "Epoch [8/10], Loss: 0.0113\n",
      "Epoch [8/10], Loss: 0.0114\n"
     ]
    },
    {
     "name": "stderr",
     "output_type": "stream",
     "text": [
      "\n",
      " 33%|██████████████                             | 32/98 [00:19<00:52,  1.25it/s]\u001b[A"
     ]
    },
    {
     "name": "stdout",
     "output_type": "stream",
     "text": [
      "Epoch [8/10], Loss: 0.0105\n",
      "Epoch [8/10], Loss: 0.0110\n"
     ]
    },
    {
     "name": "stderr",
     "output_type": "stream",
     "text": [
      "\n",
      " 35%|██████████████▉                            | 34/98 [00:20<00:42,  1.52it/s]\u001b[A\n",
      " 38%|████████████████▏                          | 37/98 [00:20<00:27,  2.18it/s]\u001b[A"
     ]
    },
    {
     "name": "stdout",
     "output_type": "stream",
     "text": [
      "Epoch [8/10], Loss: 0.0106\n",
      "Epoch [8/10], Loss: 0.0116\n",
      "Epoch [8/10], Loss: 0.0116\n",
      "Epoch [8/10], Loss: 0.0110\n",
      "Epoch [8/10], Loss: 0.0120\n",
      "Epoch [8/10], Loss: 0.0118\n"
     ]
    },
    {
     "name": "stderr",
     "output_type": "stream",
     "text": [
      "\n",
      " 41%|█████████████████▌                         | 40/98 [00:20<00:18,  3.06it/s]\u001b[A\n",
      " 44%|██████████████████▊                        | 43/98 [00:20<00:12,  4.24it/s]\u001b[A"
     ]
    },
    {
     "name": "stdout",
     "output_type": "stream",
     "text": [
      "Epoch [8/10], Loss: 0.0111\n",
      "Epoch [8/10], Loss: 0.0108\n",
      "Epoch [8/10], Loss: 0.0116\n",
      "Epoch [8/10], Loss: 0.0110\n",
      "Epoch [8/10], Loss: 0.0112\n",
      "Epoch [8/10], Loss: 0.0124\n"
     ]
    },
    {
     "name": "stderr",
     "output_type": "stream",
     "text": [
      "\n",
      " 47%|████████████████████▏                      | 46/98 [00:20<00:09,  5.72it/s]\u001b[A\n",
      " 50%|█████████████████████▌                     | 49/98 [00:20<00:06,  7.54it/s]\u001b[A"
     ]
    },
    {
     "name": "stdout",
     "output_type": "stream",
     "text": [
      "Epoch [8/10], Loss: 0.0122\n",
      "Epoch [8/10], Loss: 0.0112\n",
      "Epoch [8/10], Loss: 0.0116\n",
      "Epoch [8/10], Loss: 0.0118\n",
      "Epoch [8/10], Loss: 0.0111\n",
      "Epoch [8/10], Loss: 0.0108\n"
     ]
    },
    {
     "name": "stderr",
     "output_type": "stream",
     "text": [
      "\n",
      " 53%|██████████████████████▊                    | 52/98 [00:20<00:04,  9.71it/s]\u001b[A\n",
      " 56%|████████████████████████▏                  | 55/98 [00:20<00:03, 12.01it/s]\u001b[A"
     ]
    },
    {
     "name": "stdout",
     "output_type": "stream",
     "text": [
      "Epoch [8/10], Loss: 0.0111\n",
      "Epoch [8/10], Loss: 0.0116\n",
      "Epoch [8/10], Loss: 0.0118\n",
      "Epoch [8/10], Loss: 0.0110\n",
      "Epoch [8/10], Loss: 0.0114\n"
     ]
    },
    {
     "name": "stderr",
     "output_type": "stream",
     "text": [
      "\n",
      " 59%|█████████████████████████▍                 | 58/98 [00:21<00:03, 11.71it/s]\u001b[A"
     ]
    },
    {
     "name": "stdout",
     "output_type": "stream",
     "text": [
      "Epoch [8/10], Loss: 0.0106\n",
      "Epoch [8/10], Loss: 0.0115\n",
      "Epoch [8/10], Loss: 0.0101\n",
      "Epoch [8/10], Loss: 0.0109\n",
      "Epoch [8/10], Loss: 0.0108\n"
     ]
    },
    {
     "name": "stderr",
     "output_type": "stream",
     "text": [
      "\n",
      " 62%|██████████████████████████▊                | 61/98 [00:29<00:33,  1.10it/s]\u001b[A\n",
      " 64%|███████████████████████████▋               | 63/98 [00:29<00:25,  1.38it/s]\u001b[A"
     ]
    },
    {
     "name": "stdout",
     "output_type": "stream",
     "text": [
      "Epoch [8/10], Loss: 0.0116\n",
      "Epoch [8/10], Loss: 0.0112\n",
      "Epoch [8/10], Loss: 0.0102\n",
      "Epoch [8/10], Loss: 0.0119\n",
      "Epoch [8/10], Loss: 0.0104\n"
     ]
    },
    {
     "name": "stderr",
     "output_type": "stream",
     "text": [
      "\n",
      " 67%|████████████████████████████▉              | 66/98 [00:30<00:16,  1.96it/s]\u001b[A\n",
      " 71%|██████████████████████████████▋            | 70/98 [00:30<00:09,  3.05it/s]\u001b[A"
     ]
    },
    {
     "name": "stdout",
     "output_type": "stream",
     "text": [
      "Epoch [8/10], Loss: 0.0114\n",
      "Epoch [8/10], Loss: 0.0123\n",
      "Epoch [8/10], Loss: 0.0118\n",
      "Epoch [8/10], Loss: 0.0106\n",
      "Epoch [8/10], Loss: 0.0116\n",
      "Epoch [8/10], Loss: 0.0112\n",
      "Epoch [8/10], Loss: 0.0105\n"
     ]
    },
    {
     "name": "stderr",
     "output_type": "stream",
     "text": [
      "\n",
      " 76%|████████████████████████████████▍          | 74/98 [00:30<00:05,  4.47it/s]\u001b[A\n",
      " 80%|██████████████████████████████████▏        | 78/98 [00:30<00:03,  6.28it/s]\u001b[A"
     ]
    },
    {
     "name": "stdout",
     "output_type": "stream",
     "text": [
      "Epoch [8/10], Loss: 0.0116\n",
      "Epoch [8/10], Loss: 0.0115\n",
      "Epoch [8/10], Loss: 0.0113\n",
      "Epoch [8/10], Loss: 0.0116\n",
      "Epoch [8/10], Loss: 0.0120\n",
      "Epoch [8/10], Loss: 0.0118\n",
      "Epoch [8/10], Loss: 0.0105\n"
     ]
    },
    {
     "name": "stderr",
     "output_type": "stream",
     "text": [
      "\n",
      " 84%|███████████████████████████████████▉       | 82/98 [00:30<00:01,  8.49it/s]\u001b[A\n",
      " 88%|█████████████████████████████████████▋     | 86/98 [00:30<00:01, 11.03it/s]\u001b[A"
     ]
    },
    {
     "name": "stdout",
     "output_type": "stream",
     "text": [
      "Epoch [8/10], Loss: 0.0105\n",
      "Epoch [8/10], Loss: 0.0105\n",
      "Epoch [8/10], Loss: 0.0115\n",
      "Epoch [8/10], Loss: 0.0110\n",
      "Epoch [8/10], Loss: 0.0109\n",
      "Epoch [8/10], Loss: 0.0115\n",
      "Epoch [8/10], Loss: 0.0107\n"
     ]
    },
    {
     "name": "stderr",
     "output_type": "stream",
     "text": [
      "\n",
      " 92%|███████████████████████████████████████▍   | 90/98 [00:30<00:00, 13.89it/s]\u001b[A"
     ]
    },
    {
     "name": "stdout",
     "output_type": "stream",
     "text": [
      "Epoch [8/10], Loss: 0.0103\n",
      "Epoch [8/10], Loss: 0.0112\n",
      "Epoch [8/10], Loss: 0.0102\n",
      "Epoch [8/10], Loss: 0.0106\n"
     ]
    },
    {
     "name": "stderr",
     "output_type": "stream",
     "text": [
      "\n",
      " 95%|████████████████████████████████████████▊  | 93/98 [00:38<00:03,  1.49it/s]\u001b[A\n",
      " 98%|██████████████████████████████████████████ | 96/98 [00:38<00:01,  1.98it/s]\u001b[A"
     ]
    },
    {
     "name": "stdout",
     "output_type": "stream",
     "text": [
      "Epoch [8/10], Loss: 0.0111\n",
      "Epoch [8/10], Loss: 0.0123\n",
      "Epoch [8/10], Loss: 0.0113\n",
      "Epoch [8/10], Loss: 0.0114\n",
      "Epoch [8/10], Loss: 0.0106\n",
      "Epoch [8/10], Loss: 0.0109\n",
      "Epoch [8/10], Loss: 0.0117\n",
      "Epoch [8/10], Loss: 0.0106\n"
     ]
    },
    {
     "name": "stderr",
     "output_type": "stream",
     "text": [
      "100%|███████████████████████████████████████████| 98/98 [00:38<00:00,  2.54it/s]\n",
      " 80%|███████████████████████████████████▏        | 8/10 [05:24<01:16, 38.33s/it]\n",
      "  0%|                                                    | 0/98 [00:00<?, ?it/s]\u001b[A\n",
      "  1%|▍                                           | 1/98 [00:10<17:03, 10.55s/it]\u001b[A\n",
      "  2%|▉                                           | 2/98 [00:10<07:05,  4.43s/it]\u001b[A"
     ]
    },
    {
     "name": "stdout",
     "output_type": "stream",
     "text": [
      "Epoch [9/10], Loss: 0.0117\n",
      "Epoch [9/10], Loss: 0.0099\n"
     ]
    },
    {
     "name": "stderr",
     "output_type": "stream",
     "text": [
      "\n",
      "  4%|█▊                                          | 4/98 [00:10<02:39,  1.69s/it]\u001b[A\n",
      "  6%|██▋                                         | 6/98 [00:10<01:24,  1.09it/s]\u001b[A"
     ]
    },
    {
     "name": "stdout",
     "output_type": "stream",
     "text": [
      "Epoch [9/10], Loss: 0.0111\n",
      "Epoch [9/10], Loss: 0.0125\n",
      "Epoch [9/10], Loss: 0.0105\n",
      "Epoch [9/10], Loss: 0.0116\n"
     ]
    },
    {
     "name": "stderr",
     "output_type": "stream",
     "text": [
      "\n",
      "  8%|███▌                                        | 8/98 [00:11<00:51,  1.76it/s]\u001b[A\n",
      " 11%|████▊                                      | 11/98 [00:11<00:28,  3.07it/s]\u001b[A"
     ]
    },
    {
     "name": "stdout",
     "output_type": "stream",
     "text": [
      "Epoch [9/10], Loss: 0.0109\n",
      "Epoch [9/10], Loss: 0.0106\n",
      "Epoch [9/10], Loss: 0.0129\n",
      "Epoch [9/10], Loss: 0.0107\n",
      "Epoch [9/10], Loss: 0.0125\n"
     ]
    },
    {
     "name": "stderr",
     "output_type": "stream",
     "text": [
      "\n",
      " 14%|██████▏                                    | 14/98 [00:11<00:18,  4.66it/s]\u001b[A"
     ]
    },
    {
     "name": "stdout",
     "output_type": "stream",
     "text": [
      "Epoch [9/10], Loss: 0.0112\n",
      "Epoch [9/10], Loss: 0.0118\n",
      "Epoch [9/10], Loss: 0.0114\n",
      "Epoch [9/10], Loss: 0.0113\n",
      "Epoch [9/10], Loss: 0.0108\n"
     ]
    },
    {
     "name": "stderr",
     "output_type": "stream",
     "text": [
      "\n",
      " 17%|███████▍                                   | 17/98 [00:11<00:12,  6.55it/s]\u001b[A"
     ]
    },
    {
     "name": "stdout",
     "output_type": "stream",
     "text": [
      "Epoch [9/10], Loss: 0.0105\n",
      "Epoch [9/10], Loss: 0.0112\n",
      "Epoch [9/10], Loss: 0.0104\n"
     ]
    },
    {
     "name": "stderr",
     "output_type": "stream",
     "text": [
      "\n",
      " 20%|████████▊                                  | 20/98 [00:11<00:09,  7.99it/s]\u001b[A\n",
      " 22%|█████████▋                                 | 22/98 [00:11<00:08,  8.45it/s]\u001b[A"
     ]
    },
    {
     "name": "stdout",
     "output_type": "stream",
     "text": [
      "Epoch [9/10], Loss: 0.0115\n",
      "Epoch [9/10], Loss: 0.0116\n",
      "Epoch [9/10], Loss: 0.0112\n"
     ]
    },
    {
     "name": "stderr",
     "output_type": "stream",
     "text": [
      "\n",
      " 24%|██████████▌                                | 24/98 [00:12<00:08,  9.02it/s]\u001b[A"
     ]
    },
    {
     "name": "stdout",
     "output_type": "stream",
     "text": [
      "Epoch [9/10], Loss: 0.0105\n",
      "Epoch [9/10], Loss: 0.0111\n",
      "Epoch [9/10], Loss: 0.0120\n"
     ]
    },
    {
     "name": "stderr",
     "output_type": "stream",
     "text": [
      "\n",
      " 27%|███████████▍                               | 26/98 [00:12<00:07,  9.68it/s]\u001b[A\n",
      " 29%|████████████▎                              | 28/98 [00:12<00:06, 10.13it/s]\u001b[A"
     ]
    },
    {
     "name": "stdout",
     "output_type": "stream",
     "text": [
      "Epoch [9/10], Loss: 0.0112\n",
      "Epoch [9/10], Loss: 0.0105\n",
      "Epoch [9/10], Loss: 0.0107\n"
     ]
    },
    {
     "name": "stderr",
     "output_type": "stream",
     "text": [
      "\n",
      " 31%|█████████████▏                             | 30/98 [00:12<00:06, 10.36it/s]\u001b[A"
     ]
    },
    {
     "name": "stdout",
     "output_type": "stream",
     "text": [
      "Epoch [9/10], Loss: 0.0114\n",
      "Epoch [9/10], Loss: 0.0107\n"
     ]
    },
    {
     "name": "stderr",
     "output_type": "stream",
     "text": [
      "\n",
      " 33%|██████████████                             | 32/98 [00:19<01:10,  1.08s/it]\u001b[A"
     ]
    },
    {
     "name": "stdout",
     "output_type": "stream",
     "text": [
      "Epoch [9/10], Loss: 0.0106\n",
      "Epoch [9/10], Loss: 0.0113\n"
     ]
    },
    {
     "name": "stderr",
     "output_type": "stream",
     "text": [
      "\n",
      " 34%|██████████████▍                            | 33/98 [00:19<01:01,  1.06it/s]\u001b[A\n",
      " 37%|███████████████▊                           | 36/98 [00:19<00:34,  1.78it/s]\u001b[A"
     ]
    },
    {
     "name": "stdout",
     "output_type": "stream",
     "text": [
      "Epoch [9/10], Loss: 0.0108\n",
      "Epoch [9/10], Loss: 0.0101\n",
      "Epoch [9/10], Loss: 0.0113\n",
      "Epoch [9/10], Loss: 0.0120\n",
      "Epoch [9/10], Loss: 0.0111\n",
      "Epoch [9/10], Loss: 0.0113\n"
     ]
    },
    {
     "name": "stderr",
     "output_type": "stream",
     "text": [
      "\n",
      " 40%|█████████████████                          | 39/98 [00:20<00:21,  2.69it/s]\u001b[A\n",
      " 43%|██████████████████▍                        | 42/98 [00:20<00:14,  3.89it/s]\u001b[A"
     ]
    },
    {
     "name": "stdout",
     "output_type": "stream",
     "text": [
      "Epoch [9/10], Loss: 0.0119\n",
      "Epoch [9/10], Loss: 0.0113\n",
      "Epoch [9/10], Loss: 0.0117\n",
      "Epoch [9/10], Loss: 0.0107\n",
      "Epoch [9/10], Loss: 0.0113\n"
     ]
    },
    {
     "name": "stderr",
     "output_type": "stream",
     "text": [
      "\n",
      " 46%|███████████████████▋                       | 45/98 [00:20<00:09,  5.42it/s]\u001b[A\n",
      " 49%|█████████████████████                      | 48/98 [00:20<00:06,  7.32it/s]\u001b[A"
     ]
    },
    {
     "name": "stdout",
     "output_type": "stream",
     "text": [
      "Epoch [9/10], Loss: 0.0111\n",
      "Epoch [9/10], Loss: 0.0107\n",
      "Epoch [9/10], Loss: 0.0116\n",
      "Epoch [9/10], Loss: 0.0115\n",
      "Epoch [9/10], Loss: 0.0119\n",
      "Epoch [9/10], Loss: 0.0109\n"
     ]
    },
    {
     "name": "stderr",
     "output_type": "stream",
     "text": [
      "\n",
      " 52%|██████████████████████▍                    | 51/98 [00:20<00:04,  9.49it/s]\u001b[A\n",
      " 55%|███████████████████████▋                   | 54/98 [00:20<00:03, 11.99it/s]\u001b[A"
     ]
    },
    {
     "name": "stdout",
     "output_type": "stream",
     "text": [
      "Epoch [9/10], Loss: 0.0121\n",
      "Epoch [9/10], Loss: 0.0115\n",
      "Epoch [9/10], Loss: 0.0120\n",
      "Epoch [9/10], Loss: 0.0107\n",
      "Epoch [9/10], Loss: 0.0128\n",
      "Epoch [9/10], Loss: 0.0116\n"
     ]
    },
    {
     "name": "stderr",
     "output_type": "stream",
     "text": [
      "\n",
      " 58%|█████████████████████████                  | 57/98 [00:20<00:02, 14.60it/s]\u001b[A"
     ]
    },
    {
     "name": "stdout",
     "output_type": "stream",
     "text": [
      "Epoch [9/10], Loss: 0.0106\n",
      "Epoch [9/10], Loss: 0.0118\n",
      "Epoch [9/10], Loss: 0.0121\n",
      "Epoch [9/10], Loss: 0.0104\n",
      "Epoch [9/10], Loss: 0.0116\n"
     ]
    },
    {
     "name": "stderr",
     "output_type": "stream",
     "text": [
      "\n",
      " 62%|██████████████████████████▊                | 61/98 [00:28<00:27,  1.36it/s]\u001b[A"
     ]
    },
    {
     "name": "stdout",
     "output_type": "stream",
     "text": [
      "Epoch [9/10], Loss: 0.0115\n",
      "Epoch [9/10], Loss: 0.0123\n"
     ]
    },
    {
     "name": "stderr",
     "output_type": "stream",
     "text": [
      "\n",
      " 64%|███████████████████████████▋               | 63/98 [00:28<00:21,  1.66it/s]\u001b[A\n",
      " 68%|█████████████████████████████▍             | 67/98 [00:28<00:12,  2.57it/s]\u001b[A"
     ]
    },
    {
     "name": "stdout",
     "output_type": "stream",
     "text": [
      "Epoch [9/10], Loss: 0.0119\n",
      "Epoch [9/10], Loss: 0.0100\n",
      "Epoch [9/10], Loss: 0.0089\n",
      "Epoch [9/10], Loss: 0.0112\n",
      "Epoch [9/10], Loss: 0.0115\n",
      "Epoch [9/10], Loss: 0.0101\n"
     ]
    },
    {
     "name": "stderr",
     "output_type": "stream",
     "text": [
      "\n",
      " 71%|██████████████████████████████▋            | 70/98 [00:28<00:08,  3.28it/s]\u001b[A\n",
      " 74%|████████████████████████████████           | 73/98 [00:29<00:05,  4.38it/s]\u001b[A"
     ]
    },
    {
     "name": "stdout",
     "output_type": "stream",
     "text": [
      "Epoch [9/10], Loss: 0.0114\n",
      "Epoch [9/10], Loss: 0.0117\n",
      "Epoch [9/10], Loss: 0.0120\n",
      "Epoch [9/10], Loss: 0.0115\n",
      "Epoch [9/10], Loss: 0.0116\n",
      "Epoch [9/10], Loss: 0.0103\n"
     ]
    },
    {
     "name": "stderr",
     "output_type": "stream",
     "text": [
      "\n",
      " 79%|█████████████████████████████████▊         | 77/98 [00:29<00:03,  6.30it/s]\u001b[A\n",
      " 83%|███████████████████████████████████▌       | 81/98 [00:29<00:01,  8.63it/s]\u001b[A"
     ]
    },
    {
     "name": "stdout",
     "output_type": "stream",
     "text": [
      "Epoch [9/10], Loss: 0.0093\n",
      "Epoch [9/10], Loss: 0.0124\n",
      "Epoch [9/10], Loss: 0.0104\n",
      "Epoch [9/10], Loss: 0.0112\n",
      "Epoch [9/10], Loss: 0.0115\n",
      "Epoch [9/10], Loss: 0.0124\n",
      "Epoch [9/10], Loss: 0.0111\n"
     ]
    },
    {
     "name": "stderr",
     "output_type": "stream",
     "text": [
      "\n",
      " 87%|█████████████████████████████████████▎     | 85/98 [00:29<00:01, 11.30it/s]\u001b[A"
     ]
    },
    {
     "name": "stdout",
     "output_type": "stream",
     "text": [
      "Epoch [9/10], Loss: 0.0117\n",
      "Epoch [9/10], Loss: 0.0106\n",
      "Epoch [9/10], Loss: 0.0116\n",
      "Epoch [9/10], Loss: 0.0123\n",
      "Epoch [9/10], Loss: 0.0110\n",
      "Epoch [9/10], Loss: 0.0116\n",
      "Epoch [9/10], Loss: 0.0109\n"
     ]
    },
    {
     "name": "stderr",
     "output_type": "stream",
     "text": [
      "\n",
      " 91%|███████████████████████████████████████    | 89/98 [00:29<00:00, 14.11it/s]\u001b[A"
     ]
    },
    {
     "name": "stdout",
     "output_type": "stream",
     "text": [
      "Epoch [9/10], Loss: 0.0119\n",
      "Epoch [9/10], Loss: 0.0104\n"
     ]
    },
    {
     "name": "stderr",
     "output_type": "stream",
     "text": [
      "\n",
      " 94%|████████████████████████████████████████▎  | 92/98 [00:35<00:03,  1.89it/s]\u001b[A"
     ]
    },
    {
     "name": "stdout",
     "output_type": "stream",
     "text": [
      "Epoch [9/10], Loss: 0.0103\n",
      "Epoch [9/10], Loss: 0.0125\n"
     ]
    },
    {
     "name": "stderr",
     "output_type": "stream",
     "text": [
      "\n",
      " 96%|█████████████████████████████████████████▏ | 94/98 [00:35<00:01,  2.23it/s]\u001b[A\n",
      " 99%|██████████████████████████████████████████▌| 97/98 [00:35<00:00,  3.06it/s]\u001b[A"
     ]
    },
    {
     "name": "stdout",
     "output_type": "stream",
     "text": [
      "Epoch [9/10], Loss: 0.0111\n",
      "Epoch [9/10], Loss: 0.0109\n",
      "Epoch [9/10], Loss: 0.0118\n",
      "Epoch [9/10], Loss: 0.0105\n",
      "Epoch [9/10], Loss: 0.0112\n",
      "Epoch [9/10], Loss: 0.0102\n"
     ]
    },
    {
     "name": "stderr",
     "output_type": "stream",
     "text": [
      "100%|███████████████████████████████████████████| 98/98 [00:35<00:00,  2.74it/s]\n",
      " 90%|███████████████████████████████████████▌    | 9/10 [06:00<00:37, 37.52s/it]\n",
      "  0%|                                                    | 0/98 [00:00<?, ?it/s]\u001b[A\n",
      "  1%|▍                                           | 1/98 [00:11<18:42, 11.57s/it]\u001b[A\n",
      "  4%|█▊                                          | 4/98 [00:11<03:29,  2.23s/it]\u001b[A"
     ]
    },
    {
     "name": "stdout",
     "output_type": "stream",
     "text": [
      "Epoch [10/10], Loss: 0.0119\n",
      "Epoch [10/10], Loss: 0.0105\n",
      "Epoch [10/10], Loss: 0.0105\n",
      "Epoch [10/10], Loss: 0.0107\n",
      "Epoch [10/10], Loss: 0.0111\n",
      "Epoch [10/10], Loss: 0.0117\n"
     ]
    },
    {
     "name": "stderr",
     "output_type": "stream",
     "text": [
      "\n",
      "  7%|███▏                                        | 7/98 [00:12<01:40,  1.10s/it]\u001b[A"
     ]
    },
    {
     "name": "stdout",
     "output_type": "stream",
     "text": [
      "Epoch [10/10], Loss: 0.0105\n"
     ]
    },
    {
     "name": "stderr",
     "output_type": "stream",
     "text": [
      "\n",
      "  9%|████                                        | 9/98 [00:12<01:17,  1.15it/s]\u001b[A\n",
      " 10%|████▍                                      | 10/98 [00:13<01:03,  1.39it/s]\u001b[A"
     ]
    },
    {
     "name": "stdout",
     "output_type": "stream",
     "text": [
      "Epoch [10/10], Loss: 0.0111\n",
      "Epoch [10/10], Loss: 0.0106\n",
      "Epoch [10/10], Loss: 0.0115\n"
     ]
    },
    {
     "name": "stderr",
     "output_type": "stream",
     "text": [
      "\n",
      " 12%|█████▎                                     | 12/98 [00:13<00:41,  2.08it/s]\u001b[A\n",
      " 15%|██████▌                                    | 15/98 [00:13<00:24,  3.43it/s]\u001b[A"
     ]
    },
    {
     "name": "stdout",
     "output_type": "stream",
     "text": [
      "Epoch [10/10], Loss: 0.0105\n",
      "Epoch [10/10], Loss: 0.0115\n",
      "Epoch [10/10], Loss: 0.0111\n",
      "Epoch [10/10], Loss: 0.0102\n",
      "Epoch [10/10], Loss: 0.0120\n"
     ]
    },
    {
     "name": "stderr",
     "output_type": "stream",
     "text": [
      "\n",
      " 18%|███████▉                                   | 18/98 [00:13<00:15,  5.14it/s]\u001b[A\n",
      " 21%|█████████▏                                 | 21/98 [00:13<00:10,  7.23it/s]\u001b[A"
     ]
    },
    {
     "name": "stdout",
     "output_type": "stream",
     "text": [
      "Epoch [10/10], Loss: 0.0116\n",
      "Epoch [10/10], Loss: 0.0106\n",
      "Epoch [10/10], Loss: 0.0119\n",
      "Epoch [10/10], Loss: 0.0115\n",
      "Epoch [10/10], Loss: 0.0101\n",
      "Epoch [10/10], Loss: 0.0109\n"
     ]
    },
    {
     "name": "stderr",
     "output_type": "stream",
     "text": [
      "\n",
      " 24%|██████████▌                                | 24/98 [00:13<00:07,  9.68it/s]\u001b[A\n",
      " 28%|███████████▊                               | 27/98 [00:13<00:05, 12.29it/s]\u001b[A"
     ]
    },
    {
     "name": "stdout",
     "output_type": "stream",
     "text": [
      "Epoch [10/10], Loss: 0.0107\n",
      "Epoch [10/10], Loss: 0.0112\n",
      "Epoch [10/10], Loss: 0.0122\n",
      "Epoch [10/10], Loss: 0.0104\n",
      "Epoch [10/10], Loss: 0.0101\n",
      "Epoch [10/10], Loss: 0.0110\n"
     ]
    },
    {
     "name": "stderr",
     "output_type": "stream",
     "text": [
      "\n",
      " 31%|█████████████▏                             | 30/98 [00:13<00:04, 15.02it/s]\u001b[A"
     ]
    },
    {
     "name": "stdout",
     "output_type": "stream",
     "text": [
      "Epoch [10/10], Loss: 0.0104\n",
      "Epoch [10/10], Loss: 0.0120\n",
      "Epoch [10/10], Loss: 0.0116\n"
     ]
    },
    {
     "name": "stderr",
     "output_type": "stream",
     "text": [
      "\n",
      " 34%|██████████████▍                            | 33/98 [00:21<00:55,  1.16it/s]\u001b[A\n",
      " 37%|███████████████▊                           | 36/98 [00:21<00:37,  1.65it/s]\u001b[A"
     ]
    },
    {
     "name": "stdout",
     "output_type": "stream",
     "text": [
      "Epoch [10/10], Loss: 0.0109\n",
      "Epoch [10/10], Loss: 0.0122\n",
      "Epoch [10/10], Loss: 0.0116\n",
      "Epoch [10/10], Loss: 0.0124\n",
      "Epoch [10/10], Loss: 0.0113\n",
      "Epoch [10/10], Loss: 0.0115\n"
     ]
    },
    {
     "name": "stderr",
     "output_type": "stream",
     "text": [
      "\n",
      " 40%|█████████████████                          | 39/98 [00:21<00:25,  2.30it/s]\u001b[A"
     ]
    },
    {
     "name": "stdout",
     "output_type": "stream",
     "text": [
      "Epoch [10/10], Loss: 0.0112\n",
      "Epoch [10/10], Loss: 0.0111\n",
      "Epoch [10/10], Loss: 0.0120\n",
      "Epoch [10/10], Loss: 0.0133\n",
      "Epoch [10/10], Loss: 0.0111\n"
     ]
    },
    {
     "name": "stderr",
     "output_type": "stream",
     "text": [
      "\n",
      " 43%|██████████████████▍                        | 42/98 [00:21<00:17,  3.19it/s]\u001b[A\n",
      " 46%|███████████████████▋                       | 45/98 [00:22<00:12,  4.35it/s]\u001b[A"
     ]
    },
    {
     "name": "stdout",
     "output_type": "stream",
     "text": [
      "Epoch [10/10], Loss: 0.0111\n",
      "Epoch [10/10], Loss: 0.0116\n",
      "Epoch [10/10], Loss: 0.0097\n",
      "Epoch [10/10], Loss: 0.0114\n",
      "Epoch [10/10], Loss: 0.0115\n",
      "Epoch [10/10], Loss: 0.0111\n"
     ]
    },
    {
     "name": "stderr",
     "output_type": "stream",
     "text": [
      "\n",
      " 49%|█████████████████████                      | 48/98 [00:22<00:08,  5.83it/s]\u001b[A\n",
      " 52%|██████████████████████▍                    | 51/98 [00:22<00:06,  7.66it/s]\u001b[A"
     ]
    },
    {
     "name": "stdout",
     "output_type": "stream",
     "text": [
      "Epoch [10/10], Loss: 0.0109\n",
      "Epoch [10/10], Loss: 0.0108\n",
      "Epoch [10/10], Loss: 0.0109\n",
      "Epoch [10/10], Loss: 0.0125\n",
      "Epoch [10/10], Loss: 0.0113\n",
      "Epoch [10/10], Loss: 0.0123\n"
     ]
    },
    {
     "name": "stderr",
     "output_type": "stream",
     "text": [
      "\n",
      " 55%|███████████████████████▋                   | 54/98 [00:22<00:04,  9.81it/s]\u001b[A"
     ]
    },
    {
     "name": "stdout",
     "output_type": "stream",
     "text": [
      "Epoch [10/10], Loss: 0.0111\n",
      "Epoch [10/10], Loss: 0.0103\n",
      "Epoch [10/10], Loss: 0.0117\n"
     ]
    },
    {
     "name": "stderr",
     "output_type": "stream",
     "text": [
      "\n",
      " 58%|█████████████████████████                  | 57/98 [00:22<00:03, 10.82it/s]\u001b[A"
     ]
    },
    {
     "name": "stdout",
     "output_type": "stream",
     "text": [
      "Epoch [10/10], Loss: 0.0117\n",
      "Epoch [10/10], Loss: 0.0119\n",
      "Epoch [10/10], Loss: 0.0123\n"
     ]
    },
    {
     "name": "stderr",
     "output_type": "stream",
     "text": [
      "\n",
      " 61%|██████████████████████████▎                | 60/98 [00:22<00:03, 10.70it/s]\u001b[A"
     ]
    },
    {
     "name": "stdout",
     "output_type": "stream",
     "text": [
      "Epoch [10/10], Loss: 0.0111\n"
     ]
    },
    {
     "name": "stderr",
     "output_type": "stream",
     "text": [
      "\n",
      " 63%|███████████████████████████▏               | 62/98 [00:30<00:33,  1.08it/s]\u001b[A"
     ]
    },
    {
     "name": "stdout",
     "output_type": "stream",
     "text": [
      "Epoch [10/10], Loss: 0.0101\n",
      "Epoch [10/10], Loss: 0.0128\n",
      "Epoch [10/10], Loss: 0.0110\n"
     ]
    },
    {
     "name": "stderr",
     "output_type": "stream",
     "text": [
      "\n",
      " 65%|████████████████████████████               | 64/98 [00:30<00:24,  1.37it/s]\u001b[A"
     ]
    },
    {
     "name": "stdout",
     "output_type": "stream",
     "text": [
      "Epoch [10/10], Loss: 0.0108\n"
     ]
    },
    {
     "name": "stderr",
     "output_type": "stream",
     "text": [
      "\n",
      " 67%|████████████████████████████▉              | 66/98 [00:31<00:18,  1.71it/s]\u001b[A"
     ]
    },
    {
     "name": "stdout",
     "output_type": "stream",
     "text": [
      "Epoch [10/10], Loss: 0.0123\n",
      "Epoch [10/10], Loss: 0.0104\n"
     ]
    },
    {
     "name": "stderr",
     "output_type": "stream",
     "text": [
      "\n",
      " 69%|█████████████████████████████▊             | 68/98 [00:31<00:13,  2.15it/s]\u001b[A\n",
      " 73%|███████████████████████████████▌           | 72/98 [00:31<00:07,  3.61it/s]\u001b[A"
     ]
    },
    {
     "name": "stdout",
     "output_type": "stream",
     "text": [
      "Epoch [10/10], Loss: 0.0105\n",
      "Epoch [10/10], Loss: 0.0109\n",
      "Epoch [10/10], Loss: 0.0108\n",
      "Epoch [10/10], Loss: 0.0096\n",
      "Epoch [10/10], Loss: 0.0111\n",
      "Epoch [10/10], Loss: 0.0115\n",
      "Epoch [10/10], Loss: 0.0107\n"
     ]
    },
    {
     "name": "stderr",
     "output_type": "stream",
     "text": [
      "\n",
      " 77%|████████████████████████████████▉          | 75/98 [00:31<00:04,  5.00it/s]\u001b[A\n",
      " 81%|██████████████████████████████████▋        | 79/98 [00:31<00:02,  7.32it/s]\u001b[A"
     ]
    },
    {
     "name": "stdout",
     "output_type": "stream",
     "text": [
      "Epoch [10/10], Loss: 0.0104\n",
      "Epoch [10/10], Loss: 0.0111\n",
      "Epoch [10/10], Loss: 0.0102\n",
      "Epoch [10/10], Loss: 0.0109\n",
      "Epoch [10/10], Loss: 0.0109\n",
      "Epoch [10/10], Loss: 0.0123\n",
      "Epoch [10/10], Loss: 0.0119\n"
     ]
    },
    {
     "name": "stderr",
     "output_type": "stream",
     "text": [
      "\n",
      " 85%|████████████████████████████████████▍      | 83/98 [00:31<00:01,  9.97it/s]\u001b[A\n",
      " 88%|█████████████████████████████████████▋     | 86/98 [00:32<00:00, 12.08it/s]\u001b[A"
     ]
    },
    {
     "name": "stdout",
     "output_type": "stream",
     "text": [
      "Epoch [10/10], Loss: 0.0112\n",
      "Epoch [10/10], Loss: 0.0116\n",
      "Epoch [10/10], Loss: 0.0114\n",
      "Epoch [10/10], Loss: 0.0105\n",
      "Epoch [10/10], Loss: 0.0108\n",
      "Epoch [10/10], Loss: 0.0112\n"
     ]
    },
    {
     "name": "stderr",
     "output_type": "stream",
     "text": [
      "\n",
      " 91%|███████████████████████████████████████    | 89/98 [00:32<00:00, 14.48it/s]\u001b[A"
     ]
    },
    {
     "name": "stdout",
     "output_type": "stream",
     "text": [
      "Epoch [10/10], Loss: 0.0106\n",
      "Epoch [10/10], Loss: 0.0106\n",
      "Epoch [10/10], Loss: 0.0110\n",
      "Epoch [10/10], Loss: 0.0111\n"
     ]
    },
    {
     "name": "stderr",
     "output_type": "stream",
     "text": [
      "\n",
      " 94%|████████████████████████████████████████▎  | 92/98 [00:37<00:03,  1.66it/s]\u001b[A"
     ]
    },
    {
     "name": "stdout",
     "output_type": "stream",
     "text": [
      "Epoch [10/10], Loss: 0.0121\n",
      "Epoch [10/10], Loss: 0.0100\n",
      "Epoch [10/10], Loss: 0.0118\n",
      "Epoch [10/10], Loss: 0.0093\n"
     ]
    },
    {
     "name": "stderr",
     "output_type": "stream",
     "text": [
      "\n",
      " 97%|█████████████████████████████████████████▋ | 95/98 [00:38<00:01,  2.03it/s]\u001b[A\n",
      "100%|███████████████████████████████████████████| 98/98 [00:38<00:00,  2.78it/s]\u001b[A"
     ]
    },
    {
     "name": "stdout",
     "output_type": "stream",
     "text": [
      "Epoch [10/10], Loss: 0.0120\n",
      "Epoch [10/10], Loss: 0.0113\n",
      "Epoch [10/10], Loss: 0.0119\n",
      "Epoch [10/10], Loss: 0.0115\n"
     ]
    },
    {
     "name": "stderr",
     "output_type": "stream",
     "text": [
      "100%|███████████████████████████████████████████| 98/98 [00:38<00:00,  2.52it/s]\n",
      "100%|███████████████████████████████████████████| 10/10 [06:39<00:00, 39.94s/it]\n"
     ]
    }
   ],
   "source": [
    "train_loader = dataloader\n",
    "\n",
    "losses = []\n",
    "for epoch in tqdm(range(num_epochs)):\n",
    "    for data in tqdm(train_loader):\n",
    "        perturb_model(model, pr, p_sigma)\n",
    "        images = data\n",
    "        B, seq_len, H,W = images.shape #512, 2, 8, 8\n",
    "        images = images.view(B, seq_len, -1)\n",
    "        reconstructions = model(images)\n",
    "        loss = nn.MSELoss()(reconstructions, images)\n",
    "        optimizer.zero_grad()\n",
    "        loss.backward()\n",
    "        losses.append(loss.item())\n",
    "        optimizer.step()\n",
    "        print('Epoch [{}/{}], Loss: {:.4f}'.format(epoch+1, num_epochs, loss.item()))"
   ]
  },
  {
   "cell_type": "markdown",
   "id": "e6c64a78",
   "metadata": {},
   "source": [
    "# Probe the models"
   ]
  },
  {
   "cell_type": "code",
   "execution_count": 60,
   "id": "7439480b",
   "metadata": {},
   "outputs": [],
   "source": [
    "class RecAutoencoder(nn.Module):\n",
    "    def __init__(self, input_size, hidden_size, seq_len, num_rnnlayers=1):\n",
    "        super(RecAutoencoder, self).__init__()\n",
    "        self.hidden_size = hidden_size\n",
    "        self.num_rnnlayers = num_rnnlayers\n",
    "        self.encoder = nn.RNN(input_size, hidden_size, num_layers=num_rnnlayers, batch_first=True, nonlinearity='relu')\n",
    "        self.decoder = nn.Linear(hidden_size, input_size)\n",
    "\n",
    "    def forward(self, x):\n",
    "        # Initialize hidden state\n",
    "        h0 = torch.zeros(self.num_rnnlayers, x.size(0), self.hidden_size).to(x.device)\n",
    "        # Feed input through the encoder RNN\n",
    "        out, _ = self.encoder(x, h0)\n",
    "        # apply the linear layer on each of the steps of the RNN output.\n",
    "        B,S,H = out.shape\n",
    "        out = out.reshape(B*S,H)\n",
    "        out = self.decoder(out)\n",
    "        return out.view(B,S,input_size)"
   ]
  },
  {
   "cell_type": "code",
   "execution_count": 130,
   "id": "9bcfd216",
   "metadata": {},
   "outputs": [],
   "source": [
    "seq_len = 6\n",
    "ds_rate = 6\n",
    "num_rnnlayers = 2\n",
    "\n",
    "sample_len = seq_len*ds_rate\n",
    "n_samples = 50000\n",
    "sample_stride = int(len(fpathlist)/n_samples)\n",
    "\n",
    "image_paths = [fpathlist[i:i+sample_len:ds_rate] \n",
    " for i in range(0, n_samples*sample_stride, sample_stride)]\n",
    "\n",
    "dataset = ImageSequenceDataset(image_paths, transform=transform)\n"
   ]
  },
  {
   "cell_type": "markdown",
   "id": "4e1ff991",
   "metadata": {},
   "source": [
    "## Load pretrained models"
   ]
  },
  {
   "cell_type": "code",
   "execution_count": 96,
   "id": "3d03f675",
   "metadata": {},
   "outputs": [],
   "source": [
    "# PATH = '/N/slate/sheybani/tmp_dir/trainedmodels/slowness_ae/rae0_h16.pt'\n",
    "# model0 = torch.load(PATH)"
   ]
  },
  {
   "cell_type": "code",
   "execution_count": 146,
   "id": "dbfcad4a",
   "metadata": {},
   "outputs": [],
   "source": [
    "PATH = '/N/slate/sheybani/tmp_dir/trainedmodels/slowness_ae/rae0_h16_v024.pt'\n",
    "checkpoint = torch.load(PATH)\n",
    "model0 = RecAutoencoder(input_size, hidden_size, seq_len, num_rnnlayers=num_rnnlayers)\n",
    "model0.load_state_dict(checkpoint['model_state_dict'])\n",
    "losses0 = checkpoint['loss']"
   ]
  },
  {
   "cell_type": "code",
   "execution_count": 147,
   "id": "84a94982",
   "metadata": {},
   "outputs": [],
   "source": [
    "PATH = '/N/slate/sheybani/tmp_dir/trainedmodels/slowness_ae/rae0_h16_v025.pt'\n",
    "checkpoint = torch.load(PATH)\n",
    "model2 = RecAutoencoder(input_size, hidden_size, seq_len, num_rnnlayers=num_rnnlayers)\n",
    "model2.load_state_dict(checkpoint['model_state_dict'])\n",
    "losses2 = checkpoint['loss']"
   ]
  },
  {
   "cell_type": "markdown",
   "id": "2d9debaa",
   "metadata": {},
   "source": [
    "# Probe the models"
   ]
  },
  {
   "cell_type": "code",
   "execution_count": 148,
   "id": "db48ebc9",
   "metadata": {},
   "outputs": [],
   "source": [
    "\n",
    "# print(len(image_paths[50]))"
   ]
  },
  {
   "cell_type": "code",
   "execution_count": 149,
   "id": "f9698b08",
   "metadata": {},
   "outputs": [
    {
     "name": "stderr",
     "output_type": "stream",
     "text": [
      "No artists with labels found to put in legend.  Note that artists whose label start with an underscore are ignored when legend() is called with no argument.\n"
     ]
    },
    {
     "data": {
      "text/plain": [
       "<matplotlib.legend.Legend at 0x7f615c92be80>"
      ]
     },
     "execution_count": 149,
     "metadata": {},
     "output_type": "execute_result"
    },
    {
     "data": {
      "image/png": "[encoded data removed]",
      "text/plain": [
       "<Figure size 432x288 with 1 Axes>"
      ]
     },
     "metadata": {
      "needs_background": "light"
     },
     "output_type": "display_data"
    }
   ],
   "source": [
    "plt.plot(losses0)#, label='2-4mo')\n",
    "plt.plot(losses2)#, label='10-12mo')\n",
    "plt.xscale('log')\n",
    "plt.legend()"
   ]
  },
  {
   "cell_type": "markdown",
   "id": "9b09c183",
   "metadata": {},
   "source": [
    "## Compare the image reconstruction visually"
   ]
  },
  {
   "cell_type": "code",
   "execution_count": 150,
   "id": "95882a67",
   "metadata": {},
   "outputs": [],
   "source": [
    "def compare_reconstruction(images, seq_len, *models):\n",
    "    n_models = len(models)\n",
    "    nrow = 1+n_models\n",
    "    fig,ax = plt.subplots(nrow,seq_len, figsize=(seq_len*2,2*nrow))\n",
    "    \n",
    "    for i_seq in range(seq_len):\n",
    "        cax = ax[0,i_seq]\n",
    "        cax.imshow(images[i_seq,...], cmap='gray')\n",
    "        cax.set_title('t='+str(i_seq))\n",
    "#         ax[0,1].imshow(images[1,...], cmap='gray')\n",
    "    ax[0,0].set_ylabel('input')\n",
    "    \n",
    "    inp = images.view(1, seq_len,-1)\n",
    "    \n",
    "    for i_model in range(n_models):\n",
    "        model = models[i_model]\n",
    "        pred = model(inp)\n",
    "        xrec = pred.reshape(seq_len,8,8).detach().numpy()\n",
    "#         return xrec #@@@\n",
    "        print('Reconst. err=', F.mse_loss(pred, inp))\n",
    "        for i_seq in range(seq_len):\n",
    "            cax = ax[1+i_model,i_seq]\n",
    "            cax.imshow(xrec[0,...], cmap='gray')\n",
    "        \n",
    "        label = 'model '+str(i_model)+' output'\n",
    "        ax[1+i_model,0].set_ylabel(label)\n",
    "#     fig.tight_layout()\n",
    "#     fig.subplots_adjust(wspace=0, hspace=0)\n",
    "    return fig,ax"
   ]
  },
  {
   "cell_type": "code",
   "execution_count": 151,
   "id": "b33be609",
   "metadata": {},
   "outputs": [
    {
     "name": "stdout",
     "output_type": "stream",
     "text": [
      "Reconst. err= tensor(0.1309, grad_fn=<MseLossBackward0>)\n",
      "Reconst. err= tensor(0.1273, grad_fn=<MseLossBackward0>)\n"
     ]
    },
    {
     "data": {
      "image/png": "[encoded data removed]",
      "text/plain": [
       "<Figure size 864x432 with 18 Axes>"
      ]
     },
     "metadata": {
      "needs_background": "light"
     },
     "output_type": "display_data"
    }
   ],
   "source": [
    "xtt = dataset[110]\n",
    "fig,ax = compare_reconstruction(xtt, seq_len, model0, model2)"
   ]
  },
  {
   "cell_type": "markdown",
   "id": "6acff98e",
   "metadata": {},
   "source": [
    "## Decoder Latent Factors"
   ]
  },
  {
   "cell_type": "code",
   "execution_count": 152,
   "id": "eae3992b",
   "metadata": {},
   "outputs": [],
   "source": [
    "def get_decoder_receptive_field(recmodel, hidden_size, idx):\n",
    "    stimulus = torch.zeros(hidden_size)\n",
    "    stimulus[idx] = 1\n",
    "    return recmodel.decoder(stimulus).reshape(8,8).detach().numpy()"
   ]
  },
  {
   "cell_type": "code",
   "execution_count": 154,
   "id": "ac881fac",
   "metadata": {},
   "outputs": [
    {
     "data": {
      "text/plain": [
       "Text(0.5, 0.98, 'Decoder Latent Factors')"
      ]
     },
     "execution_count": 154,
     "metadata": {},
     "output_type": "execute_result"
    },
    {
     "data": {
      "image/png": "[encoded data removed]",
      "text/plain": [
       "<Figure size 576x576 with 16 Axes>"
      ]
     },
     "metadata": {
      "needs_background": "light"
     },
     "output_type": "display_data"
    }
   ],
   "source": [
    "nrow,ncol=4,4\n",
    "fig,ax = plt.subplots(nrow,ncol, figsize=(ncol*2, nrow*2))\n",
    "for irow in range(nrow):\n",
    "    for icol in range(ncol):\n",
    "        idx = icol+irow*ncol\n",
    "        ytt = get_decoder_receptive_field(model2, hidden_size, idx)\n",
    "        ax[irow,icol].imshow(ytt, cmap='gray')\n",
    "fig.suptitle('Decoder Latent Factors')"
   ]
  },
  {
   "cell_type": "code",
   "execution_count": 134,
   "id": "d43736f7",
   "metadata": {},
   "outputs": [],
   "source": [
    "# PATH = '/N/slate/sheybani/tmp_dir/trainedmodels/slowness_ae/rae4951_h16.pt'\n",
    "# torch.save(model, PATH)"
   ]
  },
  {
   "cell_type": "markdown",
   "id": "e189a06c",
   "metadata": {},
   "source": [
    "## Encoder weights"
   ]
  },
  {
   "cell_type": "code",
   "execution_count": 141,
   "id": "644dc4ef",
   "metadata": {},
   "outputs": [],
   "source": [
    "def get_encoderw(lmodel):\n",
    "    return lmodel.encoder.weight.data.detach().numpy()\n",
    "\n",
    "def get_recencoderw(recmodel):\n",
    "    return recmodel.encoder.weight_ih_l0.data.detach().numpy(), recmodel.encoder.weight_hh_l0.data.detach().numpy()\n",
    "\n",
    "def get_recencoder_receptive_field(weights, hidden_size, idx):\n",
    "    return weights[idx,:].reshape(8,8)"
   ]
  },
  {
   "cell_type": "code",
   "execution_count": 144,
   "id": "c44a48f1",
   "metadata": {},
   "outputs": [],
   "source": [
    "model_w, model_r = get_recencoderw(model2)"
   ]
  },
  {
   "cell_type": "code",
   "execution_count": 145,
   "id": "753f49bd",
   "metadata": {},
   "outputs": [
    {
     "data": {
      "text/plain": [
       "Text(0.5, 0.98, 'Encoder Weights')"
      ]
     },
     "execution_count": 145,
     "metadata": {},
     "output_type": "execute_result"
    },
    {
     "data": {
      "image/png": "[encoded data removed]",
      "text/plain": [
       "<Figure size 576x576 with 16 Axes>"
      ]
     },
     "metadata": {
      "needs_background": "light"
     },
     "output_type": "display_data"
    }
   ],
   "source": [
    "nrow,ncol=4,4\n",
    "fig,ax = plt.subplots(nrow,ncol, figsize=(ncol*2, nrow*2))\n",
    "for irow in range(nrow):\n",
    "    for icol in range(ncol):\n",
    "        idx = icol+irow*ncol\n",
    "        ytt = get_recencoder_receptive_field(model_w, hidden_size, idx)\n",
    "        ax[irow,icol].imshow(ytt, cmap='gray')\n",
    "fig.suptitle('Encoder Weights')"
   ]
  },
  {
   "cell_type": "code",
   "execution_count": 138,
   "id": "6c6a4a55",
   "metadata": {},
   "outputs": [
    {
     "data": {
      "text/plain": [
       "Text(0.5, 1.0, 'Recurrent weights between hidden cells')"
      ]
     },
     "execution_count": 138,
     "metadata": {},
     "output_type": "execute_result"
    },
    {
     "data": {
      "image/png": "[encoded data removed]",
      "text/plain": [
       "<Figure size 432x288 with 2 Axes>"
      ]
     },
     "metadata": {
      "needs_background": "light"
     },
     "output_type": "display_data"
    }
   ],
   "source": [
    "plt.imshow(model_0_r)\n",
    "plt.colorbar()\n",
    "plt.title('Recurrent weights between hidden cells')"
   ]
  },
  {
   "cell_type": "markdown",
   "id": "6019d838",
   "metadata": {},
   "source": [
    "## Measure specificity"
   ]
  },
  {
   "cell_type": "code",
   "execution_count": 52,
   "id": "5b016302",
   "metadata": {},
   "outputs": [],
   "source": [
    "c = torch.corrcoef(torch.as_tensor(model_w)).numpy()"
   ]
  },
  {
   "cell_type": "code",
   "execution_count": 53,
   "id": "b40921b4",
   "metadata": {},
   "outputs": [
    {
     "data": {
      "text/plain": [
       "<matplotlib.colorbar.Colorbar at 0x7fa7bcbe0370>"
      ]
     },
     "execution_count": 53,
     "metadata": {},
     "output_type": "execute_result"
    },
    {
     "data": {
      "image/png": "[encoded data removed]",
      "text/plain": [
       "<Figure size 432x288 with 2 Axes>"
      ]
     },
     "metadata": {
      "needs_background": "light"
     },
     "output_type": "display_data"
    }
   ],
   "source": [
    "plt.imshow(c)\n",
    "plt.title('correlation between the weights of the hidden layer cells')\n",
    "plt.colorbar()"
   ]
  },
  {
   "cell_type": "code",
   "execution_count": 155,
   "id": "171afe5f",
   "metadata": {},
   "outputs": [],
   "source": [
    "model_0_w, model_0_r = get_recencoderw(model0)\n",
    "model_2_w, model_2_r= get_recencoderw(model2)"
   ]
  },
  {
   "cell_type": "code",
   "execution_count": 156,
   "id": "1b3db77a",
   "metadata": {},
   "outputs": [
    {
     "data": {
      "text/plain": [
       "<matplotlib.legend.Legend at 0x7f615b5c86a0>"
      ]
     },
     "execution_count": 156,
     "metadata": {},
     "output_type": "execute_result"
    },
    {
     "data": {
      "image/png": "[encoded data removed]",
      "text/plain": [
       "<Figure size 432x288 with 1 Axes>"
      ]
     },
     "metadata": {
      "needs_background": "light"
     },
     "output_type": "display_data"
    }
   ],
   "source": [
    "_ = plt.hist(model_0_w.flatten(), bins=50, histtype='step', label='2-4mo')\n",
    "_ = plt.hist(model_2_w.flatten(), bins=50, histtype='step', label='10-12mo')\n",
    "plt.xlabel('w val')\n",
    "plt.legend()"
   ]
  },
  {
   "cell_type": "code",
   "execution_count": 56,
   "id": "0fbf01de",
   "metadata": {},
   "outputs": [],
   "source": [
    "c0 = torch.corrcoef(torch.as_tensor(model_0_w)).numpy()\n",
    "c2 = torch.corrcoef(torch.as_tensor(model_2_w)).numpy()"
   ]
  },
  {
   "cell_type": "code",
   "execution_count": 57,
   "id": "1cd5e51f",
   "metadata": {},
   "outputs": [
    {
     "data": {
      "text/plain": [
       "Text(0.5, 0, 'correlation between the weights of the hidden layer cells')"
      ]
     },
     "execution_count": 57,
     "metadata": {},
     "output_type": "execute_result"
    },
    {
     "data": {
      "image/png": "[encoded data removed]",
      "text/plain": [
       "<Figure size 432x288 with 1 Axes>"
      ]
     },
     "metadata": {
      "needs_background": "light"
     },
     "output_type": "display_data"
    }
   ],
   "source": [
    "_ = plt.hist(c0.flatten(), bins=50, histtype='step', label='2-4mo')\n",
    "_ = plt.hist(c2.flatten(), bins=50, histtype='step', label='10-12mo')\n",
    "plt.legend()\n",
    "plt.xlabel('correlation between the weights of the hidden layer cells')"
   ]
  },
  {
   "cell_type": "code",
   "execution_count": 9,
   "id": "167b9c7a",
   "metadata": {},
   "outputs": [],
   "source": [
    "def gini(x):\n",
    "    # (Warning: This is a concise implementation, but it is O(n**2)\n",
    "    # in time and memory, where n = len(x).  *Don't* pass in huge\n",
    "    # samples!)\n",
    "\n",
    "    # Mean absolute difference\n",
    "    mad = np.abs(np.subtract.outer(x, x)).mean()\n",
    "    # Relative mean absolute difference\n",
    "    rmad = mad/np.mean(x)\n",
    "    # Gini coefficient\n",
    "    g = 0.5 * rmad\n",
    "    return g"
   ]
  },
  {
   "cell_type": "code",
   "execution_count": 40,
   "id": "bc9b602e",
   "metadata": {},
   "outputs": [],
   "source": [
    "w_y_cor = [np.dot(model_y_w[i,0,:],model_y_w[i,1,:])\n",
    "          for i in range(128)]\n",
    "w_o_cor = [np.dot(model_o_w[i,0,:],model_o_w[i,1,:])\n",
    "          for i in range(128)]"
   ]
  },
  {
   "cell_type": "code",
   "execution_count": 42,
   "id": "30976610",
   "metadata": {},
   "outputs": [
    {
     "data": {
      "text/plain": [
       "<matplotlib.legend.Legend at 0x7f4fb60c2770>"
      ]
     },
     "execution_count": 42,
     "metadata": {},
     "output_type": "execute_result"
    },
    {
     "data": {
      "image/png": "[encoded data removed]",
      "text/plain": [
       "<Figure size 432x288 with 1 Axes>"
      ]
     },
     "metadata": {
      "needs_background": "light"
     },
     "output_type": "display_data"
    }
   ],
   "source": [
    "_ = plt.hist(w_y_cor, bins=50, histtype='step', label='slow')\n",
    "_ = plt.hist(w_o_cor, bins=50, histtype='step', label='fast')\n",
    "plt.xlabel('z[t] . z[t+1]')\n",
    "plt.legend()"
   ]
  },
  {
   "cell_type": "code",
   "execution_count": 23,
   "id": "bf806a83",
   "metadata": {},
   "outputs": [],
   "source": [
    "w_y_m = model_y_w.mean(axis=1)\n",
    "w_o_m = model_o_w.mean(axis=1)"
   ]
  },
  {
   "cell_type": "code",
   "execution_count": 26,
   "id": "3e08a5c7",
   "metadata": {},
   "outputs": [],
   "source": [
    "w_y_gini = [gini(w_y_m[i,:]) for i in range(128)]\n",
    "w_o_gini = [gini(w_o_m[i,:]) for i in range(128)]"
   ]
  },
  {
   "cell_type": "code",
   "execution_count": 28,
   "id": "63ca470d",
   "metadata": {},
   "outputs": [
    {
     "data": {
      "image/png": "[encoded data removed]",
      "text/plain": [
       "<Figure size 432x288 with 1 Axes>"
      ]
     },
     "metadata": {
      "needs_background": "light"
     },
     "output_type": "display_data"
    }
   ],
   "source": [
    "_ = plt.hist(w_y_gini, bins=50, histtype='step')\n",
    "_ = plt.hist(w_o_gini, bins=50, histtype='step')"
   ]
  },
  {
   "cell_type": "code",
   "execution_count": null,
   "id": "4504b50b",
   "metadata": {},
   "outputs": [],
   "source": []
  }
 ],
 "metadata": {
  "kernelspec": {
   "display_name": "Python 3 (ipykernel)",
   "language": "python",
   "name": "python3"
  },
  "language_info": {
   "codemirror_mode": {
    "name": "ipython",
    "version": 3
   },
   "file_extension": ".py",
   "mimetype": "text/x-python",
   "name": "python",
   "nbconvert_exporter": "python",
   "pygments_lexer": "ipython3",
   "version": "3.10.2"
  }
 },
 "nbformat": 4,
 "nbformat_minor": 5
}
