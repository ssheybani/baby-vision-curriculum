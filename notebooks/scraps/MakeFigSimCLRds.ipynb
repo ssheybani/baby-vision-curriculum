{
 "cells": [
  {
   "cell_type": "code",
   "execution_count": 1,
   "id": "bdd2119c",
   "metadata": {},
   "outputs": [],
   "source": [
    "import sys, os\n",
    "\n",
    "env_root = '/N/project/baby_vision_curriculum/pythonenvs/hfenv/lib/python3.10/site-packages/'\n",
    "sys.path.insert(0, env_root)"
   ]
  },
  {
   "cell_type": "code",
   "execution_count": 2,
   "id": "cf93f253",
   "metadata": {},
   "outputs": [],
   "source": [
    "import numpy as np\n",
    "# import torch, torchvision\n",
    "# from torchvision import transforms as tr\n",
    "from tqdm import tqdm\n",
    "from pathlib import Path\n",
    "# import math\n",
    "import argparse\n",
    "import pandas as pd\n",
    "import warnings\n",
    "from joblib import Parallel, delayed\n",
    "from copy import deepcopy"
   ]
  },
  {
   "cell_type": "code",
   "execution_count": 3,
   "id": "7d3ea54d",
   "metadata": {},
   "outputs": [],
   "source": [
    "import matplotlib.pyplot as plt\n",
    "import seaborn as sns"
   ]
  },
  {
   "cell_type": "code",
   "execution_count": 4,
   "id": "99042c45",
   "metadata": {},
   "outputs": [],
   "source": [
    "date='aug73'\n",
    "cf_path = date+'_cifar10score.csv'\n",
    "ss_path = date+'_ssv2score.csv'\n",
    "tbcat_path = date+'_tb_catscore.csv'\n",
    "tbtrans_path = date+'_tb_transscore.csv'\n",
    "ucf_path = date+'_ucfscore.csv'"
   ]
  },
  {
   "cell_type": "code",
   "execution_count": 5,
   "id": "df5c322f",
   "metadata": {},
   "outputs": [],
   "source": [
    "# ss_base = [1./10, 0.19]\n",
    "cf_base = [1./10, 0.29]\n",
    "tbcat_base = [1./12, 0.24]\n",
    "# tbtrans_base = [1./12, 0.325]\n",
    "# ucf_base = [1./101, 0.13]"
   ]
  },
  {
   "cell_type": "code",
   "execution_count": 6,
   "id": "38e4843a",
   "metadata": {},
   "outputs": [],
   "source": [
    "# df_ss = pd.read_csv(ss_path)\n",
    "df_cf = pd.read_csv(cf_path)\n",
    "df_tbcat = pd.read_csv(tbcat_path)\n",
    "# df_tbtrans = pd.read_csv(tbtrans_path)\n",
    "# df_ucf = pd.read_csv(ucf_path)"
   ]
  },
  {
   "cell_type": "code",
   "execution_count": 7,
   "id": "4060d288",
   "metadata": {},
   "outputs": [],
   "source": [
    "def modify_df(df):\n",
    "    new_df = df.drop(['Iteration'], axis=1)\n",
    "    new_df = new_df.rename(columns={'category':'score'})\n",
    "#     new_df = new_df.rename(columns={'transformation':'score'})\n",
    "    return new_df\n",
    "\n",
    "def get_stuff(code):\n",
    "    if code=='tbc':\n",
    "        return 'ToyBox', df_tbcat, tbcat_base\n",
    "    elif code=='ucf':\n",
    "        return 'UCF101', df_ucf, ucf_base\n",
    "    elif code=='ss':\n",
    "        return 'SSv2', df_ss, ss_base\n",
    "    elif code=='cf':\n",
    "        return 'CIFAR10', df_cf, cf_base"
   ]
  },
  {
   "cell_type": "code",
   "execution_count": 17,
   "id": "bbca4d2b",
   "metadata": {},
   "outputs": [],
   "source": [
    "code = 'tbc'\n",
    "title, data, baseline = get_stuff(code)\n",
    "data = modify_df(data)"
   ]
  },
  {
   "cell_type": "code",
   "execution_count": 18,
   "id": "deb3fa14",
   "metadata": {},
   "outputs": [],
   "source": [
    "import matplotlib.pyplot as plt\n",
    "\n",
    "# Matplotlib RC parameters for 2x2 figure layout\n",
    "params = {\n",
    "    'figure.figsize': (12, 6),        # Figure size (width, height) in inches\n",
    "    'axes.titlesize': 12,             # Title font size\n",
    "    'axes.labelsize': 10,             # Axis label font size\n",
    "    'legend.fontsize': 10,            # Legend font size\n",
    "    'xtick.labelsize': 20,            # X-axis tick label font size\n",
    "    'ytick.labelsize': 20,            # Y-axis tick label font size\n",
    "    'axes.grid': True,                # Show gridlines\n",
    "    'axes.grid.axis': 'y',                # Show gridlines\n",
    "    'axes.grid.which': 'both',        # Both major and minor gridlines\n",
    "    'grid.linestyle': '--',           # Gridlines style\n",
    "    'grid.alpha': 0.9,                # Gridlines transparency\n",
    "    'lines.linewidth': 2.0,           # Line width\n",
    "    'lines.markersize': 7.0,          # Marker size\n",
    "    'savefig.dpi': 300,               # Resolution for saved figures\n",
    "    'savefig.transparent': True,      # Transparent background when saving figures\n",
    "    'axes.linewidth': 1.,            # Spine linewidth\n",
    "    'axes.edgecolor': 'black',\n",
    "}\n",
    "\n",
    "plt.rcParams.update(params)\n"
   ]
  },
  {
   "cell_type": "code",
   "execution_count": 19,
   "id": "1e677729",
   "metadata": {},
   "outputs": [
    {
     "data": {
      "image/png": "[encoded data removed]",
      "text/plain": [
       "<Figure size 864x288 with 1 Axes>"
      ]
     },
     "metadata": {
      "needs_background": "light"
     },
     "output_type": "display_data"
    }
   ],
   "source": [
    "# Assuming your DataFrame is named \"data\"\n",
    "fig, ax = plt.subplots(figsize=(12, 4))\n",
    "\n",
    "# Define custom colors for dev and adev curricula\n",
    "colors = {\"dev\": \"tab:blue\", \"adev\": \"tab:orange\"}\n",
    "\n",
    "# Define custom saturation levels for conditions\n",
    "saturation = {\n",
    "    \"default\": 0.7,\n",
    "    \"MatchedSpatial\": 0.5,\n",
    "    \"MatchedTemporal\": 0.7,\n",
    "    \"MatchedSpatioTemporal\": 0.9\n",
    "}\n",
    "\n",
    "stages = [1,2,3]\n",
    "conditions = ['default']#, 'MatchedSpatial', 'MatchedTemporal', 'MatchedSpatioTemporal']\n",
    "curricula = ['dev', 'adev']\n",
    "\n",
    "# Set the distances between bars and the bar width\n",
    "sto = 0.1 #stage offset\n",
    "coo = 0.02 # condition offset\n",
    "cuo = 0.02 # curriculum offset\n",
    "bar_width = 0.02\n",
    "\n",
    "# Group data by Stage and Curriculum\n",
    "# grouped_data = data.groupby(['Stage', 'Curriculum'])\n",
    "\n",
    "# Set the width of each bar\n",
    "\n",
    "def get_rows(df, stage, cond, curr):\n",
    "    selected_rows = df[(df['Stage'] == stage) & (df['Condition'] == cond) & (df['Curriculum'] == curr)]\n",
    "    mean = selected_rows['score'].mean()\n",
    "    sd = selected_rows['score'].std()\n",
    "    return mean, sd, selected_rows['score']\n",
    "\n",
    "ax.bar(0, baseline[1], width= bar_width, color='gray', label='untrained')\n",
    "# Iterate through each Stage and Curriculum to plot the bars\n",
    "# for i, ((stage, curriculum), group) in enumerate(grouped_data):\n",
    "for i_st, stage in enumerate(stages):\n",
    "    for i_cond, cond in enumerate(conditions):\n",
    "        for i_curr, curr in enumerate(curricula):\n",
    "            x_offset = 3*bar_width+ i_st*sto+i_cond*coo+i_curr*cuo\n",
    "            label=f\"{curr}-{cond}\"\n",
    "            if stage!=1:\n",
    "                label = '_'+label\n",
    "            \n",
    "            score_mean, score_sd, y_scatter = get_rows(data, stage, cond, curr)\n",
    "            x_scatter = [x_offset \n",
    "                         for i in y_scatter]\n",
    "        \n",
    "            ax.bar(\n",
    "                x_offset,\n",
    "                score_mean,\n",
    "                width=bar_width,\n",
    "                color=colors[curr],\n",
    "                alpha=saturation[cond],  # You can adjust the alpha value to control the transparency of bars\n",
    "                label=label,\n",
    "            )\n",
    "            ax.scatter(x_scatter, y_scatter, c='k', s=2)\n",
    "\n",
    "ymin = 0.2#baseline[0]\n",
    "ymax = data['score'].max()\n",
    "yrange = ymax-ymin\n",
    "ax.set_ylim([ymin, ymax+yrange*0.1])\n",
    "\n",
    "x_vlines = [bar_width*1.5, \n",
    "           bar_width*2 +sto*1-1*coo,\n",
    "           bar_width*2 +sto*2-1*coo]\n",
    "for i in range(3):\n",
    "#     x_vline = bar_width*1.5 +sto*i\n",
    "    ax.axvline(x_vlines[i], ymin=0.02, ymax=0.95, color='k', linestyle='dotted', alpha=0.5, linewidth=4)\n",
    "\n",
    "plt.tick_params(\n",
    "    axis='x',          # changes apply to the x-axis\n",
    "    which='both',      # both major and minor ticks are affected\n",
    "    bottom=False,      # ticks along the bottom edge are off\n",
    "    top=False,         # ticks along the top edge are off\n",
    "    labelbottom=False)\n",
    "# matplotlib.spines.Spines().alpha=0.1\n",
    "# plt.ylabel('Linear Evaluation Score')\n",
    "ax.yaxis.set_major_locator(plt.MultipleLocator(0.05))\n",
    "\n",
    "# plt.title(title)\n",
    "# plt.legend(title=\"Curriculum - Condition\", loc='center left', bbox_to_anchor=(1, 0.5))\n",
    "fig.tight_layout()\n",
    "\n",
    "plt.savefig('simclr_'+title+'.pdf', dpi=300)\n",
    "plt.savefig('simclr_'+title+'.png', dpi=300)"
   ]
  },
  {
   "cell_type": "code",
   "execution_count": null,
   "id": "50b92661",
   "metadata": {},
   "outputs": [],
   "source": []
  },
  {
   "cell_type": "code",
   "execution_count": null,
   "id": "88ab0a2d",
   "metadata": {},
   "outputs": [],
   "source": []
  }
 ],
 "metadata": {
  "kernelspec": {
   "display_name": "Python 3 (ipykernel)",
   "language": "python",
   "name": "python3"
  },
  "language_info": {
   "codemirror_mode": {
    "name": "ipython",
    "version": 3
   },
   "file_extension": ".py",
   "mimetype": "text/x-python",
   "name": "python",
   "nbconvert_exporter": "python",
   "pygments_lexer": "ipython3",
   "version": "3.10.5"
  }
 },
 "nbformat": 4,
 "nbformat_minor": 5
}
