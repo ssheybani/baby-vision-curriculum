{
 "cells": [
  {
   "cell_type": "code",
   "execution_count": 1,
   "id": "74c949c0",
   "metadata": {},
   "outputs": [],
   "source": [
    "import sys, os\n",
    "\n",
    "env_root = '/N/project/baby_vision_curriculum/pythonenvs/hfenv/lib/python3.10/site-packages/'\n",
    "sys.path.insert(0, env_root)\n"
   ]
  },
  {
   "cell_type": "code",
   "execution_count": 2,
   "id": "3c5f695b",
   "metadata": {},
   "outputs": [],
   "source": [
    "import numpy as np\n",
    "import torch, torchvision\n",
    "from torchvision import transforms as tr\n",
    "from tqdm import tqdm\n",
    "from pathlib import Path\n",
    "# import math\n",
    "import argparse\n",
    "\n",
    "import torch.distributed as dist\n",
    "from torch.utils.data.distributed import DistributedSampler\n",
    "from torch.nn.parallel import DistributedDataParallel as DDP\n",
    "import torch.multiprocessing as mp\n",
    "\n",
    "# from copy import deepcopy\n",
    "\n",
    "import cv2\n",
    "from itertools import chain"
   ]
  },
  {
   "cell_type": "code",
   "execution_count": 3,
   "id": "7a690395",
   "metadata": {},
   "outputs": [],
   "source": [
    "\n",
    "sys.path.insert(0, '../predictive/scripts')"
   ]
  },
  {
   "cell_type": "code",
   "execution_count": null,
   "id": "b8c9d120",
   "metadata": {},
   "outputs": [],
   "source": []
  },
  {
   "cell_type": "code",
   "execution_count": 4,
   "id": "8cef63f8",
   "metadata": {},
   "outputs": [],
   "source": [
    "import vision_transformer as vit\n",
    "from helper import load_checkpoint\n",
    "\n",
    "import logging\n",
    "from tensors import trunc_normal_"
   ]
  },
  {
   "cell_type": "code",
   "execution_count": 8,
   "id": "3476d31d",
   "metadata": {},
   "outputs": [],
   "source": [
    "def init_weights(m):\n",
    "    if isinstance(m, torch.nn.Linear):\n",
    "        trunc_normal_(m.weight, std=0.02)\n",
    "        if m.bias is not None:\n",
    "            torch.nn.init.constant_(m.bias, 0)\n",
    "    elif isinstance(m, torch.nn.LayerNorm):\n",
    "        torch.nn.init.constant_(m.bias, 0)\n",
    "        torch.nn.init.constant_(m.weight, 1.0)\n",
    "            \n",
    "def get_untrained_model(\n",
    "    patch_size=16,\n",
    "    tubelet_size=1,\n",
    "    num_frames=1,\n",
    "    model_name='vit_base',\n",
    "    image_size=224,\n",
    "    pred_depth=6,\n",
    "    pred_emb_dim=384\n",
    "):\n",
    "#     encoder = vit_base(\n",
    "    encoder = vit.__dict__[model_name](\n",
    "        img_size=[image_size],\n",
    "        patch_size=patch_size,\n",
    "        num_frames=num_frames,\n",
    "        tubelet_size=tubelet_size)\n",
    "    \n",
    "    for m in encoder.modules():\n",
    "        init_weights(m)\n",
    "\n",
    "#     encoder.to(device)\n",
    "    # logger.info(encoder)\n",
    "    return encoder\n",
    "\n",
    "def get_model(args):\n",
    "    \n",
    "    encoder = get_untrained_model(num_frames=args.num_frames, tubelet_size=args.tubelet_size)\n",
    "    \n",
    "    load_path = args.init_checkpoint_path\n",
    "    if load_path!='na':\n",
    "        print('load_path:',load_path)\n",
    "        encoder, _, _, _, scaler, _ = load_checkpoint(r_path=load_path,\n",
    "            encoder=encoder, predictor=None, target_encoder=None, opt=None, scaler=None)\n",
    "    \n",
    "    return encoder"
   ]
  },
  {
   "cell_type": "code",
   "execution_count": 9,
   "id": "5c3cb393",
   "metadata": {},
   "outputs": [],
   "source": [
    "class Args:\n",
    "    def __init__(self, **kwargs):\n",
    "        for key, value in kwargs.items():\n",
    "            setattr(self, key, value)"
   ]
  },
  {
   "cell_type": "code",
   "execution_count": 78,
   "id": "8ee9c280",
   "metadata": {},
   "outputs": [
    {
     "name": "stdout",
     "output_type": "stream",
     "text": [
      "load_path: /N/project/baby_vision_curriculum/trained_models/predictive/v0/jul21/model_dev_1_g0_default_0_261.pth.tar\n",
      "INFO:root:loaded pretrained encoder from epoch 1 with msg: <All keys matched successfully>\n",
      "INFO:root:read-path: /N/project/baby_vision_curriculum/trained_models/predictive/v0/jul21/model_dev_1_g0_default_0_261.pth.tar\n"
     ]
    }
   ],
   "source": [
    "init_checkpoint_path='/N/project/baby_vision_curriculum/trained_models/predictive/v0/jul21/model_dev_1_g0_default_0_261.pth.tar'\n",
    "# '/N/project/baby_vision_curriculum/trained_models/predictive/v0/jul21/model_dev_1_g0_default_0_261.pth.tar'\n",
    "# '/N/project/baby_vision_curriculum/trained_models/predictive/v0/jul24/jepa-latest.pth.tar'\n",
    "# 'na'\n",
    "\n",
    "args = Args(tubelet_size=1,\n",
    "            num_frames=6,\n",
    "           init_checkpoint_path=init_checkpoint_path)\n",
    "model_source = get_model(args)"
   ]
  },
  {
   "cell_type": "code",
   "execution_count": 73,
   "id": "77e77911",
   "metadata": {},
   "outputs": [],
   "source": [
    "encoder = get_untrained_model(num_frames=args.num_frames, tubelet_size=args.tubelet_size)"
   ]
  },
  {
   "cell_type": "code",
   "execution_count": 74,
   "id": "14fdf816",
   "metadata": {},
   "outputs": [],
   "source": [
    "checkpoint = torch.load(init_checkpoint_path)#, map_location=torch.device('cpu'))"
   ]
  },
  {
   "cell_type": "code",
   "execution_count": 75,
   "id": "ab3adaed",
   "metadata": {},
   "outputs": [],
   "source": [
    "epoch = checkpoint['epoch']\n",
    "pretrained_dict = checkpoint['encoder']\n",
    "msg = encoder.load_state_dict(pretrained_dict)\n",
    "# checkpoint['encoder']"
   ]
  },
  {
   "cell_type": "code",
   "execution_count": 81,
   "id": "33ebf42b",
   "metadata": {},
   "outputs": [],
   "source": [
    "xtt = torch.rand(2, 6, 3, 224,224)"
   ]
  },
  {
   "cell_type": "code",
   "execution_count": 82,
   "id": "34ff9a15",
   "metadata": {},
   "outputs": [],
   "source": [
    "ytt = model_source(xtt, masks=None)"
   ]
  },
  {
   "cell_type": "code",
   "execution_count": 83,
   "id": "eac6ca0c",
   "metadata": {},
   "outputs": [
    {
     "data": {
      "text/plain": [
       "torch.Size([2, 1176, 768])"
      ]
     },
     "execution_count": 83,
     "metadata": {},
     "output_type": "execute_result"
    }
   ],
   "source": [
    "ytt.shape"
   ]
  },
  {
   "cell_type": "code",
   "execution_count": 30,
   "id": "24846457",
   "metadata": {},
   "outputs": [
    {
     "data": {
      "text/plain": [
       "602112"
      ]
     },
     "execution_count": 30,
     "metadata": {},
     "output_type": "execute_result"
    }
   ],
   "source": [
    "784*768"
   ]
  },
  {
   "cell_type": "code",
   "execution_count": 84,
   "id": "9441b8f9",
   "metadata": {},
   "outputs": [
    {
     "data": {
      "text/plain": [
       "torch.Size([2, 768])"
      ]
     },
     "execution_count": 84,
     "metadata": {},
     "output_type": "execute_result"
    }
   ],
   "source": [
    "ytt.mean(1).shape"
   ]
  },
  {
   "cell_type": "code",
   "execution_count": null,
   "id": "a4f1e711",
   "metadata": {},
   "outputs": [],
   "source": []
  }
 ],
 "metadata": {
  "kernelspec": {
   "display_name": "Python 3 (ipykernel)",
   "language": "python",
   "name": "python3"
  },
  "language_info": {
   "codemirror_mode": {
    "name": "ipython",
    "version": 3
   },
   "file_extension": ".py",
   "mimetype": "text/x-python",
   "name": "python",
   "nbconvert_exporter": "python",
   "pygments_lexer": "ipython3",
   "version": "3.10.5"
  }
 },
 "nbformat": 4,
 "nbformat_minor": 5
}
