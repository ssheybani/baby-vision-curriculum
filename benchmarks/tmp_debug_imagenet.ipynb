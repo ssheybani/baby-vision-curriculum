{
 "cells": [
  {
   "cell_type": "code",
   "execution_count": 1,
   "id": "77174b77",
   "metadata": {},
   "outputs": [],
   "source": [
    "\"\"\"\n",
    "Report downstream performance scores for a pretrained model.\n",
    "\"\"\"\n",
    "\n",
    "import sys, os\n",
    "\n",
    "env_root = '/N/project/baby_vision_curriculum/pythonenvs/hfenv/lib/python3.10/site-packages/'\n",
    "sys.path.insert(0, env_root)\n",
    "\n",
    "os.environ['OPENBLAS_NUM_THREADS'] = '38' #@@@@ to help with the num_workers issue\n",
    "os.environ['OMP_NUM_THREADS'] = '1'  #10\n",
    "\n",
    "import numpy as np\n",
    "import torch, torchvision\n",
    "from torchvision import transforms as tr\n",
    "from tqdm import tqdm\n",
    "from pathlib import Path\n",
    "# import math\n",
    "import argparse\n",
    "import pandas as pd\n",
    "import warnings\n",
    "from PIL import Image\n",
    "import transformers\n",
    "\n",
    "import torch.distributed as dist\n",
    "from torch.utils.data.distributed import DistributedSampler\n",
    "from torch.nn.parallel import DistributedDataParallel as DDP\n",
    "import torch.multiprocessing as mp\n",
    "from ddputils import is_main_process, save_on_master, setup_for_distributed\n",
    "\n",
    "# torchvision.disable_beta_transforms_warning()\n",
    "# import torchvision.transforms.v2 as tr #May 9: would require reinstalling th evirtual env.\n",
    "# we might do it later.\n",
    "\n",
    "# import torch.nn as nn\n",
    "\n",
    "\n",
    "# SCRIPT_DIR = os.path.realpath(os.path.dirname(inspect.getfile(inspect.currentframe()))) #os.getcwd() #\n",
    "# # print('cwd: ',SCRIPT_DIR)\n",
    "# #os.path.realpath(os.path.dirname(inspect.getfile(inspect.currentframe())))\n",
    "# util_path = os.path.normpath(os.path.join(SCRIPT_DIR, '..', 'util'))\n",
    "# sys.path.insert(0, util_path)    \n",
    "\n",
    "\n",
    "# from train_downstream_VideoMAE import train_classifier_ddp\n",
    "# from make_toybox_dataset import make_toybox_dataset\n",
    "from transformers import VideoMAEConfig, VideoMAEModel\n",
    "from torch.utils.data import Dataset\n",
    "import av\n"
   ]
  },
  {
   "cell_type": "code",
   "execution_count": null,
   "id": "50137571",
   "metadata": {},
   "outputs": [],
   "source": []
  },
  {
   "cell_type": "code",
   "execution_count": 175,
   "id": "d9344308",
   "metadata": {},
   "outputs": [],
   "source": [
    "def _get_transform(image_size):\n",
    "\n",
    "    mean = [0.5, 0.5, 0.5]#np.mean(mean_all, axis=0) #mean_all[chosen_subj] \n",
    "    std = [0.25, 0.25, 0.25] #std_all[chosen_subj] \n",
    "    \n",
    "#     [0.485, 0.456, 0.406]  # IMAGENET_DEFAULT_MEAN\n",
    "#     [0.229, 0.224, 0.225]  # IMAGENET_DEFAULT_STD\n",
    "\n",
    "    augs = [tr.Resize(image_size), tr.CenterCrop(image_size), \n",
    "            tr.ConvertImageDtype(torch.float32), \n",
    "             tr.Normalize(mean,std)]\n",
    "    return tr.Compose(augs)\n",
    "\n",
    "def transform_image(image):\n",
    "#     Used for standard single image datasets such as torchvision.CIFAR10, torchvision.ImageNet\n",
    "#     if image.shape[0]!=3:\n",
    "    image_size=224\n",
    "    num_frames=16\n",
    "    transform = _get_transform(image_size)\n",
    "    \n",
    "    if image.shape[0] == 1:\n",
    "        image = image.repeat(3, 1, 1)\n",
    "    \n",
    "    image_tr = transform(image)\n",
    "\n",
    "    return image_tr.unsqueeze(0).repeat(num_frames,1,1,1)\n"
   ]
  },
  {
   "cell_type": "code",
   "execution_count": 196,
   "id": "af5b8981",
   "metadata": {},
   "outputs": [],
   "source": [
    "# val_solution_fp = '/N/project/baby_vision_curriculum/benchmarks/mainstream/imagenet/LOC_val_solution.csv'\n",
    "\n",
    "# def proc_val_solution(fp):\n",
    "#     xdf = pd.read_csv(fp, sep=',')\n",
    "#     fnames = xdf['ImageId']\n",
    "#     fnames = fnames.apply(lambda x: x+'.JPEG')\n",
    "\n",
    "#     synsets = xdf['PredictionString']\n",
    "#     synsets = synsets.apply(lambda x: x.split(' ')[0])\n",
    "    \n",
    "#     labels = \n",
    "#     return fnames, synsets\n",
    "\n",
    "# fnames, synsets = proc_val_solution(val_solution_fp)\n",
    "\n",
    "# xdf = pd.DataFrame({\n",
    "#     'filename':fnames,\n",
    "#     'target':synsets\n",
    "# })\n",
    "# xdf.to_csv('val_targets.csv', index=False)"
   ]
  },
  {
   "cell_type": "code",
   "execution_count": 249,
   "id": "4d8bf397",
   "metadata": {},
   "outputs": [],
   "source": [
    "val_path = '/N/project/baby_vision_curriculum/github/baby-vision-curriculum/benchmarks/imagenet/val_targets.csv'\n",
    "train_path = '/N/project/baby_vision_curriculum/github/baby-vision-curriculum/benchmarks/imagenet/train_targets.csv'\n",
    "tr_data = pd.read_csv(train_path).sort_values('target')\n",
    "val_data = pd.read_csv(val_path).sort_values('target')"
   ]
  },
  {
   "cell_type": "code",
   "execution_count": 253,
   "id": "3acc0f23",
   "metadata": {},
   "outputs": [
    {
     "data": {
      "text/html": [
       "<div>\n",
       "<style scoped>\n",
       "    .dataframe tbody tr th:only-of-type {\n",
       "        vertical-align: middle;\n",
       "    }\n",
       "\n",
       "    .dataframe tbody tr th {\n",
       "        vertical-align: top;\n",
       "    }\n",
       "\n",
       "    .dataframe thead th {\n",
       "        text-align: right;\n",
       "    }\n",
       "</style>\n",
       "<table border=\"1\" class=\"dataframe\">\n",
       "  <thead>\n",
       "    <tr style=\"text-align: right;\">\n",
       "      <th></th>\n",
       "      <th>filename</th>\n",
       "      <th>target</th>\n",
       "    </tr>\n",
       "  </thead>\n",
       "  <tbody>\n",
       "    <tr>\n",
       "      <th>47332</th>\n",
       "      <td>n01443537_20545.JPEG</td>\n",
       "      <td>n01443537</td>\n",
       "    </tr>\n",
       "    <tr>\n",
       "      <th>47331</th>\n",
       "      <td>n01443537_1220.JPEG</td>\n",
       "      <td>n01443537</td>\n",
       "    </tr>\n",
       "    <tr>\n",
       "      <th>47330</th>\n",
       "      <td>n01443537_9946.JPEG</td>\n",
       "      <td>n01443537</td>\n",
       "    </tr>\n",
       "    <tr>\n",
       "      <th>47325</th>\n",
       "      <td>n01443537_3033.JPEG</td>\n",
       "      <td>n01443537</td>\n",
       "    </tr>\n",
       "    <tr>\n",
       "      <th>47328</th>\n",
       "      <td>n01443537_5697.JPEG</td>\n",
       "      <td>n01443537</td>\n",
       "    </tr>\n",
       "    <tr>\n",
       "      <th>...</th>\n",
       "      <td>...</td>\n",
       "      <td>...</td>\n",
       "    </tr>\n",
       "    <tr>\n",
       "      <th>45227</th>\n",
       "      <td>n15075141_19314.JPEG</td>\n",
       "      <td>n15075141</td>\n",
       "    </tr>\n",
       "    <tr>\n",
       "      <th>45226</th>\n",
       "      <td>n15075141_21282.JPEG</td>\n",
       "      <td>n15075141</td>\n",
       "    </tr>\n",
       "    <tr>\n",
       "      <th>45225</th>\n",
       "      <td>n15075141_19940.JPEG</td>\n",
       "      <td>n15075141</td>\n",
       "    </tr>\n",
       "    <tr>\n",
       "      <th>45235</th>\n",
       "      <td>n15075141_3042.JPEG</td>\n",
       "      <td>n15075141</td>\n",
       "    </tr>\n",
       "    <tr>\n",
       "      <th>45298</th>\n",
       "      <td>n15075141_26621.JPEG</td>\n",
       "      <td>n15075141</td>\n",
       "    </tr>\n",
       "  </tbody>\n",
       "</table>\n",
       "<p>99900 rows × 2 columns</p>\n",
       "</div>"
      ],
      "text/plain": [
       "                   filename     target\n",
       "47332  n01443537_20545.JPEG  n01443537\n",
       "47331   n01443537_1220.JPEG  n01443537\n",
       "47330   n01443537_9946.JPEG  n01443537\n",
       "47325   n01443537_3033.JPEG  n01443537\n",
       "47328   n01443537_5697.JPEG  n01443537\n",
       "...                     ...        ...\n",
       "45227  n15075141_19314.JPEG  n15075141\n",
       "45226  n15075141_21282.JPEG  n15075141\n",
       "45225  n15075141_19940.JPEG  n15075141\n",
       "45235   n15075141_3042.JPEG  n15075141\n",
       "45298  n15075141_26621.JPEG  n15075141\n",
       "\n",
       "[99900 rows x 2 columns]"
      ]
     },
     "execution_count": 253,
     "metadata": {},
     "output_type": "execute_result"
    }
   ],
   "source": [
    "tr_data.iloc[100:,:]"
   ]
  },
  {
   "cell_type": "code",
   "execution_count": 254,
   "id": "0646d354",
   "metadata": {},
   "outputs": [
    {
     "data": {
      "text/html": [
       "<div>\n",
       "<style scoped>\n",
       "    .dataframe tbody tr th:only-of-type {\n",
       "        vertical-align: middle;\n",
       "    }\n",
       "\n",
       "    .dataframe tbody tr th {\n",
       "        vertical-align: top;\n",
       "    }\n",
       "\n",
       "    .dataframe thead th {\n",
       "        text-align: right;\n",
       "    }\n",
       "</style>\n",
       "<table border=\"1\" class=\"dataframe\">\n",
       "  <thead>\n",
       "    <tr style=\"text-align: right;\">\n",
       "      <th></th>\n",
       "      <th>filename</th>\n",
       "      <th>target</th>\n",
       "    </tr>\n",
       "  </thead>\n",
       "  <tbody>\n",
       "    <tr>\n",
       "      <th>11243</th>\n",
       "      <td>ILSVRC2012_val_00003150.JPEG</td>\n",
       "      <td>n01443537</td>\n",
       "    </tr>\n",
       "    <tr>\n",
       "      <th>41871</th>\n",
       "      <td>ILSVRC2012_val_00044095.JPEG</td>\n",
       "      <td>n01443537</td>\n",
       "    </tr>\n",
       "    <tr>\n",
       "      <th>33710</th>\n",
       "      <td>ILSVRC2012_val_00010509.JPEG</td>\n",
       "      <td>n01443537</td>\n",
       "    </tr>\n",
       "    <tr>\n",
       "      <th>3573</th>\n",
       "      <td>ILSVRC2012_val_00031138.JPEG</td>\n",
       "      <td>n01443537</td>\n",
       "    </tr>\n",
       "    <tr>\n",
       "      <th>24580</th>\n",
       "      <td>ILSVRC2012_val_00011914.JPEG</td>\n",
       "      <td>n01443537</td>\n",
       "    </tr>\n",
       "    <tr>\n",
       "      <th>...</th>\n",
       "      <td>...</td>\n",
       "      <td>...</td>\n",
       "    </tr>\n",
       "    <tr>\n",
       "      <th>46583</th>\n",
       "      <td>ILSVRC2012_val_00006055.JPEG</td>\n",
       "      <td>n15075141</td>\n",
       "    </tr>\n",
       "    <tr>\n",
       "      <th>32563</th>\n",
       "      <td>ILSVRC2012_val_00042270.JPEG</td>\n",
       "      <td>n15075141</td>\n",
       "    </tr>\n",
       "    <tr>\n",
       "      <th>42209</th>\n",
       "      <td>ILSVRC2012_val_00039432.JPEG</td>\n",
       "      <td>n15075141</td>\n",
       "    </tr>\n",
       "    <tr>\n",
       "      <th>26136</th>\n",
       "      <td>ILSVRC2012_val_00038640.JPEG</td>\n",
       "      <td>n15075141</td>\n",
       "    </tr>\n",
       "    <tr>\n",
       "      <th>41093</th>\n",
       "      <td>ILSVRC2012_val_00027432.JPEG</td>\n",
       "      <td>n15075141</td>\n",
       "    </tr>\n",
       "  </tbody>\n",
       "</table>\n",
       "<p>49950 rows × 2 columns</p>\n",
       "</div>"
      ],
      "text/plain": [
       "                           filename     target\n",
       "11243  ILSVRC2012_val_00003150.JPEG  n01443537\n",
       "41871  ILSVRC2012_val_00044095.JPEG  n01443537\n",
       "33710  ILSVRC2012_val_00010509.JPEG  n01443537\n",
       "3573   ILSVRC2012_val_00031138.JPEG  n01443537\n",
       "24580  ILSVRC2012_val_00011914.JPEG  n01443537\n",
       "...                             ...        ...\n",
       "46583  ILSVRC2012_val_00006055.JPEG  n15075141\n",
       "32563  ILSVRC2012_val_00042270.JPEG  n15075141\n",
       "42209  ILSVRC2012_val_00039432.JPEG  n15075141\n",
       "26136  ILSVRC2012_val_00038640.JPEG  n15075141\n",
       "41093  ILSVRC2012_val_00027432.JPEG  n15075141\n",
       "\n",
       "[49950 rows x 2 columns]"
      ]
     },
     "execution_count": 254,
     "metadata": {},
     "output_type": "execute_result"
    }
   ],
   "source": [
    "val_data.iloc[50:,:]"
   ]
  },
  {
   "cell_type": "code",
   "execution_count": 316,
   "id": "29db0d5d",
   "metadata": {},
   "outputs": [],
   "source": [
    "def get_fnames_labels(csv_file):\n",
    "    data = pd.read_csv(csv_file).sort_values('target')\n",
    "    print(data['filename'])\n",
    "    le = preprocessing.LabelEncoder()\n",
    "    fnames = data['filename']\n",
    "    labels = le.fit_transform(data['target'])\n",
    "    synsets = data['target']\n",
    "    return fnames, labels, synsets"
   ]
  },
  {
   "cell_type": "code",
   "execution_count": 313,
   "id": "c9587010",
   "metadata": {},
   "outputs": [],
   "source": [
    "# data = get_fnames_labels(train_path)"
   ]
  },
  {
   "cell_type": "code",
   "execution_count": 317,
   "id": "8a06177e",
   "metadata": {},
   "outputs": [],
   "source": [
    "# data['filename']"
   ]
  },
  {
   "cell_type": "code",
   "execution_count": 320,
   "id": "8eab3702",
   "metadata": {},
   "outputs": [
    {
     "name": "stdout",
     "output_type": "stream",
     "text": [
      "74899     n01440764_4565.JPEG\n",
      "74873     n01440764_2118.JPEG\n",
      "74872    n01440764_21052.JPEG\n",
      "74871    n01440764_13316.JPEG\n",
      "74870     n01440764_5908.JPEG\n",
      "                 ...         \n",
      "45227    n15075141_19314.JPEG\n",
      "45226    n15075141_21282.JPEG\n",
      "45225    n15075141_19940.JPEG\n",
      "45235     n15075141_3042.JPEG\n",
      "45298    n15075141_26621.JPEG\n",
      "Name: filename, Length: 100000, dtype: object\n",
      "23798    ILSVRC2012_val_00025129.JPEG\n",
      "21319    ILSVRC2012_val_00023559.JPEG\n",
      "17008    ILSVRC2012_val_00024327.JPEG\n",
      "43391    ILSVRC2012_val_00037834.JPEG\n",
      "3228     ILSVRC2012_val_00030740.JPEG\n",
      "                     ...             \n",
      "46583    ILSVRC2012_val_00006055.JPEG\n",
      "32563    ILSVRC2012_val_00042270.JPEG\n",
      "42209    ILSVRC2012_val_00039432.JPEG\n",
      "26136    ILSVRC2012_val_00038640.JPEG\n",
      "41093    ILSVRC2012_val_00027432.JPEG\n",
      "Name: filename, Length: 50000, dtype: object\n"
     ]
    }
   ],
   "source": [
    "tr_fnames, tr_labels, tr_synsets = get_fnames_labels(train_path)\n",
    "va_fnames, val_labels, val_synsets = get_fnames_labels(val_path)"
   ]
  },
  {
   "cell_type": "code",
   "execution_count": 321,
   "id": "fc4d4359",
   "metadata": {},
   "outputs": [
    {
     "data": {
      "text/plain": [
       "74899     n01440764_4565.JPEG\n",
       "74873     n01440764_2118.JPEG\n",
       "74872    n01440764_21052.JPEG\n",
       "74871    n01440764_13316.JPEG\n",
       "74870     n01440764_5908.JPEG\n",
       "                 ...         \n",
       "45227    n15075141_19314.JPEG\n",
       "45226    n15075141_21282.JPEG\n",
       "45225    n15075141_19940.JPEG\n",
       "45235     n15075141_3042.JPEG\n",
       "45298    n15075141_26621.JPEG\n",
       "Name: filename, Length: 100000, dtype: object"
      ]
     },
     "execution_count": 321,
     "metadata": {},
     "output_type": "execute_result"
    }
   ],
   "source": [
    "tr_fnames"
   ]
  },
  {
   "cell_type": "code",
   "execution_count": 307,
   "id": "679a6e69",
   "metadata": {},
   "outputs": [
    {
     "data": {
      "text/html": [
       "<div>\n",
       "<style scoped>\n",
       "    .dataframe tbody tr th:only-of-type {\n",
       "        vertical-align: middle;\n",
       "    }\n",
       "\n",
       "    .dataframe tbody tr th {\n",
       "        vertical-align: top;\n",
       "    }\n",
       "\n",
       "    .dataframe thead th {\n",
       "        text-align: right;\n",
       "    }\n",
       "</style>\n",
       "<table border=\"1\" class=\"dataframe\">\n",
       "  <thead>\n",
       "    <tr style=\"text-align: right;\">\n",
       "      <th></th>\n",
       "      <th>filename</th>\n",
       "      <th>target</th>\n",
       "    </tr>\n",
       "  </thead>\n",
       "  <tbody>\n",
       "    <tr>\n",
       "      <th>74899</th>\n",
       "      <td>n01440764_4565.JPEG</td>\n",
       "      <td>n01440764</td>\n",
       "    </tr>\n",
       "    <tr>\n",
       "      <th>74873</th>\n",
       "      <td>n01440764_2118.JPEG</td>\n",
       "      <td>n01440764</td>\n",
       "    </tr>\n",
       "    <tr>\n",
       "      <th>74872</th>\n",
       "      <td>n01440764_21052.JPEG</td>\n",
       "      <td>n01440764</td>\n",
       "    </tr>\n",
       "    <tr>\n",
       "      <th>74871</th>\n",
       "      <td>n01440764_13316.JPEG</td>\n",
       "      <td>n01440764</td>\n",
       "    </tr>\n",
       "    <tr>\n",
       "      <th>74870</th>\n",
       "      <td>n01440764_5908.JPEG</td>\n",
       "      <td>n01440764</td>\n",
       "    </tr>\n",
       "    <tr>\n",
       "      <th>...</th>\n",
       "      <td>...</td>\n",
       "      <td>...</td>\n",
       "    </tr>\n",
       "    <tr>\n",
       "      <th>45227</th>\n",
       "      <td>n15075141_19314.JPEG</td>\n",
       "      <td>n15075141</td>\n",
       "    </tr>\n",
       "    <tr>\n",
       "      <th>45226</th>\n",
       "      <td>n15075141_21282.JPEG</td>\n",
       "      <td>n15075141</td>\n",
       "    </tr>\n",
       "    <tr>\n",
       "      <th>45225</th>\n",
       "      <td>n15075141_19940.JPEG</td>\n",
       "      <td>n15075141</td>\n",
       "    </tr>\n",
       "    <tr>\n",
       "      <th>45235</th>\n",
       "      <td>n15075141_3042.JPEG</td>\n",
       "      <td>n15075141</td>\n",
       "    </tr>\n",
       "    <tr>\n",
       "      <th>45298</th>\n",
       "      <td>n15075141_26621.JPEG</td>\n",
       "      <td>n15075141</td>\n",
       "    </tr>\n",
       "  </tbody>\n",
       "</table>\n",
       "<p>100000 rows × 2 columns</p>\n",
       "</div>"
      ],
      "text/plain": [
       "                   filename     target\n",
       "74899   n01440764_4565.JPEG  n01440764\n",
       "74873   n01440764_2118.JPEG  n01440764\n",
       "74872  n01440764_21052.JPEG  n01440764\n",
       "74871  n01440764_13316.JPEG  n01440764\n",
       "74870   n01440764_5908.JPEG  n01440764\n",
       "...                     ...        ...\n",
       "45227  n15075141_19314.JPEG  n15075141\n",
       "45226  n15075141_21282.JPEG  n15075141\n",
       "45225  n15075141_19940.JPEG  n15075141\n",
       "45235   n15075141_3042.JPEG  n15075141\n",
       "45298  n15075141_26621.JPEG  n15075141\n",
       "\n",
       "[100000 rows x 2 columns]"
      ]
     },
     "execution_count": 307,
     "metadata": {},
     "output_type": "execute_result"
    }
   ],
   "source": [
    "data = pd.read_csv(train_path).sort_values('target')\n",
    "data"
   ]
  },
  {
   "cell_type": "code",
   "execution_count": 297,
   "id": "00a553ea",
   "metadata": {},
   "outputs": [
    {
     "data": {
      "text/plain": [
       "array([  0,   0,   0, ..., 999, 999, 999])"
      ]
     },
     "execution_count": 297,
     "metadata": {},
     "output_type": "execute_result"
    }
   ],
   "source": [
    "tr_labels"
   ]
  },
  {
   "cell_type": "code",
   "execution_count": 310,
   "id": "99220941",
   "metadata": {},
   "outputs": [
    {
     "data": {
      "text/plain": [
       "74899    n01440764\n",
       "74873    n01440764\n",
       "74872    n01440764\n",
       "74871    n01440764\n",
       "74870    n01440764\n",
       "           ...    \n",
       "45227    n15075141\n",
       "45226    n15075141\n",
       "45225    n15075141\n",
       "45235    n15075141\n",
       "45298    n15075141\n",
       "Name: target, Length: 100000, dtype: object"
      ]
     },
     "execution_count": 310,
     "metadata": {},
     "output_type": "execute_result"
    }
   ],
   "source": [
    "tr_synsets"
   ]
  },
  {
   "cell_type": "code",
   "execution_count": 300,
   "id": "5c24e82c",
   "metadata": {},
   "outputs": [
    {
     "name": "stdout",
     "output_type": "stream",
     "text": [
      "n02112137 0\n"
     ]
    }
   ],
   "source": [
    "print(tr_synsets[0], tr_labels[0])"
   ]
  },
  {
   "cell_type": "code",
   "execution_count": 290,
   "id": "10043754",
   "metadata": {},
   "outputs": [],
   "source": [
    "import PIL"
   ]
  },
  {
   "cell_type": "code",
   "execution_count": 325,
   "id": "475d27e6",
   "metadata": {},
   "outputs": [
    {
     "data": {
      "text/plain": [
       "'n01440764_4565.JPEG'"
      ]
     },
     "execution_count": 325,
     "metadata": {},
     "output_type": "execute_result"
    }
   ],
   "source": [
    "tr_fnames.iloc[0]"
   ]
  },
  {
   "cell_type": "code",
   "execution_count": 302,
   "id": "86c69c6b",
   "metadata": {},
   "outputs": [
    {
     "data": {
      "text/plain": [
       "'n02112137'"
      ]
     },
     "execution_count": 302,
     "metadata": {},
     "output_type": "execute_result"
    }
   ],
   "source": [
    "tr_synsets[idx]"
   ]
  },
  {
   "cell_type": "code",
   "execution_count": 326,
   "id": "ab7ec62b",
   "metadata": {},
   "outputs": [
    {
     "data": {
      "text/plain": [
       "<matplotlib.image.AxesImage at 0x7fe8d4c1dcf0>"
      ]
     },
     "execution_count": 326,
     "metadata": {},
     "output_type": "execute_result"
    },
    {
     "data": {
      "image/png": "[encoded data removed]",
      "text/plain": [
       "<Figure size 432x288 with 1 Axes>"
      ]
     },
     "metadata": {
      "needs_background": "light"
     },
     "output_type": "display_data"
    }
   ],
   "source": [
    "train_root='/N/project/baby_vision_curriculum/benchmarks/mainstream/imagenet/ILSVRC/Data/CLS-LOC/train/'\n",
    "idx = 0\n",
    "img_fp = f\"{train_root}{tr_synsets.iloc[idx]}/{tr_fnames.iloc[idx]}\"\n",
    "plt.imshow(PIL.Image.open(img_fp))"
   ]
  },
  {
   "cell_type": "code",
   "execution_count": 328,
   "id": "65d04ede",
   "metadata": {},
   "outputs": [],
   "source": [
    "from sklearn import preprocessing\n",
    "\n",
    "def get_fnames_synsets(csv_file):\n",
    "    data = pd.read_csv(csv_file).sort_values('target')\n",
    "#     le = preprocessing.LabelEncoder()\n",
    "    fnames = data['filename']\n",
    "#     labels = le.fit_transform(data['target'])\n",
    "    synsets = data['target']\n",
    "    return fnames.tolist(), synsets.tolist()\n",
    "\n",
    "def get_synset_encoder(csv_fp):\n",
    "    data = pd.read_csv(csv_fp).sort_values('target')\n",
    "    synsets = data['target']\n",
    "    le = preprocessing.LabelEncoder()\n",
    "    le = le.fit(synsets)\n",
    "    return le\n",
    "\n",
    "# class ImageNetDataset(Dataset):\n",
    "#     def __init__(self, csv_fp, root_dir, transform=None):\n",
    "#         self.fnames, self.labels, self.synsets = get_fnames_labels(csv_fp)\n",
    "#         # synsets come sorted\n",
    "# #         self.synset_encoder = get_synset_encoder(self.train_synsets)\n",
    "# #         self.train_labels = self.synset_encoder.transform(self.synsets)\n",
    "# #         self.data = pd.read_csv(csv_file).sort_values('target')\n",
    "#         self.root_dir = root_dir\n",
    "#         self.transform = transform\n",
    "        \n",
    "#     def __len__(self):\n",
    "#         return len(self.fnames)\n",
    "    \n",
    "    \n",
    "        # synsets come sorted\n",
    "#         self.synset_encoder = get_synset_encoder(self.synsets)\n",
    "#         self.labels = self.synset_encoder.transform(self.synsets)\n",
    "#         self.data = pd.read_csv(csv_file).sort_values('target')\n",
    "\n",
    "# class TrainDataset(Dataset):\n",
    "#     def __init__(self, csv_file, root_dir, label_encoder, transform=None):\n",
    "#         self.fnames, self.labels, self.synsets = get_fnames_labels(csv_file)\n",
    "#         self.root_dir = root_dir\n",
    "#         self.transform = transform\n",
    "\n",
    "#     def __len__(self):\n",
    "#         return len(self.fnames)\n",
    "\n",
    "#     def __getitem__(self, idx):\n",
    "#         img_fp = f\"{self.root_dir}{self.synsets[idx]}/{self.fnames[idx]}\"\n",
    "# #         img_name = f\"{self.root_dir}/{self.data.iloc[idx, 1]}/{self.data.iloc[idx, 0]}\"\n",
    "#         image = torchvision.io.read_image(img_fp)\n",
    "#         label = self.labels[idx]\n",
    "#         if self.transform:\n",
    "#             image = self.transform(image)\n",
    "# #         print(image.shape)\n",
    "\n",
    "#         return image, label\n",
    "class TrainDataset(Dataset):\n",
    "    def __init__(self, csv_file, root_dir, label_encoder, transform=None):\n",
    "        self.fnames, self.synsets = get_fnames_synsets(csv_file)\n",
    "        self.labels = label_encoder.transform(self.synsets)\n",
    "        print(type(self.labels))\n",
    "        self.root_dir = root_dir\n",
    "        self.transform = transform\n",
    "\n",
    "    def __len__(self):\n",
    "        return len(self.fnames)\n",
    "\n",
    "    def __getitem__(self, idx):\n",
    "        img_fp = f\"{self.root_dir}{self.synsets[idx]}/{self.fnames[idx]}\"\n",
    "#         img_name = f\"{self.root_dir}/{self.data.iloc[idx, 1]}/{self.data.iloc[idx, 0]}\"\n",
    "        image = torchvision.io.read_image(img_fp)\n",
    "        label = self.labels[idx]\n",
    "        if self.transform:\n",
    "            image = self.transform(image)\n",
    "#         print(image.shape)\n",
    "\n",
    "        return image, label\n",
    "\n",
    "class ValDataset(Dataset):\n",
    "    def __init__(self, csv_file, root_dir, label_encoder, transform=None):\n",
    "        self.fnames, self.synsets = get_fnames_synsets(csv_file)\n",
    "        self.labels = label_encoder.transform(self.synsets)\n",
    "        self.root_dir = root_dir\n",
    "        self.transform = transform\n",
    "\n",
    "    def __len__(self):\n",
    "        return len(self.fnames)\n",
    "\n",
    "    def __getitem__(self, idx):\n",
    "        img_fp = f\"{self.root_dir}{self.fnames[idx]}\"\n",
    "#         img_name = f\"{self.root_dir}/{self.data.iloc[idx, 1]}/{self.data.iloc[idx, 0]}\"\n",
    "        image = torchvision.io.read_image(img_fp)\n",
    "        label = self.labels[idx]\n",
    "        if self.transform:\n",
    "            image = self.transform(image)\n",
    "#         print(image.shape)\n",
    "\n",
    "        return image, label\n",
    "\n",
    "#         img_name = f\"{self.root_dir}{self.data.iloc[idx, 0]}.JPEG\"\n",
    "#         image = Image.open(img_name)\n",
    "#         label = self.data.iloc[idx, 1].split(' ')[0]\n",
    "#         if self.transform:\n",
    "#             image = self.transform(image)\n",
    "\n",
    "#         return image, torch.tensor([label])"
   ]
  },
  {
   "cell_type": "code",
   "execution_count": 329,
   "id": "c264b651",
   "metadata": {},
   "outputs": [],
   "source": [
    "# def transform_image_cifar10_or_imagenet(image):\n",
    "# #     Used for standard single image datasets such as torchvision.CIFAR10, torchvision.ImageNet\n",
    "#     image_size=224\n",
    "#     num_frames=16\n",
    "#     mean = [0.5, 0.5, 0.5]#np.mean(mean_all, axis=0) #mean_all[chosen_subj] \n",
    "#     std = [0.25, 0.25, 0.25] #std_all[chosen_subj] \n",
    "    \n",
    "# #     [0.485, 0.456, 0.406]  # IMAGENET_DEFAULT_MEAN\n",
    "# #     [0.229, 0.224, 0.225]  # IMAGENET_DEFAULT_STD\n",
    "\n",
    "#     augs = [tr.ToTensor(),\n",
    "#             tr.Resize(image_size), tr.CenterCrop(image_size),\n",
    "#             tr.ConvertImageDtype(torch.float32), \n",
    "#              tr.Normalize(mean,std)]\n",
    "#     transform = tr.Compose(augs)\n",
    "#     transformed_image = transform(image)\n",
    "\n",
    "#     # If the image is grayscale, convert it to RGB\n",
    "#     if transformed_image.shape[0] == 1:\n",
    "#         transformed_image = transformed_image.repeat(3, 1, 1)\n",
    "\n",
    "#     # Repeat the transformed image for the desired number of frames\n",
    "#     transformed_image = transformed_image.unsqueeze(0).repeat(num_frames, 1, 1, 1)\n",
    "\n",
    "#     return transformed_image\n",
    "    \n",
    "#     return transform(image).unsqueeze(0).repeat(num_frames,1,1,1)\n",
    "\n",
    "def make_imagenet_dataset(args):\n",
    "    imagenet_root='/N/project/baby_vision_curriculum/benchmarks/mainstream/imagenet/ILSVRC/Data/CLS-LOC/'\n",
    "#     val_path = '/N/project/baby_vision_curriculum/benchmarks/mainstream/imagenet/LOC_val_solution.csv'\n",
    "    val_path = '/N/project/baby_vision_curriculum/github/baby-vision-curriculum/benchmarks/imagenet/val_targets.csv'\n",
    "    train_path = '/N/project/baby_vision_curriculum/github/baby-vision-curriculum/benchmarks/imagenet/train_targets.csv'\n",
    "    transform = transform_image\n",
    "    label_encoder = get_synset_encoder(train_path)\n",
    "    train_dataset = TrainDataset(train_path, f\"{imagenet_root}train/\",\n",
    "                                                            label_encoder, transform=transform)\n",
    "    val_dataset =  ValDataset(val_path, f\"{imagenet_root}val/\", \n",
    "                              label_encoder, transform=transform)\n",
    "    image_datasets = {'train': train_dataset , 'val':val_dataset}\n",
    "    num_classes = 1000 \n",
    "        \n",
    "    return image_datasets, num_classes\n"
   ]
  },
  {
   "cell_type": "code",
   "execution_count": 330,
   "id": "d06293bf",
   "metadata": {},
   "outputs": [],
   "source": [
    "def get_config(image_size, args, num_labels=2):\n",
    "    arch_kw = args.architecture\n",
    "    if arch_kw=='small2':\n",
    "        hidden_size = 768\n",
    "        intermediate_size = 4*768\n",
    "        num_attention_heads = 6\n",
    "        num_hidden_layers = 6\n",
    "        \n",
    "        config = transformers.VideoMAEConfig(image_size=image_size, patch_size=16, num_channels=3,\n",
    "                                             num_frames=16, tubelet_size=2, \n",
    "                                             hidden_size=hidden_size, num_hidden_layers=num_hidden_layers, num_attention_heads=num_attention_heads,\n",
    "                                             intermediate_size=intermediate_size, num_labels=num_labels)\n",
    "    \n",
    "    elif arch_kw=='base': #default\n",
    "        config = transformers.VideoMAEConfig(image_size=image_size, patch_size=16, num_channels=3,\n",
    "                                             num_frames=16, tubelet_size=2, \n",
    "                                             hidden_size=768, num_hidden_layers=12, num_attention_heads=12,\n",
    "                                             intermediate_size=3072, num_labels=num_labels)\n",
    "    elif arch_kw=='small1':\n",
    "        hidden_size = 384\n",
    "        intermediate_size = 4*384\n",
    "        num_attention_heads = 6\n",
    "        num_hidden_layers = 12\n",
    "        \n",
    "        config = transformers.VideoMAEConfig(image_size=image_size, patch_size=16, num_channels=3,\n",
    "                                             num_frames=16, tubelet_size=2, \n",
    "                                             hidden_size=hidden_size, num_hidden_layers=num_hidden_layers, num_attention_heads=num_attention_heads,\n",
    "                                             intermediate_size=intermediate_size, num_labels=num_labels)\n",
    "        \n",
    "    else:\n",
    "        raise ValueError\n",
    "    return config\n",
    "\n",
    "\n",
    "def init_model_from_checkpoint(model, checkpoint_path):\n",
    "    # caution: model class\n",
    "    checkpoint = torch.load(checkpoint_path)\n",
    "    model.load_state_dict(checkpoint['model_state_dict'])\n",
    "    return model\n",
    "\n",
    "def adapt_videomae(source_model, target_model):\n",
    "    # load the embeddings\n",
    "    target_model.videomae.embeddings.load_state_dict(\n",
    "        source_model.videomae.embeddings.state_dict())\n",
    "#     load the encoder\n",
    "    target_model.videomae.encoder.load_state_dict(\n",
    "        source_model.videomae.encoder.state_dict())\n",
    "    return target_model\n",
    "\n",
    "def set_parameter_requires_grad(model, feature_extracting):\n",
    "    if feature_extracting:\n",
    "        for param in model.parameters():\n",
    "            param.requires_grad = False\n",
    "        for param in model.classifier.parameters():\n",
    "            param.requires_grad = True\n",
    "            \n",
    "def get_model(image_size, num_labels, feature_extracting, args):\n",
    "    config_source = get_config(image_size, args)\n",
    "    model_source = transformers.VideoMAEForPreTraining(config_source)\n",
    "    \n",
    "    if args.init_checkpoint_path!='na':\n",
    "        print('args.init_checkpoint_path:',args.init_checkpoint_path)\n",
    "        # initialize the model using the checkpoint\n",
    "        model_source = init_model_from_checkpoint(model_source, args.init_checkpoint_path)\n",
    "  \n",
    "    config_target = get_config(image_size, args, num_labels=num_labels)\n",
    "    model_target = transformers.VideoMAEForVideoClassification(config=config_target)\n",
    "    model_target = adapt_videomae(model_source, model_target)\n",
    "    if not torch.all(\n",
    "        model_target.videomae.embeddings.patch_embeddings.projection.weight==model_source.videomae.embeddings.patch_embeddings.projection.weight):\n",
    "        warnings.warn('Model not successfully initialized')\n",
    "    \n",
    "    if feature_extracting:\n",
    "        set_parameter_requires_grad(model_target, feature_extracting)\n",
    "    \n",
    "    return model_target\n",
    "\n",
    "        \n",
    "def get_lr(optimizer):\n",
    "    for param_group in optimizer.param_groups:\n",
    "        return param_group['lr']\n",
    "    \n",
    "def get_optimizer(model, feature_extract, args):\n",
    "    params_to_update = model.parameters()\n",
    "    print(\"Params to learn:\")\n",
    "    if feature_extract:\n",
    "        params_to_update = []\n",
    "        for name,param in model.named_parameters():\n",
    "            if param.requires_grad == True:\n",
    "                params_to_update.append(param)\n",
    "                print(\"\\t\",name)\n",
    "    else:\n",
    "        for name,param in model.named_parameters():\n",
    "            if param.requires_grad == True:\n",
    "                print(\"\\t\",name)\n",
    "\n",
    "#     if feature_extract:\n",
    "    lr = args.lr#1e-3\n",
    "    weight_decay =args.wd#5e-5\n",
    "    optimizer_ft = torch.optim.Adam(params_to_update, lr=lr, weight_decay=weight_decay)\n",
    "    #     optimizer_ft = torch.optim.SGD([{'params': params_to_update, \n",
    "    #                               'initial_lr':lr}], \n",
    "    #                             lr=lr, momentum=0.9)\n",
    "#     else:\n",
    "#         lr=1e-4\n",
    "#         optimizer_ft = torch.optim.Adam(params_to_update, lr=lr)\n",
    "        \n",
    "    return optimizer_ft\n",
    "\n",
    "def make_dataset(args):\n",
    "    task = args.task\n",
    "    if task=='ucf101':\n",
    "        return make_ucf101dataset(args)\n",
    "#     seq_len = kwargs['seq_len']\n",
    "#     image_size = kwargs['image_size']\n",
    "    elif task=='cifar10':\n",
    "        return make_cifar10dataset(args)\n",
    "    elif task=='imagenet':\n",
    "        return make_imagenet_dataset(args)\n",
    "    else:\n",
    "        raise NotImplementedError()"
   ]
  },
  {
   "cell_type": "code",
   "execution_count": 331,
   "id": "4dc72770",
   "metadata": {},
   "outputs": [],
   "source": [
    "class Args:\n",
    "    def __init__(self, **kwargs):\n",
    "        for key, value in kwargs.items():\n",
    "            setattr(self, key, value)"
   ]
  },
  {
   "cell_type": "code",
   "execution_count": 332,
   "id": "47226da1",
   "metadata": {},
   "outputs": [],
   "source": [
    "architecture='base'\n",
    "init_checkpoint_path='na'\n",
    "savedir=None\n",
    "seed=1\n",
    "batch_size = 16\n",
    "finetune='n'\n",
    "frame_rate=30\n",
    "lr=1e-3\n",
    "wd=5e-5\n",
    "num_workers=6\n",
    "task='imagenet'\n",
    "n_epoch=1\n",
    "args = Args(task=task,\n",
    "            architecture=architecture,\n",
    "            init_checkpoint_path=init_checkpoint_path,\n",
    "            savedir=savedir,\n",
    "            seed=seed,\n",
    "            frame_rate=frame_rate,\n",
    "            num_workers=num_workers,\n",
    "            finetune=finetune,\n",
    "            batch_size=batch_size,\n",
    "           lr=lr, wd=wd,\n",
    "           n_epoch=n_epoch)"
   ]
  },
  {
   "cell_type": "code",
   "execution_count": 333,
   "id": "6a8c1aea",
   "metadata": {},
   "outputs": [
    {
     "name": "stdout",
     "output_type": "stream",
     "text": [
      "<class 'numpy.ndarray'>\n"
     ]
    }
   ],
   "source": [
    "datasets, num_classes = make_dataset(args)"
   ]
  },
  {
   "cell_type": "code",
   "execution_count": 338,
   "id": "8429dfcb",
   "metadata": {},
   "outputs": [
    {
     "name": "stdout",
     "output_type": "stream",
     "text": [
      "2\n"
     ]
    }
   ],
   "source": [
    "inp, label = datasets['val'][100]\n",
    "print(label)"
   ]
  },
  {
   "cell_type": "code",
   "execution_count": 340,
   "id": "bedf3cdf",
   "metadata": {},
   "outputs": [
    {
     "name": "stdout",
     "output_type": "stream",
     "text": [
      "2\n"
     ]
    }
   ],
   "source": [
    "inp, label = datasets['train'][200]\n",
    "print(label)"
   ]
  },
  {
   "cell_type": "code",
   "execution_count": 267,
   "id": "9a337c61",
   "metadata": {},
   "outputs": [],
   "source": [
    "import matplotlib.pyplot as plt"
   ]
  },
  {
   "cell_type": "code",
   "execution_count": 339,
   "id": "198c048c",
   "metadata": {},
   "outputs": [
    {
     "name": "stderr",
     "output_type": "stream",
     "text": [
      "Clipping input data to the valid range for imshow with RGB data ([0..1] for floats or [0..255] for integers).\n"
     ]
    },
    {
     "data": {
      "text/plain": [
       "<matplotlib.image.AxesImage at 0x7fe943017e20>"
      ]
     },
     "execution_count": 339,
     "metadata": {},
     "output_type": "execute_result"
    },
    {
     "data": {
      "image/png": "[encoded data removed]",
      "text/plain": [
       "<Figure size 432x288 with 1 Axes>"
      ]
     },
     "metadata": {
      "needs_background": "light"
     },
     "output_type": "display_data"
    }
   ],
   "source": [
    "inp2 = inp.permute(0, 2, 3, 1)\n",
    "plt.imshow(inp2[2,...])"
   ]
  },
  {
   "cell_type": "code",
   "execution_count": 341,
   "id": "ee7e1fd2",
   "metadata": {},
   "outputs": [
    {
     "name": "stderr",
     "output_type": "stream",
     "text": [
      "Clipping input data to the valid range for imshow with RGB data ([0..1] for floats or [0..255] for integers).\n"
     ]
    },
    {
     "data": {
      "text/plain": [
       "<matplotlib.image.AxesImage at 0x7fe9542736d0>"
      ]
     },
     "execution_count": 341,
     "metadata": {},
     "output_type": "execute_result"
    },
    {
     "data": {
      "image/png": "[encoded data removed]",
      "text/plain": [
       "<Figure size 432x288 with 1 Axes>"
      ]
     },
     "metadata": {
      "needs_background": "light"
     },
     "output_type": "display_data"
    }
   ],
   "source": [
    "inp2 = inp.permute(0, 2, 3, 1)\n",
    "plt.imshow(inp2[2,...])"
   ]
  },
  {
   "cell_type": "code",
   "execution_count": 23,
   "id": "15a7147a",
   "metadata": {},
   "outputs": [],
   "source": [
    "feature_extract = True\n",
    "image_size = 224\n",
    "feature_extract = (args.finetune=='n')\n",
    "xmodel = get_model(image_size, num_classes, feature_extract, args)\n",
    "world_size = 4\n",
    "rank = 0\n",
    "xmodel = xmodel.to(rank)"
   ]
  },
  {
   "cell_type": "code",
   "execution_count": 120,
   "id": "8cb3f639",
   "metadata": {},
   "outputs": [
    {
     "name": "stdout",
     "output_type": "stream",
     "text": [
      "Params to learn:\n",
      "\t classifier.weight\n",
      "\t classifier.bias\n"
     ]
    }
   ],
   "source": [
    "optimizer = get_optimizer(xmodel, feature_extract, args) \n"
   ]
  },
  {
   "cell_type": "code",
   "execution_count": 342,
   "id": "b4bb0d14",
   "metadata": {},
   "outputs": [
    {
     "name": "stdout",
     "output_type": "stream",
     "text": [
      "Collate function None\n"
     ]
    }
   ],
   "source": [
    "\n",
    "\n",
    "sampler_shuffle = True #for the distributed dampler\n",
    "num_epochs = args.n_epoch\n",
    "batch_size = args.batch_size# 128\n",
    "pin_memory = True\n",
    "num_workers = args.num_workers #number_of_cpu-1#32\n",
    "\n",
    "if args.task=='ucf101':\n",
    "    collate_fn = ucf_collate\n",
    "else:\n",
    "    collate_fn = None\n",
    "# print('n cpu: ', number_of_cpu, ' n workers: ', num_workers)\n",
    "\n",
    "samplers_dict = {x: DistributedSampler(datasets[x], num_replicas=world_size, \n",
    "                                       rank=rank, shuffle=sampler_shuffle, \n",
    "                                       seed=seed)\n",
    "                 for x in ['train', 'val']}\n",
    "print(\"Collate function\", collate_fn)\n",
    "dataloaders = {x: torch.utils.data.DataLoader(\n",
    "    datasets[x], batch_size=batch_size, pin_memory=pin_memory, collate_fn=collate_fn,\n",
    "    num_workers=num_workers, shuffle=False, sampler=samplers_dict[x], drop_last=True)\n",
    "                    for x in ['train', 'val']}"
   ]
  },
  {
   "cell_type": "code",
   "execution_count": 343,
   "id": "5f225f0b",
   "metadata": {},
   "outputs": [
    {
     "name": "stdout",
     "output_type": "stream",
     "text": [
      "len dset, len dloader:  100000 1562\n"
     ]
    }
   ],
   "source": [
    "print('len dset, len dloader: ', len(datasets['train']), len(dataloaders['train']))"
   ]
  },
  {
   "cell_type": "code",
   "execution_count": 344,
   "id": "598691bc",
   "metadata": {},
   "outputs": [],
   "source": [
    "# phase = 'train'\n",
    "# for batch in tqdm(dataloaders[phase]):\n",
    "#     break"
   ]
  },
  {
   "cell_type": "code",
   "execution_count": 347,
   "id": "84d135d9",
   "metadata": {},
   "outputs": [
    {
     "name": "stdout",
     "output_type": "stream",
     "text": [
      "Epoch 0/0\n",
      "----------\n",
      "Here\n",
      "I'm here\n",
      "phase train\n"
     ]
    },
    {
     "name": "stderr",
     "output_type": "stream",
     "text": [
      "  0%|▏                                         | 5/1562 [00:02<13:20,  1.95it/s]"
     ]
    },
    {
     "name": "stdout",
     "output_type": "stream",
     "text": [
      "loss: 4.6384100914001465\n",
      "GPU memory allocated: 637.43 MB\n"
     ]
    },
    {
     "name": "stderr",
     "output_type": "stream",
     "text": [
      "  1%|▎                                        | 10/1562 [00:05<12:24,  2.08it/s]"
     ]
    },
    {
     "name": "stdout",
     "output_type": "stream",
     "text": [
      "loss: 4.916719436645508\n",
      "GPU memory allocated: 637.43 MB\n"
     ]
    },
    {
     "name": "stderr",
     "output_type": "stream",
     "text": [
      "  1%|▍                                        | 15/1562 [00:07<12:15,  2.10it/s]"
     ]
    },
    {
     "name": "stdout",
     "output_type": "stream",
     "text": [
      "loss: 5.052672386169434\n",
      "GPU memory allocated: 637.43 MB\n"
     ]
    },
    {
     "name": "stderr",
     "output_type": "stream",
     "text": [
      "  1%|▌                                        | 20/1562 [00:09<12:11,  2.11it/s]"
     ]
    },
    {
     "name": "stdout",
     "output_type": "stream",
     "text": [
      "loss: 4.950407028198242\n",
      "GPU memory allocated: 637.43 MB\n"
     ]
    },
    {
     "name": "stderr",
     "output_type": "stream",
     "text": [
      "  2%|▋                                        | 25/1562 [00:12<12:08,  2.11it/s]"
     ]
    },
    {
     "name": "stdout",
     "output_type": "stream",
     "text": [
      "loss: 9.877914428710938\n",
      "GPU memory allocated: 637.43 MB\n"
     ]
    },
    {
     "name": "stderr",
     "output_type": "stream",
     "text": [
      "  2%|▊                                        | 30/1562 [00:14<12:07,  2.11it/s]"
     ]
    },
    {
     "name": "stdout",
     "output_type": "stream",
     "text": [
      "loss: 9.713483810424805\n",
      "GPU memory allocated: 637.43 MB\n"
     ]
    },
    {
     "name": "stderr",
     "output_type": "stream",
     "text": [
      "  2%|▉                                        | 35/1562 [00:17<12:06,  2.10it/s]"
     ]
    },
    {
     "name": "stdout",
     "output_type": "stream",
     "text": [
      "loss: 10.025362014770508\n",
      "GPU memory allocated: 637.43 MB\n"
     ]
    },
    {
     "name": "stderr",
     "output_type": "stream",
     "text": [
      "  3%|█                                        | 40/1562 [00:19<12:01,  2.11it/s]"
     ]
    },
    {
     "name": "stdout",
     "output_type": "stream",
     "text": [
      "loss: 10.128983497619629\n",
      "GPU memory allocated: 637.43 MB\n"
     ]
    },
    {
     "name": "stderr",
     "output_type": "stream",
     "text": [
      "  3%|█▏                                       | 45/1562 [00:21<11:59,  2.11it/s]"
     ]
    },
    {
     "name": "stdout",
     "output_type": "stream",
     "text": [
      "loss: 9.211750984191895\n",
      "GPU memory allocated: 637.43 MB\n"
     ]
    },
    {
     "name": "stderr",
     "output_type": "stream",
     "text": [
      "  3%|█▎                                       | 50/1562 [00:24<11:57,  2.11it/s]"
     ]
    },
    {
     "name": "stdout",
     "output_type": "stream",
     "text": [
      "loss: 9.288354873657227\n",
      "GPU memory allocated: 637.43 MB\n"
     ]
    },
    {
     "name": "stderr",
     "output_type": "stream",
     "text": [
      "  4%|█▍                                       | 55/1562 [00:26<11:55,  2.11it/s]"
     ]
    },
    {
     "name": "stdout",
     "output_type": "stream",
     "text": [
      "loss: 9.176788330078125\n",
      "GPU memory allocated: 637.43 MB\n"
     ]
    },
    {
     "name": "stderr",
     "output_type": "stream",
     "text": [
      "  4%|█▌                                       | 60/1562 [00:28<11:52,  2.11it/s]"
     ]
    },
    {
     "name": "stdout",
     "output_type": "stream",
     "text": [
      "loss: 8.75922966003418\n",
      "GPU memory allocated: 637.43 MB\n"
     ]
    },
    {
     "name": "stderr",
     "output_type": "stream",
     "text": [
      "  4%|█▋                                       | 65/1562 [00:31<11:50,  2.11it/s]"
     ]
    },
    {
     "name": "stdout",
     "output_type": "stream",
     "text": [
      "loss: 8.580585479736328\n",
      "GPU memory allocated: 637.43 MB\n"
     ]
    },
    {
     "name": "stderr",
     "output_type": "stream",
     "text": [
      "  4%|█▊                                       | 70/1562 [00:33<11:47,  2.11it/s]"
     ]
    },
    {
     "name": "stdout",
     "output_type": "stream",
     "text": [
      "loss: 8.650453567504883\n",
      "GPU memory allocated: 637.43 MB\n"
     ]
    },
    {
     "name": "stderr",
     "output_type": "stream",
     "text": [
      "  5%|█▉                                       | 75/1562 [00:36<11:45,  2.11it/s]"
     ]
    },
    {
     "name": "stdout",
     "output_type": "stream",
     "text": [
      "loss: 7.764535903930664\n",
      "GPU memory allocated: 637.43 MB\n"
     ]
    },
    {
     "name": "stderr",
     "output_type": "stream",
     "text": [
      "  5%|██                                       | 80/1562 [00:38<11:43,  2.11it/s]"
     ]
    },
    {
     "name": "stdout",
     "output_type": "stream",
     "text": [
      "loss: 9.042963027954102\n",
      "GPU memory allocated: 637.43 MB\n"
     ]
    },
    {
     "name": "stderr",
     "output_type": "stream",
     "text": [
      "  5%|██▏                                      | 85/1562 [00:40<11:40,  2.11it/s]"
     ]
    },
    {
     "name": "stdout",
     "output_type": "stream",
     "text": [
      "loss: 8.960711479187012\n",
      "GPU memory allocated: 637.43 MB\n"
     ]
    },
    {
     "name": "stderr",
     "output_type": "stream",
     "text": [
      "  6%|██▎                                      | 90/1562 [00:43<11:39,  2.10it/s]"
     ]
    },
    {
     "name": "stdout",
     "output_type": "stream",
     "text": [
      "loss: 8.787643432617188\n",
      "GPU memory allocated: 637.43 MB\n"
     ]
    },
    {
     "name": "stderr",
     "output_type": "stream",
     "text": [
      "  6%|██▍                                      | 95/1562 [00:45<11:35,  2.11it/s]"
     ]
    },
    {
     "name": "stdout",
     "output_type": "stream",
     "text": [
      "loss: 8.042308807373047\n",
      "GPU memory allocated: 637.43 MB\n"
     ]
    },
    {
     "name": "stderr",
     "output_type": "stream",
     "text": [
      "  6%|██▌                                     | 100/1562 [00:47<11:33,  2.11it/s]"
     ]
    },
    {
     "name": "stdout",
     "output_type": "stream",
     "text": [
      "loss: 7.9175615310668945\n",
      "GPU memory allocated: 637.43 MB\n"
     ]
    },
    {
     "name": "stderr",
     "output_type": "stream",
     "text": [
      "  7%|██▋                                     | 105/1562 [00:50<11:31,  2.11it/s]"
     ]
    },
    {
     "name": "stdout",
     "output_type": "stream",
     "text": [
      "loss: 9.258269309997559\n",
      "GPU memory allocated: 637.43 MB\n"
     ]
    },
    {
     "name": "stderr",
     "output_type": "stream",
     "text": [
      "  7%|██▊                                     | 110/1562 [00:52<11:28,  2.11it/s]"
     ]
    },
    {
     "name": "stdout",
     "output_type": "stream",
     "text": [
      "loss: 7.630119323730469\n",
      "GPU memory allocated: 637.43 MB\n"
     ]
    },
    {
     "name": "stderr",
     "output_type": "stream",
     "text": [
      "  7%|██▉                                     | 115/1562 [00:55<11:26,  2.11it/s]"
     ]
    },
    {
     "name": "stdout",
     "output_type": "stream",
     "text": [
      "loss: 8.955482482910156\n",
      "GPU memory allocated: 637.43 MB\n"
     ]
    },
    {
     "name": "stderr",
     "output_type": "stream",
     "text": [
      "  8%|███                                     | 120/1562 [00:57<11:26,  2.10it/s]"
     ]
    },
    {
     "name": "stdout",
     "output_type": "stream",
     "text": [
      "loss: 8.287837028503418\n",
      "GPU memory allocated: 637.43 MB\n"
     ]
    },
    {
     "name": "stderr",
     "output_type": "stream",
     "text": [
      "  8%|███▏                                    | 125/1562 [00:59<11:21,  2.11it/s]"
     ]
    },
    {
     "name": "stdout",
     "output_type": "stream",
     "text": [
      "loss: 7.183791160583496\n",
      "GPU memory allocated: 637.43 MB\n"
     ]
    },
    {
     "name": "stderr",
     "output_type": "stream",
     "text": [
      "  8%|███▎                                    | 130/1562 [01:02<11:18,  2.11it/s]"
     ]
    },
    {
     "name": "stdout",
     "output_type": "stream",
     "text": [
      "loss: 9.004569053649902\n",
      "GPU memory allocated: 637.43 MB\n"
     ]
    },
    {
     "name": "stderr",
     "output_type": "stream",
     "text": [
      "  9%|███▍                                    | 135/1562 [01:04<11:16,  2.11it/s]"
     ]
    },
    {
     "name": "stdout",
     "output_type": "stream",
     "text": [
      "loss: 8.095295906066895\n",
      "GPU memory allocated: 637.43 MB\n"
     ]
    },
    {
     "name": "stderr",
     "output_type": "stream",
     "text": [
      "  9%|███▌                                    | 140/1562 [01:06<11:14,  2.11it/s]"
     ]
    },
    {
     "name": "stdout",
     "output_type": "stream",
     "text": [
      "loss: 7.811026573181152\n",
      "GPU memory allocated: 637.43 MB\n"
     ]
    },
    {
     "name": "stderr",
     "output_type": "stream",
     "text": [
      "  9%|███▋                                    | 145/1562 [01:09<11:11,  2.11it/s]"
     ]
    },
    {
     "name": "stdout",
     "output_type": "stream",
     "text": [
      "loss: 9.004969596862793\n",
      "GPU memory allocated: 637.43 MB\n"
     ]
    },
    {
     "name": "stderr",
     "output_type": "stream",
     "text": [
      " 10%|███▊                                    | 150/1562 [01:11<11:09,  2.11it/s]"
     ]
    },
    {
     "name": "stdout",
     "output_type": "stream",
     "text": [
      "loss: 9.417045593261719\n",
      "GPU memory allocated: 637.43 MB\n"
     ]
    },
    {
     "name": "stderr",
     "output_type": "stream",
     "text": [
      " 10%|███▉                                    | 155/1562 [01:13<11:06,  2.11it/s]"
     ]
    },
    {
     "name": "stdout",
     "output_type": "stream",
     "text": [
      "loss: 8.70196533203125\n",
      "GPU memory allocated: 637.43 MB\n"
     ]
    },
    {
     "name": "stderr",
     "output_type": "stream",
     "text": [
      " 10%|████                                    | 160/1562 [01:16<11:04,  2.11it/s]"
     ]
    },
    {
     "name": "stdout",
     "output_type": "stream",
     "text": [
      "loss: 7.91119909286499\n",
      "GPU memory allocated: 637.43 MB\n"
     ]
    },
    {
     "name": "stderr",
     "output_type": "stream",
     "text": [
      " 11%|████▏                                   | 165/1562 [01:18<11:05,  2.10it/s]"
     ]
    },
    {
     "name": "stdout",
     "output_type": "stream",
     "text": [
      "loss: 7.85260009765625\n",
      "GPU memory allocated: 637.43 MB\n"
     ]
    },
    {
     "name": "stderr",
     "output_type": "stream",
     "text": [
      " 11%|████▎                                   | 170/1562 [01:21<11:03,  2.10it/s]"
     ]
    },
    {
     "name": "stdout",
     "output_type": "stream",
     "text": [
      "loss: 7.773950099945068\n",
      "GPU memory allocated: 637.43 MB\n"
     ]
    },
    {
     "name": "stderr",
     "output_type": "stream",
     "text": [
      " 11%|████▍                                   | 175/1562 [01:23<10:58,  2.11it/s]"
     ]
    },
    {
     "name": "stdout",
     "output_type": "stream",
     "text": [
      "loss: 8.11253833770752\n",
      "GPU memory allocated: 637.43 MB\n"
     ]
    },
    {
     "name": "stderr",
     "output_type": "stream",
     "text": [
      " 12%|████▌                                   | 180/1562 [01:25<10:57,  2.10it/s]"
     ]
    },
    {
     "name": "stdout",
     "output_type": "stream",
     "text": [
      "loss: 7.759117603302002\n",
      "GPU memory allocated: 637.43 MB\n"
     ]
    },
    {
     "name": "stderr",
     "output_type": "stream",
     "text": [
      " 12%|████▋                                   | 185/1562 [01:28<10:52,  2.11it/s]"
     ]
    },
    {
     "name": "stdout",
     "output_type": "stream",
     "text": [
      "loss: 7.716614246368408\n",
      "GPU memory allocated: 637.43 MB\n"
     ]
    },
    {
     "name": "stderr",
     "output_type": "stream",
     "text": [
      " 12%|████▊                                   | 190/1562 [01:30<10:50,  2.11it/s]"
     ]
    },
    {
     "name": "stdout",
     "output_type": "stream",
     "text": [
      "loss: 8.494922637939453\n",
      "GPU memory allocated: 637.43 MB\n"
     ]
    },
    {
     "name": "stderr",
     "output_type": "stream",
     "text": [
      " 12%|████▉                                   | 195/1562 [01:32<10:52,  2.09it/s]"
     ]
    },
    {
     "name": "stdout",
     "output_type": "stream",
     "text": [
      "loss: 8.225820541381836\n",
      "GPU memory allocated: 637.43 MB\n"
     ]
    },
    {
     "name": "stderr",
     "output_type": "stream",
     "text": [
      " 13%|█████                                   | 199/1562 [01:34<10:47,  2.11it/s]"
     ]
    },
    {
     "name": "stdout",
     "output_type": "stream",
     "text": [
      "loss: 8.11757755279541\n",
      "GPU memory allocated: 637.43 MB\n"
     ]
    },
    {
     "name": "stderr",
     "output_type": "stream",
     "text": [
      " 13%|█████                                   | 199/1562 [01:36<11:01,  2.06it/s]\n"
     ]
    },
    {
     "name": "stdout",
     "output_type": "stream",
     "text": [
      "Here\n",
      "I'm here\n",
      "phase val\n"
     ]
    },
    {
     "name": "stderr",
     "output_type": "stream",
     "text": [
      "  1%|▎                                          | 5/781 [00:02<06:38,  1.95it/s]"
     ]
    },
    {
     "name": "stdout",
     "output_type": "stream",
     "text": [
      "loss: 8.123064041137695\n",
      "GPU memory allocated: 637.54 MB\n"
     ]
    },
    {
     "name": "stderr",
     "output_type": "stream",
     "text": [
      "  1%|▌                                         | 10/781 [00:05<06:09,  2.09it/s]"
     ]
    },
    {
     "name": "stdout",
     "output_type": "stream",
     "text": [
      "loss: 8.602823257446289\n",
      "GPU memory allocated: 637.54 MB\n"
     ]
    },
    {
     "name": "stderr",
     "output_type": "stream",
     "text": [
      "  2%|▊                                         | 15/781 [00:07<06:03,  2.11it/s]"
     ]
    },
    {
     "name": "stdout",
     "output_type": "stream",
     "text": [
      "loss: 7.3411760330200195\n",
      "GPU memory allocated: 637.54 MB\n"
     ]
    },
    {
     "name": "stderr",
     "output_type": "stream",
     "text": [
      "  3%|█                                         | 20/781 [00:09<06:00,  2.11it/s]"
     ]
    },
    {
     "name": "stdout",
     "output_type": "stream",
     "text": [
      "loss: 8.067548751831055\n",
      "GPU memory allocated: 637.54 MB\n"
     ]
    },
    {
     "name": "stderr",
     "output_type": "stream",
     "text": [
      "  3%|█▎                                        | 25/781 [00:12<05:57,  2.11it/s]"
     ]
    },
    {
     "name": "stdout",
     "output_type": "stream",
     "text": [
      "loss: 8.286067962646484\n",
      "GPU memory allocated: 637.54 MB\n"
     ]
    },
    {
     "name": "stderr",
     "output_type": "stream",
     "text": [
      "  4%|█▌                                        | 30/781 [00:14<05:55,  2.11it/s]"
     ]
    },
    {
     "name": "stdout",
     "output_type": "stream",
     "text": [
      "loss: 7.398810386657715\n",
      "GPU memory allocated: 637.54 MB\n"
     ]
    },
    {
     "name": "stderr",
     "output_type": "stream",
     "text": [
      "  4%|█▉                                        | 35/781 [00:17<05:53,  2.11it/s]"
     ]
    },
    {
     "name": "stdout",
     "output_type": "stream",
     "text": [
      "loss: 7.6164326667785645\n",
      "GPU memory allocated: 637.54 MB\n"
     ]
    },
    {
     "name": "stderr",
     "output_type": "stream",
     "text": [
      "  5%|██▏                                       | 40/781 [00:19<05:50,  2.11it/s]"
     ]
    },
    {
     "name": "stdout",
     "output_type": "stream",
     "text": [
      "loss: 7.825995922088623\n",
      "GPU memory allocated: 637.54 MB\n"
     ]
    },
    {
     "name": "stderr",
     "output_type": "stream",
     "text": [
      "  6%|██▍                                       | 45/781 [00:21<05:48,  2.11it/s]"
     ]
    },
    {
     "name": "stdout",
     "output_type": "stream",
     "text": [
      "loss: 8.298734664916992\n",
      "GPU memory allocated: 637.54 MB\n"
     ]
    },
    {
     "name": "stderr",
     "output_type": "stream",
     "text": [
      "  6%|██▋                                       | 50/781 [00:24<05:46,  2.11it/s]"
     ]
    },
    {
     "name": "stdout",
     "output_type": "stream",
     "text": [
      "loss: 7.724386692047119\n",
      "GPU memory allocated: 637.54 MB\n"
     ]
    },
    {
     "name": "stderr",
     "output_type": "stream",
     "text": [
      "  7%|██▉                                       | 55/781 [00:26<05:46,  2.10it/s]"
     ]
    },
    {
     "name": "stdout",
     "output_type": "stream",
     "text": [
      "loss: 7.873117446899414\n",
      "GPU memory allocated: 637.54 MB\n"
     ]
    },
    {
     "name": "stderr",
     "output_type": "stream",
     "text": [
      "  8%|███▏                                      | 60/781 [00:28<05:41,  2.11it/s]"
     ]
    },
    {
     "name": "stdout",
     "output_type": "stream",
     "text": [
      "loss: 8.243892669677734\n",
      "GPU memory allocated: 637.54 MB\n"
     ]
    },
    {
     "name": "stderr",
     "output_type": "stream",
     "text": [
      "  8%|███▍                                      | 65/781 [00:31<05:40,  2.11it/s]"
     ]
    },
    {
     "name": "stdout",
     "output_type": "stream",
     "text": [
      "loss: 8.154068946838379\n",
      "GPU memory allocated: 637.54 MB\n"
     ]
    },
    {
     "name": "stderr",
     "output_type": "stream",
     "text": [
      "  9%|███▊                                      | 70/781 [00:33<05:37,  2.11it/s]"
     ]
    },
    {
     "name": "stdout",
     "output_type": "stream",
     "text": [
      "loss: 7.5986647605896\n",
      "GPU memory allocated: 637.54 MB\n"
     ]
    },
    {
     "name": "stderr",
     "output_type": "stream",
     "text": [
      " 10%|████                                      | 75/781 [00:35<05:34,  2.11it/s]"
     ]
    },
    {
     "name": "stdout",
     "output_type": "stream",
     "text": [
      "loss: 7.971997261047363\n",
      "GPU memory allocated: 637.54 MB\n"
     ]
    },
    {
     "name": "stderr",
     "output_type": "stream",
     "text": [
      " 10%|████▎                                     | 80/781 [00:38<05:31,  2.11it/s]"
     ]
    },
    {
     "name": "stdout",
     "output_type": "stream",
     "text": [
      "loss: 7.1491289138793945\n",
      "GPU memory allocated: 637.54 MB\n"
     ]
    },
    {
     "name": "stderr",
     "output_type": "stream",
     "text": [
      " 11%|████▌                                     | 85/781 [00:40<05:29,  2.11it/s]"
     ]
    },
    {
     "name": "stdout",
     "output_type": "stream",
     "text": [
      "loss: 8.110217094421387\n",
      "GPU memory allocated: 637.54 MB\n"
     ]
    },
    {
     "name": "stderr",
     "output_type": "stream",
     "text": [
      " 12%|████▊                                     | 90/781 [00:43<05:27,  2.11it/s]"
     ]
    },
    {
     "name": "stdout",
     "output_type": "stream",
     "text": [
      "loss: 7.714844703674316\n",
      "GPU memory allocated: 637.54 MB\n"
     ]
    },
    {
     "name": "stderr",
     "output_type": "stream",
     "text": [
      " 12%|█████                                     | 95/781 [00:45<05:24,  2.11it/s]"
     ]
    },
    {
     "name": "stdout",
     "output_type": "stream",
     "text": [
      "loss: 7.568660259246826\n",
      "GPU memory allocated: 637.54 MB\n"
     ]
    },
    {
     "name": "stderr",
     "output_type": "stream",
     "text": [
      " 13%|█████▏                                   | 100/781 [00:47<05:22,  2.11it/s]"
     ]
    },
    {
     "name": "stdout",
     "output_type": "stream",
     "text": [
      "loss: 7.875662326812744\n",
      "GPU memory allocated: 637.54 MB\n"
     ]
    },
    {
     "name": "stderr",
     "output_type": "stream",
     "text": [
      " 13%|█████▌                                   | 105/781 [00:50<05:20,  2.11it/s]"
     ]
    },
    {
     "name": "stdout",
     "output_type": "stream",
     "text": [
      "loss: 8.437402725219727\n",
      "GPU memory allocated: 637.54 MB\n"
     ]
    },
    {
     "name": "stderr",
     "output_type": "stream",
     "text": [
      " 14%|█████▊                                   | 110/781 [00:52<05:19,  2.10it/s]"
     ]
    },
    {
     "name": "stdout",
     "output_type": "stream",
     "text": [
      "loss: 8.57778263092041\n",
      "GPU memory allocated: 637.54 MB\n"
     ]
    },
    {
     "name": "stderr",
     "output_type": "stream",
     "text": [
      " 15%|██████                                   | 115/781 [00:54<05:15,  2.11it/s]"
     ]
    },
    {
     "name": "stdout",
     "output_type": "stream",
     "text": [
      "loss: 8.16665267944336\n",
      "GPU memory allocated: 637.54 MB\n"
     ]
    },
    {
     "name": "stderr",
     "output_type": "stream",
     "text": [
      " 15%|██████▎                                  | 120/781 [00:57<05:13,  2.11it/s]"
     ]
    },
    {
     "name": "stdout",
     "output_type": "stream",
     "text": [
      "loss: 7.941267967224121\n",
      "GPU memory allocated: 637.54 MB\n"
     ]
    },
    {
     "name": "stderr",
     "output_type": "stream",
     "text": [
      " 16%|██████▌                                  | 125/781 [00:59<05:10,  2.11it/s]"
     ]
    },
    {
     "name": "stdout",
     "output_type": "stream",
     "text": [
      "loss: 8.017154693603516\n",
      "GPU memory allocated: 637.54 MB\n"
     ]
    },
    {
     "name": "stderr",
     "output_type": "stream",
     "text": [
      " 17%|██████▊                                  | 130/781 [01:02<05:08,  2.11it/s]"
     ]
    },
    {
     "name": "stdout",
     "output_type": "stream",
     "text": [
      "loss: 8.307939529418945\n",
      "GPU memory allocated: 637.54 MB\n"
     ]
    },
    {
     "name": "stderr",
     "output_type": "stream",
     "text": [
      " 17%|███████                                  | 135/781 [01:04<05:05,  2.11it/s]"
     ]
    },
    {
     "name": "stdout",
     "output_type": "stream",
     "text": [
      "loss: 8.221442222595215\n",
      "GPU memory allocated: 637.54 MB\n"
     ]
    },
    {
     "name": "stderr",
     "output_type": "stream",
     "text": [
      " 18%|███████▎                                 | 140/781 [01:06<05:03,  2.11it/s]"
     ]
    },
    {
     "name": "stdout",
     "output_type": "stream",
     "text": [
      "loss: 7.638627052307129\n",
      "GPU memory allocated: 637.54 MB\n"
     ]
    },
    {
     "name": "stderr",
     "output_type": "stream",
     "text": [
      " 19%|███████▌                                 | 145/781 [01:09<05:01,  2.11it/s]"
     ]
    },
    {
     "name": "stdout",
     "output_type": "stream",
     "text": [
      "loss: 7.74656343460083\n",
      "GPU memory allocated: 637.54 MB\n"
     ]
    },
    {
     "name": "stderr",
     "output_type": "stream",
     "text": [
      " 19%|███████▊                                 | 150/781 [01:11<04:58,  2.11it/s]"
     ]
    },
    {
     "name": "stdout",
     "output_type": "stream",
     "text": [
      "loss: 7.600796222686768\n",
      "GPU memory allocated: 637.54 MB\n"
     ]
    },
    {
     "name": "stderr",
     "output_type": "stream",
     "text": [
      " 20%|████████▏                                | 155/781 [01:13<04:56,  2.11it/s]"
     ]
    },
    {
     "name": "stdout",
     "output_type": "stream",
     "text": [
      "loss: 8.405119895935059\n",
      "GPU memory allocated: 637.54 MB\n"
     ]
    },
    {
     "name": "stderr",
     "output_type": "stream",
     "text": [
      " 20%|████████▍                                | 160/781 [01:16<04:54,  2.11it/s]"
     ]
    },
    {
     "name": "stdout",
     "output_type": "stream",
     "text": [
      "loss: 7.648085117340088\n",
      "GPU memory allocated: 637.54 MB\n"
     ]
    },
    {
     "name": "stderr",
     "output_type": "stream",
     "text": [
      " 21%|████████▋                                | 165/781 [01:18<04:51,  2.11it/s]"
     ]
    },
    {
     "name": "stdout",
     "output_type": "stream",
     "text": [
      "loss: 7.184080123901367\n",
      "GPU memory allocated: 637.54 MB\n"
     ]
    },
    {
     "name": "stderr",
     "output_type": "stream",
     "text": [
      " 22%|████████▉                                | 170/781 [01:20<04:49,  2.11it/s]"
     ]
    },
    {
     "name": "stdout",
     "output_type": "stream",
     "text": [
      "loss: 8.037199020385742\n",
      "GPU memory allocated: 637.54 MB\n"
     ]
    },
    {
     "name": "stderr",
     "output_type": "stream",
     "text": [
      " 22%|█████████▏                               | 175/781 [01:23<04:46,  2.11it/s]"
     ]
    },
    {
     "name": "stdout",
     "output_type": "stream",
     "text": [
      "loss: 8.02087116241455\n",
      "GPU memory allocated: 637.54 MB\n"
     ]
    },
    {
     "name": "stderr",
     "output_type": "stream",
     "text": [
      " 23%|█████████▍                               | 180/781 [01:25<04:45,  2.10it/s]"
     ]
    },
    {
     "name": "stdout",
     "output_type": "stream",
     "text": [
      "loss: 7.1826491355896\n",
      "GPU memory allocated: 637.54 MB\n"
     ]
    },
    {
     "name": "stderr",
     "output_type": "stream",
     "text": [
      " 24%|█████████▋                               | 185/781 [01:28<04:42,  2.11it/s]"
     ]
    },
    {
     "name": "stdout",
     "output_type": "stream",
     "text": [
      "loss: 7.746597766876221\n",
      "GPU memory allocated: 637.54 MB\n"
     ]
    },
    {
     "name": "stderr",
     "output_type": "stream",
     "text": [
      " 24%|█████████▉                               | 190/781 [01:30<04:39,  2.11it/s]"
     ]
    },
    {
     "name": "stdout",
     "output_type": "stream",
     "text": [
      "loss: 8.070891380310059\n",
      "GPU memory allocated: 637.54 MB\n"
     ]
    },
    {
     "name": "stderr",
     "output_type": "stream",
     "text": [
      " 25%|██████████▏                              | 195/781 [01:32<04:37,  2.11it/s]"
     ]
    },
    {
     "name": "stdout",
     "output_type": "stream",
     "text": [
      "loss: 7.5897979736328125\n",
      "GPU memory allocated: 637.54 MB\n"
     ]
    },
    {
     "name": "stderr",
     "output_type": "stream",
     "text": [
      " 25%|██████████▍                              | 199/781 [01:34<04:35,  2.11it/s]"
     ]
    },
    {
     "name": "stdout",
     "output_type": "stream",
     "text": [
      "loss: 8.364740371704102\n",
      "GPU memory allocated: 637.54 MB\n"
     ]
    },
    {
     "name": "stderr",
     "output_type": "stream",
     "text": [
      " 25%|██████████▍                              | 199/781 [01:35<04:40,  2.07it/s]\n"
     ]
    }
   ],
   "source": [
    "verbose = True\n",
    "train_acc_history = []\n",
    "val_acc_history = []\n",
    "\n",
    "# best_model_wts = deepcopy(model.state_dict())\n",
    "best_acc = 0.0\n",
    "\n",
    "for i_ep in range(num_epochs):\n",
    "    if verbose:\n",
    "        print('Epoch {}/{}'.format(i_ep, num_epochs - 1))\n",
    "        print('-' * 10)\n",
    "    # Each epoch has a training and validation phase\n",
    "    for phase in ['train', 'val']:\n",
    "        print(\"Here\")\n",
    "        dataloaders[phase].sampler.set_epoch(i_ep)\n",
    "        print(\"I'm here\")\n",
    "        if phase == 'train':\n",
    "            xmodel.train()  # Set model to training mode\n",
    "        else:\n",
    "            xmodel.eval()   # Set model to evaluate mode\n",
    "\n",
    "        running_loss = torch.tensor([0.0], device=rank)\n",
    "        running_corrects = torch.tensor([0.0], device=rank)\n",
    "\n",
    "        i_iter, print_period=0, 100  \n",
    "#         i_break, print_period = 200,5 #@@@ debug\n",
    "        # Iterate over data.\n",
    "        print(\"phase\", phase)\n",
    "#         dataiter = iter(dataloaders[phase])\n",
    "#         images, labels = next(dataiter)\n",
    "#         print(images.shape)\n",
    "        for batch in tqdm(dataloaders[phase]):\n",
    "            # zero the parameter gradients\n",
    "            optimizer.zero_grad()\n",
    "\n",
    "#                 loss, logits = get_loss(task, batch, phase, rank, args)\n",
    "\n",
    "            # implement get_loss for different datasets and for videomaeclassifier\n",
    "            inputs, labels = batch #get_inp_label(args.task, batch)\n",
    "#             print(\"Here\", inputs.shape)\n",
    "            inputs = inputs.to(rank)\n",
    "            labels = labels.to(rank)\n",
    "            outputs = xmodel(pixel_values=inputs, labels=labels)\n",
    "\n",
    "            logits = outputs.logits\n",
    "            loss = outputs.loss\n",
    "\n",
    "            _, preds = torch.max(logits, 1)\n",
    "\n",
    "            # backward + optimize only if in training phase\n",
    "            if phase == 'train':\n",
    "                loss.backward()\n",
    "                optimizer.step()\n",
    "\n",
    "            # statistics\n",
    "            running_loss += loss.item() * inputs.size(0)\n",
    "#                 print(rank, 'labels shape, device: ', labels.shape, labels.data.device)\n",
    "#                 print(rank, 'preds shape, device: ', preds.shape, preds.device)\n",
    "            running_corrects += torch.sum(preds == labels.data)\n",
    "\n",
    "            i_iter+=1\n",
    "            if (i_iter%print_period)==0:\n",
    "                print('loss:',loss.item())\n",
    "                memory_allocated = torch.cuda.memory_allocated() / 1024**2\n",
    "                print(f'GPU memory allocated: {memory_allocated:.2f} MB')\n",
    "                \n",
    "#             if i_iter==i_break:\n",
    "#                 break #@@@@ debug"
   ]
  },
  {
   "cell_type": "code",
   "execution_count": null,
   "id": "27c0ebc6",
   "metadata": {},
   "outputs": [],
   "source": [
    "labels"
   ]
  },
  {
   "cell_type": "code",
   "execution_count": null,
   "id": "42f6192f",
   "metadata": {},
   "outputs": [],
   "source": []
  }
 ],
 "metadata": {
  "kernelspec": {
   "display_name": "Python 3 (ipykernel)",
   "language": "python",
   "name": "python3"
  },
  "language_info": {
   "codemirror_mode": {
    "name": "ipython",
    "version": 3
   },
   "file_extension": ".py",
   "mimetype": "text/x-python",
   "name": "python",
   "nbconvert_exporter": "python",
   "pygments_lexer": "ipython3",
   "version": "3.10.5"
  }
 },
 "nbformat": 4,
 "nbformat_minor": 5
}
