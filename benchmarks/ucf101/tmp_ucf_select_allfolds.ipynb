{
 "cells": [
  {
   "cell_type": "code",
   "execution_count": 1,
   "id": "7aa9258f",
   "metadata": {},
   "outputs": [],
   "source": [
    "import sys, os\n",
    "\n",
    "env_root = '/N/project/baby_vision_curriculum/pythonenvs/hfenv/lib/python3.10/site-packages/'\n",
    "sys.path.insert(0, env_root)\n",
    "\n",
    "os.environ['OPENBLAS_NUM_THREADS'] = '38' #@@@@ to help with the num_workers issue\n",
    "os.environ['OMP_NUM_THREADS'] = '1'  #10\n",
    "\n",
    "import numpy as np\n",
    "import torch, torchvision\n",
    "from torchvision import transforms as tr\n",
    "from tqdm import tqdm\n",
    "from pathlib import Path\n",
    "# import math\n",
    "import argparse\n",
    "import pandas as pd\n",
    "import warnings"
   ]
  },
  {
   "cell_type": "code",
   "execution_count": 2,
   "id": "4bd046bf",
   "metadata": {},
   "outputs": [],
   "source": [
    "\n",
    "def _get_transform(image_size):\n",
    "\n",
    "    mean = [0.5, 0.5, 0.5]#np.mean(mean_all, axis=0) #mean_all[chosen_subj] \n",
    "    std = [0.25, 0.25, 0.25] #std_all[chosen_subj] \n",
    "    \n",
    "#     [0.485, 0.456, 0.406]  # IMAGENET_DEFAULT_MEAN\n",
    "#     [0.229, 0.224, 0.225]  # IMAGENET_DEFAULT_STD\n",
    "\n",
    "    augs = [tr.Resize(image_size), tr.CenterCrop(image_size), \n",
    "            tr.ConvertImageDtype(torch.float32), \n",
    "             tr.Normalize(mean,std)]\n",
    "    return tr.Compose(augs)\n",
    "\n",
    "def transform_vid(video):\n",
    "    # Used with standard video datasets such as torchvision.UCF101\n",
    "#     print(vid.shape)\n",
    "    if video.shape[1]!=3: # Make it TCHW\n",
    "        video = torch.permute(video, (0,3,1,2))\n",
    "    image_size = 224\n",
    "#     vid.p\n",
    "    transform = _get_transform(image_size)\n",
    "#     xtt = [transform(torch.from_numpy(frame)).unsqueeze(0) \n",
    "    xtt = [transform(frame).unsqueeze(0) \n",
    "       for frame in video]\n",
    "    return torch.concat(xtt, axis=0)#.unsqueeze(0)"
   ]
  },
  {
   "cell_type": "code",
   "execution_count": 3,
   "id": "0ca62e46",
   "metadata": {},
   "outputs": [],
   "source": []
  },
  {
   "cell_type": "code",
   "execution_count": 4,
   "id": "afd2c18e",
   "metadata": {},
   "outputs": [],
   "source": [
    "\n"
   ]
  },
  {
   "cell_type": "code",
   "execution_count": 47,
   "id": "9f7f1263",
   "metadata": {},
   "outputs": [],
   "source": [
    "from torchvision.datasets.ucf101 import UCF101\n",
    "class MyUCF101(UCF101):\n",
    "    def __init__(self, root, annotation_path, frames_per_clip, step_between_clips=1, \n",
    "                 frame_rate= None, fold=1, train=True, transform=None, _precomputed_metadata=None, \n",
    "                 num_workers=1, _video_width=0, _video_height=0,\n",
    "                 _video_min_dimension=0, _audio_samples=0, output_format='THWC'):\n",
    "        super(MyUCF101, self).__init__(root, annotation_path, frames_per_clip, \n",
    "                                       step_between_clips=step_between_clips, \n",
    "                 frame_rate=frame_rate, fold=fold, train=train, transform=transform, \n",
    "                                       _precomputed_metadata=_precomputed_metadata, \n",
    "                 num_workers=num_workers, _video_width=_video_width, _video_height=_video_height,\n",
    "                 _video_min_dimension=_video_min_dimension, _audio_samples=_audio_samples, \n",
    "                                       output_format=output_format)\n",
    "        print('samples len:',len(self.samples))\n",
    "        print('element type:',type(self.samples[0][0]))\n",
    "        video_list = [x[0] for x in self.samples]\n",
    "        \n",
    "        self.indices = []\n",
    "#         fold=1\n",
    "        for train in [True, False]:\n",
    "            fold=1\n",
    "#             for fold in range(1,4):\n",
    "            self.indices+=self._select_fold(video_list, annotation_path, fold, train)\n",
    "#         self.indices = self.indices[::]\n",
    "        video_clips = self.full_video_clips\n",
    "        self.video_clips = video_clips.subset(self.indices)\n",
    "        self.transform = transform"
   ]
  },
  {
   "cell_type": "code",
   "execution_count": null,
   "id": "8ba694be",
   "metadata": {},
   "outputs": [],
   "source": []
  },
  {
   "cell_type": "code",
   "execution_count": 51,
   "id": "970a0b4f",
   "metadata": {},
   "outputs": [
    {
     "data": {
      "application/vnd.jupyter.widget-view+json": {
       "model_id": "99017606fe774a3ea1db7d22e2b8045a",
       "version_major": 2,
       "version_minor": 0
      },
      "text/plain": [
       "  0%|          | 0/833 [00:00<?, ?it/s]"
      ]
     },
     "metadata": {},
     "output_type": "display_data"
    },
    {
     "name": "stdout",
     "output_type": "stream",
     "text": [
      "samples len: 13320\n",
      "element type: <class 'str'>\n"
     ]
    }
   ],
   "source": [
    "ucf_root='/N/project/baby_vision_curriculum/benchmarks/mainstream/ucf101/UCF-101'\n",
    "annotation_path = '/N/project/baby_vision_curriculum/benchmarks/mainstream/ucf101/UCF101TrainTestSplits-RecognitionTask/ucfTrainTestlist/'\n",
    "frames_per_clip = 16\n",
    "step_between_clips = 300#1\n",
    "frame_rate=10#args.frame_rate#int(30/args.ds_rate)\n",
    "transform = transform_vid\n",
    "output_format= 'TCHW'\n",
    "num_workers=6#args.num_workers-1 #40\n",
    "\n",
    "dataset = MyUCF101(ucf_root, \n",
    "                  annotation_path,\n",
    "                  frames_per_clip,\n",
    "                  step_between_clips=step_between_clips,\n",
    "                  frame_rate=frame_rate,\n",
    "                  fold=1,\n",
    "                  train=True,\n",
    "                  transform=transform,\n",
    "                  output_format=output_format,\n",
    "                  num_workers=num_workers)"
   ]
  },
  {
   "cell_type": "code",
   "execution_count": 52,
   "id": "23734733",
   "metadata": {},
   "outputs": [
    {
     "data": {
      "text/plain": [
       "13324"
      ]
     },
     "execution_count": 52,
     "metadata": {},
     "output_type": "execute_result"
    }
   ],
   "source": [
    "len(dataset)"
   ]
  },
  {
   "cell_type": "code",
   "execution_count": 29,
   "id": "6a65f614",
   "metadata": {},
   "outputs": [
    {
     "name": "stderr",
     "output_type": "stream",
     "text": [
      "/N/soft/sles15/deeplearning/Python-3.10.5/lib/python3.10/site-packages/torchvision/io/video.py:162: UserWarning: The pts_unit 'pts' gives wrong results. Please use pts_unit 'sec'.\n",
      "  warnings.warn(\"The pts_unit 'pts' gives wrong results. Please use pts_unit 'sec'.\")\n"
     ]
    }
   ],
   "source": [
    "video, audio, label = dataset[0]"
   ]
  },
  {
   "cell_type": "code",
   "execution_count": 20,
   "id": "c7fe58cb",
   "metadata": {},
   "outputs": [],
   "source": [
    "import matplotlib.pyplot as plt"
   ]
  },
  {
   "cell_type": "code",
   "execution_count": 63,
   "id": "aa2da4ed",
   "metadata": {},
   "outputs": [
    {
     "name": "stderr",
     "output_type": "stream",
     "text": [
      "Clipping input data to the valid range for imshow with RGB data ([0..1] for floats or [0..255] for integers).\n"
     ]
    },
    {
     "data": {
      "text/plain": [
       "<matplotlib.image.AxesImage at 0x7f482c93f160>"
      ]
     },
     "execution_count": 63,
     "metadata": {},
     "output_type": "execute_result"
    },
    {
     "data": {
      "image/png": "[encoded data removed]",
      "text/plain": [
       "<Figure size 432x288 with 1 Axes>"
      ]
     },
     "metadata": {
      "needs_background": "light"
     },
     "output_type": "display_data"
    }
   ],
   "source": [
    "video, audio, label = dataset[13323]\n",
    "xtt = video[0,:,:,:]\n",
    "xtt_p = np.transpose(xtt, (1, 2, 0))\n",
    "plt.imshow(xtt_p)"
   ]
  },
  {
   "cell_type": "code",
   "execution_count": 62,
   "id": "a0089ab4",
   "metadata": {},
   "outputs": [
    {
     "data": {
      "text/plain": [
       "2220.6666666666665"
      ]
     },
     "execution_count": 62,
     "metadata": {},
     "output_type": "execute_result"
    }
   ],
   "source": [
    "13324 /6"
   ]
  },
  {
   "cell_type": "code",
   "execution_count": 61,
   "id": "f69e7ebd",
   "metadata": {},
   "outputs": [
    {
     "name": "stderr",
     "output_type": "stream",
     "text": [
      "Clipping input data to the valid range for imshow with RGB data ([0..1] for floats or [0..255] for integers).\n",
      "Clipping input data to the valid range for imshow with RGB data ([0..1] for floats or [0..255] for integers).\n",
      "Clipping input data to the valid range for imshow with RGB data ([0..1] for floats or [0..255] for integers).\n",
      "Clipping input data to the valid range for imshow with RGB data ([0..1] for floats or [0..255] for integers).\n",
      "Clipping input data to the valid range for imshow with RGB data ([0..1] for floats or [0..255] for integers).\n",
      "Clipping input data to the valid range for imshow with RGB data ([0..1] for floats or [0..255] for integers).\n",
      "Clipping input data to the valid range for imshow with RGB data ([0..1] for floats or [0..255] for integers).\n",
      "Clipping input data to the valid range for imshow with RGB data ([0..1] for floats or [0..255] for integers).\n",
      "Clipping input data to the valid range for imshow with RGB data ([0..1] for floats or [0..255] for integers).\n",
      "Clipping input data to the valid range for imshow with RGB data ([0..1] for floats or [0..255] for integers).\n"
     ]
    },
    {
     "data": {
      "image/png": "[encoded data removed]",
      "text/plain": [
       "<Figure size 720x144 with 10 Axes>"
      ]
     },
     "metadata": {
      "needs_background": "light"
     },
     "output_type": "display_data"
    }
   ],
   "source": [
    "nplt = 10\n",
    "fig,ax = plt.subplots(1,nplt, figsize=(10,2))\n",
    "for i_sample in range(nplt):\n",
    "    video, audio, label = dataset[10000+6*i_sample]\n",
    "    xtt = video[0,:,:,:]\n",
    "    xtt_p = np.transpose(xtt, (1, 2, 0))\n",
    "    ax[i_sample].imshow(xtt_p)"
   ]
  },
  {
   "cell_type": "code",
   "execution_count": 6,
   "id": "83bda078",
   "metadata": {},
   "outputs": [],
   "source": [
    "# def __init__(\n",
    "#         self,\n",
    "#         root: str,\n",
    "#         annotation_path: str,\n",
    "#         frames_per_clip: int,\n",
    "#         step_between_clips: int = 1,\n",
    "#         frame_rate: Optional[int] = None,\n",
    "#         fold: int = 1,\n",
    "#         train: bool = True,\n",
    "#         transform: Optional[Callable] = None,\n",
    "#         _precomputed_metadata: Optional[Dict[str, Any]] = None,\n",
    "#         num_workers: int = 1,\n",
    "#         _video_width: int = 0,\n",
    "#         _video_height: int = 0,\n",
    "#         _video_min_dimension: int = 0,\n",
    "#         _audio_samples: int = 0,\n",
    "#         output_format: str = \"THWC\",\n",
    "#     ) -> None:\n",
    "#         super().__init__(root)\n",
    "#         if not 1 <= fold <= 3:\n",
    "#             raise ValueError(f\"fold should be between 1 and 3, got {fold}\")\n",
    "\n",
    "#         extensions = (\"avi\",)\n",
    "#         self.fold = fold\n",
    "#         self.train = train\n",
    "\n",
    "#         self.classes, class_to_idx = find_classes(self.root)\n",
    "#         self.samples = make_dataset(self.root, class_to_idx, extensions, is_valid_file=None)\n",
    "#         video_list = [x[0] for x in self.samples]\n",
    "#         video_clips = VideoClips(\n",
    "#             video_list,\n",
    "#             frames_per_clip,\n",
    "#             step_between_clips,\n",
    "#             frame_rate,\n",
    "#             _precomputed_metadata,\n",
    "#             num_workers=num_workers,\n",
    "#             _video_width=_video_width,\n",
    "#             _video_height=_video_height,\n",
    "#             _video_min_dimension=_video_min_dimension,\n",
    "#             _audio_samples=_audio_samples,\n",
    "#             output_format=output_format,\n",
    "#         )\n",
    "#         # we bookkeep the full version of video clips because we want to be able\n",
    "#         # to return the metadata of full version rather than the subset version of\n",
    "#         # video clips\n",
    "#         self.full_video_clips = video_clips\n",
    "#         self.indices = self._select_fold(video_list, annotation_path, fold, train)\n",
    "#         self.video_clips = video_clips.subset(self.indices)\n",
    "#         self.transform = transform"
   ]
  },
  {
   "cell_type": "code",
   "execution_count": 66,
   "id": "20c44d61",
   "metadata": {},
   "outputs": [],
   "source": [
    "def ucf_collate(batch):\n",
    "    filtered_batch = []\n",
    "    for video, _, label in batch:\n",
    "        filtered_batch.append((video, label))\n",
    "    return torch.utils.data.dataloader.default_collate(filtered_batch)\n"
   ]
  },
  {
   "cell_type": "code",
   "execution_count": 68,
   "id": "99caec46",
   "metadata": {},
   "outputs": [],
   "source": [
    "sampler_shuffle = True #for the distributed dampler\n",
    "#     num_epochs = args.n_epoch\n",
    "batch_size = 64#args.batch_size# 128\n",
    "pin_memory = False\n",
    "num_workers = 6#args.num_workers #number_of_cpu-1#32\n",
    "collate_fn = ucf_collate\n",
    "dataloader = torch.utils.data.DataLoader(\n",
    "        dataset, batch_size=batch_size, pin_memory=pin_memory, collate_fn=collate_fn,\n",
    "        num_workers=num_workers, shuffle=False, drop_last=False)#sampler=sampler, "
   ]
  },
  {
   "cell_type": "code",
   "execution_count": 69,
   "id": "ea486dd8",
   "metadata": {},
   "outputs": [
    {
     "name": "stderr",
     "output_type": "stream",
     "text": [
      "  2%|█                                          | 5/209 [00:12<08:23,  2.47s/it]\n"
     ]
    }
   ],
   "source": [
    "for i_t, xbatch in enumerate(tqdm(dataloader)):\n",
    "    inputs, fnames = xbatch\n",
    "    \n",
    "    if i_t==5:\n",
    "        break"
   ]
  },
  {
   "cell_type": "code",
   "execution_count": null,
   "id": "d376a42c",
   "metadata": {},
   "outputs": [],
   "source": []
  },
  {
   "cell_type": "code",
   "execution_count": null,
   "id": "f8d8715c",
   "metadata": {},
   "outputs": [],
   "source": [
    "\n",
    "dataset = torchvision.datasets.UCF101(ucf_root, \n",
    "                                          annotation_path,\n",
    "                                          frames_per_clip,\n",
    "                                          step_between_clips=step_between_clips,\n",
    "                                          frame_rate=frame_rate,\n",
    "                                          fold=1,\n",
    "                                          train=True,\n",
    "                                          transform=transform,\n",
    "                                          output_format=output_format,\n",
    "                                          num_workers=num_workers)"
   ]
  }
 ],
 "metadata": {
  "kernelspec": {
   "display_name": "Python 3 (ipykernel)",
   "language": "python",
   "name": "python3"
  },
  "language_info": {
   "codemirror_mode": {
    "name": "ipython",
    "version": 3
   },
   "file_extension": ".py",
   "mimetype": "text/x-python",
   "name": "python",
   "nbconvert_exporter": "python",
   "pygments_lexer": "ipython3",
   "version": "3.10.5"
  }
 },
 "nbformat": 4,
 "nbformat_minor": 5
}
