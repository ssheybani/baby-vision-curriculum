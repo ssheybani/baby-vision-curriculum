{
 "cells": [
  {
   "cell_type": "code",
   "execution_count": 1,
   "id": "87238c58",
   "metadata": {},
   "outputs": [],
   "source": [
    "import sys, os\n",
    "\n",
    "env_root = '/N/project/baby_vision_curriculum/pythonenvs/hfenv/lib/python3.10/site-packages/'\n",
    "sys.path.insert(0, env_root)"
   ]
  },
  {
   "cell_type": "code",
   "execution_count": 7,
   "id": "50a7771c",
   "metadata": {},
   "outputs": [],
   "source": [
    "import numpy as np\n",
    "# import torch, torchvision\n",
    "# from torchvision import transforms as tr\n",
    "from tqdm import tqdm\n",
    "from pathlib import Path\n",
    "# import math\n",
    "import argparse\n",
    "import pandas as pd\n",
    "import warnings\n",
    "\n",
    "from copy import deepcopy"
   ]
  },
  {
   "cell_type": "code",
   "execution_count": 8,
   "id": "e9fabef1",
   "metadata": {},
   "outputs": [],
   "source": [
    "from sklearn import svm, preprocessing\n",
    "from sklearn.svm import LinearSVC\n",
    "from sklearn.pipeline import make_pipeline\n",
    "from sklearn.preprocessing import StandardScaler\n",
    "from sklearn.linear_model import SGDClassifier\n",
    "from sklearn.model_selection import train_test_split"
   ]
  },
  {
   "cell_type": "code",
   "execution_count": 9,
   "id": "d2500ba3",
   "metadata": {},
   "outputs": [],
   "source": [
    "import matplotlib.pyplot as plt\n",
    "import seaborn as sns"
   ]
  },
  {
   "cell_type": "code",
   "execution_count": 71,
   "id": "bca03d33",
   "metadata": {},
   "outputs": [],
   "source": [
    "def get_separability_score(df, label, method='sgd', ret_preds=False):\n",
    "    # method: sgd or svm\n",
    "    le = preprocessing.LabelEncoder()\n",
    "    y = le.fit_transform(df[label])\n",
    "    \n",
    "    X_cols = ['dim'+str(i)\n",
    "              for i in range(768)]\n",
    "    X = df[X_cols]\n",
    "    \n",
    "    \n",
    "    X_train, X_test, y_train, y_test = train_test_split(X, y, test_size=0.33, random_state=42)\n",
    "    \n",
    "    if method=='svm':\n",
    "        clf = make_pipeline(StandardScaler(),\n",
    "                            LinearSVC(random_state=0, tol=1e-4))\n",
    "    elif method=='sgd':\n",
    "        clf = make_pipeline(StandardScaler(),\n",
    "                            SGDClassifier(max_iter=5000, tol=1e-4, n_jobs=20))#, loss='log_loss'))\n",
    "    else:\n",
    "        raise ValueError()\n",
    "    clf.fit(X_train, y_train)\n",
    "    train_score = clf.score(X_train,y_train)\n",
    "    test_score = clf.score(X_test,y_test)\n",
    "    if ret_preds:\n",
    "        preds = clf.predict(X_test)\n",
    "        return train_score, test_score, preds, y_test\n",
    "    return train_score, test_score"
   ]
  },
  {
   "cell_type": "code",
   "execution_count": 127,
   "id": "844bc123",
   "metadata": {},
   "outputs": [],
   "source": [
    "class ToyBoxEval():\n",
    "    \n",
    "    def __init__(self):\n",
    "        pass\n",
    "\n",
    "    def get_labels(self, fname):\n",
    "    #     example fname: truck_30_pivothead_rzminus.mp4\n",
    "        fnparts = fname.split('.')[0].split('_')\n",
    "        category = fnparts[0]\n",
    "        identity = category+fnparts[1]\n",
    "        trans = fnparts[3]\n",
    "        return category, identity, trans\n",
    "\n",
    "    def get_categorylabel(self, fname):\n",
    "        fnparts = fname.split('.')[0].split('_')\n",
    "        category = fnparts[0]\n",
    "        return category\n",
    "\n",
    "    def get_identitylabel(self, fname):\n",
    "        fnparts = fname.split('.')[0].split('_')\n",
    "        category = fnparts[0]\n",
    "        identity = category+fnparts[1]\n",
    "        return identity\n",
    "\n",
    "    def get_translabel(self, fname):\n",
    "        fnparts = fname.split('.')[0].split('_')\n",
    "        translabel = fnparts[3]\n",
    "        return translabel\n",
    "\n",
    "    def add_labels_to_df(self, df, labels):\n",
    "        if 'category' in labels:\n",
    "            df['category'] = df['fnames'].apply(lambda fname: self.get_categorylabel(fname))\n",
    "        if 'identity' in labels:\n",
    "            df['identity'] = df['fnames'].apply(lambda fname: self.get_identitylabel(fname))\n",
    "        if 'transformation' in labels:\n",
    "            df['transformation'] = df['fnames'].apply(lambda fname: self.get_translabel(fname))\n",
    "        return df\n",
    "    \n",
    "    def fix_fnames(self, df):\n",
    "        df.iloc[2163,0] = 'giraffe_02_pivothead_rzplus.mp4'\n",
    "        df.iloc[1851,0]='duck_06_pivothead_rxminus.mp4'\n",
    "        df.iloc[751,0] = 'car_03_pivothead_rzminus.mp4'\n",
    "        return df\n",
    "\n",
    "    def eval_embs(self, fp, method='sgd', ret_preds=False):\n",
    "        scores = {}\n",
    "\n",
    "        df = pd.read_csv(fp)\n",
    "\n",
    "    #     fix 3 filenames. for older files\n",
    "        df = self.fix_fnames(df)\n",
    "        df = self.add_labels_to_df(df, ['category', 'identity','transformation'])\n",
    "\n",
    "    #     if ret_preds\n",
    "        scores['category'] = get_separability_score(df, 'category', method=method)\n",
    "    #     scores['identity'] = get_separability_score(df, 'identity', method=method)\n",
    "        scores['transformation'] = get_separability_score(df, 'transformation', method=method)\n",
    "        return scores\n",
    "    \n",
    "    def proc_fp(self, fp, score_type):\n",
    "        df = pd.read_csv(fp)\n",
    "        df = self.fix_fnames(df)\n",
    "        \n",
    "        df = self.add_labels_to_df(df, ['category', 'identity','transformation'])\n",
    "        method='sgd'\n",
    "        train_score, test_score, preds, targets = get_separability_score(df, score_type, method=method, ret_preds=True)\n",
    "        return test_score"
   ]
  },
  {
   "cell_type": "code",
   "execution_count": 114,
   "id": "299737e7",
   "metadata": {},
   "outputs": [],
   "source": [
    "class SSv2Eval():\n",
    "    \n",
    "    def __init__(self, label_path=None):\n",
    "        if label_path is None:\n",
    "            label_path = '/N/project/baby_vision_curriculum/benchmarks/ssv2/easy_labels/train_easy10.csv'\n",
    "        self.labels_df = pd.read_csv(label_path)\n",
    "        self.labels_df.set_index('fname', inplace=True)\n",
    "\n",
    "    def get_categorylabel(self, fname):\n",
    "        return self.labels_df.loc[str(fname)+'.webm', 'label']\n",
    "\n",
    "    def add_labels_to_df(self, df, labels):\n",
    "        if 'category' in labels:\n",
    "            df['category'] = df['fnames'].apply(lambda fname: self.get_categorylabel(fname))\n",
    "        return df\n",
    "    \n",
    "    def proc_fp(self, fp, score_type):\n",
    "        if score_type!='category':\n",
    "            raise ValueError\n",
    "        df = pd.read_csv(fp)\n",
    "        df = self.add_labels_to_df(df, ['category'])\n",
    "        method='sgd'\n",
    "        train_score, test_score, preds, targets = get_separability_score(df, score_type, method=method, ret_preds=True)\n",
    "        return test_score"
   ]
  },
  {
   "cell_type": "code",
   "execution_count": 115,
   "id": "d3bf6d02",
   "metadata": {},
   "outputs": [],
   "source": [
    "def get_traingroups(curr, stage):\n",
    "    if curr=='dev':\n",
    "        return 'g0g1g2'[:2*stage]\n",
    "    elif curr=='adev':\n",
    "        return 'g2g1g0'[:2*stage]\n",
    "    else:\n",
    "        return 'na'\n",
    "    \n",
    "def parse_fname(fp):\n",
    "# embeddings_adev_1_g2_default_0_246.csv'\n",
    "    parts = Path(fp).stem.split('_')\n",
    "    prefix, curr, stage, current_gr, cond, fold, seed = parts\n",
    "    stage=int(stage)\n",
    "    train_gr = get_traingroups(curr, stage)\n",
    "    \n",
    "    tag_dict = {\n",
    "        'Curriculum':curr,\n",
    "        'Stage': stage,\n",
    "        'Condition':cond,\n",
    "        'Seed': seed,\n",
    "        'Train Groups': train_gr,\n",
    "        'data_id': '_'.join([curr, seed, cond])\n",
    "    }\n",
    "    return tag_dict"
   ]
  },
  {
   "cell_type": "code",
   "execution_count": 132,
   "id": "a5bb7c61",
   "metadata": {},
   "outputs": [],
   "source": [
    "def proc_fp_model(fp, stage, num_ep, iter_per_ep):\n",
    "    df = pd.read_csv(fp).iloc[:,1:]\n",
    "    df = edit_epoch(df, stage, iter_per_ep, num_ep)\n",
    "    tag_dict = parse_fname(fp)\n",
    "    for tag in tag_dict.keys():\n",
    "        df[tag] = tag_dict[tag]\n",
    "    df = df.rename(columns={\n",
    "    'epoch': 'Epoch',\n",
    "    'iteration': 'Iteration',\n",
    "    'train_loss': 'Train Loss',\n",
    "    'val_loss': 'Validation Loss'\n",
    "    })\n",
    "    df['Train Loss Reduction'] = df['Train Loss'].diff(periods=-1)\n",
    "    df['Validation Loss Reduction'] = df['Validation Loss'].diff(periods=-1)\n",
    "    return df\n",
    "\n",
    "def proc_result_folder(root, ds_task, iter_per_stage):\n",
    "    if ds_task=='ssv2':\n",
    "        evaluator = SSv2Eval()\n",
    "        ds_task = 'category'\n",
    "    elif ds_task=='tb_cat':\n",
    "        evaluator = ToyBoxEval()\n",
    "        ds_task = 'category'\n",
    "    elif ds_task=='tb_trans':\n",
    "        evaluator = ToyBoxEval()\n",
    "        ds_task = 'transformation'\n",
    "    record_list = []\n",
    "    fpathlist = [emb_root+fname\n",
    "                for fname in os.listdir(emb_root)\n",
    "                if Path(emb_root+fname).suffix=='.csv']\n",
    "    for fp in tqdm(fpathlist):\n",
    "        record = parse_fname(fp)\n",
    "        if '141' in fp:\n",
    "            continue\n",
    "        record[ds_task] = evaluator.proc_fp(fp, ds_task)\n",
    "        record['Iteration']=iter_per_stage*record['Stage']\n",
    "        record_list.append(deepcopy(record))\n",
    "    df = pd.DataFrame.from_records(record_list)         \n",
    "    return df"
   ]
  },
  {
   "cell_type": "code",
   "execution_count": 133,
   "id": "4d2e9e25",
   "metadata": {},
   "outputs": [],
   "source": [
    "emb_root = '/N/project/baby_vision_curriculum/trained_models/generative/v3/jul28dev/benchmarks/ssv2/'\n",
    "# '/N/project/baby_vision_curriculum/trained_models/predictive/v1/jul281/benchmarks/toybox/'"
   ]
  },
  {
   "cell_type": "code",
   "execution_count": 136,
   "id": "eff7324b",
   "metadata": {},
   "outputs": [
    {
     "name": "stderr",
     "output_type": "stream",
     "text": [
      "  0%|                                                     | 0/3 [00:00<?, ?it/s]/N/soft/sles15/deeplearning/Python-3.10.5/lib/python3.10/site-packages/sklearn/linear_model/_stochastic_gradient.py:705: ConvergenceWarning: Maximum number of iteration reached before convergence. Consider increasing max_iter to improve the fit.\n",
      "  warnings.warn(\n",
      "100%|█████████████████████████████████████████████| 3/3 [00:25<00:00,  8.59s/it]\n"
     ]
    }
   ],
   "source": [
    "ds_task = 'ssv2'\n",
    "# 'category'\n",
    "num_ep,iter_per_ep = 1, 5000\n",
    "iter_per_stage = num_ep*iter_per_ep\n",
    "\n",
    "df24 = proc_result_folder(emb_root, ds_task, iter_per_stage)"
   ]
  },
  {
   "cell_type": "code",
   "execution_count": 137,
   "id": "1185c7ed",
   "metadata": {},
   "outputs": [
    {
     "data": {
      "text/html": [
       "<div>\n",
       "<style scoped>\n",
       "    .dataframe tbody tr th:only-of-type {\n",
       "        vertical-align: middle;\n",
       "    }\n",
       "\n",
       "    .dataframe tbody tr th {\n",
       "        vertical-align: top;\n",
       "    }\n",
       "\n",
       "    .dataframe thead th {\n",
       "        text-align: right;\n",
       "    }\n",
       "</style>\n",
       "<table border=\"1\" class=\"dataframe\">\n",
       "  <thead>\n",
       "    <tr style=\"text-align: right;\">\n",
       "      <th></th>\n",
       "      <th>Curriculum</th>\n",
       "      <th>Stage</th>\n",
       "      <th>Condition</th>\n",
       "      <th>Seed</th>\n",
       "      <th>Train Groups</th>\n",
       "      <th>data_id</th>\n",
       "      <th>category</th>\n",
       "      <th>Iteration</th>\n",
       "    </tr>\n",
       "  </thead>\n",
       "  <tbody>\n",
       "    <tr>\n",
       "      <th>0</th>\n",
       "      <td>dev</td>\n",
       "      <td>1</td>\n",
       "      <td>fr6</td>\n",
       "      <td>142</td>\n",
       "      <td>g0</td>\n",
       "      <td>dev_142_fr6</td>\n",
       "      <td>0.611212</td>\n",
       "      <td>5000</td>\n",
       "    </tr>\n",
       "  </tbody>\n",
       "</table>\n",
       "</div>"
      ],
      "text/plain": [
       "  Curriculum  Stage Condition Seed Train Groups      data_id  category  \\\n",
       "0        dev      1       fr6  142           g0  dev_142_fr6  0.611212   \n",
       "\n",
       "   Iteration  \n",
       "0       5000  "
      ]
     },
     "execution_count": 137,
     "metadata": {},
     "output_type": "execute_result"
    }
   ],
   "source": [
    "df24"
   ]
  },
  {
   "cell_type": "code",
   "execution_count": null,
   "id": "11f3906c",
   "metadata": {},
   "outputs": [],
   "source": [
    "emb_root = '/N/project/baby_vision_curriculum/trained_models/predictive/v1/jul281/benchmarks/toybox/'\n",
    "\n",
    "\n",
    "ds_task = 'tb_trans' #'tb_cat'#\n",
    "num_ep,iter_per_ep = 1, 5000\n",
    "iter_per_stage = num_ep*iter_per_ep\n",
    "\n",
    "df24tr = proc_result_folder(emb_root, ds_task, iter_per_stage)"
   ]
  },
  {
   "cell_type": "code",
   "execution_count": 20,
   "id": "2e809805",
   "metadata": {},
   "outputs": [
    {
     "data": {
      "text/html": [
       "<div>\n",
       "<style scoped>\n",
       "    .dataframe tbody tr th:only-of-type {\n",
       "        vertical-align: middle;\n",
       "    }\n",
       "\n",
       "    .dataframe tbody tr th {\n",
       "        vertical-align: top;\n",
       "    }\n",
       "\n",
       "    .dataframe thead th {\n",
       "        text-align: right;\n",
       "    }\n",
       "</style>\n",
       "<table border=\"1\" class=\"dataframe\">\n",
       "  <thead>\n",
       "    <tr style=\"text-align: right;\">\n",
       "      <th></th>\n",
       "      <th>Curriculum</th>\n",
       "      <th>Stage</th>\n",
       "      <th>Condition</th>\n",
       "      <th>Seed</th>\n",
       "      <th>Train Groups</th>\n",
       "      <th>data_id</th>\n",
       "      <th>transformation</th>\n",
       "      <th>Iteration</th>\n",
       "    </tr>\n",
       "  </thead>\n",
       "  <tbody>\n",
       "    <tr>\n",
       "      <th>0</th>\n",
       "      <td>adev</td>\n",
       "      <td>1</td>\n",
       "      <td>def2</td>\n",
       "      <td>246</td>\n",
       "      <td>g2</td>\n",
       "      <td>adev_246_def2</td>\n",
       "      <td>0.320675</td>\n",
       "      <td>5000</td>\n",
       "    </tr>\n",
       "    <tr>\n",
       "      <th>1</th>\n",
       "      <td>dev</td>\n",
       "      <td>1</td>\n",
       "      <td>def2</td>\n",
       "      <td>246</td>\n",
       "      <td>g0</td>\n",
       "      <td>dev_246_def2</td>\n",
       "      <td>0.325598</td>\n",
       "      <td>5000</td>\n",
       "    </tr>\n",
       "    <tr>\n",
       "      <th>2</th>\n",
       "      <td>dev</td>\n",
       "      <td>1</td>\n",
       "      <td>def2</td>\n",
       "      <td>245</td>\n",
       "      <td>g0</td>\n",
       "      <td>dev_245_def2</td>\n",
       "      <td>0.331224</td>\n",
       "      <td>5000</td>\n",
       "    </tr>\n",
       "    <tr>\n",
       "      <th>3</th>\n",
       "      <td>adev</td>\n",
       "      <td>1</td>\n",
       "      <td>def2</td>\n",
       "      <td>245</td>\n",
       "      <td>g2</td>\n",
       "      <td>adev_245_def2</td>\n",
       "      <td>0.319269</td>\n",
       "      <td>5000</td>\n",
       "    </tr>\n",
       "  </tbody>\n",
       "</table>\n",
       "</div>"
      ],
      "text/plain": [
       "  Curriculum  Stage Condition Seed Train Groups        data_id  \\\n",
       "0       adev      1      def2  246           g2  adev_246_def2   \n",
       "1        dev      1      def2  246           g0   dev_246_def2   \n",
       "2        dev      1      def2  245           g0   dev_245_def2   \n",
       "3       adev      1      def2  245           g2  adev_245_def2   \n",
       "\n",
       "   transformation  Iteration  \n",
       "0        0.320675       5000  \n",
       "1        0.325598       5000  \n",
       "2        0.331224       5000  \n",
       "3        0.319269       5000  "
      ]
     },
     "execution_count": 20,
     "metadata": {},
     "output_type": "execute_result"
    }
   ],
   "source": [
    "df24tr"
   ]
  },
  {
   "cell_type": "code",
   "execution_count": 18,
   "id": "1ebdf13c",
   "metadata": {},
   "outputs": [
    {
     "data": {
      "text/plain": [
       "{'Curriculum': 'untrained',\n",
       " 'Stage': 1,\n",
       " 'Condition': 'ts3nf9',\n",
       " 'Seed': '261',\n",
       " 'Train Groups': None,\n",
       " 'data_id': 'untrained_261_ts3nf9',\n",
       " 'category': 0.2819971870604782,\n",
       " 'Iteration': 2000}"
      ]
     },
     "execution_count": 18,
     "metadata": {},
     "output_type": "execute_result"
    }
   ],
   "source": [
    "fp = '/N/project/baby_vision_curriculum/trained_models/predictive/v0/tbembeddings_untrained_1_untrained_ts3nf9_0_261.csv'\n",
    "ds_task = 'category'\n",
    "record = parse_fname(fp)\n",
    "record[ds_task] = proc_fp(fp, ds_task)\n",
    "record['Iteration']=iter_per_stage*record['Stage']\n",
    "record"
   ]
  },
  {
   "cell_type": "code",
   "execution_count": null,
   "id": "28ca5386",
   "metadata": {},
   "outputs": [],
   "source": [
    "fp = '/N/project/baby_vision_curriculum/trained_models/predictive/v0/tbembeddings_untrained_1_untrained_ts3nf9_0_261.csv'\n",
    "ds_task = 'transformation'\n",
    "record = parse_fname(fp)\n",
    "record[ds_task] = proc_fp(fp, ds_task)\n",
    "record['Iteration']=iter_per_stage*record['Stage']\n",
    "record"
   ]
  },
  {
   "cell_type": "code",
   "execution_count": 28,
   "id": "ffbe4d51",
   "metadata": {},
   "outputs": [
    {
     "name": "stdout",
     "output_type": "stream",
     "text": [
      "arch\n",
      "Train Groups\n",
      "g0    0.293601\n",
      "g2    0.278833\n",
      "Name: category, dtype: float64\n",
      "wd\n",
      "Train Groups\n",
      "g0    0.316456\n",
      "g2    0.289381\n",
      "Name: category, dtype: float64\n"
     ]
    },
    {
     "data": {
      "image/png": "[encoded data removed]",
      "text/plain": [
       "<Figure size 432x180 with 2 Axes>"
      ]
     },
     "metadata": {
      "needs_background": "light"
     },
     "output_type": "display_data"
    }
   ],
   "source": [
    "df = df24\n",
    "# Filter DataFrame for each condition\n",
    "cond1 = 'arch'\n",
    "cond2 = 'wd'\n",
    "task='category'\n",
    "\n",
    "condition_cond1 = df[df['Condition'] == cond1]\n",
    "condition_cond2 = df[df['Condition'] == cond2]\n",
    "\n",
    "# Create a 1x2 subplot grid\n",
    "fig, axes = plt.subplots(1, 2, figsize=(6, 5/2))\n",
    "\n",
    "# Plot data for Condition cond1\n",
    "axes[0].bar(condition_cond1['Train Groups'], condition_cond1[task])\n",
    "axes[0].set_title(cond1)\n",
    "axes[0].set_xlabel('Train Groups')\n",
    "axes[0].set_ylabel('Toybox Category Classification')\n",
    "\n",
    "axes[0].scatter(condition_cond1['Train Groups'], condition_cond1[task], color='red', label='Data Points')\n",
    "print(cond1)\n",
    "print(condition_cond1.groupby('Train Groups')[task].mean())\n",
    "\n",
    "# Plot data for Condition cond1\n",
    "axes[1].bar(condition_cond2['Train Groups'], condition_cond2[task])\n",
    "axes[1].set_title(cond2)\n",
    "axes[1].set_xlabel('Train Groups')\n",
    "axes[1].set_ylabel('Toybox Category Classification')\n",
    "axes[1].scatter(condition_cond2['Train Groups'], condition_cond2[task], color='red', label='Data Points')\n",
    "print(cond2)\n",
    "print(condition_cond2.groupby('Train Groups')[task].mean())\n",
    "\n",
    "# Adjust layout and display the plot\n",
    "plt.tight_layout()"
   ]
  },
  {
   "cell_type": "code",
   "execution_count": 29,
   "id": "b4e3377b",
   "metadata": {},
   "outputs": [
    {
     "name": "stdout",
     "output_type": "stream",
     "text": [
      "Train Groups\n",
      "g0    0.314346\n",
      "g2    0.342827\n",
      "Name: transformation, dtype: float64\n",
      "Train Groups\n",
      "g0    0.312940\n",
      "g2    0.321378\n",
      "Name: transformation, dtype: float64\n"
     ]
    },
    {
     "data": {
      "image/png": "[encoded data removed]",
      "text/plain": [
       "<Figure size 432x180 with 2 Axes>"
      ]
     },
     "metadata": {
      "needs_background": "light"
     },
     "output_type": "display_data"
    }
   ],
   "source": [
    "df = df24tr\n",
    "# Filter DataFrame for each condition\n",
    "cond1 = 'arch'\n",
    "cond2 = 'wd'\n",
    "task='transformation'\n",
    "\n",
    "condition_cond1 = df[df['Condition'] == cond1]\n",
    "condition_cond2 = df[df['Condition'] == cond2]\n",
    "\n",
    "# Create a 1x2 subplot grid\n",
    "fig, axes = plt.subplots(1, 2, figsize=(6, 5/2))\n",
    "\n",
    "# Plot data for Condition \"default\"\n",
    "axes[0].bar(condition_cond1['Train Groups'], condition_cond1[task])\n",
    "axes[0].set_title(cond1)\n",
    "axes[0].set_xlabel('Train Groups')\n",
    "axes[0].set_ylabel('Toybox Category Classification')\n",
    "\n",
    "axes[0].scatter(condition_cond1['Train Groups'], condition_cond1[task], color='red', label='Data Points')\n",
    "print(condition_cond1.groupby('Train Groups')[task].mean())\n",
    "\n",
    "# Plot data for Condition \"crop\"\n",
    "axes[1].bar(condition_cond2['Train Groups'], condition_cond2[task])\n",
    "axes[1].set_title(cond2)\n",
    "axes[1].set_xlabel('Train Groups')\n",
    "axes[1].set_ylabel('Toybox Category Classification')\n",
    "axes[1].scatter(condition_cond2['Train Groups'], condition_cond2[task], color='red', label='Data Points')\n",
    "print(condition_cond2.groupby('Train Groups')[task].mean())\n",
    "\n",
    "# Adjust layout and display the plot\n",
    "plt.tight_layout()"
   ]
  },
  {
   "cell_type": "code",
   "execution_count": null,
   "id": "808dca6c",
   "metadata": {},
   "outputs": [],
   "source": []
  }
 ],
 "metadata": {
  "kernelspec": {
   "display_name": "Python 3 (ipykernel)",
   "language": "python",
   "name": "python3"
  },
  "language_info": {
   "codemirror_mode": {
    "name": "ipython",
    "version": 3
   },
   "file_extension": ".py",
   "mimetype": "text/x-python",
   "name": "python",
   "nbconvert_exporter": "python",
   "pygments_lexer": "ipython3",
   "version": "3.10.5"
  }
 },
 "nbformat": 4,
 "nbformat_minor": 5
}
