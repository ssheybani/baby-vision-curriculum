{
 "cells": [
  {
   "cell_type": "code",
   "execution_count": 1,
   "id": "73215349",
   "metadata": {},
   "outputs": [],
   "source": [
    "import sys, os\n",
    "\n",
    "env_root = '/N/project/baby_vision_curriculum/pythonenvs/hfenv/lib/python3.10/site-packages/'\n",
    "sys.path.insert(0, env_root)"
   ]
  },
  {
   "cell_type": "code",
   "execution_count": 2,
   "id": "cc16fa0c",
   "metadata": {},
   "outputs": [],
   "source": [
    "import numpy as np\n",
    "# import torch, torchvision\n",
    "# from torchvision import transforms as tr\n",
    "from tqdm import tqdm\n",
    "from pathlib import Path\n",
    "# import math\n",
    "import argparse\n",
    "import pandas as pd\n",
    "import warnings\n",
    "\n",
    "from copy import deepcopy\n",
    "\n",
    "from sklearn import svm, preprocessing\n",
    "from sklearn.svm import LinearSVC\n",
    "from sklearn.pipeline import make_pipeline\n",
    "from sklearn.preprocessing import StandardScaler\n",
    "from sklearn.linear_model import SGDClassifier\n",
    "from sklearn.model_selection import train_test_split"
   ]
  },
  {
   "cell_type": "code",
   "execution_count": 3,
   "id": "6693a2ab",
   "metadata": {},
   "outputs": [],
   "source": [
    "from sklearn.metrics.pairwise import cosine_distances, euclidean_distances\n",
    "import json \n",
    "import logging\n",
    "logger = logging.getLogger(__name__)"
   ]
  },
  {
   "cell_type": "code",
   "execution_count": 4,
   "id": "19abcc03",
   "metadata": {},
   "outputs": [
    {
     "data": {
      "text/plain": [
       "<Logger __main__ (WARNING)>"
      ]
     },
     "execution_count": 4,
     "metadata": {},
     "output_type": "execute_result"
    }
   ],
   "source": [
    "logger"
   ]
  },
  {
   "cell_type": "code",
   "execution_count": 5,
   "id": "b08dcbb1",
   "metadata": {},
   "outputs": [],
   "source": [
    "def topk_retrieval(feature_dir, cfg):\n",
    "    \"\"\"Extract features from test split and search on train split features.\"\"\"\n",
    "    logger.info('Loading local .npy files...')\n",
    "    fold = cfg.get_int('dataset.fold')\n",
    "\n",
    "    X_train = np.load(os.path.join(feature_dir, f'train_fold{fold}_feats.npy'))\n",
    "    y_train = np.load(os.path.join(feature_dir, f'train_fold{fold}_labels.npy'))\n",
    "\n",
    "    X_test = np.load(os.path.join(feature_dir, f'test_fold{fold}_feats.npy'))\n",
    "    y_test = np.load(os.path.join(feature_dir, f'test_fold{fold}_labels.npy'))\n",
    "\n",
    "    ks = [1, 5, 10, 20, 50]\n",
    "    topk_correct = {k:0 for k in ks}\n",
    "\n",
    "    distances = cosine_distances(X_test, X_train)\n",
    "    indices = np.argsort(distances)\n",
    "\n",
    "    for k in ks:\n",
    "        # print(k)\n",
    "        top_k_indices = indices[:, :k]\n",
    "        # print(top_k_indices.shape, y_test.shape)\n",
    "        for ind, test_label in zip(top_k_indices, y_test):\n",
    "            labels = y_train[ind]\n",
    "            if test_label in labels:\n",
    "                # print(test_label, labels)\n",
    "                topk_correct[k] += 1\n",
    "\n",
    "    for k in ks:\n",
    "        correct = topk_correct[k]\n",
    "        total = len(X_test)\n",
    "        logger.info('Top-{}, correct = {:.2f}, total = {}, acc = {:.3f}'.format(k, correct, total, correct/total))\n",
    "\n",
    "    with open(os.path.join(feature_dir, f'topk_correct_fold{fold}.json'), 'w') as fp:\n",
    "        json.dump(topk_correct, fp)\n",
    "        \n",
    "def get_separability_score_old(df, label, method='sgd', ret_preds=False):\n",
    "    # method: sgd or svm\n",
    "    le = preprocessing.LabelEncoder()\n",
    "    y = le.fit_transform(df[label])\n",
    "    \n",
    "    X_cols = ['dim'+str(i)\n",
    "              for i in range(768)]\n",
    "    X = df[X_cols]\n",
    "    \n",
    "    \n",
    "    X_train, X_test, y_train, y_test = train_test_split(X, y, test_size=0.33, random_state=42)\n",
    "    \n",
    "    if method=='svm':\n",
    "        clf = make_pipeline(StandardScaler(),\n",
    "                            LinearSVC(random_state=0, tol=1e-4))\n",
    "    elif method=='sgd':\n",
    "        clf = make_pipeline(StandardScaler(),\n",
    "                            SGDClassifier(max_iter=5000, tol=1e-4, n_jobs=20))#, loss='log_loss'))\n",
    "    else:\n",
    "        raise ValueError()\n",
    "    clf.fit(X_train, y_train)\n",
    "    train_score = clf.score(X_train,y_train)\n",
    "    test_score = clf.score(X_test,y_test)\n",
    "    if ret_preds:\n",
    "        preds = clf.predict(X_test)\n",
    "        return train_score, test_score, preds, y_test\n",
    "    return train_score, test_score"
   ]
  },
  {
   "cell_type": "code",
   "execution_count": 6,
   "id": "4bc6672c",
   "metadata": {},
   "outputs": [],
   "source": [
    "def get_nn_score(df_train, df_test, label, metric='cosine',\n",
    "                 savedir=None, run_id=None):\n",
    "#     Get nearest neighbor score\n",
    "    \n",
    "    le = preprocessing.LabelEncoder()\n",
    "    y_train = le.fit_transform(df_train[label])\n",
    "    \n",
    "    X_cols = [col for col in df_train.columns if 'dim' in col]\n",
    "    x_train = df_train[X_cols]\n",
    "    \n",
    "    if df_test is not None:\n",
    "        x_test = df_test[X_cols]\n",
    "        y_test = le.transform(df_test[label])\n",
    "    \n",
    "    ks = [1, 5, 10, 20, 50]\n",
    "    topk_correct = {k:0 for k in ks}\n",
    "\n",
    "    if metric=='cosine':\n",
    "        distances = cosine_distances(x_test, x_train)\n",
    "    else:\n",
    "        distances = euclidean_distances(x_test, x_train)\n",
    "    indices = np.argsort(distances)\n",
    "    \n",
    "    for k in ks:\n",
    "        # print(k)\n",
    "        top_k_indices = indices[:, :k]\n",
    "        # print(top_k_indices.shape, y_test.shape)\n",
    "        for ind, test_label in zip(top_k_indices, y_test):\n",
    "            labels = y_train[ind]\n",
    "            if test_label in labels:\n",
    "                # print(test_label, labels)\n",
    "                topk_correct[k] += 1\n",
    "        topk_correct[k] = topk_correct[k]/len(y_test)\n",
    "    \n",
    "    for k in ks:\n",
    "        correct = topk_correct[k]\n",
    "        total = len(x_test)\n",
    "        logger.info('Top-{}, correct = {:.2f}, total = {}, acc = {:.3f}'.format(k, correct, total, correct/total))\n",
    "        print('Top-{}, correct = {:.2f}, total = {}, acc = {:.3f}'.format(k, correct, total, correct/total))\n",
    "\n",
    "    if savedir is not None:\n",
    "        if run_id is None:\n",
    "            raise ValueError\n",
    "            # run_id = ''\n",
    "        with open(os.path.join(savedir, \n",
    "                               run_id+'_topk_correct.json'), 'w') as fp:\n",
    "            json.dump(topk_correct, fp)\n",
    "\n",
    "    return topk_correct#[1], topk_correct[5], topk_correct[10]\n",
    "\n",
    "def get_separability_score(df_train, df_test, label, \n",
    "                           method='sgd', ret_preds=False,\n",
    "                          n_jobs=80):\n",
    "    # method: sgd or svm\n",
    "    le = preprocessing.LabelEncoder()\n",
    "    y_train = le.fit_transform(df_train[label])\n",
    "    \n",
    "    X_cols = [col for col in df_train.columns if 'dim' in col]\n",
    "    x_train = df_train[X_cols]\n",
    "    \n",
    "    if df_test is not None:\n",
    "        x_test = df_test[X_cols]\n",
    "        y_test = le.transform(df_test[label])\n",
    "    else:\n",
    "        x_train, x_test, y_train, y_test = train_test_split(\n",
    "            x_train, y_train, test_size=0.33, random_state=42)\n",
    "    \n",
    "    if method=='svm':\n",
    "        clf = make_pipeline(StandardScaler(),\n",
    "                            LinearSVC(random_state=0, tol=1e-4))\n",
    "    elif method=='sgd':\n",
    "        clf = make_pipeline(StandardScaler(),\n",
    "                            SGDClassifier(max_iter=5000, tol=1e-4, n_jobs=n_jobs))#, loss='log_loss'))\n",
    "    else:\n",
    "        raise ValueError()\n",
    "    clf.fit(x_train, y_train)\n",
    "    train_score = clf.score(x_train,y_train)\n",
    "    test_score = clf.score(x_test,y_test)\n",
    "    if ret_preds:\n",
    "        preds = clf.predict(x_test)\n",
    "        return train_score, test_score, preds, y_test\n",
    "    return train_score, test_score"
   ]
  },
  {
   "cell_type": "code",
   "execution_count": 7,
   "id": "2f0dd0f7",
   "metadata": {},
   "outputs": [],
   "source": [
    "class SSv2Eval():\n",
    "    \n",
    "    def __init__(self, label_paths=None):\n",
    "        if label_paths is None:\n",
    "            label_paths={'train':'/N/project/baby_vision_curriculum/benchmarks/ssv2/easy_labels/train_easy10.csv',\n",
    "                         'test':'/N/project/baby_vision_curriculum/benchmarks/ssv2/easy_labels/val_easy10.csv'}        \n",
    "        self.labels_df = {x: pd.read_csv(label_paths[x])\n",
    "                         for x in ['train','test']}\n",
    "        for phase in ['train', 'test']:\n",
    "            self.labels_df[phase].set_index('fname', inplace=True)\n",
    "\n",
    "    def get_categorylabel(self, fname, phase):\n",
    "        return self.labels_df[phase].loc[str(fname)+'.webm', 'label']\n",
    "\n",
    "    def add_labels_to_df(self, df, labels, phase):\n",
    "        if 'category' in labels:\n",
    "            df['category'] = df['fnames'].apply(\n",
    "                lambda fname: self.get_categorylabel(fname, phase))\n",
    "        return df\n",
    "    \n",
    "    def proc_train_test(self, data_fpaths, score_type, eval_type='linear', n_jobs=80):\n",
    "        if score_type!='category':\n",
    "            raise ValueError\n",
    "        method='sgd'\n",
    "#         data_fpaths = {'train':fp_train, }\n",
    "        data_df = {}\n",
    "        for phase in ['train', 'test']:\n",
    "            data_df[phase] = pd.read_csv(\n",
    "                data_fpaths[phase])\n",
    "            data_df[phase] = self.add_labels_to_df(data_df[phase], ['category'], phase)\n",
    "        \n",
    "        if eval_type=='linear':\n",
    "            train_score, test_score, preds, targets = get_separability_score(\n",
    "                data_df['train'], data_df['test'], score_type, method=method, \n",
    "                ret_preds=True, n_jobs=n_jobs)\n",
    "        else:\n",
    "            test_score = get_nn_score(\n",
    "                data_df['train'], data_df['test'], score_type, metric='cosine',\n",
    "                 savedir=None, run_id=None)\n",
    "        \n",
    "        return test_score"
   ]
  },
  {
   "cell_type": "code",
   "execution_count": 22,
   "id": "e69a1ae8",
   "metadata": {},
   "outputs": [],
   "source": [
    "class UCF101Eval():\n",
    "    \n",
    "    def __init__(self):\n",
    "        pass\n",
    "    \n",
    "    def add_labels_to_df(self, df):\n",
    "        df['category'] = df['fnames']#.apply(lambda fname: self.get_categorylabel(fname))\n",
    "        return df\n",
    "    \n",
    "    def proc_train_test(self, data_fpaths, score_type, eval_type='linear', n_jobs=80):\n",
    "        if score_type!='category':\n",
    "            raise ValueError\n",
    "        method='sgd'\n",
    "#         data_fpaths = {'train':fp_train, }\n",
    "        data_df = {}\n",
    "        for phase in ['train', 'test']:\n",
    "            data_df[phase] = pd.read_csv(\n",
    "                data_fpaths[phase])\n",
    "            data_df[phase] = self.add_labels_to_df(data_df[phase])\n",
    "        \n",
    "        if eval_type=='linear':\n",
    "            train_score, test_score, preds, targets = get_separability_score(\n",
    "                data_df['train'], data_df['test'], score_type, method=method, \n",
    "                ret_preds=True, n_jobs=n_jobs)\n",
    "        else:\n",
    "            test_score = get_nn_score(\n",
    "                data_df['train'], data_df['test'], score_type, metric='cosine',\n",
    "                 savedir=None, run_id=None)\n",
    "        \n",
    "        return test_score"
   ]
  },
  {
   "cell_type": "code",
   "execution_count": 23,
   "id": "23cb44c7",
   "metadata": {},
   "outputs": [],
   "source": [
    "def get_traingroups(curr, stage):\n",
    "    if curr=='dev':\n",
    "        return 'g0g1g2'[:2*stage]\n",
    "    elif curr=='adev':\n",
    "        return 'g2g1g0'[:2*stage]\n",
    "    else:\n",
    "        return 'na'\n",
    "    \n",
    "def parse_fname(fp):\n",
    "# embeddings_adev_1_g2_default_0_246.csv'\n",
    "    parts = Path(fp).stem.split('_')\n",
    "    prefix, curr, stage, current_gr, cond, fold, seed = parts\n",
    "    stage=int(stage)\n",
    "    train_gr = get_traingroups(curr, stage)\n",
    "    \n",
    "    tag_dict = {\n",
    "        'Curriculum':curr,\n",
    "        'Stage': stage,\n",
    "        'Condition':cond,\n",
    "        'Seed': seed,\n",
    "        'Train Groups': train_gr,\n",
    "        'data_id': '_'.join([curr, seed, cond])\n",
    "    }\n",
    "    return tag_dict"
   ]
  },
  {
   "cell_type": "code",
   "execution_count": 24,
   "id": "7c55d219",
   "metadata": {},
   "outputs": [],
   "source": [
    "def proc_result_folder(emb_root, ds_task, iter_per_stage, eval_type, \n",
    "                       n_jobs=80):\n",
    "    if ds_task=='ssv2':\n",
    "        evaluator = SSv2Eval()\n",
    "        ds_task = 'category'\n",
    "    elif ds_task=='tb_cat':\n",
    "        evaluator = ToyBoxEval()\n",
    "        ds_task = 'category'\n",
    "    elif ds_task=='tb_trans':\n",
    "        evaluator = ToyBoxEval()\n",
    "        ds_task = 'transformation'\n",
    "    elif ds_task=='cifar10':\n",
    "        evaluator = Cifar10Eval()\n",
    "        ds_task = 'category'\n",
    "    elif ds_task=='ucf101':\n",
    "        evaluator = UCF101Eval()\n",
    "        ds_task = 'category'\n",
    "        n_jobs_external=n_jobs\n",
    "        n_jobs_internal=1\n",
    "    else:\n",
    "        raise ValueError\n",
    "    record_list = []\n",
    "    \n",
    "    train_test_fp_list = []\n",
    "    for fname in os.listdir(emb_root):\n",
    "        if Path(emb_root+fname).suffix!='.csv':\n",
    "            continue\n",
    "        train_fp = emb_root+fname\n",
    "        test_fp = str(Path(emb_root, 'test/', fname))\n",
    "        \n",
    "        if not os.path.exists(test_fp):\n",
    "            print(test_fp, 'does not exist')\n",
    "            continue\n",
    "        train_test_fp_list.append(\n",
    "            {'train':train_fp,\n",
    "             'test':test_fp})\n",
    "    \n",
    "\n",
    "    for fp_dict in tqdm(train_test_fp_list):\n",
    "#             print(fp)\n",
    "        record = parse_fname(fp_dict['train'])\n",
    "#         if '141' in fp:\n",
    "#             continue\n",
    "        if eval_type=='linear':\n",
    "            record[ds_task] = evaluator.proc_train_test(fp_dict, ds_task,\n",
    "                                                       eval_type=eval_type, \n",
    "                                                        n_jobs=n_jobs)\n",
    "        else:\n",
    "            topkcorrect = evaluator.proc_train_test(fp_dict, ds_task,\n",
    "                                                       eval_type=eval_type, \n",
    "                                                        n_jobs=n_jobs)\n",
    "            record['Top1'] = topkcorrect[1]\n",
    "            record['Top5'] = topkcorrect[5]\n",
    "            record['Top10'] = topkcorrect[10]\n",
    "        record['Iteration']=iter_per_stage*record['Stage']\n",
    "        record_list.append(deepcopy(record))\n",
    "        \n",
    "    df = pd.DataFrame.from_records(record_list)         \n",
    "    return df"
   ]
  },
  {
   "cell_type": "code",
   "execution_count": 14,
   "id": "25ac733a",
   "metadata": {},
   "outputs": [
    {
     "name": "stdout",
     "output_type": "stream",
     "text": [
      "/N/project/baby_vision_curriculum/trained_models/generative/v3/aug11/benchmarks/ssv2/test/embeddings_adult_0_na_default_0_112.csv does not exist\n",
      "/N/project/baby_vision_curriculum/trained_models/generative/v3/aug11/benchmarks/ssv2/test/embeddings_adev_0_na_default_0_111.csv does not exist\n",
      "/N/project/baby_vision_curriculum/trained_models/generative/v3/aug11/benchmarks/ssv2/test/embeddings_adult_0_na_default_0_111.csv does not exist\n",
      "/N/project/baby_vision_curriculum/trained_models/generative/v3/aug11/benchmarks/ssv2/test/embeddings_adev_0_na_default_0_113.csv does not exist\n",
      "/N/project/baby_vision_curriculum/trained_models/generative/v3/aug11/benchmarks/ssv2/test/embeddings_dev_0_na_default_0_112.csv does not exist\n",
      "/N/project/baby_vision_curriculum/trained_models/generative/v3/aug11/benchmarks/ssv2/test/embeddings_rnd_0_na_default_0_112.csv does not exist\n",
      "/N/project/baby_vision_curriculum/trained_models/generative/v3/aug11/benchmarks/ssv2/test/embeddings_dev_0_na_default_0_113.csv does not exist\n",
      "/N/project/baby_vision_curriculum/trained_models/generative/v3/aug11/benchmarks/ssv2/test/embeddings_adev_0_na_default_0_112.csv does not exist\n",
      "/N/project/baby_vision_curriculum/trained_models/generative/v3/aug11/benchmarks/ssv2/test/embeddings_dev_0_na_default_0_111.csv does not exist\n",
      "/N/project/baby_vision_curriculum/trained_models/generative/v3/aug11/benchmarks/ssv2/test/embeddings_adult_0_na_default_0_113.csv does not exist\n",
      "/N/project/baby_vision_curriculum/trained_models/generative/v3/aug11/benchmarks/ssv2/test/embeddings_rnd_0_na_default_0_113.csv does not exist\n",
      "/N/project/baby_vision_curriculum/trained_models/generative/v3/aug11/benchmarks/ssv2/test/embeddings_rnd_0_na_default_0_111.csv does not exist\n"
     ]
    },
    {
     "name": "stderr",
     "output_type": "stream",
     "text": [
      "  3%|█▏                                          | 1/36 [00:02<01:24,  2.41s/it]"
     ]
    },
    {
     "name": "stdout",
     "output_type": "stream",
     "text": [
      "Top-1, correct = 0.24, total = 1000, acc = 0.000\n",
      "Top-5, correct = 0.59, total = 1000, acc = 0.001\n",
      "Top-10, correct = 0.79, total = 1000, acc = 0.001\n",
      "Top-20, correct = 0.91, total = 1000, acc = 0.001\n",
      "Top-50, correct = 0.97, total = 1000, acc = 0.001\n"
     ]
    },
    {
     "name": "stderr",
     "output_type": "stream",
     "text": [
      "\r",
      "  6%|██▍                                         | 2/36 [00:04<01:17,  2.28s/it]"
     ]
    },
    {
     "name": "stdout",
     "output_type": "stream",
     "text": [
      "Top-1, correct = 0.24, total = 1000, acc = 0.000\n",
      "Top-5, correct = 0.61, total = 1000, acc = 0.001\n",
      "Top-10, correct = 0.77, total = 1000, acc = 0.001\n",
      "Top-20, correct = 0.89, total = 1000, acc = 0.001\n",
      "Top-50, correct = 0.97, total = 1000, acc = 0.001\n"
     ]
    },
    {
     "name": "stderr",
     "output_type": "stream",
     "text": [
      "\r",
      "  8%|███▋                                        | 3/36 [00:07<01:17,  2.35s/it]"
     ]
    },
    {
     "name": "stdout",
     "output_type": "stream",
     "text": [
      "Top-1, correct = 0.21, total = 1000, acc = 0.000\n",
      "Top-5, correct = 0.55, total = 1000, acc = 0.001\n",
      "Top-10, correct = 0.74, total = 1000, acc = 0.001\n",
      "Top-20, correct = 0.89, total = 1000, acc = 0.001\n",
      "Top-50, correct = 0.97, total = 1000, acc = 0.001\n"
     ]
    },
    {
     "name": "stderr",
     "output_type": "stream",
     "text": [
      "\r",
      " 11%|████▉                                       | 4/36 [00:09<01:16,  2.38s/it]"
     ]
    },
    {
     "name": "stdout",
     "output_type": "stream",
     "text": [
      "Top-1, correct = 0.12, total = 1000, acc = 0.000\n",
      "Top-5, correct = 0.43, total = 1000, acc = 0.000\n",
      "Top-10, correct = 0.66, total = 1000, acc = 0.001\n",
      "Top-20, correct = 0.84, total = 1000, acc = 0.001\n",
      "Top-50, correct = 0.98, total = 1000, acc = 0.001\n"
     ]
    },
    {
     "name": "stderr",
     "output_type": "stream",
     "text": [
      "\r",
      " 14%|██████                                      | 5/36 [00:12<01:17,  2.49s/it]"
     ]
    },
    {
     "name": "stdout",
     "output_type": "stream",
     "text": [
      "Top-1, correct = 0.22, total = 1000, acc = 0.000\n",
      "Top-5, correct = 0.57, total = 1000, acc = 0.001\n",
      "Top-10, correct = 0.76, total = 1000, acc = 0.001\n",
      "Top-20, correct = 0.90, total = 1000, acc = 0.001\n",
      "Top-50, correct = 0.97, total = 1000, acc = 0.001\n"
     ]
    },
    {
     "name": "stderr",
     "output_type": "stream",
     "text": [
      "\r",
      " 17%|███████▎                                    | 6/36 [00:14<01:14,  2.47s/it]"
     ]
    },
    {
     "name": "stdout",
     "output_type": "stream",
     "text": [
      "Top-1, correct = 0.29, total = 1000, acc = 0.000\n",
      "Top-5, correct = 0.67, total = 1000, acc = 0.001\n",
      "Top-10, correct = 0.80, total = 1000, acc = 0.001\n",
      "Top-20, correct = 0.90, total = 1000, acc = 0.001\n",
      "Top-50, correct = 0.97, total = 1000, acc = 0.001\n"
     ]
    },
    {
     "name": "stderr",
     "output_type": "stream",
     "text": [
      "\r",
      " 19%|████████▌                                   | 7/36 [00:17<01:11,  2.47s/it]"
     ]
    },
    {
     "name": "stdout",
     "output_type": "stream",
     "text": [
      "Top-1, correct = 0.26, total = 1000, acc = 0.000\n",
      "Top-5, correct = 0.63, total = 1000, acc = 0.001\n",
      "Top-10, correct = 0.79, total = 1000, acc = 0.001\n",
      "Top-20, correct = 0.90, total = 1000, acc = 0.001\n",
      "Top-50, correct = 0.97, total = 1000, acc = 0.001\n"
     ]
    },
    {
     "name": "stderr",
     "output_type": "stream",
     "text": [
      "\r",
      " 22%|█████████▊                                  | 8/36 [00:19<01:09,  2.50s/it]"
     ]
    },
    {
     "name": "stdout",
     "output_type": "stream",
     "text": [
      "Top-1, correct = 0.28, total = 1000, acc = 0.000\n",
      "Top-5, correct = 0.65, total = 1000, acc = 0.001\n",
      "Top-10, correct = 0.79, total = 1000, acc = 0.001\n",
      "Top-20, correct = 0.91, total = 1000, acc = 0.001\n",
      "Top-50, correct = 0.98, total = 1000, acc = 0.001\n"
     ]
    },
    {
     "name": "stderr",
     "output_type": "stream",
     "text": [
      "\r",
      " 25%|███████████                                 | 9/36 [00:22<01:07,  2.49s/it]"
     ]
    },
    {
     "name": "stdout",
     "output_type": "stream",
     "text": [
      "Top-1, correct = 0.22, total = 1000, acc = 0.000\n",
      "Top-5, correct = 0.58, total = 1000, acc = 0.001\n",
      "Top-10, correct = 0.76, total = 1000, acc = 0.001\n",
      "Top-20, correct = 0.91, total = 1000, acc = 0.001\n",
      "Top-50, correct = 0.98, total = 1000, acc = 0.001\n"
     ]
    },
    {
     "name": "stderr",
     "output_type": "stream",
     "text": [
      "\r",
      " 28%|███████████▉                               | 10/36 [00:24<01:04,  2.49s/it]"
     ]
    },
    {
     "name": "stdout",
     "output_type": "stream",
     "text": [
      "Top-1, correct = 0.25, total = 1000, acc = 0.000\n",
      "Top-5, correct = 0.63, total = 1000, acc = 0.001\n",
      "Top-10, correct = 0.79, total = 1000, acc = 0.001\n",
      "Top-20, correct = 0.91, total = 1000, acc = 0.001\n",
      "Top-50, correct = 0.97, total = 1000, acc = 0.001\n"
     ]
    },
    {
     "name": "stderr",
     "output_type": "stream",
     "text": [
      "\r",
      " 31%|█████████████▏                             | 11/36 [00:27<01:03,  2.54s/it]"
     ]
    },
    {
     "name": "stdout",
     "output_type": "stream",
     "text": [
      "Top-1, correct = 0.20, total = 1000, acc = 0.000\n",
      "Top-5, correct = 0.54, total = 1000, acc = 0.001\n",
      "Top-10, correct = 0.73, total = 1000, acc = 0.001\n",
      "Top-20, correct = 0.87, total = 1000, acc = 0.001\n",
      "Top-50, correct = 0.98, total = 1000, acc = 0.001\n"
     ]
    },
    {
     "name": "stderr",
     "output_type": "stream",
     "text": [
      "\r",
      " 33%|██████████████▎                            | 12/36 [00:29<01:01,  2.56s/it]"
     ]
    },
    {
     "name": "stdout",
     "output_type": "stream",
     "text": [
      "Top-1, correct = 0.22, total = 1000, acc = 0.000\n",
      "Top-5, correct = 0.60, total = 1000, acc = 0.001\n",
      "Top-10, correct = 0.78, total = 1000, acc = 0.001\n",
      "Top-20, correct = 0.89, total = 1000, acc = 0.001\n",
      "Top-50, correct = 0.97, total = 1000, acc = 0.001\n"
     ]
    },
    {
     "name": "stderr",
     "output_type": "stream",
     "text": [
      "\r",
      " 36%|███████████████▌                           | 13/36 [00:32<00:59,  2.59s/it]"
     ]
    },
    {
     "name": "stdout",
     "output_type": "stream",
     "text": [
      "Top-1, correct = 0.17, total = 1000, acc = 0.000\n",
      "Top-5, correct = 0.52, total = 1000, acc = 0.001\n",
      "Top-10, correct = 0.73, total = 1000, acc = 0.001\n",
      "Top-20, correct = 0.87, total = 1000, acc = 0.001\n",
      "Top-50, correct = 0.97, total = 1000, acc = 0.001\n"
     ]
    },
    {
     "name": "stderr",
     "output_type": "stream",
     "text": [
      "\r",
      " 39%|████████████████▋                          | 14/36 [00:35<00:56,  2.57s/it]"
     ]
    },
    {
     "name": "stdout",
     "output_type": "stream",
     "text": [
      "Top-1, correct = 0.22, total = 1000, acc = 0.000\n",
      "Top-5, correct = 0.58, total = 1000, acc = 0.001\n",
      "Top-10, correct = 0.75, total = 1000, acc = 0.001\n",
      "Top-20, correct = 0.89, total = 1000, acc = 0.001\n",
      "Top-50, correct = 0.97, total = 1000, acc = 0.001\n"
     ]
    },
    {
     "name": "stderr",
     "output_type": "stream",
     "text": [
      "\r",
      " 42%|█████████████████▉                         | 15/36 [00:37<00:52,  2.49s/it]"
     ]
    },
    {
     "name": "stdout",
     "output_type": "stream",
     "text": [
      "Top-1, correct = 0.26, total = 1000, acc = 0.000\n",
      "Top-5, correct = 0.62, total = 1000, acc = 0.001\n",
      "Top-10, correct = 0.78, total = 1000, acc = 0.001\n",
      "Top-20, correct = 0.89, total = 1000, acc = 0.001\n",
      "Top-50, correct = 0.97, total = 1000, acc = 0.001\n"
     ]
    },
    {
     "name": "stderr",
     "output_type": "stream",
     "text": [
      "\r",
      " 44%|███████████████████                        | 16/36 [00:39<00:48,  2.45s/it]"
     ]
    },
    {
     "name": "stdout",
     "output_type": "stream",
     "text": [
      "Top-1, correct = 0.16, total = 1000, acc = 0.000\n",
      "Top-5, correct = 0.50, total = 1000, acc = 0.000\n",
      "Top-10, correct = 0.69, total = 1000, acc = 0.001\n",
      "Top-20, correct = 0.86, total = 1000, acc = 0.001\n",
      "Top-50, correct = 0.97, total = 1000, acc = 0.001\n"
     ]
    },
    {
     "name": "stderr",
     "output_type": "stream",
     "text": [
      "\r",
      " 47%|████████████████████▎                      | 17/36 [00:41<00:45,  2.40s/it]"
     ]
    },
    {
     "name": "stdout",
     "output_type": "stream",
     "text": [
      "Top-1, correct = 0.31, total = 1000, acc = 0.000\n",
      "Top-5, correct = 0.65, total = 1000, acc = 0.001\n",
      "Top-10, correct = 0.80, total = 1000, acc = 0.001\n",
      "Top-20, correct = 0.91, total = 1000, acc = 0.001\n",
      "Top-50, correct = 0.97, total = 1000, acc = 0.001\n"
     ]
    },
    {
     "name": "stderr",
     "output_type": "stream",
     "text": [
      "\r",
      " 50%|█████████████████████▌                     | 18/36 [00:44<00:43,  2.40s/it]"
     ]
    },
    {
     "name": "stdout",
     "output_type": "stream",
     "text": [
      "Top-1, correct = 0.24, total = 1000, acc = 0.000\n",
      "Top-5, correct = 0.59, total = 1000, acc = 0.001\n",
      "Top-10, correct = 0.77, total = 1000, acc = 0.001\n",
      "Top-20, correct = 0.90, total = 1000, acc = 0.001\n",
      "Top-50, correct = 0.98, total = 1000, acc = 0.001\n"
     ]
    },
    {
     "name": "stderr",
     "output_type": "stream",
     "text": [
      "\r",
      " 53%|██████████████████████▋                    | 19/36 [00:46<00:40,  2.36s/it]"
     ]
    },
    {
     "name": "stdout",
     "output_type": "stream",
     "text": [
      "Top-1, correct = 0.18, total = 1000, acc = 0.000\n",
      "Top-5, correct = 0.52, total = 1000, acc = 0.001\n",
      "Top-10, correct = 0.71, total = 1000, acc = 0.001\n",
      "Top-20, correct = 0.88, total = 1000, acc = 0.001\n",
      "Top-50, correct = 0.98, total = 1000, acc = 0.001\n"
     ]
    },
    {
     "name": "stderr",
     "output_type": "stream",
     "text": [
      "\r",
      " 56%|███████████████████████▉                   | 20/36 [00:48<00:37,  2.36s/it]"
     ]
    },
    {
     "name": "stdout",
     "output_type": "stream",
     "text": [
      "Top-1, correct = 0.21, total = 1000, acc = 0.000\n",
      "Top-5, correct = 0.55, total = 1000, acc = 0.001\n",
      "Top-10, correct = 0.75, total = 1000, acc = 0.001\n",
      "Top-20, correct = 0.89, total = 1000, acc = 0.001\n",
      "Top-50, correct = 0.97, total = 1000, acc = 0.001\n"
     ]
    },
    {
     "name": "stderr",
     "output_type": "stream",
     "text": [
      "\r",
      " 58%|█████████████████████████                  | 21/36 [00:51<00:35,  2.34s/it]"
     ]
    },
    {
     "name": "stdout",
     "output_type": "stream",
     "text": [
      "Top-1, correct = 0.25, total = 1000, acc = 0.000\n",
      "Top-5, correct = 0.60, total = 1000, acc = 0.001\n",
      "Top-10, correct = 0.80, total = 1000, acc = 0.001\n",
      "Top-20, correct = 0.90, total = 1000, acc = 0.001\n",
      "Top-50, correct = 0.98, total = 1000, acc = 0.001\n"
     ]
    },
    {
     "name": "stderr",
     "output_type": "stream",
     "text": [
      "\r",
      " 61%|██████████████████████████▎                | 22/36 [00:53<00:33,  2.38s/it]"
     ]
    },
    {
     "name": "stdout",
     "output_type": "stream",
     "text": [
      "Top-1, correct = 0.27, total = 1000, acc = 0.000\n",
      "Top-5, correct = 0.64, total = 1000, acc = 0.001\n",
      "Top-10, correct = 0.78, total = 1000, acc = 0.001\n",
      "Top-20, correct = 0.91, total = 1000, acc = 0.001\n",
      "Top-50, correct = 0.98, total = 1000, acc = 0.001\n"
     ]
    },
    {
     "name": "stderr",
     "output_type": "stream",
     "text": [
      "\r",
      " 64%|███████████████████████████▍               | 23/36 [00:56<00:30,  2.37s/it]"
     ]
    },
    {
     "name": "stdout",
     "output_type": "stream",
     "text": [
      "Top-1, correct = 0.28, total = 1000, acc = 0.000\n",
      "Top-5, correct = 0.63, total = 1000, acc = 0.001\n",
      "Top-10, correct = 0.78, total = 1000, acc = 0.001\n",
      "Top-20, correct = 0.90, total = 1000, acc = 0.001\n",
      "Top-50, correct = 0.97, total = 1000, acc = 0.001\n"
     ]
    },
    {
     "name": "stderr",
     "output_type": "stream",
     "text": [
      "\r",
      " 67%|████████████████████████████▋              | 24/36 [00:58<00:28,  2.33s/it]"
     ]
    },
    {
     "name": "stdout",
     "output_type": "stream",
     "text": [
      "Top-1, correct = 0.12, total = 1000, acc = 0.000\n",
      "Top-5, correct = 0.44, total = 1000, acc = 0.000\n",
      "Top-10, correct = 0.65, total = 1000, acc = 0.001\n",
      "Top-20, correct = 0.86, total = 1000, acc = 0.001\n",
      "Top-50, correct = 0.99, total = 1000, acc = 0.001\n"
     ]
    },
    {
     "name": "stderr",
     "output_type": "stream",
     "text": [
      "\r",
      " 69%|█████████████████████████████▊             | 25/36 [01:00<00:25,  2.35s/it]"
     ]
    },
    {
     "name": "stdout",
     "output_type": "stream",
     "text": [
      "Top-1, correct = 0.24, total = 1000, acc = 0.000\n",
      "Top-5, correct = 0.62, total = 1000, acc = 0.001\n",
      "Top-10, correct = 0.79, total = 1000, acc = 0.001\n",
      "Top-20, correct = 0.91, total = 1000, acc = 0.001\n",
      "Top-50, correct = 0.98, total = 1000, acc = 0.001\n"
     ]
    },
    {
     "name": "stderr",
     "output_type": "stream",
     "text": [
      "\r",
      " 72%|███████████████████████████████            | 26/36 [01:02<00:23,  2.32s/it]"
     ]
    },
    {
     "name": "stdout",
     "output_type": "stream",
     "text": [
      "Top-1, correct = 0.22, total = 1000, acc = 0.000\n",
      "Top-5, correct = 0.60, total = 1000, acc = 0.001\n",
      "Top-10, correct = 0.78, total = 1000, acc = 0.001\n",
      "Top-20, correct = 0.89, total = 1000, acc = 0.001\n",
      "Top-50, correct = 0.98, total = 1000, acc = 0.001\n"
     ]
    },
    {
     "name": "stderr",
     "output_type": "stream",
     "text": [
      "\r",
      " 75%|████████████████████████████████▎          | 27/36 [01:05<00:20,  2.30s/it]"
     ]
    },
    {
     "name": "stdout",
     "output_type": "stream",
     "text": [
      "Top-1, correct = 0.25, total = 1000, acc = 0.000\n",
      "Top-5, correct = 0.61, total = 1000, acc = 0.001\n",
      "Top-10, correct = 0.79, total = 1000, acc = 0.001\n",
      "Top-20, correct = 0.90, total = 1000, acc = 0.001\n",
      "Top-50, correct = 0.96, total = 1000, acc = 0.001\n"
     ]
    },
    {
     "name": "stderr",
     "output_type": "stream",
     "text": [
      "\r",
      " 78%|█████████████████████████████████▍         | 28/36 [01:07<00:18,  2.32s/it]"
     ]
    },
    {
     "name": "stdout",
     "output_type": "stream",
     "text": [
      "Top-1, correct = 0.11, total = 1000, acc = 0.000\n",
      "Top-5, correct = 0.41, total = 1000, acc = 0.000\n",
      "Top-10, correct = 0.64, total = 1000, acc = 0.001\n",
      "Top-20, correct = 0.85, total = 1000, acc = 0.001\n",
      "Top-50, correct = 0.99, total = 1000, acc = 0.001\n"
     ]
    },
    {
     "name": "stderr",
     "output_type": "stream",
     "text": [
      "\r",
      " 81%|██████████████████████████████████▋        | 29/36 [01:09<00:16,  2.31s/it]"
     ]
    },
    {
     "name": "stdout",
     "output_type": "stream",
     "text": [
      "Top-1, correct = 0.23, total = 1000, acc = 0.000\n",
      "Top-5, correct = 0.60, total = 1000, acc = 0.001\n",
      "Top-10, correct = 0.78, total = 1000, acc = 0.001\n",
      "Top-20, correct = 0.90, total = 1000, acc = 0.001\n",
      "Top-50, correct = 0.98, total = 1000, acc = 0.001\n"
     ]
    },
    {
     "name": "stderr",
     "output_type": "stream",
     "text": [
      "\r",
      " 83%|███████████████████████████████████▊       | 30/36 [01:12<00:13,  2.32s/it]"
     ]
    },
    {
     "name": "stdout",
     "output_type": "stream",
     "text": [
      "Top-1, correct = 0.21, total = 1000, acc = 0.000\n",
      "Top-5, correct = 0.60, total = 1000, acc = 0.001\n",
      "Top-10, correct = 0.76, total = 1000, acc = 0.001\n",
      "Top-20, correct = 0.89, total = 1000, acc = 0.001\n",
      "Top-50, correct = 0.97, total = 1000, acc = 0.001\n"
     ]
    },
    {
     "name": "stderr",
     "output_type": "stream",
     "text": [
      "\r",
      " 86%|█████████████████████████████████████      | 31/36 [01:14<00:11,  2.32s/it]"
     ]
    },
    {
     "name": "stdout",
     "output_type": "stream",
     "text": [
      "Top-1, correct = 0.24, total = 1000, acc = 0.000\n",
      "Top-5, correct = 0.63, total = 1000, acc = 0.001\n",
      "Top-10, correct = 0.78, total = 1000, acc = 0.001\n",
      "Top-20, correct = 0.90, total = 1000, acc = 0.001\n",
      "Top-50, correct = 0.97, total = 1000, acc = 0.001\n"
     ]
    },
    {
     "name": "stderr",
     "output_type": "stream",
     "text": [
      "\r",
      " 89%|██████████████████████████████████████▏    | 32/36 [01:16<00:09,  2.33s/it]"
     ]
    },
    {
     "name": "stdout",
     "output_type": "stream",
     "text": [
      "Top-1, correct = 0.20, total = 1000, acc = 0.000\n",
      "Top-5, correct = 0.59, total = 1000, acc = 0.001\n",
      "Top-10, correct = 0.77, total = 1000, acc = 0.001\n",
      "Top-20, correct = 0.89, total = 1000, acc = 0.001\n",
      "Top-50, correct = 0.98, total = 1000, acc = 0.001\n"
     ]
    },
    {
     "name": "stderr",
     "output_type": "stream",
     "text": [
      "\r",
      " 92%|███████████████████████████████████████▍   | 33/36 [01:19<00:06,  2.32s/it]"
     ]
    },
    {
     "name": "stdout",
     "output_type": "stream",
     "text": [
      "Top-1, correct = 0.23, total = 1000, acc = 0.000\n",
      "Top-5, correct = 0.59, total = 1000, acc = 0.001\n",
      "Top-10, correct = 0.77, total = 1000, acc = 0.001\n",
      "Top-20, correct = 0.89, total = 1000, acc = 0.001\n",
      "Top-50, correct = 0.97, total = 1000, acc = 0.001\n"
     ]
    },
    {
     "name": "stderr",
     "output_type": "stream",
     "text": [
      "\r",
      " 94%|████████████████████████████████████████▌  | 34/36 [01:21<00:04,  2.37s/it]"
     ]
    },
    {
     "name": "stdout",
     "output_type": "stream",
     "text": [
      "Top-1, correct = 0.23, total = 1000, acc = 0.000\n",
      "Top-5, correct = 0.58, total = 1000, acc = 0.001\n",
      "Top-10, correct = 0.76, total = 1000, acc = 0.001\n",
      "Top-20, correct = 0.89, total = 1000, acc = 0.001\n",
      "Top-50, correct = 0.97, total = 1000, acc = 0.001\n"
     ]
    },
    {
     "name": "stderr",
     "output_type": "stream",
     "text": [
      "\r",
      " 97%|█████████████████████████████████████████▊ | 35/36 [01:24<00:02,  2.37s/it]"
     ]
    },
    {
     "name": "stdout",
     "output_type": "stream",
     "text": [
      "Top-1, correct = 0.22, total = 1000, acc = 0.000\n",
      "Top-5, correct = 0.58, total = 1000, acc = 0.001\n",
      "Top-10, correct = 0.77, total = 1000, acc = 0.001\n",
      "Top-20, correct = 0.90, total = 1000, acc = 0.001\n",
      "Top-50, correct = 0.97, total = 1000, acc = 0.001\n"
     ]
    },
    {
     "name": "stderr",
     "output_type": "stream",
     "text": [
      "100%|███████████████████████████████████████████| 36/36 [01:26<00:00,  2.40s/it]"
     ]
    },
    {
     "name": "stdout",
     "output_type": "stream",
     "text": [
      "Top-1, correct = 0.25, total = 1000, acc = 0.000\n",
      "Top-5, correct = 0.61, total = 1000, acc = 0.001\n",
      "Top-10, correct = 0.79, total = 1000, acc = 0.001\n",
      "Top-20, correct = 0.91, total = 1000, acc = 0.001\n",
      "Top-50, correct = 0.98, total = 1000, acc = 0.001\n"
     ]
    },
    {
     "name": "stderr",
     "output_type": "stream",
     "text": [
      "\n"
     ]
    }
   ],
   "source": [
    "learner = 'generative/v3/'#'contrastive/v1/'#'predictive/v1/'#\n",
    "ds_task = 'ssv2'\n",
    "date = 'aug11'#'aug1'#'jul315'#\n",
    "num_ep,iter_per_ep = 20, 1500 #5, 2000#2, 5000\n",
    "\n",
    "eval_type='nn'\n",
    "\n",
    "emb_root = '/N/project/baby_vision_curriculum/trained_models/'+learner+date+'/benchmarks/'+ds_task+'/'\n",
    "# emb_root = '/N/project/baby_vision_curriculum/trained_models/generative/v3/jul28dev/benchmarks/ssv2/'\n",
    "\n",
    "iter_per_stage = num_ep*iter_per_ep\n",
    "\n",
    "df_ss = proc_result_folder(emb_root, ds_task, iter_per_stage, eval_type, n_jobs=23)\n",
    "# df_ss.to_csv(date+'_'+ds_task+'_'+eval_type+'_score.csv', index=False)"
   ]
  },
  {
   "cell_type": "code",
   "execution_count": 16,
   "id": "ae7f4882",
   "metadata": {},
   "outputs": [
    {
     "data": {
      "text/html": [
       "<div>\n",
       "<style scoped>\n",
       "    .dataframe tbody tr th:only-of-type {\n",
       "        vertical-align: middle;\n",
       "    }\n",
       "\n",
       "    .dataframe tbody tr th {\n",
       "        vertical-align: top;\n",
       "    }\n",
       "\n",
       "    .dataframe thead th {\n",
       "        text-align: right;\n",
       "    }\n",
       "</style>\n",
       "<table border=\"1\" class=\"dataframe\">\n",
       "  <thead>\n",
       "    <tr style=\"text-align: right;\">\n",
       "      <th></th>\n",
       "      <th></th>\n",
       "      <th></th>\n",
       "      <th>Top1</th>\n",
       "      <th>Top5</th>\n",
       "      <th>Top10</th>\n",
       "      <th>Iteration</th>\n",
       "    </tr>\n",
       "    <tr>\n",
       "      <th>Stage</th>\n",
       "      <th>Condition</th>\n",
       "      <th>Curriculum</th>\n",
       "      <th></th>\n",
       "      <th></th>\n",
       "      <th></th>\n",
       "      <th></th>\n",
       "    </tr>\n",
       "  </thead>\n",
       "  <tbody>\n",
       "    <tr>\n",
       "      <th rowspan=\"4\" valign=\"top\">1</th>\n",
       "      <th rowspan=\"4\" valign=\"top\">default</th>\n",
       "      <th>adev</th>\n",
       "      <td>0.116667</td>\n",
       "      <td>0.427000</td>\n",
       "      <td>0.650000</td>\n",
       "      <td>30000.0</td>\n",
       "    </tr>\n",
       "    <tr>\n",
       "      <th>adult</th>\n",
       "      <td>0.190000</td>\n",
       "      <td>0.535000</td>\n",
       "      <td>0.731333</td>\n",
       "      <td>30000.0</td>\n",
       "    </tr>\n",
       "    <tr>\n",
       "      <th>dev</th>\n",
       "      <td>0.217333</td>\n",
       "      <td>0.579000</td>\n",
       "      <td>0.756000</td>\n",
       "      <td>30000.0</td>\n",
       "    </tr>\n",
       "    <tr>\n",
       "      <th>rnd</th>\n",
       "      <td>0.190667</td>\n",
       "      <td>0.530333</td>\n",
       "      <td>0.724333</td>\n",
       "      <td>30000.0</td>\n",
       "    </tr>\n",
       "    <tr>\n",
       "      <th rowspan=\"4\" valign=\"top\">2</th>\n",
       "      <th rowspan=\"4\" valign=\"top\">default</th>\n",
       "      <th>adev</th>\n",
       "      <td>0.224333</td>\n",
       "      <td>0.602333</td>\n",
       "      <td>0.773667</td>\n",
       "      <td>60000.0</td>\n",
       "    </tr>\n",
       "    <tr>\n",
       "      <th>adult</th>\n",
       "      <td>0.222000</td>\n",
       "      <td>0.580333</td>\n",
       "      <td>0.760333</td>\n",
       "      <td>60000.0</td>\n",
       "    </tr>\n",
       "    <tr>\n",
       "      <th>dev</th>\n",
       "      <td>0.253667</td>\n",
       "      <td>0.625000</td>\n",
       "      <td>0.779667</td>\n",
       "      <td>60000.0</td>\n",
       "    </tr>\n",
       "    <tr>\n",
       "      <th>rnd</th>\n",
       "      <td>0.235000</td>\n",
       "      <td>0.594000</td>\n",
       "      <td>0.778667</td>\n",
       "      <td>60000.0</td>\n",
       "    </tr>\n",
       "    <tr>\n",
       "      <th rowspan=\"4\" valign=\"top\">3</th>\n",
       "      <th rowspan=\"4\" valign=\"top\">default</th>\n",
       "      <th>adev</th>\n",
       "      <td>0.241333</td>\n",
       "      <td>0.609000</td>\n",
       "      <td>0.783333</td>\n",
       "      <td>90000.0</td>\n",
       "    </tr>\n",
       "    <tr>\n",
       "      <th>adult</th>\n",
       "      <td>0.245333</td>\n",
       "      <td>0.610333</td>\n",
       "      <td>0.790000</td>\n",
       "      <td>90000.0</td>\n",
       "    </tr>\n",
       "    <tr>\n",
       "      <th>dev</th>\n",
       "      <td>0.293333</td>\n",
       "      <td>0.657333</td>\n",
       "      <td>0.797667</td>\n",
       "      <td>90000.0</td>\n",
       "    </tr>\n",
       "    <tr>\n",
       "      <th>rnd</th>\n",
       "      <td>0.256333</td>\n",
       "      <td>0.619333</td>\n",
       "      <td>0.784333</td>\n",
       "      <td>90000.0</td>\n",
       "    </tr>\n",
       "  </tbody>\n",
       "</table>\n",
       "</div>"
      ],
      "text/plain": [
       "                                Top1      Top5     Top10  Iteration\n",
       "Stage Condition Curriculum                                         \n",
       "1     default   adev        0.116667  0.427000  0.650000    30000.0\n",
       "                adult       0.190000  0.535000  0.731333    30000.0\n",
       "                dev         0.217333  0.579000  0.756000    30000.0\n",
       "                rnd         0.190667  0.530333  0.724333    30000.0\n",
       "2     default   adev        0.224333  0.602333  0.773667    60000.0\n",
       "                adult       0.222000  0.580333  0.760333    60000.0\n",
       "                dev         0.253667  0.625000  0.779667    60000.0\n",
       "                rnd         0.235000  0.594000  0.778667    60000.0\n",
       "3     default   adev        0.241333  0.609000  0.783333    90000.0\n",
       "                adult       0.245333  0.610333  0.790000    90000.0\n",
       "                dev         0.293333  0.657333  0.797667    90000.0\n",
       "                rnd         0.256333  0.619333  0.784333    90000.0"
      ]
     },
     "execution_count": 16,
     "metadata": {},
     "output_type": "execute_result"
    }
   ],
   "source": [
    "df_ss.groupby(['Stage', 'Condition', 'Curriculum']).mean()"
   ]
  },
  {
   "cell_type": "code",
   "execution_count": 17,
   "id": "16b6e820",
   "metadata": {},
   "outputs": [],
   "source": [
    "df_ss.to_csv(date+'_'+ds_task+'_'+eval_type+'_score.csv', index=False)"
   ]
  },
  {
   "cell_type": "code",
   "execution_count": 25,
   "id": "bd5d71b8",
   "metadata": {},
   "outputs": [
    {
     "name": "stderr",
     "output_type": "stream",
     "text": [
      "  3%|█▏                                          | 1/36 [00:04<02:45,  4.73s/it]"
     ]
    },
    {
     "name": "stdout",
     "output_type": "stream",
     "text": [
      "Top-1, correct = 0.28, total = 3747, acc = 0.000\n",
      "Top-5, correct = 0.43, total = 3747, acc = 0.000\n",
      "Top-10, correct = 0.51, total = 3747, acc = 0.000\n",
      "Top-20, correct = 0.59, total = 3747, acc = 0.000\n",
      "Top-50, correct = 0.73, total = 3747, acc = 0.000\n"
     ]
    },
    {
     "name": "stderr",
     "output_type": "stream",
     "text": [
      "\r",
      "  6%|██▍                                         | 2/36 [00:09<02:39,  4.69s/it]"
     ]
    },
    {
     "name": "stdout",
     "output_type": "stream",
     "text": [
      "Top-1, correct = 0.25, total = 3758, acc = 0.000\n",
      "Top-5, correct = 0.42, total = 3758, acc = 0.000\n",
      "Top-10, correct = 0.51, total = 3758, acc = 0.000\n",
      "Top-20, correct = 0.60, total = 3758, acc = 0.000\n",
      "Top-50, correct = 0.73, total = 3758, acc = 0.000\n"
     ]
    },
    {
     "name": "stderr",
     "output_type": "stream",
     "text": [
      "\r",
      "  8%|███▋                                        | 3/36 [00:13<02:33,  4.64s/it]"
     ]
    },
    {
     "name": "stdout",
     "output_type": "stream",
     "text": [
      "Top-1, correct = 0.26, total = 3755, acc = 0.000\n",
      "Top-5, correct = 0.38, total = 3755, acc = 0.000\n",
      "Top-10, correct = 0.46, total = 3755, acc = 0.000\n",
      "Top-20, correct = 0.56, total = 3755, acc = 0.000\n",
      "Top-50, correct = 0.70, total = 3755, acc = 0.000\n"
     ]
    },
    {
     "name": "stderr",
     "output_type": "stream",
     "text": [
      "\r",
      " 11%|████▉                                       | 4/36 [00:18<02:29,  4.67s/it]"
     ]
    },
    {
     "name": "stdout",
     "output_type": "stream",
     "text": [
      "Top-1, correct = 0.17, total = 3747, acc = 0.000\n",
      "Top-5, correct = 0.29, total = 3747, acc = 0.000\n",
      "Top-10, correct = 0.36, total = 3747, acc = 0.000\n",
      "Top-20, correct = 0.46, total = 3747, acc = 0.000\n",
      "Top-50, correct = 0.62, total = 3747, acc = 0.000\n"
     ]
    },
    {
     "name": "stderr",
     "output_type": "stream",
     "text": [
      "\r",
      " 14%|██████                                      | 5/36 [00:23<02:22,  4.58s/it]"
     ]
    },
    {
     "name": "stdout",
     "output_type": "stream",
     "text": [
      "Top-1, correct = 0.25, total = 3750, acc = 0.000\n",
      "Top-5, correct = 0.39, total = 3750, acc = 0.000\n",
      "Top-10, correct = 0.48, total = 3750, acc = 0.000\n",
      "Top-20, correct = 0.58, total = 3750, acc = 0.000\n",
      "Top-50, correct = 0.71, total = 3750, acc = 0.000\n"
     ]
    },
    {
     "name": "stderr",
     "output_type": "stream",
     "text": [
      "\r",
      " 17%|███████▎                                    | 6/36 [00:27<02:15,  4.53s/it]"
     ]
    },
    {
     "name": "stdout",
     "output_type": "stream",
     "text": [
      "Top-1, correct = 0.28, total = 3751, acc = 0.000\n",
      "Top-5, correct = 0.45, total = 3751, acc = 0.000\n",
      "Top-10, correct = 0.54, total = 3751, acc = 0.000\n",
      "Top-20, correct = 0.64, total = 3751, acc = 0.000\n",
      "Top-50, correct = 0.77, total = 3751, acc = 0.000\n"
     ]
    },
    {
     "name": "stderr",
     "output_type": "stream",
     "text": [
      "\r",
      " 19%|████████▌                                   | 7/36 [00:32<02:11,  4.52s/it]"
     ]
    },
    {
     "name": "stdout",
     "output_type": "stream",
     "text": [
      "Top-1, correct = 0.26, total = 3757, acc = 0.000\n",
      "Top-5, correct = 0.42, total = 3757, acc = 0.000\n",
      "Top-10, correct = 0.52, total = 3757, acc = 0.000\n",
      "Top-20, correct = 0.62, total = 3757, acc = 0.000\n",
      "Top-50, correct = 0.75, total = 3757, acc = 0.000\n"
     ]
    },
    {
     "name": "stderr",
     "output_type": "stream",
     "text": [
      "\r",
      " 22%|█████████▊                                  | 8/36 [00:36<02:05,  4.46s/it]"
     ]
    },
    {
     "name": "stdout",
     "output_type": "stream",
     "text": [
      "Top-1, correct = 0.28, total = 3749, acc = 0.000\n",
      "Top-5, correct = 0.44, total = 3749, acc = 0.000\n",
      "Top-10, correct = 0.54, total = 3749, acc = 0.000\n",
      "Top-20, correct = 0.64, total = 3749, acc = 0.000\n",
      "Top-50, correct = 0.77, total = 3749, acc = 0.000\n"
     ]
    },
    {
     "name": "stderr",
     "output_type": "stream",
     "text": [
      "\r",
      " 25%|███████████                                 | 9/36 [00:40<02:00,  4.45s/it]"
     ]
    },
    {
     "name": "stdout",
     "output_type": "stream",
     "text": [
      "Top-1, correct = 0.27, total = 3744, acc = 0.000\n",
      "Top-5, correct = 0.43, total = 3744, acc = 0.000\n",
      "Top-10, correct = 0.52, total = 3744, acc = 0.000\n",
      "Top-20, correct = 0.62, total = 3744, acc = 0.000\n",
      "Top-50, correct = 0.74, total = 3744, acc = 0.000\n"
     ]
    },
    {
     "name": "stderr",
     "output_type": "stream",
     "text": [
      "\r",
      " 28%|███████████▉                               | 10/36 [00:45<01:55,  4.43s/it]"
     ]
    },
    {
     "name": "stdout",
     "output_type": "stream",
     "text": [
      "Top-1, correct = 0.28, total = 3749, acc = 0.000\n",
      "Top-5, correct = 0.44, total = 3749, acc = 0.000\n",
      "Top-10, correct = 0.53, total = 3749, acc = 0.000\n",
      "Top-20, correct = 0.62, total = 3749, acc = 0.000\n",
      "Top-50, correct = 0.75, total = 3749, acc = 0.000\n"
     ]
    },
    {
     "name": "stderr",
     "output_type": "stream",
     "text": [
      "\r",
      " 31%|█████████████▏                             | 11/36 [00:49<01:50,  4.41s/it]"
     ]
    },
    {
     "name": "stdout",
     "output_type": "stream",
     "text": [
      "Top-1, correct = 0.21, total = 3754, acc = 0.000\n",
      "Top-5, correct = 0.34, total = 3754, acc = 0.000\n",
      "Top-10, correct = 0.42, total = 3754, acc = 0.000\n",
      "Top-20, correct = 0.52, total = 3754, acc = 0.000\n",
      "Top-50, correct = 0.66, total = 3754, acc = 0.000\n"
     ]
    },
    {
     "name": "stderr",
     "output_type": "stream",
     "text": [
      "\r",
      " 33%|██████████████▎                            | 12/36 [00:53<01:45,  4.38s/it]"
     ]
    },
    {
     "name": "stdout",
     "output_type": "stream",
     "text": [
      "Top-1, correct = 0.27, total = 3756, acc = 0.000\n",
      "Top-5, correct = 0.42, total = 3756, acc = 0.000\n",
      "Top-10, correct = 0.51, total = 3756, acc = 0.000\n",
      "Top-20, correct = 0.61, total = 3756, acc = 0.000\n",
      "Top-50, correct = 0.73, total = 3756, acc = 0.000\n"
     ]
    },
    {
     "name": "stderr",
     "output_type": "stream",
     "text": [
      "\r",
      " 36%|███████████████▌                           | 13/36 [00:58<01:43,  4.50s/it]"
     ]
    },
    {
     "name": "stdout",
     "output_type": "stream",
     "text": [
      "Top-1, correct = 0.20, total = 3760, acc = 0.000\n",
      "Top-5, correct = 0.33, total = 3760, acc = 0.000\n",
      "Top-10, correct = 0.41, total = 3760, acc = 0.000\n",
      "Top-20, correct = 0.51, total = 3760, acc = 0.000\n",
      "Top-50, correct = 0.66, total = 3760, acc = 0.000\n"
     ]
    },
    {
     "name": "stderr",
     "output_type": "stream",
     "text": [
      "\r",
      " 39%|████████████████▋                          | 14/36 [01:02<01:37,  4.44s/it]"
     ]
    },
    {
     "name": "stdout",
     "output_type": "stream",
     "text": [
      "Top-1, correct = 0.26, total = 3741, acc = 0.000\n",
      "Top-5, correct = 0.40, total = 3741, acc = 0.000\n",
      "Top-10, correct = 0.49, total = 3741, acc = 0.000\n",
      "Top-20, correct = 0.60, total = 3741, acc = 0.000\n",
      "Top-50, correct = 0.73, total = 3741, acc = 0.000\n"
     ]
    },
    {
     "name": "stderr",
     "output_type": "stream",
     "text": [
      "\r",
      " 42%|█████████████████▉                         | 15/36 [01:07<01:32,  4.43s/it]"
     ]
    },
    {
     "name": "stdout",
     "output_type": "stream",
     "text": [
      "Top-1, correct = 0.27, total = 3748, acc = 0.000\n",
      "Top-5, correct = 0.42, total = 3748, acc = 0.000\n",
      "Top-10, correct = 0.50, total = 3748, acc = 0.000\n",
      "Top-20, correct = 0.60, total = 3748, acc = 0.000\n",
      "Top-50, correct = 0.73, total = 3748, acc = 0.000\n"
     ]
    },
    {
     "name": "stderr",
     "output_type": "stream",
     "text": [
      "\r",
      " 44%|███████████████████                        | 16/36 [01:11<01:27,  4.38s/it]"
     ]
    },
    {
     "name": "stdout",
     "output_type": "stream",
     "text": [
      "Top-1, correct = 0.19, total = 3750, acc = 0.000\n",
      "Top-5, correct = 0.31, total = 3750, acc = 0.000\n",
      "Top-10, correct = 0.39, total = 3750, acc = 0.000\n",
      "Top-20, correct = 0.49, total = 3750, acc = 0.000\n",
      "Top-50, correct = 0.64, total = 3750, acc = 0.000\n"
     ]
    },
    {
     "name": "stderr",
     "output_type": "stream",
     "text": [
      "\r",
      " 47%|████████████████████▎                      | 17/36 [01:15<01:22,  4.35s/it]"
     ]
    },
    {
     "name": "stdout",
     "output_type": "stream",
     "text": [
      "Top-1, correct = 0.31, total = 3754, acc = 0.000\n",
      "Top-5, correct = 0.46, total = 3754, acc = 0.000\n",
      "Top-10, correct = 0.56, total = 3754, acc = 0.000\n",
      "Top-20, correct = 0.65, total = 3754, acc = 0.000\n",
      "Top-50, correct = 0.78, total = 3754, acc = 0.000\n"
     ]
    },
    {
     "name": "stderr",
     "output_type": "stream",
     "text": [
      "\r",
      " 50%|█████████████████████▌                     | 18/36 [01:20<01:17,  4.33s/it]"
     ]
    },
    {
     "name": "stdout",
     "output_type": "stream",
     "text": [
      "Top-1, correct = 0.26, total = 3744, acc = 0.000\n",
      "Top-5, correct = 0.41, total = 3744, acc = 0.000\n",
      "Top-10, correct = 0.50, total = 3744, acc = 0.000\n",
      "Top-20, correct = 0.60, total = 3744, acc = 0.000\n",
      "Top-50, correct = 0.73, total = 3744, acc = 0.000\n"
     ]
    },
    {
     "name": "stderr",
     "output_type": "stream",
     "text": [
      "\r",
      " 53%|██████████████████████▋                    | 19/36 [01:24<01:13,  4.31s/it]"
     ]
    },
    {
     "name": "stdout",
     "output_type": "stream",
     "text": [
      "Top-1, correct = 0.20, total = 3756, acc = 0.000\n",
      "Top-5, correct = 0.32, total = 3756, acc = 0.000\n",
      "Top-10, correct = 0.41, total = 3756, acc = 0.000\n",
      "Top-20, correct = 0.50, total = 3756, acc = 0.000\n",
      "Top-50, correct = 0.64, total = 3756, acc = 0.000\n"
     ]
    },
    {
     "name": "stderr",
     "output_type": "stream",
     "text": [
      "\r",
      " 56%|███████████████████████▉                   | 20/36 [01:28<01:09,  4.32s/it]"
     ]
    },
    {
     "name": "stdout",
     "output_type": "stream",
     "text": [
      "Top-1, correct = 0.22, total = 3755, acc = 0.000\n",
      "Top-5, correct = 0.34, total = 3755, acc = 0.000\n",
      "Top-10, correct = 0.42, total = 3755, acc = 0.000\n",
      "Top-20, correct = 0.52, total = 3755, acc = 0.000\n",
      "Top-50, correct = 0.67, total = 3755, acc = 0.000\n"
     ]
    },
    {
     "name": "stderr",
     "output_type": "stream",
     "text": [
      "\r",
      " 58%|█████████████████████████                  | 21/36 [01:33<01:04,  4.30s/it]"
     ]
    },
    {
     "name": "stdout",
     "output_type": "stream",
     "text": [
      "Top-1, correct = 0.27, total = 3755, acc = 0.000\n",
      "Top-5, correct = 0.41, total = 3755, acc = 0.000\n",
      "Top-10, correct = 0.52, total = 3755, acc = 0.000\n",
      "Top-20, correct = 0.61, total = 3755, acc = 0.000\n",
      "Top-50, correct = 0.74, total = 3755, acc = 0.000\n"
     ]
    },
    {
     "name": "stderr",
     "output_type": "stream",
     "text": [
      "\r",
      " 61%|██████████████████████████▎                | 22/36 [01:37<01:00,  4.30s/it]"
     ]
    },
    {
     "name": "stdout",
     "output_type": "stream",
     "text": [
      "Top-1, correct = 0.27, total = 3749, acc = 0.000\n",
      "Top-5, correct = 0.42, total = 3749, acc = 0.000\n",
      "Top-10, correct = 0.51, total = 3749, acc = 0.000\n",
      "Top-20, correct = 0.60, total = 3749, acc = 0.000\n",
      "Top-50, correct = 0.73, total = 3749, acc = 0.000\n"
     ]
    },
    {
     "name": "stderr",
     "output_type": "stream",
     "text": [
      "\r",
      " 64%|███████████████████████████▍               | 23/36 [01:41<00:55,  4.29s/it]"
     ]
    },
    {
     "name": "stdout",
     "output_type": "stream",
     "text": [
      "Top-1, correct = 0.26, total = 3754, acc = 0.000\n",
      "Top-5, correct = 0.42, total = 3754, acc = 0.000\n",
      "Top-10, correct = 0.51, total = 3754, acc = 0.000\n",
      "Top-20, correct = 0.60, total = 3754, acc = 0.000\n",
      "Top-50, correct = 0.74, total = 3754, acc = 0.000\n"
     ]
    },
    {
     "name": "stderr",
     "output_type": "stream",
     "text": [
      "\r",
      " 67%|████████████████████████████▋              | 24/36 [01:45<00:51,  4.26s/it]"
     ]
    },
    {
     "name": "stdout",
     "output_type": "stream",
     "text": [
      "Top-1, correct = 0.11, total = 3735, acc = 0.000\n",
      "Top-5, correct = 0.20, total = 3735, acc = 0.000\n",
      "Top-10, correct = 0.26, total = 3735, acc = 0.000\n",
      "Top-20, correct = 0.36, total = 3735, acc = 0.000\n",
      "Top-50, correct = 0.51, total = 3735, acc = 0.000\n"
     ]
    },
    {
     "name": "stderr",
     "output_type": "stream",
     "text": [
      "\r",
      " 69%|█████████████████████████████▊             | 25/36 [01:50<00:46,  4.27s/it]"
     ]
    },
    {
     "name": "stdout",
     "output_type": "stream",
     "text": [
      "Top-1, correct = 0.27, total = 3760, acc = 0.000\n",
      "Top-5, correct = 0.43, total = 3760, acc = 0.000\n",
      "Top-10, correct = 0.52, total = 3760, acc = 0.000\n",
      "Top-20, correct = 0.61, total = 3760, acc = 0.000\n",
      "Top-50, correct = 0.75, total = 3760, acc = 0.000\n"
     ]
    },
    {
     "name": "stderr",
     "output_type": "stream",
     "text": [
      "\r",
      " 72%|███████████████████████████████            | 26/36 [01:54<00:42,  4.25s/it]"
     ]
    },
    {
     "name": "stdout",
     "output_type": "stream",
     "text": [
      "Top-1, correct = 0.25, total = 3758, acc = 0.000\n",
      "Top-5, correct = 0.41, total = 3758, acc = 0.000\n",
      "Top-10, correct = 0.50, total = 3758, acc = 0.000\n",
      "Top-20, correct = 0.60, total = 3758, acc = 0.000\n",
      "Top-50, correct = 0.73, total = 3758, acc = 0.000\n"
     ]
    },
    {
     "name": "stderr",
     "output_type": "stream",
     "text": [
      "\r",
      " 75%|████████████████████████████████▎          | 27/36 [01:58<00:38,  4.24s/it]"
     ]
    },
    {
     "name": "stdout",
     "output_type": "stream",
     "text": [
      "Top-1, correct = 0.27, total = 3753, acc = 0.000\n",
      "Top-5, correct = 0.42, total = 3753, acc = 0.000\n",
      "Top-10, correct = 0.51, total = 3753, acc = 0.000\n",
      "Top-20, correct = 0.61, total = 3753, acc = 0.000\n",
      "Top-50, correct = 0.72, total = 3753, acc = 0.000\n"
     ]
    },
    {
     "name": "stderr",
     "output_type": "stream",
     "text": [
      "\r",
      " 78%|█████████████████████████████████▍         | 28/36 [02:02<00:34,  4.27s/it]"
     ]
    },
    {
     "name": "stdout",
     "output_type": "stream",
     "text": [
      "Top-1, correct = 0.12, total = 3749, acc = 0.000\n",
      "Top-5, correct = 0.21, total = 3749, acc = 0.000\n",
      "Top-10, correct = 0.28, total = 3749, acc = 0.000\n",
      "Top-20, correct = 0.38, total = 3749, acc = 0.000\n",
      "Top-50, correct = 0.54, total = 3749, acc = 0.000\n"
     ]
    },
    {
     "name": "stderr",
     "output_type": "stream",
     "text": [
      "\r",
      " 81%|██████████████████████████████████▋        | 29/36 [02:07<00:30,  4.29s/it]"
     ]
    },
    {
     "name": "stdout",
     "output_type": "stream",
     "text": [
      "Top-1, correct = 0.28, total = 3752, acc = 0.000\n",
      "Top-5, correct = 0.43, total = 3752, acc = 0.000\n",
      "Top-10, correct = 0.52, total = 3752, acc = 0.000\n",
      "Top-20, correct = 0.62, total = 3752, acc = 0.000\n",
      "Top-50, correct = 0.75, total = 3752, acc = 0.000\n"
     ]
    },
    {
     "name": "stderr",
     "output_type": "stream",
     "text": [
      "\r",
      " 83%|███████████████████████████████████▊       | 30/36 [02:11<00:25,  4.30s/it]"
     ]
    },
    {
     "name": "stdout",
     "output_type": "stream",
     "text": [
      "Top-1, correct = 0.26, total = 3756, acc = 0.000\n",
      "Top-5, correct = 0.40, total = 3756, acc = 0.000\n",
      "Top-10, correct = 0.48, total = 3756, acc = 0.000\n",
      "Top-20, correct = 0.57, total = 3756, acc = 0.000\n",
      "Top-50, correct = 0.71, total = 3756, acc = 0.000\n"
     ]
    },
    {
     "name": "stderr",
     "output_type": "stream",
     "text": [
      "\r",
      " 86%|█████████████████████████████████████      | 31/36 [02:15<00:21,  4.29s/it]"
     ]
    },
    {
     "name": "stdout",
     "output_type": "stream",
     "text": [
      "Top-1, correct = 0.26, total = 3743, acc = 0.000\n",
      "Top-5, correct = 0.41, total = 3743, acc = 0.000\n",
      "Top-10, correct = 0.50, total = 3743, acc = 0.000\n",
      "Top-20, correct = 0.59, total = 3743, acc = 0.000\n",
      "Top-50, correct = 0.72, total = 3743, acc = 0.000\n"
     ]
    },
    {
     "name": "stderr",
     "output_type": "stream",
     "text": [
      "\r",
      " 89%|██████████████████████████████████████▏    | 32/36 [02:20<00:17,  4.28s/it]"
     ]
    },
    {
     "name": "stdout",
     "output_type": "stream",
     "text": [
      "Top-1, correct = 0.25, total = 3750, acc = 0.000\n",
      "Top-5, correct = 0.39, total = 3750, acc = 0.000\n",
      "Top-10, correct = 0.49, total = 3750, acc = 0.000\n",
      "Top-20, correct = 0.59, total = 3750, acc = 0.000\n",
      "Top-50, correct = 0.73, total = 3750, acc = 0.000\n"
     ]
    },
    {
     "name": "stderr",
     "output_type": "stream",
     "text": [
      "\r",
      " 92%|███████████████████████████████████████▍   | 33/36 [02:24<00:12,  4.27s/it]"
     ]
    },
    {
     "name": "stdout",
     "output_type": "stream",
     "text": [
      "Top-1, correct = 0.23, total = 3752, acc = 0.000\n",
      "Top-5, correct = 0.37, total = 3752, acc = 0.000\n",
      "Top-10, correct = 0.46, total = 3752, acc = 0.000\n",
      "Top-20, correct = 0.55, total = 3752, acc = 0.000\n",
      "Top-50, correct = 0.69, total = 3752, acc = 0.000\n"
     ]
    },
    {
     "name": "stderr",
     "output_type": "stream",
     "text": [
      "\r",
      " 94%|████████████████████████████████████████▌  | 34/36 [02:28<00:08,  4.26s/it]"
     ]
    },
    {
     "name": "stdout",
     "output_type": "stream",
     "text": [
      "Top-1, correct = 0.27, total = 3760, acc = 0.000\n",
      "Top-5, correct = 0.40, total = 3760, acc = 0.000\n",
      "Top-10, correct = 0.48, total = 3760, acc = 0.000\n",
      "Top-20, correct = 0.57, total = 3760, acc = 0.000\n",
      "Top-50, correct = 0.70, total = 3760, acc = 0.000\n"
     ]
    },
    {
     "name": "stderr",
     "output_type": "stream",
     "text": [
      "\r",
      " 97%|█████████████████████████████████████████▊ | 35/36 [02:32<00:04,  4.27s/it]"
     ]
    },
    {
     "name": "stdout",
     "output_type": "stream",
     "text": [
      "Top-1, correct = 0.26, total = 3758, acc = 0.000\n",
      "Top-5, correct = 0.40, total = 3758, acc = 0.000\n",
      "Top-10, correct = 0.49, total = 3758, acc = 0.000\n",
      "Top-20, correct = 0.58, total = 3758, acc = 0.000\n",
      "Top-50, correct = 0.72, total = 3758, acc = 0.000\n"
     ]
    },
    {
     "name": "stderr",
     "output_type": "stream",
     "text": [
      "100%|███████████████████████████████████████████| 36/36 [02:37<00:00,  4.36s/it]"
     ]
    },
    {
     "name": "stdout",
     "output_type": "stream",
     "text": [
      "Top-1, correct = 0.25, total = 3744, acc = 0.000\n",
      "Top-5, correct = 0.42, total = 3744, acc = 0.000\n",
      "Top-10, correct = 0.51, total = 3744, acc = 0.000\n",
      "Top-20, correct = 0.62, total = 3744, acc = 0.000\n",
      "Top-50, correct = 0.75, total = 3744, acc = 0.000\n"
     ]
    },
    {
     "name": "stderr",
     "output_type": "stream",
     "text": [
      "\n"
     ]
    }
   ],
   "source": [
    "learner = 'generative/v3/'#'contrastive/v1/'#'predictive/v1/'#\n",
    "ds_task = 'ucf101'\n",
    "date = 'aug11'#'aug1'#'jul315'#\n",
    "num_ep,iter_per_ep = 20, 1500 #5, 2000#2, 5000\n",
    "\n",
    "eval_type='nn'\n",
    "\n",
    "emb_root = '/N/project/baby_vision_curriculum/trained_models/'+learner+date+'/benchmarks/'+ds_task+'/'\n",
    "# emb_root = '/N/project/baby_vision_curriculum/trained_models/generative/v3/jul28dev/benchmarks/ssv2/'\n",
    "\n",
    "iter_per_stage = num_ep*iter_per_ep\n",
    "\n",
    "df_ucf = proc_result_folder(emb_root, ds_task, iter_per_stage, eval_type, n_jobs=23)\n",
    "# df_ucf.to_csv(date+'_'+ds_task+'_'+eval_type+'_score.csv', index=False)"
   ]
  },
  {
   "cell_type": "code",
   "execution_count": 26,
   "id": "fdf7db81",
   "metadata": {},
   "outputs": [],
   "source": [
    "df_ucf.to_csv(date+'_'+ds_task+'_'+eval_type+'_score.csv', index=False)"
   ]
  },
  {
   "cell_type": "code",
   "execution_count": 27,
   "id": "392f635a",
   "metadata": {},
   "outputs": [
    {
     "data": {
      "text/html": [
       "<div>\n",
       "<style scoped>\n",
       "    .dataframe tbody tr th:only-of-type {\n",
       "        vertical-align: middle;\n",
       "    }\n",
       "\n",
       "    .dataframe tbody tr th {\n",
       "        vertical-align: top;\n",
       "    }\n",
       "\n",
       "    .dataframe thead th {\n",
       "        text-align: right;\n",
       "    }\n",
       "</style>\n",
       "<table border=\"1\" class=\"dataframe\">\n",
       "  <thead>\n",
       "    <tr style=\"text-align: right;\">\n",
       "      <th></th>\n",
       "      <th></th>\n",
       "      <th></th>\n",
       "      <th>Top1</th>\n",
       "      <th>Top5</th>\n",
       "      <th>Top10</th>\n",
       "      <th>Iteration</th>\n",
       "    </tr>\n",
       "    <tr>\n",
       "      <th>Stage</th>\n",
       "      <th>Condition</th>\n",
       "      <th>Curriculum</th>\n",
       "      <th></th>\n",
       "      <th></th>\n",
       "      <th></th>\n",
       "      <th></th>\n",
       "    </tr>\n",
       "  </thead>\n",
       "  <tbody>\n",
       "    <tr>\n",
       "      <th rowspan=\"4\" valign=\"top\">1</th>\n",
       "      <th rowspan=\"4\" valign=\"top\">default</th>\n",
       "      <th>adev</th>\n",
       "      <td>0.132735</td>\n",
       "      <td>0.233246</td>\n",
       "      <td>0.301628</td>\n",
       "      <td>30000.0</td>\n",
       "    </tr>\n",
       "    <tr>\n",
       "      <th>adult</th>\n",
       "      <td>0.219533</td>\n",
       "      <td>0.348160</td>\n",
       "      <td>0.431955</td>\n",
       "      <td>30000.0</td>\n",
       "    </tr>\n",
       "    <tr>\n",
       "      <th>dev</th>\n",
       "      <td>0.262619</td>\n",
       "      <td>0.393484</td>\n",
       "      <td>0.475020</td>\n",
       "      <td>30000.0</td>\n",
       "    </tr>\n",
       "    <tr>\n",
       "      <th>rnd</th>\n",
       "      <td>0.204273</td>\n",
       "      <td>0.328796</td>\n",
       "      <td>0.410420</td>\n",
       "      <td>30000.0</td>\n",
       "    </tr>\n",
       "    <tr>\n",
       "      <th rowspan=\"4\" valign=\"top\">2</th>\n",
       "      <th rowspan=\"4\" valign=\"top\">default</th>\n",
       "      <th>adev</th>\n",
       "      <td>0.247142</td>\n",
       "      <td>0.391388</td>\n",
       "      <td>0.483072</td>\n",
       "      <td>60000.0</td>\n",
       "    </tr>\n",
       "    <tr>\n",
       "      <th>adult</th>\n",
       "      <td>0.264342</td>\n",
       "      <td>0.410753</td>\n",
       "      <td>0.498722</td>\n",
       "      <td>60000.0</td>\n",
       "    </tr>\n",
       "    <tr>\n",
       "      <th>dev</th>\n",
       "      <td>0.265380</td>\n",
       "      <td>0.427513</td>\n",
       "      <td>0.519373</td>\n",
       "      <td>60000.0</td>\n",
       "    </tr>\n",
       "    <tr>\n",
       "      <th>rnd</th>\n",
       "      <td>0.264032</td>\n",
       "      <td>0.414881</td>\n",
       "      <td>0.504221</td>\n",
       "      <td>60000.0</td>\n",
       "    </tr>\n",
       "    <tr>\n",
       "      <th rowspan=\"4\" valign=\"top\">3</th>\n",
       "      <th rowspan=\"4\" valign=\"top\">default</th>\n",
       "      <th>adev</th>\n",
       "      <td>0.269254</td>\n",
       "      <td>0.419560</td>\n",
       "      <td>0.503772</td>\n",
       "      <td>90000.0</td>\n",
       "    </tr>\n",
       "    <tr>\n",
       "      <th>adult</th>\n",
       "      <td>0.268915</td>\n",
       "      <td>0.423831</td>\n",
       "      <td>0.518645</td>\n",
       "      <td>90000.0</td>\n",
       "    </tr>\n",
       "    <tr>\n",
       "      <th>dev</th>\n",
       "      <td>0.289047</td>\n",
       "      <td>0.451302</td>\n",
       "      <td>0.546557</td>\n",
       "      <td>90000.0</td>\n",
       "    </tr>\n",
       "    <tr>\n",
       "      <th>rnd</th>\n",
       "      <td>0.262821</td>\n",
       "      <td>0.424316</td>\n",
       "      <td>0.513401</td>\n",
       "      <td>90000.0</td>\n",
       "    </tr>\n",
       "  </tbody>\n",
       "</table>\n",
       "</div>"
      ],
      "text/plain": [
       "                                Top1      Top5     Top10  Iteration\n",
       "Stage Condition Curriculum                                         \n",
       "1     default   adev        0.132735  0.233246  0.301628    30000.0\n",
       "                adult       0.219533  0.348160  0.431955    30000.0\n",
       "                dev         0.262619  0.393484  0.475020    30000.0\n",
       "                rnd         0.204273  0.328796  0.410420    30000.0\n",
       "2     default   adev        0.247142  0.391388  0.483072    60000.0\n",
       "                adult       0.264342  0.410753  0.498722    60000.0\n",
       "                dev         0.265380  0.427513  0.519373    60000.0\n",
       "                rnd         0.264032  0.414881  0.504221    60000.0\n",
       "3     default   adev        0.269254  0.419560  0.503772    90000.0\n",
       "                adult       0.268915  0.423831  0.518645    90000.0\n",
       "                dev         0.289047  0.451302  0.546557    90000.0\n",
       "                rnd         0.262821  0.424316  0.513401    90000.0"
      ]
     },
     "execution_count": 27,
     "metadata": {},
     "output_type": "execute_result"
    }
   ],
   "source": [
    "df_ucf.groupby(['Stage', 'Condition', 'Curriculum']).mean()"
   ]
  },
  {
   "cell_type": "code",
   "execution_count": null,
   "id": "6119bd35",
   "metadata": {},
   "outputs": [],
   "source": [
    "# 30s for linear evaluation\n",
    "# 2s for nn"
   ]
  },
  {
   "cell_type": "code",
   "execution_count": null,
   "id": "839abe92",
   "metadata": {},
   "outputs": [],
   "source": []
  }
 ],
 "metadata": {
  "kernelspec": {
   "display_name": "Python 3 (ipykernel)",
   "language": "python",
   "name": "python3"
  },
  "language_info": {
   "codemirror_mode": {
    "name": "ipython",
    "version": 3
   },
   "file_extension": ".py",
   "mimetype": "text/x-python",
   "name": "python",
   "nbconvert_exporter": "python",
   "pygments_lexer": "ipython3",
   "version": "3.10.5"
  }
 },
 "nbformat": 4,
 "nbformat_minor": 5
}
